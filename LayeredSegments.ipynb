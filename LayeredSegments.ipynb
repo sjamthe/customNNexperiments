{
 "cells": [
  {
   "cell_type": "markdown",
   "metadata": {},
   "source": [
    "# Define LayeredSegments module with n layers of m segments each"
   ]
  },
  {
   "cell_type": "code",
   "execution_count": 2,
   "metadata": {},
   "outputs": [],
   "source": [
    "import math\n",
    "import numpy as np\n",
    "import matplotlib.pyplot as plt\n",
    "%matplotlib inline\n",
    "\n",
    "import torch\n",
    "import torch.nn as nn\n",
    "import torch.nn.functional as F"
   ]
  },
  {
   "cell_type": "markdown",
   "metadata": {},
   "source": [
    "class Segment(torch.nn.Module):\n",
    "__doc__ = r\"\"\" Creates segment_features segments for each input feature. \n",
    "Output feature size is always 1\n",
    "\n",
    "Args:\n",
    "        in_features (int): Number of channels in the input image\n",
    "        segment_features (int): Number of channels produced by the convolution\n",
    "\n",
    "\"\"\"\n",
    "    def __init__(self, in_features, segment_features, alpha=0.0):\n",
    "        super(OneLayerSegmentNetv3, self).__init__()\n",
    "        self.segment_features = segment_features\n",
    "        self.in_features = in_features\n",
    "        self.weight = nn.Parameter(torch.Tensor(segment_features, in_features))\n",
    "        nn.init.normal_(self.weight, -10, 10)\n",
    "        self.bias = nn.Parameter(torch.Tensor(segment_features))\n",
    "        self.alpha = alpha\n",
    "        self.intersections = torch.zeros(segment_features)\n",
    "\n",
    "    def forward(self, x):\n",
    "        # Stack features - we get yall[:,i] = yn(i) from for loop\n",
    "        yall = x*model.weight.T + model.bias \n",
    "        \n",
    "        #intersections are the X value of points of intersection of two lines\n",
    "        # (this gives us starting and ending X values of a segment ie. projection on segment on x axis)\n",
    "        intersections = (model.bias[1:] - model.bias[:-1])/((model.weight[:-1] - model.weight[1:]).squeeze(-1))\n",
    "        \n",
    "        #intersections are one less in shape than x. this ones matrix is added to mask later\n",
    "        ones = torch.ones_like(x)\n",
    "        \n",
    "        # Create masks\n",
    "        upper_mask = torch.ones((x.shape[0],intersections.shape[0])).masked_fill((x >= intersections), self.alpha)\n",
    "        # append extra layer of ones on upper_mask so it matches segment size\n",
    "        upper_mask = torch.cat((upper_mask, ones), dim=1)\n",
    "\n",
    "        lower_mask = torch.ones((x.shape[0],intersections.shape[0])).masked_fill((x < intersections), self.alpha)\n",
    "        # prepend extra layer of ones on lower_mask so it matches segment size\n",
    "        lower_mask = torch.cat((ones, lower_mask), dim=1)\n",
    "        \n",
    "        # Apply masks\n",
    "        yall = yall * upper_mask * lower_mask\n",
    "\n",
    "        # Sum features\n",
    "        y = yall.sum(dim=1).unsqueeze(-1)  # (N)\n",
    "\n",
    "        return y"
   ]
  }
 ],
 "metadata": {
  "kernelspec": {
   "display_name": "base",
   "language": "python",
   "name": "python3"
  },
  "language_info": {
   "codemirror_mode": {
    "name": "ipython",
    "version": 3
   },
   "file_extension": ".py",
   "mimetype": "text/x-python",
   "name": "python",
   "nbconvert_exporter": "python",
   "pygments_lexer": "ipython3",
   "version": "3.10.10"
  }
 },
 "nbformat": 4,
 "nbformat_minor": 2
}
