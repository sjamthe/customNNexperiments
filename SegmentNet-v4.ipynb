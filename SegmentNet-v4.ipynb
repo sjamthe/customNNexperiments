{
 "cells": [
  {
   "cell_type": "markdown",
   "id": "5cc770f0-f5c8-40e7-abe1-56e7b634e897",
   "metadata": {
    "jp-MarkdownHeadingCollapsed": true
   },
   "source": [
    "# Use Matrix algebra for segmentNet"
   ]
  },
  {
   "cell_type": "code",
   "execution_count": 1,
   "id": "c4b9bbf5-211d-40fb-93d5-2bc53d8d3b88",
   "metadata": {},
   "outputs": [],
   "source": [
    "import math\n",
    "import numpy as np\n",
    "import matplotlib.pyplot as plt\n",
    "%matplotlib inline\n",
    "\n",
    "import torch\n",
    "import torch.nn as nn\n",
    "import torch.nn.functional as F"
   ]
  },
  {
   "cell_type": "code",
   "execution_count": 2,
   "id": "90538fe8-8e3e-44da-a95b-b06e9af08a62",
   "metadata": {},
   "outputs": [
    {
     "name": "stdout",
     "output_type": "stream",
     "text": [
      "Using mps device\n"
     ]
    }
   ],
   "source": [
    "device = (\n",
    "    \"cuda\"\n",
    "    if torch.cuda.is_available()\n",
    "    else \"mps\"\n",
    "    if torch.backends.mps.is_available()\n",
    "    else \"cpu\"\n",
    ")\n",
    "print(f\"Using {device} device\")"
   ]
  },
  {
   "cell_type": "markdown",
   "id": "766ba702-4d33-4fd4-9262-0b9f71e51700",
   "metadata": {
    "jp-MarkdownHeadingCollapsed": true
   },
   "source": [
    "# Functions we are trying to approximate"
   ]
  },
  {
   "cell_type": "code",
   "execution_count": 3,
   "id": "8018dbaf-7c12-4d92-b558-64b206092631",
   "metadata": {},
   "outputs": [],
   "source": [
    "np.random.seed(10)\n",
    "\n",
    "# y = ax^4 + bx^3 + cx^2 + dx + f\n",
    "def f_quarticn(x):\n",
    "    a = -0.0179516\n",
    "    b = 0.331323\n",
    "    c = -1.53398\n",
    "    d = -0.21107\n",
    "    f = 5.73434\n",
    "    x = x + 1\n",
    "    return a*x**4 + b*x**3 + c*x**2 + d*x + f\n",
    "\n",
    "def f_quartic(x):\n",
    "    a = -0.0179516\n",
    "    b = 0.331323\n",
    "    c = -1.63398\n",
    "    d = 1.01107\n",
    "    f = 5.73434\n",
    "    return a*x**4 + b*x**3 + c*x**2 + d*x + f\n",
    "    \n",
    "def f_inv_quartic(x):\n",
    "    return 7 - f_quartic(x)\n",
    "    \n",
    "def f_semicircle(x):\n",
    "    maxX = x.max()\n",
    "    minX = x.min()\n",
    "    radius = (maxX - minX)/2 \n",
    "    center = (maxX + minX)/2 \n",
    "    y = np.sqrt(np.abs(radius**2 - (x-center)**2))\n",
    "    return y\n",
    "    \n",
    "def frand(y):\n",
    "    return y + y*np.random.uniform(-0.1, 0.1, y.shape).astype('f')\n",
    "\n",
    "def normalize(x,y):\n",
    "    mu_x = torch.mean(x)\n",
    "    std_x = torch.std(x)\n",
    "\n",
    "    mu_y = torch.mean(y)\n",
    "    std_y = torch.std(y)\n",
    "\n",
    "    x_normalized = torch.nn.functional.normalize(x - mu_x, dim=0)\n",
    "    y_normalized = torch.nn.functional.normalize(y - mu_y, dim=0)\n",
    "    return x_normalized, y_normalized"
   ]
  },
  {
   "cell_type": "markdown",
   "id": "e1441232-3e14-49a3-8388-112f3fca36c9",
   "metadata": {},
   "source": [
    "# Model definition"
   ]
  },
  {
   "cell_type": "code",
   "execution_count": 4,
   "id": "833d0612-1725-45af-8b1f-4de9ebe3d275",
   "metadata": {},
   "outputs": [],
   "source": [
    "#Original V2 code\n",
    "\n",
    "class OneLayerSegmentNet(nn.Module):\n",
    "    def __init__(self, in_features, segment_features, alpha=0.0):\n",
    "        super(OneLayerSegmentNet, self).__init__()\n",
    "        self.segment_features = segment_features\n",
    "        self.in_features = in_features\n",
    "        self.weight = nn.Parameter(torch.Tensor(segment_features, in_features))\n",
    "        nn.init.normal_(self.weight, -10, 10)\n",
    "        self.bias = nn.Parameter(torch.Tensor(segment_features))\n",
    "        self.alpha = alpha\n",
    "\n",
    "    def forward(self, x,debug=False):\n",
    "        y = torch.zeros(x.shape[0],1)\n",
    "        #intersections store the X coordinates for intersection of consecutive segments (lines from weights)\n",
    "        intersections = torch.Tensor(self.segment_features-1)\n",
    "\n",
    "        #TODO: replace for loop with matrix if possible and necessary for performance\n",
    "        for i in range(self.segment_features):\n",
    "            yn = torch.matmul(x, self.weight[i]) + self.bias[i]\n",
    "            yn = yn.unsqueeze(-1)\n",
    "            print((\"i=\",i,\" linear:\",yn.shape,\"\\n\", yn.T) if debug else \"\")\n",
    "            if(i < self.segment_features -1): # clamp only N-1 segments in the end\n",
    "                # if next line is parallel to previous line (no intersection) then ignore this\n",
    "                if self.weight[i] == self.weight[i+1]:\n",
    "                    continue\n",
    "                    \n",
    "                intersections[i] = (self.bias[i+1] - self.bias[i])/(self.weight[i] - self.weight[i+1])\n",
    "\n",
    "                # use alpha to avoid vanishing gradient\n",
    "                mask = torch.ones_like(x).masked_fill((x >= intersections[i]), self.alpha)\n",
    "                \n",
    "                print((\"upper_mask:\",mask.T) if debug else \"\")\n",
    "                #print(yn.shape, mask.shape)\n",
    "                yn =  yn*mask\n",
    "                print((i,\":yn*upper_mask\\n\",yn.T) if debug else \"\")\n",
    "                \n",
    "            if(i >= 1): # Clamp X the beginning only second segment onwards\n",
    "                # Create mask for X\n",
    "                mask = torch.ones_like(x).masked_fill((x < intersections[i-1]), self.alpha)\n",
    "                print((\"lower_mask:\",mask.T) if debug else \"\")\n",
    "                yn =  yn*mask\n",
    "                print((i,\"yn:lower_mask\\n\",yn.T) if debug else \"\")\n",
    "            y += yn\n",
    "            print((i,\":Yincr\\n\",y.T) if debug else \"\")\n",
    "        print((\"intersections\\n\",intersections) if debug else \"\")\n",
    "        return y\n",
    "            \n",
    "    def extra_repr(self) -> str:\n",
    "        return f'in_features={self.in_features}, segment_features={self.segment_features}'"
   ]
  },
  {
   "cell_type": "code",
   "execution_count": 5,
   "id": "2a7f84ad-37d7-4064-b388-17e360a4f1cc",
   "metadata": {},
   "outputs": [],
   "source": [
    "import torch\n",
    "# Results match for loop implementation and on Macbook pro M1 this is 2x faster.\n",
    "\n",
    "class OneLayerSegmentNetv3(torch.nn.Module):\n",
    "    def __init__(self, in_features, segment_features, alpha=0.0):\n",
    "        super(OneLayerSegmentNetv3, self).__init__()\n",
    "        self.segment_features = segment_features\n",
    "        self.in_features = in_features\n",
    "        self.weight = nn.Parameter(torch.Tensor(segment_features, in_features))\n",
    "        nn.init.normal_(self.weight, -10, 10)\n",
    "        self.bias = nn.Parameter(torch.Tensor(segment_features))\n",
    "        self.alpha = alpha\n",
    "        self.intersections = torch.zeros(segment_features)\n",
    "\n",
    "    def forward(self, x):\n",
    "        # Stack features - we get yall[:,i] = yn(i) from for loop\n",
    "        yall = x*self.weight.T + self.bias \n",
    "        \n",
    "        #intersections are the X value of points of intersection of two lines\n",
    "        # (this gives us starting and ending X values of a segment ie. projection on segment on x axis)\n",
    "        intersections = (self.bias[1:] - self.bias[:-1])/((self.weight[:-1] - self.weight[1:]).squeeze(-1))\n",
    "        \n",
    "        #intersections are one less in shape than x. this ones matrix is added to mask later\n",
    "        ones = torch.ones_like(x)\n",
    "        \n",
    "        # Create masks\n",
    "        upper_mask = torch.ones((x.shape[0],intersections.shape[0])).masked_fill((x >= intersections), self.alpha)\n",
    "        # append extra layer of ones on upper_mask so it matches segment size\n",
    "        upper_mask = torch.cat((upper_mask, ones), dim=1)\n",
    "\n",
    "        lower_mask = torch.ones((x.shape[0],intersections.shape[0])).masked_fill((x < intersections), self.alpha)\n",
    "        # prepend extra layer of ones on lower_mask so it matches segment size\n",
    "        lower_mask = torch.cat((ones, lower_mask), dim=1)\n",
    "        \n",
    "        # Apply masks\n",
    "        yall = yall * upper_mask * lower_mask\n",
    "\n",
    "        # Sum features\n",
    "        y = yall.sum(dim=1).unsqueeze(-1)  # (N)\n",
    "\n",
    "        return y\n"
   ]
  },
  {
   "cell_type": "markdown",
   "id": "39376b2f-4d55-432e-b164-8e73082f19eb",
   "metadata": {
    "jp-MarkdownHeadingCollapsed": true
   },
   "source": [
    "# Data Loaders"
   ]
  },
  {
   "cell_type": "code",
   "execution_count": 6,
   "id": "5807586a-13a4-4b48-a444-5fc627971b9b",
   "metadata": {},
   "outputs": [],
   "source": [
    "from torch.utils.data.dataloader import DataLoader\n",
    "\n",
    "class InfiniteRandomDataLoader:\n",
    "\n",
    "    def __init__(self, dataset, loss, replacement=True, **kwargs):\n",
    "        train_sampler = torch.utils.data.RandomSampler(dataset, replacement=replacement, num_samples=int(1e10))\n",
    "        self.train_loader = DataLoader(dataset, sampler=train_sampler, **kwargs)\n",
    "        self.data_iter = iter(self.train_loader)\n",
    "\n",
    "    def next(self):\n",
    "        try:\n",
    "            batch = next(self.data_iter)\n",
    "        except StopIteration: # this will technically only happen after 1e10 samples... (i.e. basically never)\n",
    "            self.data_iter = iter(self.train_loader)\n",
    "            batch = next(self.data_iter)\n",
    "        return batch\n"
   ]
  },
  {
   "cell_type": "markdown",
   "id": "6965cc4e-d629-4ba1-804c-e7098ce74836",
   "metadata": {},
   "source": [
    "## Model helper functions"
   ]
  },
  {
   "cell_type": "code",
   "execution_count": 7,
   "id": "4abb81a6-6c82-4796-9d2a-3929b6d0dfb2",
   "metadata": {},
   "outputs": [],
   "source": [
    "def get_model_param_grad(model):\n",
    "    dt = {}\n",
    "    for param in model.parameters():\n",
    "        if(param.shape == (model.segment_features,1)):\n",
    "            dt['weight_grad'] = param.grad\n",
    "        else:\n",
    "            dt['bias_grad'] = param.grad\n",
    "    return dt"
   ]
  },
  {
   "cell_type": "markdown",
   "id": "207298ab-158f-41ea-81c5-e912b5fb3a8c",
   "metadata": {},
   "source": [
    "# Model Training with random data loader"
   ]
  },
  {
   "cell_type": "code",
   "execution_count": 14,
   "id": "ddffa414-4c28-4f31-bcf1-838ebd3d8a80",
   "metadata": {},
   "outputs": [],
   "source": [
    "torch.manual_seed(10)\n",
    "\n",
    "#model = OneLayerSegmentNet(1, 4, alpha=0.0)\n",
    "model = OneLayerSegmentNetv3(1, 4, alpha=0.0)"
   ]
  },
  {
   "cell_type": "markdown",
   "id": "8c24ec06-9099-484f-bfb6-ece4b7c8ce81",
   "metadata": {},
   "source": [
    "# Init"
   ]
  },
  {
   "cell_type": "code",
   "execution_count": 15,
   "id": "f138e759-6157-49dc-9d16-5ff57e920c82",
   "metadata": {},
   "outputs": [],
   "source": [
    "# init training\n",
    "import time\n",
    "from torch.optim.lr_scheduler import ReduceLROnPlateau\n",
    "import copy\n",
    "\n",
    "# Capture params after initialization\n",
    "model_params = []\n",
    "model_param_grads = []\n",
    "model_params.append(copy.deepcopy(model.state_dict()))\n",
    "\n",
    "# init optimizer\n",
    "criterion = nn.MSELoss(reduction='sum')\n",
    "\n",
    "#create ys data from scratch so we can sort xs as needed - made no different with randomloader for segmentnet\n",
    "f = f_quartic # select data function\n",
    "xs = np.arange(-1.5, 11., .05)\n",
    "ys = f(xs)\n",
    "#print(xs.shape, ys.shape)\n",
    "\n",
    "x = torch.tensor((xs).reshape(xs.shape[0],1), dtype=torch.float32)\n",
    "ytest = torch.tensor((ys).reshape(ys.shape[0],1), dtype=torch.float32) # y is from function / not randomized\n",
    "\n",
    "#Test normalization - works\n",
    "x, ytest = normalize(x, ytest)\n",
    "\n",
    "dataLoader = InfiniteRandomDataLoader\n",
    "\n",
    "# create dataset that can be used in a dataloader \n",
    "dataset = torch.utils.data.TensorDataset(x, ytest)\n",
    "\n",
    "#initialize training params\n",
    "step = 0\n",
    "losses = np.array([])\n",
    "with torch.no_grad():\n",
    "    y = model(x)\n",
    "    total_mean_loss = criterion(y, ytest)\n",
    "#    losses = np.append(losses, total_mean_loss)\n",
    "\n",
    "lr=.01\n",
    "optimizer = torch.optim.AdamW(model.parameters(), lr=lr, betas=(0.9, 0.999), eps=1e-8)\n",
    "scheduler = ReduceLROnPlateau(optimizer, 'min', factor=.5, patience=10000,threshold=0.01, threshold_mode='rel', cooldown=0, \n",
    "                                                 min_lr=0, eps=1e-08, verbose=True) # let us try scheduler to reduce learning rate"
   ]
  },
  {
   "cell_type": "markdown",
   "id": "cb6d88cf-15f0-4ba6-89a5-c572ca773e33",
   "metadata": {},
   "source": [
    "## Training loop"
   ]
  },
  {
   "cell_type": "code",
   "execution_count": 16,
   "id": "6cc0d042-4167-4972-89b3-70929322d368",
   "metadata": {},
   "outputs": [
    {
     "name": "stdout",
     "output_type": "stream",
     "text": [
      "step 1000 | loss 4.0953 | total_mean_loss 17.2407 | step time 0.82ms\n",
      "step 2000 | loss 0.7883 | total_mean_loss 3.2968 | step time 0.47ms\n",
      "step 3000 | loss 0.4537 | total_mean_loss 1.4871 | step time 0.47ms\n",
      "step 4000 | loss 0.2719 | total_mean_loss 0.6999 | step time 0.46ms\n",
      "step 5000 | loss 0.0851 | total_mean_loss 0.4023 | step time 0.50ms\n",
      "step 6000 | loss 0.0763 | total_mean_loss 0.3361 | step time 0.48ms\n",
      "step 7000 | loss 0.0412 | total_mean_loss 0.2495 | step time 0.48ms\n",
      "step 8000 | loss 0.0261 | total_mean_loss 0.1261 | step time 0.48ms\n",
      "step 9000 | loss 0.0224 | total_mean_loss 0.0816 | step time 0.49ms\n",
      "step 10000 | loss 0.0193 | total_mean_loss 0.0590 | step time 0.49ms\n",
      "step 11000 | loss 0.0116 | total_mean_loss 0.0472 | step time 0.47ms\n",
      "step 12000 | loss 0.0106 | total_mean_loss 0.0403 | step time 0.46ms\n",
      "step 13000 | loss 0.0083 | total_mean_loss 0.0374 | step time 0.52ms\n",
      "step 14000 | loss 0.0091 | total_mean_loss 0.0343 | step time 0.58ms\n",
      "step 15000 | loss 0.0071 | total_mean_loss 0.0336 | step time 0.49ms\n",
      "step 16000 | loss 0.0059 | total_mean_loss 0.0336 | step time 0.51ms\n",
      "step 17000 | loss 0.0083 | total_mean_loss 0.0324 | step time 0.48ms\n",
      "step 18000 | loss 0.0089 | total_mean_loss 0.0320 | step time 0.50ms\n",
      "step 19000 | loss 0.0090 | total_mean_loss 0.0320 | step time 0.49ms\n",
      "step 20000 | loss 0.0087 | total_mean_loss 0.0314 | step time 0.48ms\n"
     ]
    }
   ],
   "source": [
    "# training loop\n",
    "\n",
    "torch.manual_seed(10)\n",
    "\n",
    "best_loss = .01\n",
    "prev_total_mean_loss = 100\n",
    "max_steps = 20000\n",
    "\n",
    "model.train() # We use this variable for training\n",
    "# init dataloader\n",
    "batch_loader = dataLoader(dataset,loss=total_mean_loss,replacement=False, batch_size=64, pin_memory=True, num_workers=1)\n",
    "\n",
    "while True:\n",
    "    t0 = time.time()\n",
    "    # get the next batch, ship to device, and unpack it to input and target\n",
    "    X, Y = batch_loader.next()\n",
    "    #check for NaN\n",
    "    if math.isnan(Y.mean()):\n",
    "        print (\"Breaking for NaN\")\n",
    "        break\n",
    "\n",
    "    # Forward pass\n",
    "    ypred = model(X)\n",
    "\n",
    "    # Calculate the loss\n",
    "    loss = criterion(ypred, Y)\n",
    "    \n",
    "    # Backward and optimize\n",
    "    model.zero_grad(set_to_none=True)\n",
    "    loss.backward()\n",
    "\n",
    "    # Evaluate model after this optimizer.step\n",
    "    # we evaluate on complete data\n",
    "    with torch.no_grad():\n",
    "        y = model(x)\n",
    "        total_mean_loss = criterion(y, ytest)\n",
    "    losses = np.append(losses, total_mean_loss)\n",
    "\n",
    "    optimizer.step() #Definitely needed\n",
    "    step += 1\n",
    "    scheduler.step(total_mean_loss)\n",
    "    t1 = time.time()\n",
    "\n",
    "    # store params (weights and biases) after each training step\n",
    "    if step % 10 == 0:\n",
    "        model_params.append(copy.deepcopy(model.state_dict()))\n",
    "        model_param_grads.append(get_model_param_grad(model))\n",
    "             \n",
    "    # logging\n",
    "    if step % 1000 == 0:         \n",
    "        print(f\"step {step} | loss {loss:.4f} | total_mean_loss {total_mean_loss:.4f} | step time {(t1-t0)*1000:.2f}ms\")\n",
    "\n",
    "    # termination conditions\n",
    "    if max_steps >= 0 and step % max_steps == 0:\n",
    "        break\n",
    "        \n",
    "    #if total_mean_loss.mean() < best_loss:\n",
    "        break\n",
    "\n",
    "    #if total_mean_loss.mean() > prev_total_mean_loss*1.5:\n",
    "    #    break #we may want to change learning rate\n",
    "\n",
    "    prev_total_mean_loss = total_mean_loss"
   ]
  },
  {
   "cell_type": "code",
   "execution_count": 17,
   "id": "6203fffe-dec0-41e8-998c-52efb7c65ef6",
   "metadata": {},
   "outputs": [
    {
     "name": "stdout",
     "output_type": "stream",
     "text": [
      " prev_total_mean_loss  tensor(0.0323)\n"
     ]
    },
    {
     "data": {
      "image/png": "[encoded data removed]",
      "text/plain": [
       "<Figure size 1000x400 with 2 Axes>"
      ]
     },
     "metadata": {},
     "output_type": "display_data"
    }
   ],
   "source": [
    "import matplotlib\n",
    "matplotlib.rcParams['figure.figsize'] = (10, 4) # this is done to increase width to \n",
    "\n",
    "# Create a figure and two axes objects\n",
    "# Increase the figure size to accommodate wider plots\n",
    "fig, (ax1, ax2) = plt.subplots(1, 2)\n",
    "\n",
    "# plot loss\n",
    "print (\" prev_total_mean_loss \",prev_total_mean_loss)\n",
    "ax1.plot(losses)\n",
    "\n",
    "# plot trained model\n",
    "y = model(x)\n",
    "yout = y.data.reshape(xs.shape[0])\n",
    "ax2.plot(x, ytest)\n",
    "ax2.scatter(x, yout, color='red', s=1)\n",
    "\n",
    "# Display the plot\n",
    "plt.show()"
   ]
  },
  {
   "cell_type": "code",
   "execution_count": 12,
   "id": "15da7776-cbcd-400c-a9cd-3fbf16cd891a",
   "metadata": {},
   "outputs": [],
   "source": [
    "#!pip install torchviz\n",
    "from torchviz import make_dot\n",
    "\n",
    "# Generate a Graphviz object from the computation graph\n",
    "graph = make_dot(loss, params=dict(model.named_parameters())) \n",
    "\n",
    "# Save the graph as a PDF or any other format if needed\n",
    "#graph.render(\"model_segment_v3_graph\")"
   ]
  },
  {
   "cell_type": "code",
   "execution_count": 13,
   "id": "f20996cf",
   "metadata": {},
   "outputs": [
    {
     "data": {
      "text/plain": [
       "{'': OneLayerSegmentNetv3()}"
      ]
     },
     "execution_count": 13,
     "metadata": {},
     "output_type": "execute_result"
    }
   ],
   "source": [
    "dict(model.named_modules())"
   ]
  },
  {
   "cell_type": "code",
   "execution_count": null,
   "id": "7c86b2d2",
   "metadata": {},
   "outputs": [],
   "source": []
  }
 ],
 "metadata": {
  "kernelspec": {
   "display_name": "Python 3 (ipykernel)",
   "language": "python",
   "name": "python3"
  },
  "language_info": {
   "codemirror_mode": {
    "name": "ipython",
    "version": 3
   },
   "file_extension": ".py",
   "mimetype": "text/x-python",
   "name": "python",
   "nbconvert_exporter": "python",
   "pygments_lexer": "ipython3",
   "version": "3.10.10"
  }
 },
 "nbformat": 4,
 "nbformat_minor": 5
}
