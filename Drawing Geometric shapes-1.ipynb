{
 "cells": [
  {
   "cell_type": "markdown",
   "metadata": {},
   "source": [
    "# Drawing shapes\n",
    "* Develop a library that can draw shapes on a grid"
   ]
  },
  {
   "cell_type": "code",
   "execution_count": 1,
   "metadata": {},
   "outputs": [],
   "source": [
    "from PIL import Image, ImageDraw\n",
    "\n",
    "import matplotlib.pyplot as plt\n",
    "import numpy as np\n",
    "%matplotlib inline\n",
    "\n",
    "import random\n",
    "import math\n",
    "\n",
    "RANDOM_SEED = 42\n",
    "random.seed(RANDOM_SEED)\n",
    "np.random.seed(RANDOM_SEED)"
   ]
  },
  {
   "cell_type": "code",
   "execution_count": 104,
   "metadata": {},
   "outputs": [],
   "source": [
    "# generate top_left_corner and bottom_right_corner coodinated given image width and height\n",
    "# shape thickness can vary from 1-2. Minimum shape sidth/height is 5\n",
    "# return a tuple of two tuples\n",
    "def generate_random_corners(im_width, im_height, line_thickness=1):\n",
    "    min_size = 5\n",
    "\n",
    "    top_left_corner = (random.randint(0, im_width-min_size-1), random.randint(0, im_height-min_size-1))\n",
    "    bottom_right_corner = (random.randint(top_left_corner[0]+min_size, im_width-1),\n",
    "                            random.randint(top_left_corner[1]+min_size, im_height-1))\n",
    "    return (top_left_corner, bottom_right_corner)"
   ]
  },
  {
   "cell_type": "code",
   "execution_count": 105,
   "metadata": {},
   "outputs": [
    {
     "name": "stdout",
     "output_type": "stream",
     "text": [
      "(21, 17) (27, 27)\n"
     ]
    },
    {
     "data": {
      "image/png": "[encoded data removed]",
      "text/plain": [
       "<Figure size 1000x1000 with 2 Axes>"
      ]
     },
     "metadata": {},
     "output_type": "display_data"
    }
   ],
   "source": [
    "# It is easier to select top left and bottom right corners for both circle and rectangle\n",
    "# an make sure that the circle or rectangle is inside the image\n",
    "\n",
    "image_width = 28\n",
    "image_height = 28\n",
    "line_thickness = random.randint(1,2)\n",
    "top_left_corner, bottom_right_corner = generate_random_corners(image_width, image_height, line_thickness)\n",
    "print(top_left_corner, bottom_right_corner)\n",
    "\n",
    "image1 = Image.new('L', (image_width, image_height), 'black')\n",
    "draw1 = ImageDraw.Draw(image1)\n",
    "\n",
    "draw1.ellipse([top_left_corner, bottom_right_corner], outline='white', width=line_thickness)\n",
    "image1 = np.array(image1)\n",
    "\n",
    "image2 = Image.new('L', (28, 28), 'black')\n",
    "draw2 = ImageDraw.Draw(image2)\n",
    "draw2.rectangle([top_left_corner, bottom_right_corner], outline='white', width=line_thickness)\n",
    "image2 = np.array(image2)\n",
    "# Convert PIL Image to numpy array for further processing\n",
    "\n",
    "#draft plt figure with two images\n",
    "fig = plt.figure(figsize=(10, 10))\n",
    "ax1 = fig.add_subplot(121)\n",
    "ax1.imshow(image1, cmap='gray')\n",
    "ax2 = fig.add_subplot(122)\n",
    "ax2.imshow(image2, cmap='gray')\n",
    "\n",
    "plt.show()"
   ]
  },
  {
   "cell_type": "code",
   "execution_count": null,
   "metadata": {},
   "outputs": [],
   "source": []
  }
 ],
 "metadata": {
  "kernelspec": {
   "display_name": "base",
   "language": "python",
   "name": "python3"
  },
  "language_info": {
   "codemirror_mode": {
    "name": "ipython",
    "version": 3
   },
   "file_extension": ".py",
   "mimetype": "text/x-python",
   "name": "python",
   "nbconvert_exporter": "python",
   "pygments_lexer": "ipython3",
   "version": "3.10.10"
  }
 },
 "nbformat": 4,
 "nbformat_minor": 2
}
