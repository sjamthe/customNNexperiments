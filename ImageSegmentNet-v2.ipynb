{
 "cells": [
  {
   "cell_type": "markdown",
   "metadata": {},
   "source": [
    "# ImageSegmentNet-v2\n",
    "* Revisit ImageSegmentNet but implement with Segment layers\n",
    "\n",
    "## Summary\n",
    "* This code demonstrated that a model made up of layered segments can learn an image if the model has segments mapping 1:1 with rows in the image. The values in the cells are replaced by row number where a pixel is not zero. Each segment layer have width/2 segments.\n",
    "* We can do the same columnwise.\n",
    "* The loss continuously decreases ans was 0.0043 after 50,000 training steps (stated at 0.05)\n",
    "\n",
    "## Observations\n",
    "* Created a model that has 1 segment per row of the image but only width/2 segments\n",
    "* Model were trained with image values replaced by row number and column number\n",
    "* Both models train, visually column number looked better (similar losses start at 0.05 reduced to 0.006)\n",
    "* Next step is to try grayscale image directly\n",
    "* grayscale started with 2x loss (.91) but trained equally well to (.06) but image looks bad. Clearly thr above methods are better.\n",
    "* Trying bw_image : started at 0.18 loss traine to .018 but is not as clean (better than gray scale)"
   ]
  },
  {
   "cell_type": "markdown",
   "metadata": {},
   "source": [
    "# Initialization"
   ]
  },
  {
   "cell_type": "code",
   "execution_count": 1,
   "metadata": {},
   "outputs": [],
   "source": [
    "import math\n",
    "import random\n",
    "import numpy as np\n",
    "import matplotlib.pyplot as plt\n",
    "%matplotlib inline\n",
    "\n",
    "import torch\n",
    "import torch.nn as nn\n",
    "import torch.nn.functional as F\n",
    "\n",
    "from segment import Segment"
   ]
  },
  {
   "cell_type": "code",
   "execution_count": 2,
   "metadata": {},
   "outputs": [
    {
     "name": "stdout",
     "output_type": "stream",
     "text": [
      "Using mps device\n"
     ]
    }
   ],
   "source": [
    "device = (\n",
    "    \"cuda\"\n",
    "    if torch.cuda.is_available()\n",
    "    else \"mps\"\n",
    "    if torch.backends.mps.is_available()\n",
    "    else \"cpu\"\n",
    ")\n",
    "print(f\"Using {device} device\")"
   ]
  },
  {
   "cell_type": "code",
   "execution_count": 3,
   "metadata": {},
   "outputs": [],
   "source": [
    "RANDOM_SEED = 42\n",
    "random.seed(RANDOM_SEED)\n",
    "np.random.seed(RANDOM_SEED)\n",
    "torch.manual_seed(RANDOM_SEED)\n",
    "torch.cuda.manual_seed(RANDOM_SEED)\n",
    "torch.cuda.manual_seed_all(RANDOM_SEED)\n",
    "torch.backends.cudnn.deterministic = True\n",
    "torch.backends.cudnn.benchmark = False"
   ]
  },
  {
   "cell_type": "markdown",
   "metadata": {},
   "source": [
    "# MNIST dataset"
   ]
  },
  {
   "cell_type": "code",
   "execution_count": 4,
   "metadata": {},
   "outputs": [
    {
     "name": "stdout",
     "output_type": "stream",
     "text": [
      "60000 10000\n",
      "torch.Size([1, 28, 28]) torch.Size([1, 28, 28])\n"
     ]
    }
   ],
   "source": [
    "from torchvision import datasets, transforms\n",
    "\n",
    "flatten_by_row_transform = transforms.Lambda(lambda x: x.flatten())\n",
    "flatten_by_col_transform = transforms.Lambda(lambda x: x.permute(0,2,1).flatten())\n",
    "\n",
    "train_transform = transforms.Compose([\n",
    "    transforms.ToTensor(),  # Convert images to PyTorch tensors\n",
    "    #transforms.RandomRotation(15), #only during training\n",
    "    transforms.Normalize([0.5], [0.5])\n",
    "])\n",
    "\n",
    "test_transform = transforms.Compose([\n",
    "    transforms.ToTensor(),  # Convert images to PyTorch tensors\n",
    "    transforms.Normalize([0.5], [0.5])\n",
    "])\n",
    "\n",
    "train_set = datasets.MNIST('data', train=True, download=False, transform=train_transform)\n",
    "test_set = datasets.MNIST('data', train=False, download=False, transform=test_transform)\n",
    "print(len(train_set), len(test_set))\n",
    "print(train_set[0][0].shape, test_set[0][0].shape)"
   ]
  },
  {
   "cell_type": "markdown",
   "metadata": {},
   "source": [
    "# Data Prep"
   ]
  },
  {
   "cell_type": "code",
   "execution_count": 5,
   "metadata": {},
   "outputs": [],
   "source": [
    "def prepare_image(image):\n",
    "    # convert image to black and white\n",
    "    test_image = image.squeeze().numpy() # remove channel dimension\n",
    "    limit = test_image.mean()\n",
    "    bw_array  = torch.tensor(np.where(test_image < limit, 0, 1))\n",
    "\n",
    "    height = bw_array.shape[0]\n",
    "    width = bw_array.shape[1]\n",
    "    maxval = height + 1\n",
    "    yrange = torch.arange(1./maxval, 1., 1./maxval)\n",
    "    #transpose yrange so it is [N,1]\n",
    "    yrange = yrange.unsqueeze(1)\n",
    "    yrange = yrange.permute(1,0) # experimenting with col numbers instead of row numbers\n",
    "    print(yrange.shape)\n",
    "    #create array that contains y pos values instead of 1\n",
    "    yval_array = yrange*bw_array\n",
    "    return yval_array"
   ]
  },
  {
   "cell_type": "code",
   "execution_count": 6,
   "metadata": {},
   "outputs": [
    {
     "name": "stdout",
     "output_type": "stream",
     "text": [
      "torch.Size([1, 28])\n",
      "torch.Size([28, 28])\n"
     ]
    },
    {
     "data": {
      "image/png": "[encoded data removed]",
      "text/plain": [
       "<Figure size 640x480 with 1 Axes>"
      ]
     },
     "metadata": {},
     "output_type": "display_data"
    }
   ],
   "source": [
    "test_image = train_set[0][0]\n",
    "test_image = prepare_image(test_image) \n",
    "print(test_image.shape)\n",
    "\n",
    "plt.imshow(test_image.squeeze().numpy(), cmap='gray')\n",
    "plt.title(f\"Label: test_image\")\n",
    "plt.show()"
   ]
  },
  {
   "cell_type": "code",
   "execution_count": 7,
   "metadata": {},
   "outputs": [],
   "source": [
    "class ImageSegmentNet(nn.Module):\n",
    "    def __init__(self, image_height, image_width, num_segments):\n",
    "        super(ImageSegmentNet, self).__init__()\n",
    "        self.image_height = image_height\n",
    "        self.image_width = image_width\n",
    "        self.segments = nn.ModuleList([Segment(1, 1, num_segments) for i in range(image_height)])\n",
    "        self.x_in = (torch.arange(image_width)/image_width).float()\n",
    "        self.x_in = self.x_in.unsqueeze(-1) # make it a vertical tensor (N,1)\n",
    "\n",
    "        for segment in self.segments:\n",
    "            segment.custom_init(torch.Tensor([0]), torch.Tensor([1.0]))\n",
    "\n",
    "    def forward(self, yact):\n",
    "        # yact is the image \n",
    "        ypred = torch.zeros_like(yact)\n",
    "        for i in range(self.image_height):\n",
    "            yout = self.segments[i](self.x_in)\n",
    "            ypred[i] = yout.squeeze()\n",
    "\n",
    "        return ypred\n",
    "        \n",
    "        "
   ]
  },
  {
   "cell_type": "code",
   "execution_count": 8,
   "metadata": {},
   "outputs": [
    {
     "name": "stdout",
     "output_type": "stream",
     "text": [
      "Total parameters: 840\n"
     ]
    }
   ],
   "source": [
    "# Init Model, Loss, Optimizer\n",
    "model = ImageSegmentNet(28, 28, 14)\n",
    "total_params = sum(p.numel() for p in model.parameters())\n",
    "print(f\"Total parameters: {total_params}\")\n",
    "\n",
    "criterion = nn.MSELoss(reduction='mean')\n",
    "\n",
    "lr=.0001\n",
    "#optimizer only optimizes parameter that are sent to it in arg1\n",
    "optimizer = torch.optim.AdamW(model.parameters(),\n",
    "                               lr=lr, betas=(0.9, 0.999), eps=1e-8)"
   ]
  },
  {
   "cell_type": "code",
   "execution_count": 9,
   "metadata": {},
   "outputs": [
    {
     "name": "stdout",
     "output_type": "stream",
     "text": [
      "step 0: loss: 0.05043649300932884\n",
      "step 500: loss: 0.04128680005669594\n",
      "step 1000: loss: 0.033654868602752686\n",
      "step 1500: loss: 0.029899829998612404\n",
      "step 2000: loss: 0.026703746989369392\n",
      "step 2500: loss: 0.023343199864029884\n",
      "step 3000: loss: 0.02056943066418171\n",
      "step 3500: loss: 0.017742648720741272\n",
      "step 4000: loss: 0.01543534267693758\n",
      "step 4500: loss: 0.013503189198672771\n",
      "step 5000: loss: 0.011879476718604565\n",
      "step 5500: loss: 0.010539146140217781\n",
      "step 6000: loss: 0.009490525349974632\n",
      "step 6500: loss: 0.008597902953624725\n",
      "step 7000: loss: 0.007964174263179302\n",
      "step 7500: loss: 0.007255051285028458\n",
      "step 8000: loss: 0.0066688829101622105\n",
      "step 8500: loss: 0.00620749406516552\n",
      "step 9000: loss: 0.006022937595844269\n",
      "step 9500: loss: 0.005613586865365505\n",
      "step 10000: loss: 0.005997916683554649\n",
      "step 10500: loss: 0.005715570412576199\n",
      "step 11000: loss: 0.005571987945586443\n",
      "step 11500: loss: 0.005330977495759726\n",
      "step 12000: loss: 0.005249051842838526\n",
      "step 12500: loss: 0.005184064619243145\n",
      "step 13000: loss: 0.005127887241542339\n",
      "step 13500: loss: 0.005078508984297514\n",
      "step 14000: loss: 0.005035019014030695\n",
      "step 14500: loss: 0.0049965898506343365\n",
      "step 15000: loss: 0.004878732841461897\n",
      "step 15500: loss: 0.004847486969083548\n",
      "step 16000: loss: 0.004822104703634977\n",
      "step 16500: loss: 0.004800198134034872\n",
      "step 17000: loss: 0.004781700205057859\n",
      "step 17500: loss: 0.0047667664475739\n",
      "step 18000: loss: 0.004753148183226585\n",
      "step 18500: loss: 0.0047410414554178715\n",
      "step 19000: loss: 0.004734983667731285\n",
      "step 19500: loss: 0.004732370376586914\n",
      "step 20000: loss: 0.004721946083009243\n",
      "step 20500: loss: 0.004711659625172615\n",
      "step 21000: loss: 0.0047015780583024025\n",
      "step 21500: loss: 0.00469185272231698\n",
      "step 22000: loss: 0.004682163707911968\n",
      "step 22500: loss: 0.004672566428780556\n",
      "step 23000: loss: 0.004663062747567892\n",
      "step 23500: loss: 0.004653631243854761\n",
      "step 24000: loss: 0.004644285887479782\n",
      "step 24500: loss: 0.004635031800717115\n",
      "step 25000: loss: 0.004625852219760418\n",
      "step 25500: loss: 0.004619560204446316\n",
      "step 26000: loss: 0.004610516130924225\n",
      "step 26500: loss: 0.004601555876433849\n",
      "step 27000: loss: 0.0045984783209860325\n",
      "step 27500: loss: 0.004589701537042856\n",
      "step 28000: loss: 0.00458096107468009\n",
      "step 28500: loss: 0.004572293255478144\n",
      "step 29000: loss: 0.00456369761377573\n",
      "step 29500: loss: 0.004555175080895424\n",
      "step 30000: loss: 0.004557042382657528\n",
      "step 30500: loss: 0.004548619966953993\n",
      "step 31000: loss: 0.004540297668427229\n",
      "step 31500: loss: 0.004532011691480875\n",
      "step 32000: loss: 0.00452381232753396\n",
      "step 32500: loss: 0.004515680018812418\n",
      "step 33000: loss: 0.004507613368332386\n",
      "step 33500: loss: 0.004499613307416439\n",
      "step 34000: loss: 0.0044916789047420025\n",
      "step 34500: loss: 0.004483806435018778\n",
      "step 35000: loss: 0.004495351109653711\n",
      "step 35500: loss: 0.0044682626612484455\n",
      "step 36000: loss: 0.004460569936782122\n",
      "step 36500: loss: 0.004452949855476618\n",
      "step 37000: loss: 0.00444538751617074\n",
      "step 37500: loss: 0.004437888041138649\n",
      "step 38000: loss: 0.004440132062882185\n",
      "step 38500: loss: 0.0044327364303171635\n",
      "step 39000: loss: 0.004425353370606899\n",
      "step 39500: loss: 0.004418050870299339\n",
      "step 40000: loss: 0.004410826601088047\n",
      "step 40500: loss: 0.004403756465762854\n",
      "step 41000: loss: 0.004396670963615179\n",
      "step 41500: loss: 0.004398013465106487\n",
      "step 42000: loss: 0.004390989430248737\n",
      "step 42500: loss: 0.0043840184807777405\n",
      "step 43000: loss: 0.004377102479338646\n",
      "step 43500: loss: 0.004370236769318581\n",
      "step 44000: loss: 0.004363423213362694\n",
      "step 44500: loss: 0.004356557037681341\n",
      "step 45000: loss: 0.004349845461547375\n",
      "step 45500: loss: 0.004343183245509863\n",
      "step 46000: loss: 0.00434837257489562\n",
      "step 46500: loss: 0.004341768566519022\n",
      "step 47000: loss: 0.004335212055593729\n",
      "step 47500: loss: 0.004328706301748753\n",
      "step 48000: loss: 0.0043222494423389435\n",
      "step 48500: loss: 0.0043158442713320255\n",
      "step 49000: loss: 0.0043094828724861145\n",
      "step 49500: loss: 0.004303169436752796\n",
      "final step 49999: loss: 0.004296914674341679\n"
     ]
    }
   ],
   "source": [
    "# Train\n",
    "max_step =50000\n",
    "prev_loss = 1000000\n",
    "target_loss = torch.zeros_like(test_image)\n",
    "for i in range(max_step):\n",
    "    image_pred = model.forward(test_image)\n",
    "    loss = criterion(test_image, image_pred)\n",
    "    if(math.isnan(loss)):\n",
    "        print(f\"nan loss at stei {i}\")\n",
    "        break\n",
    "    if(loss > prev_loss*1.4):\n",
    "        print(f\"loss is increasing, stop training\")\n",
    "        break\n",
    "    model.zero_grad(set_to_none=True)\n",
    "    loss.backward()\n",
    "    optimizer.step()\n",
    "    if (i%500 == 0):\n",
    "        print(f\"step {i}: loss: {loss}\")\n",
    "        prev_loss = loss\n",
    "print(f\"final step {i}: loss: {loss}\")"
   ]
  },
  {
   "cell_type": "code",
   "execution_count": 10,
   "metadata": {},
   "outputs": [
    {
     "data": {
      "image/png": "[encoded data removed]",
      "text/plain": [
       "<Figure size 640x480 with 1 Axes>"
      ]
     },
     "metadata": {},
     "output_type": "display_data"
    }
   ],
   "source": [
    "plt.imshow(image_pred.detach().numpy(), cmap='gray')\n",
    "plt.title(f\"Label: ypred_image\")\n",
    "plt.show()"
   ]
  },
  {
   "cell_type": "code",
   "execution_count": 11,
   "metadata": {},
   "outputs": [
    {
     "name": "stdout",
     "output_type": "stream",
     "text": [
      "segments.0.x tensor([0.0000, 0.0679, 0.1358, 0.2038, 0.2717, 0.3393, 0.4076, 0.4753, 0.5433,\n",
      "        0.6108, 0.6785, 0.7470, 0.8151, 0.8828, 0.9506])\n",
      "segments.0.y tensor([0., 0., 0., 0., 0., 0., 0., 0., 0., 0., 0., 0., 0., 0., 0.])\n",
      "segments.1.x tensor([0.0000, 0.0679, 0.1358, 0.2038, 0.2717, 0.3393, 0.4076, 0.4753, 0.5433,\n",
      "        0.6108, 0.6785, 0.7470, 0.8151, 0.8828, 0.9506])\n",
      "segments.1.y tensor([0., 0., 0., 0., 0., 0., 0., 0., 0., 0., 0., 0., 0., 0., 0.])\n",
      "segments.2.x tensor([0.0000, 0.0679, 0.1358, 0.2038, 0.2717, 0.3393, 0.4076, 0.4753, 0.5433,\n",
      "        0.6108, 0.6785, 0.7470, 0.8151, 0.8828, 0.9506])\n",
      "segments.2.y tensor([0., 0., 0., 0., 0., 0., 0., 0., 0., 0., 0., 0., 0., 0., 0.])\n",
      "segments.3.x tensor([0.0000, 0.0679, 0.1358, 0.2038, 0.2717, 0.3393, 0.4076, 0.4753, 0.5433,\n",
      "        0.6108, 0.6785, 0.7470, 0.8151, 0.8828, 0.9506])\n",
      "segments.3.y tensor([0., 0., 0., 0., 0., 0., 0., 0., 0., 0., 0., 0., 0., 0., 0.])\n",
      "segments.4.x tensor([0.0000, 0.0679, 0.1358, 0.2038, 0.2717, 0.3393, 0.4076, 0.4753, 0.5433,\n",
      "        0.6108, 0.6785, 0.7470, 0.8151, 0.8828, 0.9506])\n",
      "segments.4.y tensor([0., 0., 0., 0., 0., 0., 0., 0., 0., 0., 0., 0., 0., 0., 0.])\n",
      "segments.5.x tensor([1.1575e-06, 6.7917e-02, 1.3584e-01, 2.0379e-01, 2.7269e-01, 3.5039e-01,\n",
      "        4.3135e-01, 5.0936e-01, 5.1197e-01, 5.1187e-01, 7.8293e-01, 8.0166e-01,\n",
      "        8.2137e-01, 8.5579e-01, 9.6273e-01])\n",
      "segments.5.y tensor([-7.3286e-13, -1.0126e-12, -7.1282e-13, -2.2915e-13,  2.8171e-13,\n",
      "         7.3889e-13,  9.4514e-13,  4.8623e-13, -1.3325e-06,  9.7579e-05,\n",
      "         8.8225e-01,  2.8430e-01,  8.2911e-01, -2.6060e-08, -2.8773e-08])\n",
      "segments.6.x tensor([-6.7337e-05,  9.2903e-02,  1.8601e-01,  2.8992e-01,  3.2155e-01,\n",
      "         3.2216e-01,  3.2216e-01,  3.4525e-01,  8.1718e-01,  8.1719e-01,\n",
      "         8.2205e-01,  8.5253e-01,  8.6133e-01,  8.6124e-01,  9.4119e-01])\n",
      "segments.6.y tensor([-2.1907e-06, -3.3434e-06, -3.9360e-06, -3.0771e-06,  3.4597e-01,\n",
      "         6.4763e-02,  6.4763e-02,  3.6782e-01,  8.2348e-01,  8.2346e-01,\n",
      "         8.2819e-01, -1.9334e-02,  1.7572e-02,  1.7478e-02,  6.6316e-06])\n",
      "segments.7.x tensor([-6.8214e-05,  1.1720e-01,  2.1451e-01,  2.5016e-01,  2.5334e-01,\n",
      "         2.5334e-01,  2.5324e-01,  7.8095e-01,  8.1679e-01,  1.0452e+00,\n",
      "         1.0452e+00,  1.0452e+00,  1.0452e+00,  1.0452e+00,  1.0452e+00])\n",
      "segments.7.y tensor([-1.1021e-07, -1.2293e-07, -4.0481e-08,  2.7710e-01,  4.4729e-02,\n",
      "         4.4729e-02,  4.4828e-02,  9.1477e-01,  9.7583e-07,  3.9827e-07,\n",
      "         3.5059e-03,  3.5059e-03,  3.5059e-03,  3.5059e-03,  3.5059e-03])\n",
      "segments.8.x tensor([-2.2801e-06,  7.8291e-02,  1.5953e-01,  2.3824e-01,  2.3824e-01,\n",
      "         2.3814e-01,  5.9974e-01,  6.4161e-01,  6.5233e-01,  6.5232e-01,\n",
      "         6.5232e-01,  6.5232e-01,  6.7272e-01,  7.7417e-01,  9.5065e-01])\n",
      "segments.8.y tensor([-6.0278e-14, -9.2769e-14, -8.5093e-14, -3.1338e-14,  1.9682e-08,\n",
      "         9.9616e-05,  7.5565e-01, -7.8190e-03,  5.9332e-02,  5.9333e-02,\n",
      "         5.9333e-02,  5.9333e-02,  7.2497e-15,  1.6396e-13,  1.6499e-13])\n",
      "segments.9.x tensor([-2.6041e-06,  7.8522e-02,  1.5971e-01,  2.3922e-01,  2.5010e-01,\n",
      "         3.0074e-01,  6.7986e-01,  6.8062e-01,  6.8062e-01,  6.8062e-01,\n",
      "         6.8062e-01,  6.8062e-01,  6.8062e-01,  7.0419e-01,  9.4988e-01])\n",
      "segments.9.y tensor([ 3.5403e-07,  5.4584e-07,  4.9274e-07,  1.6986e-07, -9.6659e-07,\n",
      "         4.4123e-01,  1.6835e-01,  1.6783e-01,  1.6783e-01,  1.6783e-01,\n",
      "         1.6783e-01,  1.6783e-01,  1.6783e-01,  1.5217e-13,  5.7065e-13])\n",
      "segments.10.x tensor([-1.4249e-06,  7.3044e-02,  1.6018e-01,  2.5217e-01,  3.5716e-01,\n",
      "         3.7318e-01,  3.7308e-01,  4.4838e-01,  4.9949e-01,  5.5961e-01,\n",
      "         6.5182e-01,  7.3936e-01,  8.1462e-01,  8.8280e-01,  9.5059e-01])\n",
      "segments.10.y tensor([ 8.1291e-08,  1.6128e-07,  1.9751e-07,  2.0189e-07,  1.3937e-07,\n",
      "         2.6079e-02,  2.6177e-02,  7.0099e-01,  1.8315e-06,  7.4530e-07,\n",
      "         5.6524e-07,  5.9626e-08, -5.6148e-07, -1.1754e-06, -3.8157e-06])\n",
      "segments.11.x tensor([-1.4249e-06,  7.3044e-02,  1.6018e-01,  2.5217e-01,  3.5716e-01,\n",
      "         3.7318e-01,  3.7308e-01,  4.4838e-01,  4.9949e-01,  5.5961e-01,\n",
      "         6.5182e-01,  7.3936e-01,  8.1462e-01,  8.8280e-01,  9.5059e-01])\n",
      "segments.11.y tensor([ 8.1291e-08,  1.6128e-07,  1.9751e-07,  2.0189e-07,  1.3937e-07,\n",
      "         2.6079e-02,  2.6177e-02,  7.0099e-01,  1.8315e-06,  7.4530e-07,\n",
      "         5.6524e-07,  5.9626e-08, -5.6148e-07, -1.1754e-06, -3.8157e-06])\n",
      "segments.12.x tensor([-4.5647e-07,  6.7921e-02,  1.3634e-01,  2.1134e-01,  2.9371e-01,\n",
      "         3.7372e-01,  3.8157e-01,  4.8737e-01,  5.3429e-01,  5.8977e-01,\n",
      "         6.7074e-01,  7.4625e-01,  8.1511e-01,  8.8282e-01,  9.5059e-01])\n",
      "segments.12.y tensor([ 9.7687e-09,  1.6983e-08,  2.0840e-08,  2.5090e-08,  2.3476e-08,\n",
      "         1.0349e-08, -7.3252e-03,  7.0775e-01,  2.7310e-07,  2.0854e-08,\n",
      "         3.6543e-08,  2.1035e-08,  4.2893e-08,  4.3790e-08, -1.5642e-09])\n",
      "segments.13.x tensor([-2.8327e-05,  6.8313e-02,  1.4324e-01,  2.3186e-01,  3.2327e-01,\n",
      "         4.2865e-01,  4.8231e-01,  6.4596e-01,  7.5612e-01,  7.5612e-01,\n",
      "         7.5612e-01,  7.5612e-01,  7.5612e-01,  7.5607e-01,  9.3889e-01])\n",
      "segments.13.y tensor([-3.4790e-08, -1.0564e-07, -2.5719e-07, -3.3150e-07, -4.4776e-07,\n",
      "        -7.7885e-07,  7.2686e-01,  1.4587e-06,  1.9889e-07,  7.3704e-04,\n",
      "         7.3704e-04,  7.3704e-04,  7.3704e-04,  6.3858e-04, -1.6034e-04])\n",
      "segments.14.x tensor([-2.5764e-05,  6.8319e-02,  1.4320e-01,  2.3180e-01,  3.2311e-01,\n",
      "         4.2861e-01,  4.8306e-01,  7.0199e-01,  8.0549e-01,  8.0549e-01,\n",
      "         8.0549e-01,  8.0549e-01,  8.0549e-01,  8.0549e-01,  9.3499e-01])\n",
      "segments.14.y tensor([ 1.0136e-08,  9.4535e-10,  8.3389e-10,  2.4863e-08,  5.3977e-08,\n",
      "         7.3902e-08,  7.3682e-01,  1.4162e-07, -1.9317e-07,  9.7062e-04,\n",
      "         9.7062e-04,  9.7062e-04,  9.7062e-04, -1.9736e-12, -4.5244e-12])\n",
      "segments.15.x tensor([5.8142e-07, 6.7917e-02, 1.3584e-01, 2.0485e-01, 2.8176e-01, 3.6313e-01,\n",
      "        4.4192e-01, 4.6333e-01, 5.1845e-01, 7.3718e-01, 8.6402e-01, 8.6402e-01,\n",
      "        8.6402e-01, 8.6402e-01, 9.4882e-01])\n",
      "segments.15.y tensor([-3.8561e-09, -6.1223e-09, -6.4786e-09, -6.7973e-09, -7.3027e-09,\n",
      "        -6.4637e-09, -2.8945e-09, -1.3910e-02,  7.8442e-01,  4.7748e-07,\n",
      "        -4.3170e-09,  1.0096e-03,  1.0096e-03,  3.5103e-08,  1.7872e-07])\n",
      "segments.16.x tensor([-6.9040e-06,  6.7913e-02,  1.3583e-01,  2.0378e-01,  2.7199e-01,\n",
      "         3.4721e-01,  4.2933e-01,  5.3579e-01,  5.4319e-01,  5.4309e-01,\n",
      "         6.6425e-01,  7.1363e-01,  7.6437e-01,  8.5623e-01,  9.5063e-01])\n",
      "segments.16.y tensor([-1.1392e-11, -2.1459e-11, -2.7211e-11, -3.3414e-11, -4.3216e-11,\n",
      "        -5.6675e-11, -7.4426e-11, -5.6214e-11,  3.7725e-02,  3.7823e-02,\n",
      "         9.7141e-01, -5.6711e-07, -3.3959e-07, -5.0495e-07, -5.1384e-07])\n",
      "segments.17.x tensor([-1.4786e-05,  6.7912e-02,  1.3583e-01,  2.0386e-01,  2.7867e-01,\n",
      "         3.6755e-01,  4.5937e-01,  5.7149e-01,  6.2423e-01,  7.8818e-01,\n",
      "         9.3880e-01,  9.3880e-01,  9.3880e-01,  9.4123e-01,  9.5076e-01])\n",
      "segments.17.y tensor([-3.4925e-07, -7.2537e-07, -1.0292e-06, -1.3673e-06, -1.8835e-06,\n",
      "        -2.2158e-06, -2.6345e-06, -4.0070e-06,  9.1812e-01,  4.9619e-06,\n",
      "         2.1385e-06,  9.5095e-04,  9.8687e-04,  2.9593e-04,  1.7363e-04])\n",
      "segments.18.x tensor([5.7754e-07, 6.7917e-02, 1.3584e-01, 2.0492e-01, 2.8204e-01, 3.6327e-01,\n",
      "        4.4163e-01, 4.6333e-01, 5.1916e-01, 7.9572e-01, 9.2435e-01, 9.2584e-01,\n",
      "        9.2787e-01, 9.2787e-01, 9.6440e-01])\n",
      "segments.18.y tensor([ 7.6009e-19,  1.4746e-18,  2.0630e-18,  2.8792e-18,  3.8451e-18,\n",
      "         3.7535e-18,  1.6783e-18, -1.3955e-02,  7.9471e-01,  5.3933e-06,\n",
      "         1.5701e-06,  1.6447e-03,  6.3254e-06, -4.3628e-05, -4.8642e-07])\n",
      "segments.19.x tensor([-3.0347e-07,  6.7926e-02,  1.3700e-01,  2.1431e-01,  2.9572e-01,\n",
      "         3.7381e-01,  3.7613e-01,  3.7604e-01,  6.3395e-01,  7.1465e-01,\n",
      "         7.1465e-01,  7.1465e-01,  7.1835e-01,  7.8839e-01,  9.5076e-01])\n",
      "segments.19.y tensor([ 1.2258e-17,  2.4481e-17,  3.4386e-17,  4.4730e-17,  3.8236e-17,\n",
      "         1.5797e-17, -1.7813e-09,  9.9070e-05,  8.5758e-01,  1.1736e-01,\n",
      "         1.1736e-01,  1.1736e-01,  1.8338e-11,  8.3658e-11,  8.8709e-11])\n",
      "segments.20.x tensor([-2.5841e-06,  7.3309e-02,  1.6074e-01,  2.5319e-01,  3.5715e-01,\n",
      "         3.7338e-01,  3.7338e-01,  3.7329e-01,  6.3269e-01,  6.7647e-01,\n",
      "         6.7647e-01,  6.7647e-01,  6.7647e-01,  6.7637e-01,  9.5092e-01])\n",
      "segments.20.y tensor([ 3.3970e-07,  7.4267e-07,  4.9253e-07,  5.6917e-07,  4.2465e-07,\n",
      "         2.7305e-02,  2.7305e-02,  2.7405e-02,  8.4890e-01,  1.4370e-02,\n",
      "         1.4373e-02,  1.4373e-02,  1.4373e-02,  1.4270e-02, -5.0028e-03])\n",
      "segments.21.x tensor([-5.8323e-05,  9.4511e-02,  1.8722e-01,  2.8717e-01,  3.2158e-01,\n",
      "         3.4023e-01,  3.4013e-01,  5.6212e-01,  6.0265e-01,  6.0265e-01,\n",
      "         6.0265e-01,  6.0265e-01,  6.0265e-01,  6.0255e-01,  9.5193e-01])\n",
      "segments.21.y tensor([-4.9279e-08, -6.0650e-08, -3.9192e-08,  2.5388e-08,  3.4634e-01,\n",
      "         4.6411e-02,  4.6510e-02,  7.5801e-01,  1.0073e-02,  1.0074e-02,\n",
      "         1.0074e-02,  1.0074e-02,  1.0074e-02,  9.9692e-03, -3.8500e-03])\n",
      "segments.22.x tensor([-4.7186e-05,  1.1799e-01,  2.1435e-01,  2.4289e-01,  2.4289e-01,\n",
      "         2.4278e-01,  4.8461e-01,  4.9935e-01,  5.2974e-01,  5.3661e-01,\n",
      "         5.3668e-01,  5.3668e-01,  5.3668e-01,  5.3668e-01,  9.5220e-01])\n",
      "segments.22.y tensor([ 8.8981e-09,  1.0962e-08,  7.4515e-09,  2.6828e-01,  2.6828e-01,\n",
      "         2.6839e-01,  5.0275e-01,  5.2860e-01,  8.2527e-04, -1.2313e-04,\n",
      "        -1.5099e-04, -1.5099e-04, -1.5099e-04, -1.1165e-04,  6.0190e-05])\n",
      "segments.23.x tensor([-3.4327e-04,  1.0716e-01,  1.3524e-01,  1.3524e-01,  1.3514e-01,\n",
      "         4.2311e-01,  4.6191e-01,  4.6191e-01,  4.6191e-01,  4.6191e-01,\n",
      "         4.6191e-01,  4.6191e-01,  4.6191e-01,  4.6181e-01,  9.4552e-01])\n",
      "segments.23.y tensor([ 1.3808e-06,  2.5148e-06,  3.3673e-02,  3.3673e-02,  3.3773e-02,\n",
      "         5.1817e-01,  2.1922e-02,  2.1921e-02,  2.1921e-02,  2.1921e-02,\n",
      "         2.1921e-02,  2.1921e-02,  2.1921e-02,  2.1820e-02, -8.6527e-03])\n",
      "segments.24.x tensor([6.1419e-06, 1.0224e-01, 1.0224e-01, 1.0214e-01, 3.5044e-01, 3.8877e-01,\n",
      "        3.9639e-01, 4.3519e-01, 4.4194e-01, 5.4516e-01, 6.5206e-01, 7.3989e-01,\n",
      "        8.1467e-01, 8.8280e-01, 9.5059e-01])\n",
      "segments.24.y tensor([-5.2861e-11, -2.3591e-11,  1.6975e-09,  9.9655e-05,  4.4809e-01,\n",
      "         5.4558e-02, -4.7083e-02,  9.6749e-03, -2.8060e-11, -5.9944e-11,\n",
      "        -6.1794e-11, -5.3439e-11, -5.2213e-11, -6.3075e-11, -1.9942e-10])\n",
      "segments.25.x tensor([0.0000, 0.0679, 0.1358, 0.2038, 0.2717, 0.3393, 0.4076, 0.4753, 0.5433,\n",
      "        0.6108, 0.6785, 0.7470, 0.8151, 0.8828, 0.9506])\n",
      "segments.25.y tensor([0., 0., 0., 0., 0., 0., 0., 0., 0., 0., 0., 0., 0., 0., 0.])\n",
      "segments.26.x tensor([0.0000, 0.0679, 0.1358, 0.2038, 0.2717, 0.3393, 0.4076, 0.4753, 0.5433,\n",
      "        0.6108, 0.6785, 0.7470, 0.8151, 0.8828, 0.9506])\n",
      "segments.26.y tensor([0., 0., 0., 0., 0., 0., 0., 0., 0., 0., 0., 0., 0., 0., 0.])\n",
      "segments.27.x tensor([0.0000, 0.0679, 0.1358, 0.2038, 0.2717, 0.3393, 0.4076, 0.4753, 0.5433,\n",
      "        0.6108, 0.6785, 0.7470, 0.8151, 0.8828, 0.9506])\n",
      "segments.27.y tensor([0., 0., 0., 0., 0., 0., 0., 0., 0., 0., 0., 0., 0., 0., 0.])\n"
     ]
    }
   ],
   "source": [
    "for name, param in model.named_parameters():\n",
    "    print(name, param.data.squeeze())\n"
   ]
  },
  {
   "cell_type": "code",
   "execution_count": null,
   "metadata": {},
   "outputs": [],
   "source": []
  }
 ],
 "metadata": {
  "kernelspec": {
   "display_name": "base",
   "language": "python",
   "name": "python3"
  },
  "language_info": {
   "codemirror_mode": {
    "name": "ipython",
    "version": 3
   },
   "file_extension": ".py",
   "mimetype": "text/x-python",
   "name": "python",
   "nbconvert_exporter": "python",
   "pygments_lexer": "ipython3",
   "version": "3.10.10"
  }
 },
 "nbformat": 4,
 "nbformat_minor": 2
}
