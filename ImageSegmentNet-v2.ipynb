{
 "cells": [
  {
   "cell_type": "markdown",
   "metadata": {},
   "source": [
    "# ImageSegmentNet-v2\n",
    "* Revisit ImageSegmentNet but implement with Segment layers\n",
    "\n",
    "## Observations\n",
    "* Created a model that has 1 segment per row of the image but only width/2 segments\n",
    "* Model were trained with image values replaced by row number and column number\n",
    "* Both models train, visually column number looked better (similar losses start at 0.05 reduced to 0.006)\n",
    "* Next step is to try grayscale image directly\n",
    "* grayscale started with 2x loss (.91) but trained equally well to (.06) but image looks bad. Clearly thr above methods are better.\n",
    "* Trying bw_image : started at 0.18 loss traine to .018 but is not as clean (better than gray scale)"
   ]
  },
  {
   "cell_type": "markdown",
   "metadata": {},
   "source": [
    "# Initialization"
   ]
  },
  {
   "cell_type": "code",
   "execution_count": 1,
   "metadata": {},
   "outputs": [],
   "source": [
    "import math\n",
    "import random\n",
    "import numpy as np\n",
    "import matplotlib.pyplot as plt\n",
    "%matplotlib inline\n",
    "\n",
    "import torch\n",
    "import torch.nn as nn\n",
    "import torch.nn.functional as F\n",
    "\n",
    "from segment import Segment"
   ]
  },
  {
   "cell_type": "code",
   "execution_count": 2,
   "metadata": {},
   "outputs": [
    {
     "name": "stdout",
     "output_type": "stream",
     "text": [
      "Using mps device\n"
     ]
    }
   ],
   "source": [
    "device = (\n",
    "    \"cuda\"\n",
    "    if torch.cuda.is_available()\n",
    "    else \"mps\"\n",
    "    if torch.backends.mps.is_available()\n",
    "    else \"cpu\"\n",
    ")\n",
    "print(f\"Using {device} device\")"
   ]
  },
  {
   "cell_type": "code",
   "execution_count": 2,
   "metadata": {},
   "outputs": [],
   "source": [
    "RANDOM_SEED = 42\n",
    "random.seed(RANDOM_SEED)\n",
    "np.random.seed(RANDOM_SEED)\n",
    "torch.manual_seed(RANDOM_SEED)\n",
    "torch.cuda.manual_seed(RANDOM_SEED)\n",
    "torch.cuda.manual_seed_all(RANDOM_SEED)\n",
    "torch.backends.cudnn.deterministic = True\n",
    "torch.backends.cudnn.benchmark = False"
   ]
  },
  {
   "cell_type": "markdown",
   "metadata": {},
   "source": [
    "# MNIST dataset"
   ]
  },
  {
   "cell_type": "code",
   "execution_count": 3,
   "metadata": {},
   "outputs": [
    {
     "name": "stdout",
     "output_type": "stream",
     "text": [
      "60000 10000\n",
      "torch.Size([1, 28, 28]) torch.Size([1, 28, 28])\n"
     ]
    }
   ],
   "source": [
    "from torchvision import datasets, transforms\n",
    "\n",
    "flatten_by_row_transform = transforms.Lambda(lambda x: x.flatten())\n",
    "flatten_by_col_transform = transforms.Lambda(lambda x: x.permute(0,2,1).flatten())\n",
    "\n",
    "train_transform = transforms.Compose([\n",
    "    transforms.ToTensor(),  # Convert images to PyTorch tensors\n",
    "    #transforms.RandomRotation(15), #only during training\n",
    "    transforms.Normalize([0.5], [0.5])\n",
    "])\n",
    "\n",
    "test_transform = transforms.Compose([\n",
    "    transforms.ToTensor(),  # Convert images to PyTorch tensors\n",
    "    transforms.Normalize([0.5], [0.5])\n",
    "])\n",
    "\n",
    "train_set = datasets.MNIST('data', train=True, download=False, transform=train_transform)\n",
    "test_set = datasets.MNIST('data', train=False, download=False, transform=test_transform)\n",
    "print(len(train_set), len(test_set))\n",
    "print(train_set[0][0].shape, test_set[0][0].shape)"
   ]
  },
  {
   "cell_type": "markdown",
   "metadata": {},
   "source": [
    "# Data Prep"
   ]
  },
  {
   "cell_type": "code",
   "execution_count": 154,
   "metadata": {},
   "outputs": [],
   "source": [
    "def prepare_image(image):\n",
    "    # convert image to black and white\n",
    "    test_image = image.squeeze().numpy() # remove channel dimension\n",
    "    limit = test_image.mean()\n",
    "    bw_array  = torch.tensor(np.where(test_image < limit, 0, 1))\n",
    "\n",
    "    height = bw_array.shape[0]\n",
    "    width = bw_array.shape[1]\n",
    "    maxval = height + 1\n",
    "    yrange = torch.arange(1./maxval, 1., 1./maxval)\n",
    "    #transpose yrange so it is [N,1]\n",
    "    yrange = yrange.unsqueeze(1)\n",
    "    yrange = yrange.permute(1,0) # experimenting with col numbers instead of row numbers\n",
    "    print(yrange.shape)\n",
    "    #create array that contains y pos values instead of 1\n",
    "    yval_array = yrange*bw_array\n",
    "    return yval_array"
   ]
  },
  {
   "cell_type": "code",
   "execution_count": 155,
   "metadata": {},
   "outputs": [
    {
     "name": "stdout",
     "output_type": "stream",
     "text": [
      "torch.Size([1, 28])\n",
      "torch.Size([28, 28])\n"
     ]
    },
    {
     "data": {
      "image/png": "[encoded data removed]",
      "text/plain": [
       "<Figure size 640x480 with 1 Axes>"
      ]
     },
     "metadata": {},
     "output_type": "display_data"
    }
   ],
   "source": [
    "test_image = train_set[0][0]\n",
    "test_image = prepare_image(test_image) #trying gray scale image directly\n",
    "print(test_image.shape)\n",
    "\n",
    "plt.imshow(test_image.squeeze().numpy(), cmap='gray')\n",
    "plt.title(f\"Label: test_image\")\n",
    "plt.show()"
   ]
  },
  {
   "cell_type": "code",
   "execution_count": 141,
   "metadata": {},
   "outputs": [],
   "source": [
    "class ImageSegmentNet(nn.Module):\n",
    "    def __init__(self, image_height, image_width, num_segments):\n",
    "        super(ImageSegmentNet, self).__init__()\n",
    "        self.image_height = image_height\n",
    "        self.image_width = image_width\n",
    "        self.segments = nn.ModuleList([Segment(1, 1, num_segments) for i in range(image_height)])\n",
    "        self.x_in = (torch.arange(image_width)/image_width).float()\n",
    "        self.x_in = self.x_in.unsqueeze(-1) # make it a vertical tensor (N,1)\n",
    "\n",
    "        for segment in self.segments:\n",
    "            segment.custom_init(torch.Tensor([0]), torch.Tensor([1.0]))\n",
    "\n",
    "    def forward(self, yact):\n",
    "        # yact is the image \n",
    "        ypred = torch.zeros_like(yact)\n",
    "        for i in range(self.image_height):\n",
    "            yout = self.segments[i](self.x_in)\n",
    "            ypred[i] = yout.squeeze()\n",
    "\n",
    "        return ypred\n",
    "        \n",
    "        "
   ]
  },
  {
   "cell_type": "code",
   "execution_count": 159,
   "metadata": {},
   "outputs": [
    {
     "name": "stdout",
     "output_type": "stream",
     "text": [
      "Total parameters: 840\n"
     ]
    }
   ],
   "source": [
    "# Init Model, Loss, Optimizer\n",
    "model = ImageSegmentNet(28, 28, 14)\n",
    "total_params = sum(p.numel() for p in model.parameters())\n",
    "print(f\"Total parameters: {total_params}\")\n",
    "\n",
    "criterion = nn.MSELoss(reduction='mean')\n",
    "\n",
    "lr=.0001\n",
    "#optimizer only optimizes parameter that are sent to it in arg1\n",
    "optimizer = torch.optim.AdamW(model.parameters(),\n",
    "                               lr=lr, betas=(0.9, 0.999), eps=1e-8)"
   ]
  },
  {
   "cell_type": "code",
   "execution_count": 160,
   "metadata": {},
   "outputs": [
    {
     "name": "stdout",
     "output_type": "stream",
     "text": [
      "step 0: loss: 0.05043649300932884\n",
      "step 500: loss: 0.04128680005669594\n",
      "step 1000: loss: 0.033654868602752686\n",
      "step 1500: loss: 0.029899829998612404\n",
      "step 2000: loss: 0.026703746989369392\n",
      "step 2500: loss: 0.023343199864029884\n",
      "step 3000: loss: 0.02056943066418171\n",
      "step 3500: loss: 0.017742648720741272\n",
      "step 4000: loss: 0.01543534267693758\n",
      "step 4500: loss: 0.013503189198672771\n",
      "step 5000: loss: 0.011879476718604565\n",
      "step 5500: loss: 0.010539146140217781\n",
      "step 6000: loss: 0.009490525349974632\n",
      "step 6500: loss: 0.008597902953624725\n",
      "step 7000: loss: 0.007964174263179302\n",
      "step 7500: loss: 0.007255051285028458\n",
      "step 8000: loss: 0.0066688829101622105\n",
      "step 8500: loss: 0.00620749406516552\n",
      "step 9000: loss: 0.006022937595844269\n",
      "step 9500: loss: 0.005613586865365505\n",
      "step 10000: loss: 0.005997916683554649\n",
      "step 10500: loss: 0.005715570412576199\n",
      "step 11000: loss: 0.005571987945586443\n",
      "step 11500: loss: 0.005330977495759726\n",
      "step 12000: loss: 0.005249051842838526\n",
      "step 12500: loss: 0.005184064619243145\n",
      "step 13000: loss: 0.005127887241542339\n",
      "step 13500: loss: 0.005078508984297514\n",
      "step 14000: loss: 0.005035019014030695\n",
      "step 14500: loss: 0.0049965898506343365\n",
      "step 15000: loss: 0.004878732841461897\n",
      "step 15500: loss: 0.004847486969083548\n",
      "step 16000: loss: 0.004822104703634977\n",
      "step 16500: loss: 0.004800198134034872\n",
      "step 17000: loss: 0.004781700205057859\n",
      "step 17500: loss: 0.0047667664475739\n",
      "step 18000: loss: 0.004753148183226585\n",
      "step 18500: loss: 0.0047410414554178715\n",
      "step 19000: loss: 0.004734983667731285\n",
      "step 19500: loss: 0.004732370376586914\n",
      "step 20000: loss: 0.004721946083009243\n",
      "step 20500: loss: 0.004711659625172615\n",
      "step 21000: loss: 0.0047015780583024025\n",
      "step 21500: loss: 0.00469185272231698\n",
      "step 22000: loss: 0.004682163707911968\n",
      "step 22500: loss: 0.004672566428780556\n",
      "step 23000: loss: 0.004663062747567892\n",
      "step 23500: loss: 0.004653631243854761\n",
      "step 24000: loss: 0.004644285887479782\n",
      "step 24500: loss: 0.004635031800717115\n",
      "step 25000: loss: 0.004625852219760418\n",
      "step 25500: loss: 0.004619560204446316\n",
      "step 26000: loss: 0.004610516130924225\n",
      "step 26500: loss: 0.004601555876433849\n",
      "step 27000: loss: 0.0045984783209860325\n",
      "step 27500: loss: 0.004589701537042856\n",
      "step 28000: loss: 0.00458096107468009\n",
      "step 28500: loss: 0.004572293255478144\n",
      "step 29000: loss: 0.00456369761377573\n",
      "step 29500: loss: 0.004555175080895424\n",
      "step 30000: loss: 0.004557042382657528\n",
      "step 30500: loss: 0.004548619966953993\n",
      "step 31000: loss: 0.004540297668427229\n",
      "step 31500: loss: 0.004532011691480875\n",
      "step 32000: loss: 0.00452381232753396\n",
      "step 32500: loss: 0.004515680018812418\n",
      "step 33000: loss: 0.004507613368332386\n",
      "step 33500: loss: 0.004499613307416439\n",
      "step 34000: loss: 0.0044916789047420025\n",
      "step 34500: loss: 0.004483806435018778\n",
      "step 35000: loss: 0.004495351109653711\n",
      "step 35500: loss: 0.0044682626612484455\n",
      "step 36000: loss: 0.004460569936782122\n",
      "step 36500: loss: 0.004452949855476618\n",
      "step 37000: loss: 0.00444538751617074\n",
      "step 37500: loss: 0.004437888041138649\n",
      "step 38000: loss: 0.004440132062882185\n",
      "step 38500: loss: 0.0044327364303171635\n",
      "step 39000: loss: 0.004425353370606899\n",
      "step 39500: loss: 0.004418050870299339\n",
      "step 40000: loss: 0.004410826601088047\n",
      "step 40500: loss: 0.004403756465762854\n",
      "step 41000: loss: 0.004396670963615179\n",
      "step 41500: loss: 0.004398013465106487\n",
      "step 42000: loss: 0.004390989430248737\n",
      "step 42500: loss: 0.0043840184807777405\n",
      "step 43000: loss: 0.004377102479338646\n",
      "step 43500: loss: 0.004370236769318581\n",
      "step 44000: loss: 0.004363423213362694\n",
      "step 44500: loss: 0.004356557037681341\n",
      "step 45000: loss: 0.004349845461547375\n",
      "step 45500: loss: 0.004343183245509863\n",
      "step 46000: loss: 0.00434837257489562\n",
      "step 46500: loss: 0.004341768566519022\n",
      "step 47000: loss: 0.004335212055593729\n",
      "step 47500: loss: 0.004328706301748753\n",
      "step 48000: loss: 0.0043222494423389435\n",
      "step 48500: loss: 0.0043158442713320255\n",
      "step 49000: loss: 0.0043094828724861145\n",
      "step 49500: loss: 0.004303169436752796\n",
      "final step 49999: loss: 0.004296914674341679\n"
     ]
    }
   ],
   "source": [
    "# Train\n",
    "max_step =50000\n",
    "prev_loss = 1000000\n",
    "target_loss = torch.zeros_like(test_image)\n",
    "for i in range(max_step):\n",
    "    image_pred = model.forward(test_image)\n",
    "    loss = criterion(test_image, image_pred)\n",
    "    if(math.isnan(loss)):\n",
    "        print(f\"nan loss at stei {i}\")\n",
    "        break\n",
    "    if(loss > prev_loss*1.4):\n",
    "        print(f\"loss is increasing, stop training\")\n",
    "        break\n",
    "    model.zero_grad(set_to_none=True)\n",
    "    loss.backward()\n",
    "    optimizer.step()\n",
    "    if (i%500 == 0):\n",
    "        print(f\"step {i}: loss: {loss}\")\n",
    "        prev_loss = loss\n",
    "print(f\"final step {i}: loss: {loss}\")"
   ]
  },
  {
   "cell_type": "code",
   "execution_count": 158,
   "metadata": {},
   "outputs": [
    {
     "data": {
      "image/png": "[encoded data removed]",
      "text/plain": [
       "<Figure size 640x480 with 1 Axes>"
      ]
     },
     "metadata": {},
     "output_type": "display_data"
    }
   ],
   "source": [
    "plt.imshow(image_pred.detach().numpy(), cmap='gray')\n",
    "plt.title(f\"Label: ypred_image\")\n",
    "plt.show()"
   ]
  },
  {
   "cell_type": "code",
   "execution_count": 108,
   "metadata": {},
   "outputs": [
    {
     "name": "stdout",
     "output_type": "stream",
     "text": [
      "segments.0.x tensor([0.0000, 0.0679, 0.1358, 0.2038, 0.2717, 0.3393, 0.4076, 0.4753, 0.5433,\n",
      "        0.6108, 0.6785, 0.7470, 0.8151, 0.8828, 0.9506])\n",
      "segments.0.y tensor([0., 0., 0., 0., 0., 0., 0., 0., 0., 0., 0., 0., 0., 0., 0.])\n",
      "segments.1.x tensor([0.0000, 0.0679, 0.1358, 0.2038, 0.2717, 0.3393, 0.4076, 0.4753, 0.5433,\n",
      "        0.6108, 0.6785, 0.7470, 0.8151, 0.8828, 0.9506])\n",
      "segments.1.y tensor([0., 0., 0., 0., 0., 0., 0., 0., 0., 0., 0., 0., 0., 0., 0.])\n",
      "segments.2.x tensor([0.0000, 0.0679, 0.1358, 0.2038, 0.2717, 0.3393, 0.4076, 0.4753, 0.5433,\n",
      "        0.6108, 0.6785, 0.7470, 0.8151, 0.8828, 0.9506])\n",
      "segments.2.y tensor([0., 0., 0., 0., 0., 0., 0., 0., 0., 0., 0., 0., 0., 0., 0.])\n",
      "segments.3.x tensor([0.0000, 0.0679, 0.1358, 0.2038, 0.2717, 0.3393, 0.4076, 0.4753, 0.5433,\n",
      "        0.6108, 0.6785, 0.7470, 0.8151, 0.8828, 0.9506])\n",
      "segments.3.y tensor([0., 0., 0., 0., 0., 0., 0., 0., 0., 0., 0., 0., 0., 0., 0.])\n",
      "segments.4.x tensor([0.0000, 0.0679, 0.1358, 0.2038, 0.2717, 0.3393, 0.4076, 0.4753, 0.5433,\n",
      "        0.6108, 0.6785, 0.7470, 0.8151, 0.8828, 0.9506])\n",
      "segments.4.y tensor([0., 0., 0., 0., 0., 0., 0., 0., 0., 0., 0., 0., 0., 0., 0.])\n",
      "segments.5.x tensor([1.1088e-06, 6.7917e-02, 1.3584e-01, 2.0379e-01, 2.7206e-01, 3.4762e-01,\n",
      "        4.2957e-01, 5.0941e-01, 5.1913e-01, 5.1903e-01, 8.1166e-01, 8.5153e-01,\n",
      "        8.5153e-01, 8.5143e-01, 9.4760e-01])\n",
      "segments.5.y tensor([ 4.6494e-08,  6.8306e-08,  6.1042e-08,  4.7184e-08,  3.5485e-08,\n",
      "         2.6826e-08,  1.9318e-08,  8.1051e-09, -8.7866e-12,  9.9204e-05,\n",
      "         2.7063e-01,  1.0549e-02,  1.0549e-02,  1.0445e-02, -1.2194e-03])\n",
      "segments.6.x tensor([-1.9175e-05,  9.4302e-02,  1.8679e-01,  2.8576e-01,  3.0535e-01,\n",
      "         3.0535e-01,  3.0535e-01,  3.0525e-01,  7.7514e-01,  8.5821e-01,\n",
      "         8.5872e-01,  8.5874e-01,  8.5874e-01,  8.5865e-01,  9.4786e-01])\n",
      "segments.6.y tensor([ 1.6223e-08, -2.6727e-08, -1.0288e-07, -2.0606e-07,  9.6937e-02,\n",
      "         9.6937e-02,  9.6937e-02,  9.7036e-02,  3.1734e-01,  3.6631e-02,\n",
      "         3.8259e-02,  3.8279e-02,  3.8279e-02,  3.8180e-02, -3.3177e-03])\n",
      "segments.7.x tensor([-6.7647e-05,  1.2068e-01,  2.1690e-01,  2.5068e-01,  2.5106e-01,\n",
      "         2.5106e-01,  2.7165e-01,  7.8655e-01,  7.9662e-01,  7.9662e-01,\n",
      "         7.9662e-01,  8.3246e-01,  8.8678e-01,  8.8678e-01,  9.4806e-01])\n",
      "segments.7.y tensor([-3.0545e-07, -3.6706e-07, -1.6004e-07,  2.8152e-01,  3.4293e-02,\n",
      "         3.4293e-02,  2.7586e-01,  2.7586e-01,  1.2638e-05,  1.2624e-05,\n",
      "         1.4254e-05, -6.3380e-06,  7.6098e-06, -1.0727e-17,  2.1834e-16])\n",
      "segments.8.x tensor([-2.3342e-06,  7.8254e-02,  1.5951e-01,  2.3828e-01,  2.3828e-01,\n",
      "         2.3825e-01,  3.3133e-01,  6.8885e-01,  6.8885e-01,  6.8885e-01,\n",
      "         6.8885e-01,  6.8885e-01,  6.8885e-01,  6.8875e-01,  9.2546e-01])\n",
      "segments.8.y tensor([-6.8706e-12, -1.0408e-11, -9.5469e-12, -3.5546e-12,  2.3133e-08,\n",
      "         3.8331e-05,  4.0545e-01,  1.0420e-01,  1.0420e-01,  1.0420e-01,\n",
      "         1.0420e-01,  1.0420e-01,  1.0420e-01,  1.0410e-01, -2.2268e-02])\n",
      "segments.9.x tensor([-2.4041e-06,  7.8468e-02,  1.5970e-01,  2.4374e-01,  2.5015e-01,\n",
      "         2.9164e-01,  6.7880e-01,  6.7880e-01,  6.7880e-01,  6.7880e-01,\n",
      "         6.7880e-01,  6.7880e-01,  6.7884e-01,  7.8578e-01,  9.5074e-01])\n",
      "segments.9.y tensor([1.2965e-07, 2.0617e-07, 1.9593e-07, 7.7643e-08, 4.2664e-07, 4.0232e-01,\n",
      "        6.2494e-02, 6.2494e-02, 6.2494e-02, 6.2494e-02, 6.2494e-02, 6.2494e-02,\n",
      "        4.7702e-13, 1.3471e-12, 1.3076e-12])\n",
      "segments.10.x tensor([-2.0362e-06,  7.3055e-02,  1.6019e-01,  2.5220e-01,  3.5727e-01,\n",
      "         3.7315e-01,  3.7305e-01,  4.4543e-01,  4.9982e-01,  5.5957e-01,\n",
      "         6.5172e-01,  7.3931e-01,  8.1461e-01,  8.8279e-01,  9.5059e-01])\n",
      "segments.10.y tensor([ 8.5434e-22,  5.2382e-20,  1.8723e-19,  2.6441e-19,  1.1851e-19,\n",
      "         2.6137e-02,  2.6235e-02,  5.8049e-01, -4.9215e-06, -1.8996e-06,\n",
      "        -1.5888e-06, -1.1136e-06, -6.7411e-07, -3.9341e-07, -2.1472e-07])\n",
      "segments.11.x tensor([-5.2151e-06,  7.3952e-02,  1.6236e-01,  2.5682e-01,  3.5785e-01,\n",
      "         3.7457e-01,  3.7447e-01,  4.5215e-01,  4.9960e-01,  5.5930e-01,\n",
      "         6.5162e-01,  7.3925e-01,  8.1460e-01,  8.8279e-01,  9.5059e-01])\n",
      "segments.11.y tensor([ 1.0080e-08,  1.8866e-08,  2.1914e-08,  2.2741e-08,  1.5653e-08,\n",
      "         2.1762e-01,  2.1772e-01,  5.5605e-01,  7.0933e-07,  1.3655e-08,\n",
      "        -3.5758e-07, -6.4141e-07, -8.4747e-07, -9.3066e-07, -1.9043e-06])\n",
      "segments.12.x tensor([-4.9603e-07,  6.7921e-02,  1.3633e-01,  2.1133e-01,  2.9371e-01,\n",
      "         3.7374e-01,  3.9194e-01,  4.4445e-01,  5.4762e-01,  5.8323e-01,\n",
      "         6.7037e-01,  7.4621e-01,  8.1511e-01,  8.8282e-01,  9.5059e-01])\n",
      "segments.12.y tensor([-2.7146e-14, -5.1340e-14, -6.9697e-14, -9.1695e-14, -8.8667e-14,\n",
      "        -3.8348e-14, -1.1542e-02,  6.4751e-01,  6.5668e-06,  5.9660e-07,\n",
      "         1.2722e-06,  7.3410e-07,  5.4348e-07,  3.4124e-07,  2.7053e-07])\n",
      "segments.13.x tensor([-4.9995e-05,  6.8312e-02,  1.4316e-01,  2.3178e-01,  3.2318e-01,\n",
      "         4.2858e-01,  4.7802e-01,  6.4286e-01,  7.5070e-01,  7.5070e-01,\n",
      "         7.5070e-01,  7.5070e-01,  7.5070e-01,  7.5070e-01,  9.4076e-01])\n",
      "segments.13.y tensor([-8.0380e-07, -4.1061e-07,  9.8855e-07,  1.4275e-08, -1.0852e-06,\n",
      "        -1.9921e-08,  6.6844e-01,  1.0044e-06,  3.4686e-07, -1.3228e-05,\n",
      "        -1.3228e-05, -1.3228e-05, -1.3228e-05,  1.2277e-09,  1.9711e-09])\n",
      "segments.14.x tensor([-2.2612e-05,  6.8316e-02,  1.4321e-01,  2.3192e-01,  3.2343e-01,\n",
      "         4.2865e-01,  4.7783e-01,  6.9345e-01,  7.9248e-01,  7.9248e-01,\n",
      "         7.9248e-01,  7.9248e-01,  7.9248e-01,  7.9248e-01,  9.3442e-01])\n",
      "segments.14.y tensor([-3.0179e-08, -4.7942e-08, -7.6678e-08, -1.1011e-07, -1.5277e-07,\n",
      "        -3.0197e-07,  7.1379e-01,  6.9933e-07,  6.8319e-08,  8.1113e-04,\n",
      "         8.1113e-04,  8.1113e-04,  8.1113e-04, -1.0075e-39, -6.3836e-40])\n",
      "segments.15.x tensor([5.0696e-07, 6.7917e-02, 1.3584e-01, 2.0483e-01, 2.8170e-01, 3.6310e-01,\n",
      "        4.4200e-01, 4.6595e-01, 4.8213e-01, 6.4405e-01, 6.5738e-01, 8.3786e-01,\n",
      "        8.3786e-01, 8.3786e-01, 9.4347e-01])\n",
      "segments.15.y tensor([ 4.1849e-08,  7.3177e-08,  8.7282e-08,  1.0438e-07,  1.2490e-07,\n",
      "         1.1764e-07,  5.3585e-08,  4.0550e-09,  5.5172e-01,  5.5172e-01,\n",
      "        -5.5273e-12, -5.7945e-12,  2.1945e-04, -5.7254e-07, -1.3967e-06])\n",
      "segments.16.x tensor([-3.9275e-06,  6.7915e-02,  1.3583e-01,  2.0378e-01,  2.7200e-01,\n",
      "         3.4718e-01,  4.2924e-01,  5.3583e-01,  5.4271e-01,  5.4261e-01,\n",
      "         6.2212e-01,  7.2606e-01,  7.4930e-01,  8.5588e-01,  9.5060e-01])\n",
      "segments.16.y tensor([-6.0473e-07, -1.6690e-06, -6.8744e-07,  4.4391e-07, -4.1677e-07,\n",
      "        -4.5532e-07,  3.9957e-08, -4.6762e-07,  3.5525e-02,  3.5623e-02,\n",
      "         8.5410e-01,  1.0966e-03,  1.6896e-09,  2.2908e-09,  2.0602e-09])\n",
      "segments.17.x tensor([-3.1929e-05,  6.7909e-02,  1.3583e-01,  2.0386e-01,  2.7861e-01,\n",
      "         3.6746e-01,  4.5917e-01,  5.7152e-01,  6.2085e-01,  7.8571e-01,\n",
      "         8.8861e-01,  8.9175e-01,  8.9175e-01,  8.9175e-01,  9.5135e-01])\n",
      "segments.17.y tensor([-1.9219e-09,  6.5617e-08,  4.6856e-08,  8.5185e-08,  2.6308e-07,\n",
      "         3.2043e-07,  4.7663e-07,  8.7042e-07,  8.5956e-01, -1.9915e-07,\n",
      "        -7.4889e-07,  6.9425e-04,  6.9425e-04, -1.3401e-15,  4.3858e-14])\n",
      "segments.18.x tensor([2.7090e-07, 6.7917e-02, 1.3584e-01, 2.0493e-01, 2.8206e-01, 3.6329e-01,\n",
      "        4.4169e-01, 4.6429e-01, 5.1298e-01, 7.8571e-01, 9.2403e-01, 9.2536e-01,\n",
      "        9.2742e-01, 9.2742e-01, 9.6338e-01])\n",
      "segments.18.y tensor([ 3.8117e-09,  6.9610e-09,  8.5500e-09,  1.0487e-08,  1.2683e-08,\n",
      "         1.1710e-08,  5.3658e-09,  6.9496e-07,  8.9342e-01, -1.2611e-06,\n",
      "        -1.2672e-06,  1.5689e-03,  6.1606e-06, -1.7033e-05,  2.2798e-07])\n",
      "segments.19.x tensor([-9.3491e-07,  6.7925e-02,  1.3702e-01,  2.1439e-01,  2.9578e-01,\n",
      "         3.7369e-01,  3.7427e-01,  3.9236e-01,  4.4124e-01,  8.1956e-01,\n",
      "         8.1956e-01,  8.1956e-01,  8.1956e-01,  8.1943e-01,  9.4528e-01])\n",
      "segments.19.y tensor([ 5.2383e-08,  8.4484e-08,  9.6213e-08,  1.0767e-07,  8.9831e-08,\n",
      "         3.8745e-08, -2.2260e-05, -9.6078e-03,  9.3437e-01,  4.6022e-03,\n",
      "         4.6011e-03,  4.6011e-03,  4.6011e-03,  4.4888e-03, -7.4877e-04])\n",
      "segments.20.x tensor([-8.8085e-05,  7.5371e-02,  1.6391e-01,  2.5562e-01,  3.5721e-01,\n",
      "         4.0551e-01,  7.5081e-01,  7.5314e-01,  7.5314e-01,  7.5314e-01,\n",
      "         7.5314e-01,  7.5314e-01,  7.5314e-01,  7.5304e-01,  9.2067e-01])\n",
      "segments.20.y tensor([ 7.1535e-09, -2.3500e-09,  1.2575e-09,  1.5127e-08,  3.5342e-08,\n",
      "         9.8114e-01,  9.0082e-02,  3.0249e-01,  3.0249e-01,  3.0249e-01,\n",
      "         3.0249e-01,  3.0249e-01,  3.0249e-01,  3.0239e-01, -3.0057e-02])\n",
      "segments.21.x tensor([-8.7818e-05,  9.6437e-02,  1.8843e-01,  2.8584e-01,  3.3406e-01,\n",
      "         6.7935e-01,  6.8511e-01,  6.8511e-01,  6.8511e-01,  6.8511e-01,\n",
      "         6.8511e-01,  6.8511e-01,  6.8511e-01,  6.8501e-01,  9.0510e-01])\n",
      "segments.21.y tensor([ 9.5887e-09, -1.7300e-08, -2.9582e-08, -1.1681e-07,  1.0279e+00,\n",
      "         9.4459e-02,  3.1173e-01,  3.1173e-01,  3.1173e-01,  3.1173e-01,\n",
      "         3.1173e-01,  3.1173e-01,  3.1173e-01,  3.1163e-01, -3.5300e-02])\n",
      "segments.22.x tensor([-7.0990e-05,  1.2117e-01,  2.1454e-01,  2.6259e-01,  6.3961e-01,\n",
      "         6.3961e-01,  6.3961e-01,  6.3961e-01,  6.3961e-01,  6.3961e-01,\n",
      "         6.4234e-01,  6.5950e-01,  6.8952e-01,  6.8943e-01,  9.4583e-01])\n",
      "segments.22.y tensor([ 2.4285e-07,  2.7173e-07,  3.2220e-07,  1.0748e+00,  9.1750e-03,\n",
      "         9.1741e-03,  9.1741e-03,  9.1741e-03,  9.1741e-03,  9.1741e-03,\n",
      "        -7.5281e-04,  2.4382e-02, -1.3996e-02, -1.3899e-02,  4.4494e-03])\n",
      "segments.23.x tensor([-6.2659e-04,  1.0746e-01,  1.5541e-01,  5.7177e-01,  5.7282e-01,\n",
      "         5.7282e-01,  5.7533e-01,  5.7533e-01,  5.7533e-01,  5.7533e-01,\n",
      "         5.7533e-01,  5.7533e-01,  5.8097e-01,  6.8827e-01,  9.5075e-01])\n",
      "segments.23.y tensor([-2.1644e-06,  7.1863e-06,  1.1210e+00,  4.1567e-02,  4.3783e-02,\n",
      "         4.3783e-02,  4.0329e-02,  4.0329e-02,  4.0329e-02,  4.0329e-02,\n",
      "         4.0329e-02,  4.0329e-02, -6.7831e-12, -1.6590e-11, -1.6297e-11])\n",
      "segments.24.x tensor([-1.3128e-04,  1.0730e-01,  1.0809e-01,  1.0822e-01,  1.5543e-01,\n",
      "         4.6458e-01,  4.6673e-01,  4.6673e-01,  4.6673e-01,  4.6673e-01,\n",
      "         4.6673e-01,  4.8048e-01,  5.6189e-01,  7.4593e-01,  9.5061e-01])\n",
      "segments.24.y tensor([-5.1955e-14, -1.3889e-14, -1.9826e-03, -2.0955e-03,  1.1757e+00,\n",
      "         5.6420e-02,  1.4178e-01,  1.4178e-01,  1.4178e-01,  1.4178e-01,\n",
      "         1.4178e-01, -4.9722e-08, -1.3598e-07, -1.6220e-07, -1.4436e-07])\n",
      "segments.25.x tensor([0.0000, 0.0679, 0.1358, 0.2038, 0.2717, 0.3393, 0.4076, 0.4753, 0.5433,\n",
      "        0.6108, 0.6785, 0.7470, 0.8151, 0.8828, 0.9506])\n",
      "segments.25.y tensor([0., 0., 0., 0., 0., 0., 0., 0., 0., 0., 0., 0., 0., 0., 0.])\n",
      "segments.26.x tensor([0.0000, 0.0679, 0.1358, 0.2038, 0.2717, 0.3393, 0.4076, 0.4753, 0.5433,\n",
      "        0.6108, 0.6785, 0.7470, 0.8151, 0.8828, 0.9506])\n",
      "segments.26.y tensor([0., 0., 0., 0., 0., 0., 0., 0., 0., 0., 0., 0., 0., 0., 0.])\n",
      "segments.27.x tensor([0.0000, 0.0679, 0.1358, 0.2038, 0.2717, 0.3393, 0.4076, 0.4753, 0.5433,\n",
      "        0.6108, 0.6785, 0.7470, 0.8151, 0.8828, 0.9506])\n",
      "segments.27.y tensor([0., 0., 0., 0., 0., 0., 0., 0., 0., 0., 0., 0., 0., 0., 0.])\n"
     ]
    }
   ],
   "source": [
    "for name, param in model.named_parameters():\n",
    "    print(name, param.data.squeeze())\n"
   ]
  },
  {
   "cell_type": "code",
   "execution_count": null,
   "metadata": {},
   "outputs": [],
   "source": []
  }
 ],
 "metadata": {
  "kernelspec": {
   "display_name": "base",
   "language": "python",
   "name": "python3"
  },
  "language_info": {
   "codemirror_mode": {
    "name": "ipython",
    "version": 3
   },
   "file_extension": ".py",
   "mimetype": "text/x-python",
   "name": "python",
   "nbconvert_exporter": "python",
   "pygments_lexer": "ipython3",
   "version": "3.10.10"
  }
 },
 "nbformat": 4,
 "nbformat_minor": 2
}
