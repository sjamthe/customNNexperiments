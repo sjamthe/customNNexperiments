{
 "cells": [
  {
   "cell_type": "markdown",
   "metadata": {},
   "source": [
    "# Understanding Convolution Layer  "
   ]
  },
  {
   "cell_type": "code",
   "execution_count": 12,
   "metadata": {},
   "outputs": [],
   "source": [
    "import numpy as np\n",
    "\n",
    "def conv2d(image, kernel, bias=None, stride=1, padding=0):\n",
    "    \"\"\"\n",
    "    Performs a 2D convolution operation on the input image.\n",
    "\n",
    "    Args:\n",
    "        image: A 4D NumPy array representing the input image with shape (batch_size, height, width, channels).\n",
    "        kernel: A 4D NumPy array representing the convolutional kernel with shape (kernel_height, kernel_width, channels_in, channels_out).\n",
    "        bias: An optional 1D NumPy array representing the bias to be added to the output.\n",
    "        stride: The stride of the convolution operation. Default is 1.\n",
    "        padding: The amount of padding to add to the input image. Default is 0.\n",
    "\n",
    "    Returns:\n",
    "        A 4D NumPy array representing the output of the convolution operation.\n",
    "    \"\"\"\n",
    "\n",
    "    # Calculate output dimensions\n",
    "    output_height = int((image.shape[1] - kernel.shape[0] + 2 * padding) / stride) + 1\n",
    "    output_width = int((image.shape[2] - kernel.shape[1] + 2 * padding) / stride) + 1\n",
    "\n",
    "    # Pad the input image if necessary\n",
    "    if padding > 0:\n",
    "        image = np.pad(image, ((0, 0), (padding, padding), (padding, padding), (0, 0)), mode='constant')\n",
    "\n",
    "    # Initialize output array\n",
    "    output = np.zeros((image.shape[0], output_height, output_width, kernel.shape[3]))\n",
    "\n",
    "    # Perform convolution\n",
    "    for i in range(output_height):\n",
    "        for j in range(output_width):\n",
    "            for k in range(kernel.shape[3]):  # Loop over output channels\n",
    "                img = image[:, i * stride:i * stride + kernel.shape[0], j * stride:j * stride + kernel.shape[1], :]\n",
    "                ker = kernel[:, :, :, k]\n",
    "                out = img * ker\n",
    "                out_sum = np.sum(\n",
    "                    out,\n",
    "                    axis=(1, 2, 3)\n",
    "                )\n",
    "                output[:, i, j, k] = out_sum\n",
    "                print(img.shape)\n",
    "                print(ker.shape)\n",
    "                print(out.shape)\n",
    "                print(out_sum.shape)\n",
    "\n",
    "    # Add bias if provided\n",
    "    if bias is not None:\n",
    "        output += bias\n",
    "\n",
    "    return output\n"
   ]
  },
  {
   "cell_type": "code",
   "execution_count": 13,
   "metadata": {},
   "outputs": [
    {
     "name": "stdout",
     "output_type": "stream",
     "text": [
      "(1, 3, 3, 3)\n",
      "(3, 3, 3)\n",
      "(1, 3, 3, 3)\n",
      "(1,)\n",
      "(1, 3, 3, 3)\n",
      "(3, 3, 3)\n",
      "(1, 3, 3, 3)\n",
      "(1,)\n",
      "(1, 3, 3, 3)\n",
      "(3, 3, 3)\n",
      "(1, 3, 3, 3)\n",
      "(1,)\n",
      "(1, 3, 3, 3)\n",
      "(3, 3, 3)\n",
      "(1, 3, 3, 3)\n",
      "(1,)\n",
      "(1, 3, 3, 3)\n",
      "(3, 3, 3)\n",
      "(1, 3, 3, 3)\n",
      "(1,)\n",
      "(1, 3, 3, 3)\n",
      "(3, 3, 3)\n",
      "(1, 3, 3, 3)\n",
      "(1,)\n",
      "(1, 3, 3, 3)\n",
      "(3, 3, 3)\n",
      "(1, 3, 3, 3)\n",
      "(1,)\n",
      "(1, 3, 3, 3)\n",
      "(3, 3, 3)\n",
      "(1, 3, 3, 3)\n",
      "(1,)\n",
      "(1, 2, 2, 2)\n",
      "[[[[5.17805817 6.09919783]\n",
      "   [5.80320233 6.68575538]]\n",
      "\n",
      "  [[6.23592444 7.96160916]\n",
      "   [5.88585523 7.01857965]]]]\n"
     ]
    }
   ],
   "source": [
    "# Sample image\n",
    "image = np.random.rand(1, 4, 4, 3)\n",
    "#print(image)  # Output: (1, 4, 4, 3)\n",
    "\n",
    "# Sample kernel\n",
    "kernel = np.random.rand(3, 3, 3, 2)\n",
    "\n",
    "# Perform convolution\n",
    "output = conv2d(image, kernel)\n",
    "\n",
    "print(output.shape)  # Output: (1, 2, 2, 2)\n",
    "print(output)  # Output: [[[[ 4.02495814  3.73717332]\n"
   ]
  },
  {
   "cell_type": "markdown",
   "metadata": {},
   "source": [
    "# My understanding"
   ]
  },
  {
   "cell_type": "markdown",
   "metadata": {},
   "source": [
    "* In above functiom, operation inside the for loop is equivalent to [y = mx]\n",
    "* where x = all the input image cells that fit in the kernel FOR ALL the channels (for every image)\n",
    "* so for an image with 3 channels and shape 28x28 a 3x3 kernel will start from 0,0 (unless paddning > 0 then image is padded 1st)\n",
    "* The kernel is kernel[:, :, :, k] where k is output channel. so there are 9 learnable parameters per output channel in this case that is m\n",
    "* x will be 3x3 cells and 3 layers so same 3x3x3. We multiply each of this cell with corresponding m value. Then we sum them up to a single y value.\n",
    "* so in the end for every kernel overlap we get one y value (per output channel) then we slide right and get another one, when we hit end of width we slide down.\n",
    "\n",
    "* Looks very complicated. we are asking NN to learn a lot. No doubt we need a lot of Conv layers."
   ]
  },
  {
   "cell_type": "markdown",
   "metadata": {},
   "source": []
  }
 ],
 "metadata": {
  "kernelspec": {
   "display_name": "base",
   "language": "python",
   "name": "python3"
  },
  "language_info": {
   "codemirror_mode": {
    "name": "ipython",
    "version": 3
   },
   "file_extension": ".py",
   "mimetype": "text/x-python",
   "name": "python",
   "nbconvert_exporter": "python",
   "pygments_lexer": "ipython3",
   "version": "3.10.10"
  }
 },
 "nbformat": 4,
 "nbformat_minor": 2
}
