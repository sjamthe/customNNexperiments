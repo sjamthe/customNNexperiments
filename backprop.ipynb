{
 "cells": [
  {
   "cell_type": "markdown",
   "id": "1e4758d0-2ea7-4387-918a-8955ba39d71a",
   "metadata": {},
   "source": [
    "# Understand backpropogation for linear layer"
   ]
  },
  {
   "cell_type": "code",
   "execution_count": 42,
   "id": "5d3a7387-dd1b-4e9c-8aab-ec6e30db1fe9",
   "metadata": {},
   "outputs": [],
   "source": [
    "import torch\n",
    "import torch.nn as nn\n",
    "import torch.nn.functional as F\n",
    "from torch import Tensor"
   ]
  },
  {
   "cell_type": "code",
   "execution_count": 13,
   "id": "4eaf0260-1e10-466a-ae84-e04e84234450",
   "metadata": {},
   "outputs": [],
   "source": [
    "import matplotlib.pyplot as plt\n",
    "%matplotlib inline"
   ]
  },
  {
   "cell_type": "code",
   "execution_count": 64,
   "id": "e741b781-8c4a-44a9-8f82-723a0daf3c77",
   "metadata": {},
   "outputs": [],
   "source": [
    "# functions to use\n",
    "# linear line\n",
    "def lin(X, w, b): return X@w + b\n",
    "# RELU implementation\n",
    "def relu(x): return x.clamp_min(0.)\n",
    "# MSE error\n",
    "def mse(output, targ): return (output.squeeze(-1) - targ).pow(2).mean()\n",
    "\n",
    "#forward with loss fn\n",
    "def forward(X, Y):\n",
    "    Z = lin(X, w, b)\n",
    "    U = relu(Z) # This is model's output prediction ypred.\n",
    "    C = mse(U, Y)\n",
    "    return C\n",
    "\n"
   ]
  },
  {
   "cell_type": "code",
   "execution_count": 82,
   "id": "0510e1a6-4eea-4e7a-bba1-d71bf937fca3",
   "metadata": {},
   "outputs": [],
   "source": [
    "# Defining gradient. \n",
    "# We define gradient of each function wrt it output (ie calculate derivative of input wrt output, or d(input)/d(output)\n",
    "# for each delta change in output what was the delta change in input\n",
    "\n",
    "# NOTE: Learning MSE grad actually is calculated for loss of each Ypred (U) - does pytorch save all these gradients?\n",
    "# Learning: gradient of ypred is ypred.grad = -2/N*(Yact - Ypred)\n",
    "# U - input\n",
    "# Y - ouput\n",
    "def mse_grad_loop(U, Y):\n",
    "    N = len(U)\n",
    "    results = [-2./N*(Y[i]-U[i]) for i in range(N)]\n",
    "    return torch.FloatTensor(results)\n",
    "\n",
    "# A faster way to implement the above \n",
    "# NOTE: this faster method gives a matrix with 1 extra dimension so there are N^2 values.\n",
    "# to match values from mse_grad_loop you look at the diagonal of this torch.diagonal(mse_grad(Y,Yr))\n",
    "def mse_grad(U, Y):\n",
    "    # grad of loss with respect to output of previous layer\n",
    "    N = U.shape[0]\n",
    "    # we have to unsqueeze Y because its' dimensions is (N) while U's is (N,1)\n",
    "    # not doing so would broadcast and return wrong dimensions\n",
    "    U.g = -2. * (Y.unsqueeze(-1)-U) / N #Gradient saved under U.g it is used in chain rule as we calculate other gradients\n",
    "    return U.g\n"
   ]
  },
  {
   "cell_type": "code",
   "execution_count": null,
   "id": "597de500-b04c-496d-bc37-cc603816d08d",
   "metadata": {},
   "outputs": [],
   "source": [
    "#Gradient of RELU function is simple. It has two line with slope of 0 and slope of 1\n",
    "# PyTorch’s operator > 0 makes it really easy. If an element of a tensor is bigger than 0, it will be True, otherwise False.\n",
    "# Calling .float() on such tensor will turn Falses and Trues exactly into 0s and 1s, which is what we need.\n",
    "# \n",
    "# Z - input\n",
    "# U - ouput\n",
    "def relu_grad(Z, U):\n",
    "    # grad of relu with respect to output of previous layer\n",
    "    du_dz = (Z > 0).float()\n",
    "    dC_du = U.g # gradient from previous mse_grad function\n",
    "    dC_dz = dC_du * du_dz # chain rule\n",
    "    Z.g = dC_dz\n",
    "# Learning: as we are multiplying br 0 for <= 0 value of input Z we are basically making gradient 0 this is why learning stops in this range"
   ]
  },
  {
   "cell_type": "code",
   "execution_count": null,
   "id": "44e0b9b3-937e-4df1-b833-3d5c2b753986",
   "metadata": {},
   "outputs": [],
   "source": [
    "# Gradient of linear function\n",
    "# we calculate gradient wrt weight and bias\n",
    "# As [Z = X@w + b] dZ/dw will be X and gZ/gb will be 1\n",
    "# so when we apply chain rule some gradients coming from RELU are 0 and some are gradients of loss function\n",
    "# so the gradient of bias is same as gradient of loss which is -2/N loss\n",
    "# gradient of weight is the same gradient multiplied by X. This must be the reason that when we train in our OneHiddenLayerNet \n",
    "# experiment we see lot of fluctuation for weight parameter corresponding to higher X and maybe why network trains from less value of X first\n",
    "\n",
    "# Z - output\n",
    "# w - input\n",
    "# b - input\n",
    "def lin_grad(X, Z, w, b):\n",
    "    n = X.shape[0]\n",
    "    result_per_row = []\n",
    "    for i in range(n):\n",
    "        result_per_row.append(Z.g[i] @ X[i].unsqueeze(0))\n",
    "    # we have to unsqueeze just because of how @ is implementes for [1]@[1xN]\n",
    "    stacked = torch.stack(result_per_row).unsqueeze(-1)\n",
    "\n",
    "    w.g = stacked.sum(0) # now summed!\n",
    "    b.g = Z.g.sum(0)\n",
    "    "
   ]
  },
  {
   "cell_type": "markdown",
   "id": "060a36cf-1710-47c0-8c9f-4858704f4505",
   "metadata": {},
   "source": [
    "### Learning: \n",
    "Even for MSE we calculate gradient for all x & y values in the matrix and only in the end when we calculate gradient for weight and bias we do a SUM\n",
    "\n",
    "But a point to note, we have +ve and -ve gradient being passed from loss function's gradient based on if yact - ypred is +ve or -ve\n",
    "so sum may be washed, is this what we want per batch?"
   ]
  },
  {
   "cell_type": "code",
   "execution_count": 57,
   "id": "85b2e974-9946-44b6-8db1-6dca5e0a2b5d",
   "metadata": {},
   "outputs": [],
   "source": [
    "X = torch.arange(0.,10).unsqueeze(-1) # unsqueeze(-1) converts shape (10,) to shape(10,1)\n",
    "w = torch.Tensor([[2.]])\n",
    "b = torch.Tensor([-4.])"
   ]
  },
  {
   "cell_type": "code",
   "execution_count": 58,
   "id": "e70f0075-3a9f-4b91-b9fc-fdf1c4a3801a",
   "metadata": {},
   "outputs": [],
   "source": [
    "Y = lin(X, w, b)"
   ]
  },
  {
   "cell_type": "code",
   "execution_count": 65,
   "id": "81c0cf0e-643d-408c-af04-83e9971fb590",
   "metadata": {},
   "outputs": [
    {
     "data": {
      "text/plain": [
       "[<matplotlib.lines.Line2D at 0x1695fa590>]"
      ]
     },
     "execution_count": 65,
     "metadata": {},
     "output_type": "execute_result"
    },
    {
     "data": {
      "image/png": "[encoded data removed]",
      "text/plain": [
       "<Figure size 640x480 with 1 Axes>"
      ]
     },
     "metadata": {},
     "output_type": "display_data"
    }
   ],
   "source": [
    "plt.plot(X, Y)\n",
    "plt.plot(X,relu(Y))"
   ]
  },
  {
   "cell_type": "code",
   "execution_count": 66,
   "id": "ee89331c-38f7-4289-88f7-c64ae5c0fed3",
   "metadata": {},
   "outputs": [],
   "source": [
    "def frand(y):\n",
    "    return y + y*np.random.uniform(-0.1, 0.1, y.shape).astype('f')"
   ]
  },
  {
   "cell_type": "code",
   "execution_count": 67,
   "id": "2e5fce74-c8e2-49d5-838b-58f5919c5f49",
   "metadata": {},
   "outputs": [],
   "source": [
    "Yr = frand(Y)"
   ]
  },
  {
   "cell_type": "code",
   "execution_count": 68,
   "id": "37124f6e-d939-4e02-bdbe-87229baab4a4",
   "metadata": {},
   "outputs": [
    {
     "data": {
      "text/plain": [
       "<matplotlib.collections.PathCollection at 0x1687e3640>"
      ]
     },
     "execution_count": 68,
     "metadata": {},
     "output_type": "execute_result"
    },
    {
     "data": {
      "image/png": "[encoded data removed]",
      "text/plain": [
       "<Figure size 640x480 with 1 Axes>"
      ]
     },
     "metadata": {},
     "output_type": "display_data"
    }
   ],
   "source": [
    "plt.plot(X, Y)\n",
    "plt.scatter(X,Yr)"
   ]
  },
  {
   "cell_type": "code",
   "execution_count": 74,
   "id": "9ddee826-da91-426d-a19c-8e7ea4420bf6",
   "metadata": {},
   "outputs": [
    {
     "data": {
      "text/plain": [
       "tensor([ 0.0115,  0.0324, -0.0000,  0.0332, -0.0237,  0.1145, -0.0211,  0.0539,\n",
       "        -0.0907, -0.0340])"
      ]
     },
     "execution_count": 74,
     "metadata": {},
     "output_type": "execute_result"
    }
   ],
   "source": [
    "mse_grad_loop(Y,Yr)"
   ]
  },
  {
   "cell_type": "code",
   "execution_count": 86,
   "id": "2b7975d5-29af-4aeb-99d9-fdf06f9bac32",
   "metadata": {},
   "outputs": [
    {
     "data": {
      "text/plain": [
       "tensor([[ 0.0115,  0.0324, -0.0000,  0.0332, -0.0237,  0.1145, -0.0211,  0.0539,\n",
       "         -0.0907, -0.0340]])"
      ]
     },
     "execution_count": 86,
     "metadata": {},
     "output_type": "execute_result"
    }
   ],
   "source": [
    "torch.diagonal(mse_grad(Y,Yr))"
   ]
  },
  {
   "cell_type": "code",
   "execution_count": 136,
   "id": "bdfb819d-fae8-4d27-b834-dcb5d1b49110",
   "metadata": {},
   "outputs": [],
   "source": [
    "query = nn.Linear(X.shape[0],4,bias=False)"
   ]
  },
  {
   "cell_type": "code",
   "execution_count": 137,
   "id": "2a603c9a-6444-4ec8-a2d1-18f32bd83e5c",
   "metadata": {},
   "outputs": [
    {
     "data": {
      "text/plain": [
       "tensor([-0.7912,  3.8903, -0.1432,  2.1805], grad_fn=<SqueezeBackward4>)"
      ]
     },
     "execution_count": 137,
     "metadata": {},
     "output_type": "execute_result"
    }
   ],
   "source": [
    "query(X.squeeze(-1))"
   ]
  },
  {
   "cell_type": "code",
   "execution_count": 138,
   "id": "1c0e6927-474f-41be-bac9-8c7862b502f8",
   "metadata": {},
   "outputs": [
    {
     "data": {
      "text/plain": [
       "Parameter containing:\n",
       "tensor([[ 0.0467,  0.0246, -0.2014,  0.3081, -0.2945, -0.0633,  0.0134, -0.2222,\n",
       "          0.2712, -0.0597],\n",
       "        [ 0.1748,  0.1808,  0.2427, -0.0732,  0.0135,  0.0656, -0.0198,  0.1542,\n",
       "          0.1213,  0.1256],\n",
       "        [ 0.1113, -0.1319,  0.0918, -0.1895, -0.0539, -0.1710, -0.2438,  0.0841,\n",
       "          0.1486,  0.1255],\n",
       "        [-0.2117, -0.2350, -0.0261,  0.0985,  0.2971, -0.1494, -0.2038,  0.0181,\n",
       "          0.2380,  0.1026]], requires_grad=True)"
      ]
     },
     "execution_count": 138,
     "metadata": {},
     "output_type": "execute_result"
    }
   ],
   "source": [
    "query.weight"
   ]
  },
  {
   "cell_type": "code",
   "execution_count": null,
   "id": "1f8c2616-f99c-4119-80cb-06fb61f9e4ea",
   "metadata": {},
   "outputs": [],
   "source": []
  }
 ],
 "metadata": {
  "kernelspec": {
   "display_name": "Python 3 (ipykernel)",
   "language": "python",
   "name": "python3"
  },
  "language_info": {
   "codemirror_mode": {
    "name": "ipython",
    "version": 3
   },
   "file_extension": ".py",
   "mimetype": "text/x-python",
   "name": "python",
   "nbconvert_exporter": "python",
   "pygments_lexer": "ipython3",
   "version": "3.10.10"
  }
 },
 "nbformat": 4,
 "nbformat_minor": 5
}
