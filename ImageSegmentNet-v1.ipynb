{
 "cells": [
  {
   "cell_type": "markdown",
   "metadata": {},
   "source": [
    "# ImageSegmentNet-v1\n",
    "* Separate ImageSegmentNet from 2DSegmentNet-v2 for clean implementation"
   ]
  },
  {
   "cell_type": "markdown",
   "metadata": {},
   "source": [
    "# Initialization"
   ]
  },
  {
   "cell_type": "code",
   "execution_count": 1,
   "metadata": {},
   "outputs": [],
   "source": [
    "import math\n",
    "import numpy as np\n",
    "import matplotlib.pyplot as plt\n",
    "%matplotlib inline\n",
    "\n",
    "import torch\n",
    "import torch.nn as nn\n",
    "import torch.nn.functional as F"
   ]
  },
  {
   "cell_type": "code",
   "execution_count": 2,
   "metadata": {},
   "outputs": [
    {
     "name": "stdout",
     "output_type": "stream",
     "text": [
      "Using mps device\n"
     ]
    }
   ],
   "source": [
    "device = (\n",
    "    \"cuda\"\n",
    "    if torch.cuda.is_available()\n",
    "    else \"mps\"\n",
    "    if torch.backends.mps.is_available()\n",
    "    else \"cpu\"\n",
    ")\n",
    "print(f\"Using {device} device\")"
   ]
  },
  {
   "cell_type": "markdown",
   "metadata": {},
   "source": [
    "# Model Definition"
   ]
  },
  {
   "cell_type": "code",
   "execution_count": 478,
   "metadata": {},
   "outputs": [],
   "source": [
    "class ImageSegmentNet(nn.Module):\n",
    "    def __init__(self, n_xsegments, n_ysegments):\n",
    "        super(ImageSegmentNet, self).__init__()\n",
    "        self.n_xsegments = n_xsegments\n",
    "        self.n_ysegments = n_ysegments\n",
    "\n",
    "        #Initialize x coordinates between 0-1 so segments are equal size\n",
    "        self._custom_init(0, 1, 0, 1)\n",
    "\n",
    "    def _custom_init(self, x_min, x_max, y_min, y_max):\n",
    "        #Initialize x coordinates between so segments are equal size\n",
    "        x_init = torch.Tensor(np.linspace(x_min, x_max, self.n_xsegments + 1))\n",
    "        # make a 2D init tensor\n",
    "        x_2dinit = torch.Tensor(self.n_ysegments + 1, self.n_xsegments + 1)\n",
    "        # Update the x_2dinit tensor with the repeated values\n",
    "        x_2dinit[:] = x_init.unsqueeze(0)\n",
    "        # initialize all rows of x\n",
    "        self.x = nn.Parameter(torch.Tensor(x_2dinit))\n",
    "\n",
    "        y_init = torch.Tensor(np.linspace(y_min, y_max, self.n_ysegments + 1))\n",
    "        # make a 2D init tensor\n",
    "        y_2dinit = torch.Tensor(self.n_ysegments + 1, self.n_xsegments + 1)\n",
    "        # Update the x_2dinit tensor with the repeated values\n",
    "        y_2dinit[:] = y_init.unsqueeze(1)\n",
    "        # initialize all rows of y\n",
    "        self.y = nn.Parameter(torch.Tensor(y_2dinit))\n",
    "    \n",
    "    def set_image(self, bw_array):\n",
    "        [self.height, self.width] = bw_array.shape\n",
    "        self.bw_array = bw_array\n",
    "        self.set_image_size(self.height, self.width)\n",
    "\n",
    "    def set_image_size(self, height, width):\n",
    "        xmax = width + 1\n",
    "        ymax = height + 1\n",
    "        maxval = max(xmax, ymax)\n",
    "        self._custom_init(0., xmax/maxval, 0., ymax/maxval)\n",
    "        self.x_in = torch.arange(1./maxval, xmax/maxval, 1/maxval)\n",
    "        self.y_in = torch.arange(1./maxval, ymax/maxval, 1/maxval)\n",
    "        self.maxval = maxval #store as we will need it to denormalize\n",
    "        #calculate actual y so we can calculate loss\n",
    "        self._calc_yact()\n",
    "        self._calc_xact()\n",
    "\n",
    "    def _calc_yact(self):\n",
    "        \"\"\" Calculates the y values after shringing y based on n_ysegments\n",
    "            this values is what ypred is predicting\n",
    "        \"\"\"\n",
    "        #create array that contains y pos values instead of 1\n",
    "        yval_array = self.y_in.view(self.y_in.shape[0], 1)*self.bw_array\n",
    "        #reshape the array such that height is n_ysegments\n",
    "        yval_array_3d = yval_array.view(self.n_ysegments,\n",
    "                                int(self.height/self.n_ysegments), self.width)\n",
    "        \n",
    "        # Calculate the minimum value that is > 0 from dim=1\n",
    "        # we have to do this in 3 steps due to 0 values\n",
    "        \n",
    "        #step1: Replace 0 with float('inf') in-place:\n",
    "        yval_array_3d[yval_array_3d == 0] = float('inf')\n",
    "        \n",
    "        # step2: Find the minimum along dim=1\n",
    "        self.yact, _ = torch.min(yval_array_3d, dim=1)\n",
    "\n",
    "        #Step3: replace inf with zeros again\n",
    "        self.yact[self.yact == float('inf')] = 0\n",
    "\n",
    "    def _calc_xact(self):\n",
    "        \"\"\" Calculates the x values after shringing x based on n_xsegments\n",
    "            this values is what xpred is predicting\n",
    "        \"\"\"\n",
    "        #create array that contains x pos values instead of 1\n",
    "        xval_array = self.x_in*self.bw_array\n",
    "        #reshape the array such that height is n_ysegments\n",
    "        #TODO: figure out a way to avoid rounding in int()\n",
    "        xval_array_3d = xval_array.view(self.height,self.n_xsegments,\n",
    "                    int(self.width/self.n_xsegments))\n",
    "        \n",
    "        # Calculate the minimum value that is > 0 from dim=1\n",
    "        # we have to do this in 3 steps due to 0 values\n",
    "        \n",
    "        #step1: Replace 0 with float('inf') in-place:\n",
    "        xval_array_3d[xval_array_3d == 0] = float('inf')\n",
    "        \n",
    "        # step2: Find the minimum along dim=1\n",
    "        self.xact, _ = torch.min(xval_array_3d, dim=2)\n",
    "\n",
    "        #Step3: replace inf with zeros again\n",
    "        self.xact[self.xact == float('inf')] = 0\n",
    "\n",
    "    def _calc_ymask(self):\n",
    "        \"\"\" Calculate the mask required due to segmentation of X and Y\n",
    "            Due to segmentation a continuous value of X predicts a discrete Y\n",
    "            and a continuous Y predicts a discrete X within a segment.\n",
    "        \"\"\"\n",
    "        # expand y to a new dimension\n",
    "        y_in_4d = self.y_in.unsqueeze(1).unsqueeze(1)\n",
    "        #fit/average y_in to y_segment\n",
    "        lt = torch.lt(y_in_4d, self.y[1:,:-1])\n",
    "        ge = torch.ge(y_in_4d, self.y[:-1,:-1])\n",
    "        self.ymask = (lt & ge)\n",
    "        #take care of edge cases\n",
    "        mask_lt = torch.lt(y_in_4d, self.y[0:1,:-1])\n",
    "        mask_ge = torch.ge(y_in_4d, self.y[-1:,:-1])\n",
    "        # then do OR with mask so these are included for prediction.\n",
    "        self.ymask[:,-1:,:] = self.ymask[:,-1:,:] | mask_ge\n",
    "        self.ymask[:,:1, :] = self.ymask[:,:1, :] | mask_lt\n",
    "        \n",
    "        # TODO : can we shrink the ymask as below - test it\n",
    "        # model.ymask.sum(dim=2).gt(0) - NO WE CANNOT\n",
    "        # Explaination:\n",
    "        # ymask shape of say torch.Size([20, 10, 14]) for a 20x28 image\n",
    "        # and xsegment=14, ysegment=10 means\n",
    "        # for a height of 20 it can be split in 10 groups.\n",
    "        # each column (out of 28) can be group together a 14 similar ones\n",
    "        # but each of the 14 may have different 10 y values.\n",
    "        # so we cannot eliminate any dimension.\n",
    "\n",
    "    def _calc_xmask(self):\n",
    "        \"\"\" Calculate the mask required due to segmentation of X and Y\n",
    "            Due to segmentation a continuous value of X predicts a discrete Y\n",
    "            and a continuous Y predicts a discrete X within a segment.\n",
    "        \"\"\"\n",
    "        # expand x to a new dimension\n",
    "        x_in_4d = self.x_in.unsqueeze(1).unsqueeze(1)\n",
    "        #fit/average y_in to y_segment\n",
    "        lt = torch.lt(x_in_4d, self.x[:-1,1:])\n",
    "        ge = torch.ge(x_in_4d, self.x[:-1,:-1])\n",
    "        self.xmask = (lt & ge)\n",
    "        #take care of edge cases\n",
    "        mask_lt = torch.lt(x_in_4d, self.x[:-1,0:1])\n",
    "        mask_ge = torch.ge(x_in_4d, self.x[:-1,-1:])\n",
    "        # then do OR with mask so these are included for prediction.\n",
    "        self.xmask[:,:,-1:] = self.xmask[:,:,-1:] | mask_ge\n",
    "        self.xmask[:,:, :1] = self.xmask[:,:, :1] | mask_lt\n",
    "\n",
    "    def _predict_y(self):\n",
    "        # When we predict y each segment makes its prediction\n",
    "        # mask allows only the correct segment to predict masking out the rest.\n",
    "        self._calc_xmask()\n",
    "        # Ratio is the segment (y2-y1)/(x2-x1) ratio \n",
    "        # consider each segment as a right triangle so we can find new y-y1 as ratio of x-x1\n",
    "        #The ratio can get -inf or inf. we need to protect against it\n",
    "        divider = (self.x[:-1,1:]-self.x[:-1,:-1])\n",
    "        divider[divider == 0.] = 0.0001\n",
    "        self.yratio = (self.y[:-1,1:]-self.y[:-1,:-1])/divider\n",
    "       \n",
    "        # yratio.shape = [n_ysegments, n_xsegments]\n",
    "        x_in_4d = self.x_in.unsqueeze(1).unsqueeze(1)\n",
    "        self.ypred = (x_in_4d - self.x[:-1,:-1])*self.xmask*self.yratio + self.xmask * self.y[:-1,:-1]\n",
    "        # remove extra dimension as we should only have one value and rest 0 due to mask\n",
    "        self.ypred = self.ypred.sum(2)\n",
    "        # we need to reshape Y TODO: Why? can we fix this from the top?\n",
    "        self.ypred = self.ypred.permute(1,0)\n",
    "\n",
    "    \n",
    "    def _predict_x(self):\n",
    "        # When we predict x each segment makes its prediction\n",
    "        # mask allows only the correct segment to predict masking out the rest.\n",
    "        self._calc_ymask()\n",
    "        # Ratio is the segment (y2-y1)/(x2-x1) ratio \n",
    "        #The ratio can get -inf or inf. we need to protect against it\n",
    "        divider = (self.y[1:,:-1]-self.y[:-1,:-1])\n",
    "        divider[divider == 0.] = 0.0001\n",
    "        # consider each segment as a right triangle so we can find new y-y1 as ratio of x-x1\n",
    "        self.xratio = (self.x[1:,:-1]-self.x[:-1,:-1])/divider\n",
    "\n",
    "        y_in_4d = self.y_in.unsqueeze(1).unsqueeze(1)\n",
    "        self.xpred = (y_in_4d - self.y[:-1,:-1])*self.ymask*self.xratio + self.ymask * self.x[:-1,:-1]\n",
    "        # remove extra dimension as we should only have one value and rest 0 due to mask\n",
    "        self.xpred = self.xpred.sum(1)\n",
    "    \n",
    "    def create_yimage(self):\n",
    "        # create yimage by following steps of calc_yact but populate values\n",
    "        with torch.no_grad():\n",
    "            self.yimage = torch.zeros_like(self.bw_array).to(torch.float32)\n",
    "            yimage_3d = self.yimage.view(self.n_ysegments,\n",
    "                                    int(self.height/self.n_ysegments), self.width)\n",
    "            yimage_3d[:,:,:] = self.ypred.unsqueeze(dim=1)\n",
    "\n",
    "    def create_ximage(self):\n",
    "        # create ximage by following steps of calc_xact but populate values\n",
    "        with torch.no_grad():\n",
    "            self.ximage = torch.zeros_like(self.bw_array).to(torch.float32)\n",
    "            #for some reason view didn't work so reshape\n",
    "            ximage_3d = self.ximage.reshape(self.height,self.n_xsegments,\n",
    "                    int(self.width/self.n_xsegments))\n",
    "            ximage_3d[:,:,:] = self.xpred.unsqueeze(dim=2)\n",
    "            self.ximage = ximage_3d.view(self.height, self.width)\n",
    "\n",
    "    def forward(self):\n",
    "        # When we predict y each segment makes its prediction\n",
    "        self._predict_y()\n",
    "        self._predict_x()\n",
    "        #return self.xpred\n",
    "        #self._predict_x()\n",
    "        #self._image_from_y()\n",
    "        #self._image_from_x()\n",
    "        #self.img_out = torch.logical_or(self.ximage, self.yimage).to(torch.float32)\n",
    "        #return self.ximage"
   ]
  },
  {
   "cell_type": "markdown",
   "metadata": {},
   "source": [
    "# Model Testing"
   ]
  },
  {
   "cell_type": "markdown",
   "metadata": {},
   "source": [
    "## Download MNIST"
   ]
  },
  {
   "cell_type": "code",
   "execution_count": 4,
   "metadata": {},
   "outputs": [],
   "source": [
    "from torchvision import datasets, transforms\n",
    "transform = transforms.Compose([\n",
    "    transforms.ToTensor(),  # Convert images to PyTorch tensors\n",
    "])\n",
    "\n",
    "train_set = datasets.MNIST('data', train=True, download=False, transform=transform)"
   ]
  },
  {
   "cell_type": "code",
   "execution_count": 5,
   "metadata": {},
   "outputs": [],
   "source": [
    "# get 1st image\n",
    "index = 0\n",
    "# Get the image and its corresponding label\n",
    "image, label = train_set[index]"
   ]
  },
  {
   "cell_type": "code",
   "execution_count": 6,
   "metadata": {},
   "outputs": [
    {
     "name": "stdout",
     "output_type": "stream",
     "text": [
      "torch.Size([1, 28, 28])\n"
     ]
    },
    {
     "data": {
      "image/png": "[encoded data removed]",
      "text/plain": [
       "<Figure size 640x480 with 1 Axes>"
      ]
     },
     "metadata": {},
     "output_type": "display_data"
    }
   ],
   "source": [
    "# display MNST image\n",
    "import matplotlib.pyplot as plt\n",
    "\n",
    "print(image.shape)\n",
    "plt.imshow(image.squeeze().numpy(), cmap='gray')\n",
    "plt.title(f\"Label: {label}\")\n",
    "plt.show()"
   ]
  },
  {
   "cell_type": "markdown",
   "metadata": {},
   "source": [
    "## Create Test Image  "
   ]
  },
  {
   "cell_type": "code",
   "execution_count": 370,
   "metadata": {},
   "outputs": [],
   "source": [
    "# test_image is grayscape 3D convert to bw_array first\n",
    "index = 0\n",
    "image, label = train_set[index]\n",
    "test_image = image.squeeze().numpy() #[0:20,:] #or reshape if needed for testing\n",
    "limit = test_image.mean()\n",
    "bw_array  = torch.tensor(np.where(test_image < limit, 0, 1))"
   ]
  },
  {
   "cell_type": "code",
   "execution_count": 369,
   "metadata": {},
   "outputs": [
    {
     "name": "stdout",
     "output_type": "stream",
     "text": [
      "torch.Size([28, 28])\n"
     ]
    },
    {
     "data": {
      "image/png": "[encoded data removed]",
      "text/plain": [
       "<Figure size 640x480 with 1 Axes>"
      ]
     },
     "metadata": {},
     "output_type": "display_data"
    }
   ],
   "source": [
    "#display bw_array\n",
    "print(bw_array.shape)\n",
    "plt.imshow(bw_array, cmap='gray')\n",
    "plt.title(f\"Label: bw_array\")\n",
    "plt.show()"
   ]
  },
  {
   "cell_type": "markdown",
   "metadata": {},
   "source": [
    "## Run Training"
   ]
  },
  {
   "cell_type": "code",
   "execution_count": 504,
   "metadata": {},
   "outputs": [],
   "source": [
    "# Init Model, Loss, Optimizer\n",
    "criterion = nn.MSELoss(reduction='sum')\n",
    "\n",
    "model = ImageSegmentNet(14,14)\n",
    "model.set_image(bw_array)\n",
    "lr=.001\n",
    "#optimizer only optimizes parameter that are sent to it in arg1\n",
    "optimizer = torch.optim.AdamW(model.parameters(),\n",
    "                               lr=lr, betas=(0.9, 0.999), eps=1e-8)"
   ]
  },
  {
   "cell_type": "code",
   "execution_count": 505,
   "metadata": {},
   "outputs": [
    {
     "name": "stdout",
     "output_type": "stream",
     "text": [
      "step 0: loss: 187.5904541015625\n",
      "step 1000: loss: 53.355594635009766\n",
      "step 2000: loss: 28.590625762939453\n",
      "step 3000: loss: 16.846172332763672\n",
      "step 4000: loss: 15.48480224609375\n",
      "step 5000: loss: 15.537209510803223\n",
      "step 6000: loss: 14.282154083251953\n",
      "step 7000: loss: 16.800487518310547\n",
      "step 8000: loss: 15.552764892578125\n",
      "step 9000: loss: 17.882314682006836\n",
      "step 10000: loss: 14.465694427490234\n",
      "step 11000: loss: 14.128400802612305\n",
      "step 12000: loss: 10.979654312133789\n",
      "step 13000: loss: 12.182236671447754\n",
      "step 14000: loss: 12.034732818603516\n",
      "step 15000: loss: 11.644094467163086\n",
      "step 16000: loss: 13.722761154174805\n",
      "step 17000: loss: 12.739241600036621\n",
      "step 18000: loss: 11.19539737701416\n",
      "step 19000: loss: 11.049018859863281\n",
      "step 20000: loss: 14.346774101257324\n",
      "step 21000: loss: 15.17618465423584\n",
      "step 22000: loss: 15.427663803100586\n",
      "step 23000: loss: 13.72635269165039\n",
      "step 24000: loss: 13.287984848022461\n",
      "step 25000: loss: 13.054922103881836\n",
      "step 26000: loss: 14.354263305664062\n",
      "step 27000: loss: 12.44879150390625\n",
      "step 28000: loss: 14.684831619262695\n",
      "step 29000: loss: 11.188776969909668\n",
      "final step 29999: loss: 11.56080150604248\n"
     ]
    }
   ],
   "source": [
    "# Train\n",
    "max_step =30000\n",
    "\n",
    "for i in range(max_step):\n",
    "    model.forward()\n",
    "    #output = criterion(model.xpred, model.xact)\n",
    "    loss = criterion(model.xpred, model.xact) + criterion(model.ypred, model.yact)\n",
    "    if(math.isnan(loss)):\n",
    "        print(f\"nan loss at stei {i}\")\n",
    "        break\n",
    "    model.zero_grad(set_to_none=True)\n",
    "    loss.backward()\n",
    "    optimizer.step()\n",
    "    if (i%1000 == 0):\n",
    "        print(f\"step {i}: loss: {loss}\")\n",
    "print(f\"final step {i}: loss: {loss}\")"
   ]
  },
  {
   "cell_type": "code",
   "execution_count": 506,
   "metadata": {},
   "outputs": [
    {
     "name": "stdout",
     "output_type": "stream",
     "text": [
      "torch.Size([28, 14])\n"
     ]
    },
    {
     "data": {
      "image/png": "[encoded data removed]",
      "text/plain": [
       "<Figure size 640x480 with 2 Axes>"
      ]
     },
     "metadata": {},
     "output_type": "display_data"
    }
   ],
   "source": [
    "#Commpare xact and xpred\n",
    "with torch.no_grad():\n",
    "    fig, (ax1, ax2) = plt.subplots(1, 2)\n",
    "    print(model.xpred.shape)\n",
    "    ax1.set_title(\"model.xpred\")\n",
    "    ax1.imshow(model.xpred, cmap='gray')\n",
    "\n",
    "ax2.set_title(\"model.xact\")\n",
    "ax2.imshow(model.xact, cmap='gray')\n",
    "plt.show()"
   ]
  },
  {
   "cell_type": "code",
   "execution_count": 507,
   "metadata": {},
   "outputs": [
    {
     "name": "stdout",
     "output_type": "stream",
     "text": [
      "torch.Size([14, 28])\n"
     ]
    },
    {
     "data": {
      "image/png": "[encoded data removed]",
      "text/plain": [
       "<Figure size 640x480 with 2 Axes>"
      ]
     },
     "metadata": {},
     "output_type": "display_data"
    }
   ],
   "source": [
    "#Commpare xact and xpred\n",
    "with torch.no_grad():\n",
    "    fig, (ax1, ax2) = plt.subplots(1, 2)\n",
    "    print(model.ypred.shape)\n",
    "    ax1.set_title(\"model.ypred\")\n",
    "    ax1.imshow(model.ypred, cmap='gray')\n",
    "\n",
    "ax2.set_title(\"model.yact\")\n",
    "ax2.imshow(model.yact, cmap='gray')\n",
    "plt.show()"
   ]
  },
  {
   "cell_type": "code",
   "execution_count": 508,
   "metadata": {},
   "outputs": [
    {
     "name": "stdout",
     "output_type": "stream",
     "text": [
      "torch.Size([28, 28])\n"
     ]
    },
    {
     "data": {
      "image/png": "[encoded data removed]",
      "text/plain": [
       "<Figure size 640x480 with 2 Axes>"
      ]
     },
     "metadata": {},
     "output_type": "display_data"
    }
   ],
   "source": [
    "# create ximage and compare\n",
    "model.create_ximage()\n",
    "\n",
    "fig, (ax1, ax2) = plt.subplots(1, 2)\n",
    "print(model.ximage.shape)\n",
    "ax1.set_title(f\"Label: ximage\")\n",
    "#with torch.no_grad():\n",
    "ax1.imshow(model.ximage.gt(model.ximage.mean()), cmap='gray')\n",
    "\n",
    "ax2.set_title(f\"Label: bw_array\")\n",
    "ax2.imshow(bw_array, cmap='gray')\n",
    "plt.show()"
   ]
  },
  {
   "cell_type": "code",
   "execution_count": 509,
   "metadata": {},
   "outputs": [
    {
     "name": "stdout",
     "output_type": "stream",
     "text": [
      "torch.Size([28, 28])\n"
     ]
    },
    {
     "data": {
      "image/png": "[encoded data removed]",
      "text/plain": [
       "<Figure size 640x480 with 2 Axes>"
      ]
     },
     "metadata": {},
     "output_type": "display_data"
    }
   ],
   "source": [
    "# create yimage and compare\n",
    "model.create_yimage()\n",
    "\n",
    "fig, (ax1, ax2) = plt.subplots(1, 2)\n",
    "print(model.yimage.shape)\n",
    "ax1.set_title(f\"Label: yimage\")\n",
    "#with torch.no_grad():\n",
    "ax1.imshow(model.yimage.gt(model.yimage.mean()), cmap='gray')\n",
    "\n",
    "ax2.set_title(f\"Label: bw_array\")\n",
    "ax2.imshow(bw_array, cmap='gray')\n",
    "plt.show()"
   ]
  },
  {
   "cell_type": "markdown",
   "metadata": {},
   "source": [
    "## Draw  and save graph of the network"
   ]
  },
  {
   "cell_type": "code",
   "execution_count": 503,
   "metadata": {},
   "outputs": [
    {
     "data": {
      "text/plain": [
       "'model_ImageSegmentNet_v2_graph.pdf'"
      ]
     },
     "execution_count": 503,
     "metadata": {},
     "output_type": "execute_result"
    }
   ],
   "source": [
    "# Draw graph\n",
    "from torchviz import make_dot\n",
    "\n",
    "# Generate a Graphviz object from the computation graph\n",
    "graph = make_dot(loss, params=dict(model.named_parameters())) \n",
    "\n",
    "# Save the graph as a PDF or any other format if needed\n",
    "graph.render(\"model_ImageSegmentNet_v2_graph\")"
   ]
  },
  {
   "cell_type": "code",
   "execution_count": null,
   "metadata": {},
   "outputs": [],
   "source": []
  }
 ],
 "metadata": {
  "kernelspec": {
   "display_name": "base",
   "language": "python",
   "name": "python3"
  },
  "language_info": {
   "codemirror_mode": {
    "name": "ipython",
    "version": 3
   },
   "file_extension": ".py",
   "mimetype": "text/x-python",
   "name": "python",
   "nbconvert_exporter": "python",
   "pygments_lexer": "ipython3",
   "version": "3.10.10"
  }
 },
 "nbformat": 4,
 "nbformat_minor": 2
}
