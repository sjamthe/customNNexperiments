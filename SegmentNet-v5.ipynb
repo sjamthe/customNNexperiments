{
 "cells": [
  {
   "cell_type": "markdown",
   "id": "5cc770f0-f5c8-40e7-abe1-56e7b634e897",
   "metadata": {
    "jp-MarkdownHeadingCollapsed": true
   },
   "source": [
    "# SegmentNet\n",
    "* Using x, y model parameters for segment instead of weight and bias\n",
    "* initialization of parameters is key to faster training\n",
    "* Best loss for this model with 4 segments is 0.095 in just 24 epocs. model.v4 with weights & bias as parameters has lowest loss of 0.03 but in 20,000 epocs"
   ]
  },
  {
   "cell_type": "code",
   "execution_count": 2,
   "id": "c4b9bbf5-211d-40fb-93d5-2bc53d8d3b88",
   "metadata": {},
   "outputs": [],
   "source": [
    "import math\n",
    "import numpy as np\n",
    "import matplotlib.pyplot as plt\n",
    "%matplotlib inline\n",
    "\n",
    "import torch\n",
    "import torch.nn as nn\n",
    "import torch.nn.functional as F"
   ]
  },
  {
   "cell_type": "code",
   "execution_count": 3,
   "id": "90538fe8-8e3e-44da-a95b-b06e9af08a62",
   "metadata": {},
   "outputs": [
    {
     "name": "stdout",
     "output_type": "stream",
     "text": [
      "Using mps device\n"
     ]
    }
   ],
   "source": [
    "device = (\n",
    "    \"cuda\"\n",
    "    if torch.cuda.is_available()\n",
    "    else \"mps\"\n",
    "    if torch.backends.mps.is_available()\n",
    "    else \"cpu\"\n",
    ")\n",
    "print(f\"Using {device} device\")"
   ]
  },
  {
   "cell_type": "markdown",
   "id": "766ba702-4d33-4fd4-9262-0b9f71e51700",
   "metadata": {
    "jp-MarkdownHeadingCollapsed": true
   },
   "source": [
    "# Functions we are trying to approximate"
   ]
  },
  {
   "cell_type": "code",
   "execution_count": 4,
   "id": "8018dbaf-7c12-4d92-b558-64b206092631",
   "metadata": {},
   "outputs": [],
   "source": [
    "np.random.seed(10)\n",
    "\n",
    "# y = ax^4 + bx^3 + cx^2 + dx + f\n",
    "def f_quarticn(x):\n",
    "    a = -0.0179516\n",
    "    b = 0.331323\n",
    "    c = -1.63398\n",
    "    d = 1.01107\n",
    "    f = 5.73434\n",
    "    x = x + 1\n",
    "    return a*x**4 + b*x**3 + c*x**2 + d*x + f\n",
    "\n",
    "def f_quartic(x):\n",
    "    a = -0.0179516\n",
    "    b = 0.331323\n",
    "    c = -1.63398\n",
    "    d = 1.01107\n",
    "    f = 5.73434\n",
    "    return a*x**4 + b*x**3 + c*x**2 + d*x + f\n",
    "    \n",
    "def f2_quartic(x):\n",
    "    y = torch.zeros([2,x.shape[0]])\n",
    "    y[0] = f_quartic(x)\n",
    "    y[1] = f_quartic(x+1)\n",
    "    return y\n",
    "\n",
    "def f_inv_quartic(x):\n",
    "    return 7 - f_quartic(x)\n",
    "    \n",
    "def f_semicircle(x):\n",
    "    maxX = x.max()\n",
    "    minX = x.min()\n",
    "    radius = (maxX - minX)/2 \n",
    "    center = (maxX + minX)/2 \n",
    "    y = np.sqrt(np.abs(radius**2 - (x-center)**2))\n",
    "    return y\n",
    "    \n",
    "def frand(y):\n",
    "    return y + y*np.random.uniform(-0.1, 0.1, y.shape).astype('f')\n",
    "\n",
    "def normalize(x,y):\n",
    "    mu_x = torch.mean(x)\n",
    "    std_x = torch.std(x)\n",
    "\n",
    "    mu_y = torch.mean(y)\n",
    "    std_y = torch.std(y)\n",
    "\n",
    "    x_normalized = torch.nn.functional.normalize(x - mu_x, dim=0)\n",
    "    y_normalized = torch.nn.functional.normalize(y - mu_y, dim=0)\n",
    "    return x_normalized, y_normalized"
   ]
  },
  {
   "cell_type": "markdown",
   "id": "56e955fe",
   "metadata": {},
   "source": [
    "## Visualize functions"
   ]
  },
  {
   "cell_type": "code",
   "execution_count": 5,
   "id": "36ff80cc",
   "metadata": {},
   "outputs": [
    {
     "data": {
      "image/png": "[encoded data removed]",
      "text/plain": [
       "<Figure size 640x480 with 1 Axes>"
      ]
     },
     "metadata": {},
     "output_type": "display_data"
    }
   ],
   "source": [
    "xs = torch.arange(-1.5, 11., .05)\n",
    "ys = f2_quartic(xs)\n",
    "plt.plot(xs, ys[0])\n",
    "plt.plot(xs, ys[1])\n",
    "plt.show()"
   ]
  },
  {
   "cell_type": "markdown",
   "id": "e1441232-3e14-49a3-8388-112f3fca36c9",
   "metadata": {},
   "source": [
    "# Model definition"
   ]
  },
  {
   "cell_type": "markdown",
   "id": "845f9fad",
   "metadata": {},
   "source": [
    "## model test dev"
   ]
  },
  {
   "cell_type": "code",
   "execution_count": 6,
   "id": "dd09faf8",
   "metadata": {},
   "outputs": [
    {
     "name": "stdout",
     "output_type": "stream",
     "text": [
      "torch.Size([1, 7]) torch.Size([1, 7])\n",
      "tensor([[0.0000, 0.1667, 0.3333, 0.5000, 0.6667, 0.8333, 1.0000]])\n"
     ]
    }
   ],
   "source": [
    "# Test - how to initialize 2D x array with same values \n",
    "segment_features = 6\n",
    "out_features = 1\n",
    "x_init = torch.arange(0, 1 + 1./segment_features, 1./segment_features)\n",
    "# make sure x_init shape is segment + 1 as it can be more for some segment_features like 6\n",
    "x_init = x_init[0:1+segment_features]\n",
    "x_2dinit = torch.Tensor(out_features, segment_features + 1)\n",
    "x_2dinit[:] = x_init.unsqueeze(0)\n",
    "x = torch.Tensor(x_2dinit)\n",
    "print(x.shape, x_init.unsqueeze(0).shape)\n",
    "# slightly modify second row\n",
    "if(out_features > 1):\n",
    "    x[1, 1:-1] = x[1, 1:-1] + .1\n",
    "print(x)"
   ]
  },
  {
   "cell_type": "code",
   "execution_count": 7,
   "id": "587dc053",
   "metadata": {},
   "outputs": [
    {
     "data": {
      "text/plain": [
       "torch.Size([9, 1])"
      ]
     },
     "execution_count": 7,
     "metadata": {},
     "output_type": "execute_result"
    }
   ],
   "source": [
    "x_in = np.array([.1, .2, .3, .4, .5, .6, .7, .8, .9])\n",
    "x_in = torch.tensor(x_in.reshape(x_in.shape[0],1), dtype=torch.float32)\n",
    "x_in.shape"
   ]
  },
  {
   "cell_type": "code",
   "execution_count": 8,
   "id": "dd9d06ff",
   "metadata": {},
   "outputs": [
    {
     "name": "stdout",
     "output_type": "stream",
     "text": [
      "x= tensor([[0.0000, 0.1667, 0.3333, 0.5000, 0.6667, 0.8333, 1.0000]])\n",
      "y= tensor([[0.0000, 0.1667, 0.3333, 0.5000, 0.6667, 0.8333, 1.0000]])\n",
      "ratio= tensor([[1., 1., 1., 1., 1., 1.]])\n",
      "torch.Size([9, 1, 1, 6]) torch.Size([9, 1])\n",
      "ypred= tensor([[0.1000],\n",
      "        [0.2000],\n",
      "        [0.3000],\n",
      "        [0.4000],\n",
      "        [0.5000],\n",
      "        [0.6000],\n",
      "        [0.7000],\n",
      "        [0.8000],\n",
      "        [0.9000]])\n"
     ]
    }
   ],
   "source": [
    "#forward\n",
    "lt = torch.lt(x_in.unsqueeze(1).unsqueeze(1), x[:, 1:]) \n",
    "ge = torch.ge(x_in.unsqueeze(1).unsqueeze(1), x[:, :-1]) \n",
    "mask = (lt & ge)\n",
    "#print(mask)\n",
    "y = torch.Tensor(out_features, segment_features + 1)\n",
    "#y = copy(x)\n",
    "if(out_features > 1):\n",
    "    y[0,:] = x[0, :]\n",
    "    y[1,:] = x[1,:]*2\n",
    "else:\n",
    "    y[0,:] = x[0, :]\n",
    "print (\"x=\",x)\n",
    "print(\"y=\",y)\n",
    "ratio = (y[:,1:]-y[:,:-1])/(x[:,1:]-x[:,:-1])\n",
    "print(\"ratio=\",ratio)\n",
    "y_pred = (x_in.unsqueeze(1).unsqueeze(1) -  x[:,:-1])*mask*ratio + mask * y[:,:-1]\n",
    "print(y_pred.shape, y_pred.sum(dim=3).squeeze(2).shape)\n",
    "print(\"ypred=\",y_pred.sum(dim=3).squeeze(2))"
   ]
  },
  {
   "cell_type": "code",
   "execution_count": 9,
   "id": "12f77ac7",
   "metadata": {},
   "outputs": [
    {
     "ename": "NameError",
     "evalue": "name 'TwoDSegmentNet' is not defined",
     "output_type": "error",
     "traceback": [
      "\u001b[0;31m---------------------------------------------------------------------------\u001b[0m",
      "\u001b[0;31mNameError\u001b[0m                                 Traceback (most recent call last)",
      "Cell \u001b[0;32mIn[9], line 2\u001b[0m\n\u001b[1;32m      1\u001b[0m \u001b[38;5;66;03m# test model\u001b[39;00m\n\u001b[0;32m----> 2\u001b[0m model \u001b[38;5;241m=\u001b[39m \u001b[43mTwoDSegmentNet\u001b[49m(\u001b[38;5;241m1\u001b[39m, \u001b[38;5;241m6\u001b[39m)\n\u001b[1;32m      3\u001b[0m model\u001b[38;5;241m.\u001b[39mx, model\u001b[38;5;241m.\u001b[39my\n",
      "\u001b[0;31mNameError\u001b[0m: name 'TwoDSegmentNet' is not defined"
     ]
    }
   ],
   "source": [
    "# test model\n",
    "model = TwoDSegmentNet(1, 6)\n",
    "model.x, model.y"
   ]
  },
  {
   "cell_type": "code",
   "execution_count": null,
   "id": "347bfa04",
   "metadata": {},
   "outputs": [
    {
     "name": "stdout",
     "output_type": "stream",
     "text": [
      "tensor([[0.],\n",
      "        [0.],\n",
      "        [0.],\n",
      "        [0.],\n",
      "        [0.],\n",
      "        [0.],\n",
      "        [0.],\n",
      "        [0.],\n",
      "        [0.]], grad_fn=<SumBackward1>)\n"
     ]
    }
   ],
   "source": [
    "x_in = torch.tensor([.1, .2, .3, .4, .5, .6, .7, .8, .9])\n",
    "ypred = model(x_in)\n",
    "print(ypred)"
   ]
  },
  {
   "cell_type": "markdown",
   "id": "abd8b6ab",
   "metadata": {},
   "source": [
    "## Model "
   ]
  },
  {
   "cell_type": "code",
   "execution_count": null,
   "id": "833d0612-1725-45af-8b1f-4de9ebe3d275",
   "metadata": {},
   "outputs": [],
   "source": [
    "#Code modified for x,y parameters\n",
    "\n",
    "class TwoDSegmentNet(nn.Module):\n",
    "    def __init__(self, out_features, segment_features):\n",
    "        super(TwoDSegmentNet, self).__init__()\n",
    "        self.segment_features = segment_features\n",
    "        self.out_features = out_features\n",
    "        \n",
    "        #Initialize x coordinates between 0-1 so segments are equal size\n",
    "        x_init = torch.arange(0, 1 + 1./segment_features, 1/segment_features)\n",
    "        # make sure x_init shape is segment + 1 as it can be more for some segment_features like 6\n",
    "        x_init = x_init[0:1+segment_features]\n",
    "        # make a 2D init tensor\n",
    "        x_2dinit = torch.Tensor(out_features, segment_features + 1)\n",
    "        # Update the x_2dinit tensor with the repeated values\n",
    "        x_2dinit[:] = x_init.unsqueeze(0)\n",
    "        # initialize all rows of x\n",
    "        self.x = nn.Parameter(torch.Tensor(x_2dinit))\n",
    "        #print(self.x.shape)\n",
    "        #y can be zeros\n",
    "        self.y = nn.Parameter(torch.Tensor(out_features, segment_features + 1))\n",
    "        \n",
    "    \n",
    "    def forward(self, x_in):\n",
    "        #print(\"x_in.shape:\",x_in.shape)        \n",
    "        # to find out if x is between segments\n",
    "        lt = torch.lt(x_in.unsqueeze(1).unsqueeze(1), self.x[:, 1:]) \n",
    "        ge = torch.ge(x_in.unsqueeze(1).unsqueeze(1), self.x[:, :-1]) \n",
    "        mask = (lt & ge)\n",
    "\n",
    "        # Ratio is the segment (y2-y1)/(x2-x1) ratio \n",
    "        # consider each segment as a right triangle so we can find new y-y1 as ratio of x-x1\n",
    "        ratio = (self.y[:,1:]-self.y[:,:-1])/(self.x[:,1:]-self.x[:,:-1])\n",
    "\n",
    "        ypred = (x_in.unsqueeze(1).unsqueeze(1) -  self.x[:,:-1])*mask*ratio + mask * self.y[:,:-1]\n",
    "        ypred = ypred.sum(dim=3).squeeze(2)\n",
    "        #print(\"ypred.shape:\",ypred.shape)\n",
    "        return ypred\n",
    "            \n",
    "    def extra_repr(self) -> str:\n",
    "        return f'out_features={self.out_features}, segment_features={self.segment_features}'"
   ]
  },
  {
   "cell_type": "code",
   "execution_count": 33,
   "id": "34bd197a",
   "metadata": {},
   "outputs": [],
   "source": [
    "#Code modified for x,y parameters\n",
    "\n",
    "class OneLayerSegmentNet(nn.Module):\n",
    "    def __init__(self, out_features, segment_features):\n",
    "        super(OneLayerSegmentNet, self).__init__()\n",
    "        self.segment_features = segment_features\n",
    "        self.out_features = out_features\n",
    "        \n",
    "        #Initialize x coordinates between 0-1 so segments are equal size\n",
    "        x_init = torch.arange(0, 1 + 1./segment_features, 1/segment_features)\n",
    "        # make sure x_init shape is segment + 1 as it can be more for some segment_features like 6\n",
    "        x_init = x_init[0:1+segment_features]\n",
    "        # make a 2D init tensor\n",
    "        #x_2dinit = torch.Tensor(out_features, segment_features + 1)\n",
    "        # Update the x_2dinit tensor with the repeated values\n",
    "        #x_2dinit[:] = x_init.unsqueeze(0)\n",
    "        # initialize all rows of x\n",
    "        self.x = nn.Parameter(torch.Tensor(x_init))\n",
    "        #y can be zeros\n",
    "        self.y = nn.Parameter(torch.Tensor(segment_features + 1))\n",
    "        #print(\"self.x.shape\",self.x.shape)\n",
    "        #print(\"self.y.shape\",self.y.shape)\n",
    "        \n",
    "    \n",
    "    def forward(self, x_in):\n",
    "        #print(\"x_in.shape:\",x_in.shape)        \n",
    "        # to find out if x is between segments\n",
    "        lt = torch.lt(x_in.unsqueeze(1), self.x[1:]) \n",
    "        ge = torch.ge(x_in.unsqueeze(1), self.x[:-1]) \n",
    "        mask = (lt & ge)\n",
    "        #print(\"mask.shape:\",mask.shape)\n",
    "        #print(\"mask:\", mask)\n",
    "\n",
    "        # Ratio is the segment (y2-y1)/(x2-x1) ratio \n",
    "        # consider each segment as a right triangle so we can find new y-y1 as ratio of x-x1\n",
    "        ratio = (self.y[1:]-self.y[:-1])/(self.x[1:]-self.x[:-1])\n",
    "        #print(\"ratio:\",ratio)\n",
    "\n",
    "        ypred = (x_in.unsqueeze(1) -  self.x[:-1])*mask*ratio + mask * self.y[:-1]\n",
    "        ypred = ypred.sum(dim=2)\n",
    "        #print(\"ypred.shape:\",ypred.shape)\n",
    "        return ypred\n",
    "            \n",
    "    def extra_repr(self) -> str:\n",
    "        return f'out_features={self.out_features}, segment_features={self.segment_features}'"
   ]
  },
  {
   "cell_type": "markdown",
   "id": "39376b2f-4d55-432e-b164-8e73082f19eb",
   "metadata": {
    "jp-MarkdownHeadingCollapsed": true
   },
   "source": [
    "# Data Loaders"
   ]
  },
  {
   "cell_type": "code",
   "execution_count": 17,
   "id": "5807586a-13a4-4b48-a444-5fc627971b9b",
   "metadata": {},
   "outputs": [],
   "source": [
    "from torch.utils.data.dataloader import DataLoader\n",
    "\n",
    "class InfiniteRandomDataLoader:\n",
    "\n",
    "    def __init__(self, dataset, loss, replacement=True, **kwargs):\n",
    "        train_sampler = torch.utils.data.RandomSampler(dataset, replacement=replacement, num_samples=int(1e10))\n",
    "        self.train_loader = DataLoader(dataset, sampler=train_sampler, **kwargs)\n",
    "        self.data_iter = iter(self.train_loader)\n",
    "\n",
    "    def next(self):\n",
    "        try:\n",
    "            batch = next(self.data_iter)\n",
    "        except StopIteration: # this will technically only happen after 1e10 samples... (i.e. basically never)\n",
    "            self.data_iter = iter(self.train_loader)\n",
    "            batch = next(self.data_iter)\n",
    "        return batch\n"
   ]
  },
  {
   "cell_type": "markdown",
   "id": "6965cc4e-d629-4ba1-804c-e7098ce74836",
   "metadata": {},
   "source": [
    "## Model helper functions"
   ]
  },
  {
   "cell_type": "code",
   "execution_count": 172,
   "id": "4abb81a6-6c82-4796-9d2a-3929b6d0dfb2",
   "metadata": {},
   "outputs": [],
   "source": [
    "def get_model_param_grad(model):\n",
    "    dt = {}\n",
    "    for param in model.parameters():\n",
    "        if(param.shape == (model.segment_features,1)):\n",
    "            dt['weight_grad'] = param.grad\n",
    "        else:\n",
    "            dt['bias_grad'] = param.grad\n",
    "    return dt"
   ]
  },
  {
   "cell_type": "markdown",
   "id": "207298ab-158f-41ea-81c5-e912b5fb3a8c",
   "metadata": {},
   "source": [
    "# Model Training with random data loader"
   ]
  },
  {
   "cell_type": "code",
   "execution_count": 46,
   "id": "ddffa414-4c28-4f31-bcf1-838ebd3d8a80",
   "metadata": {},
   "outputs": [],
   "source": [
    "torch.manual_seed(10)\n",
    "\n",
    "model = OneLayerSegmentNet(1, 4)\n",
    "criterion = nn.MSELoss(reduction='sum')"
   ]
  },
  {
   "cell_type": "markdown",
   "id": "8c24ec06-9099-484f-bfb6-ece4b7c8ce81",
   "metadata": {},
   "source": [
    "# Init"
   ]
  },
  {
   "cell_type": "code",
   "execution_count": 92,
   "id": "f138e759-6157-49dc-9d16-5ff57e920c82",
   "metadata": {},
   "outputs": [],
   "source": [
    "# init training\n",
    "import time\n",
    "from torch.optim.lr_scheduler import ReduceLROnPlateau\n",
    "import copy\n",
    "\n",
    "# Capture params after initialization\n",
    "model_params = []\n",
    "#model_param_grads = []\n",
    "model_params.append(copy.deepcopy(model.state_dict()))\n",
    "\n",
    "#create ys data from scratch so we can sort xs as needed - made no different with randomloader for segmentnet\n",
    "f = f_quartic # select data function\n",
    "xs = np.arange(-1.5, 11., .05)\n",
    "ys = f(xs)\n",
    "#print(xs.shape, ys.shape)\n",
    "\n",
    "x = torch.tensor((xs).reshape(xs.shape[0],1), dtype=torch.float32)\n",
    "ytest = torch.tensor((ys).reshape(ys.shape[0],1), dtype=torch.float32) # y is from function / not randomized\n",
    "\n",
    "#Test normalization - works\n",
    "x, ytest = normalize(x, ytest)\n",
    "\n",
    "#Initialize model parameters\n",
    "model.x = torch.nn.Parameter(torch.Tensor(np.linspace(x.min(), x.max(), model.segment_features+1)))\n",
    "\n",
    "dataLoader = InfiniteRandomDataLoader\n",
    "\n",
    "# create dataset that can be used in a dataloader \n",
    "dataset = torch.utils.data.TensorDataset(x, ytest)\n",
    "\n",
    "#initialize training params\n",
    "step = 0\n",
    "losses = np.array([])\n",
    "with torch.no_grad():\n",
    "    y = model(x)\n",
    "    total_mean_loss = criterion(y, ytest)\n",
    "#    losses = np.append(losses, total_mean_loss)\n",
    "\n",
    "lr=.001\n",
    "optimizer = torch.optim.AdamW(model.parameters(), lr=lr, betas=(0.9, 0.999), eps=1e-8)\n",
    "scheduler = ReduceLROnPlateau(optimizer, 'min', factor=.75, patience=100,threshold=0.01, threshold_mode='rel', cooldown=0, \n",
    "                                                 min_lr=0, eps=1e-08, verbose=True) # let us try scheduler to reduce learning rate"
   ]
  },
  {
   "cell_type": "markdown",
   "id": "cb6d88cf-15f0-4ba6-89a5-c572ca773e33",
   "metadata": {},
   "source": [
    "## Training loop"
   ]
  },
  {
   "cell_type": "code",
   "execution_count": 93,
   "id": "6cc0d042-4167-4972-89b3-70929322d368",
   "metadata": {},
   "outputs": [
    {
     "name": "stdout",
     "output_type": "stream",
     "text": [
      "step 1 | loss 0.0840 | total_mean_loss 0.3426 | step time 805.84ms\n",
      "step 2 | loss 0.0763 | total_mean_loss 0.3118 | step time 0.99ms\n",
      "step 3 | loss 0.0670 | total_mean_loss 0.2803 | step time 0.59ms\n",
      "step 4 | loss 0.0661 | total_mean_loss 0.2569 | step time 0.58ms\n",
      "step 5 | loss 0.0488 | total_mean_loss 0.2310 | step time 0.58ms\n",
      "step 6 | loss 0.0646 | total_mean_loss 0.2144 | step time 0.94ms\n",
      "step 7 | loss 0.0604 | total_mean_loss 0.2004 | step time 0.63ms\n",
      "step 8 | loss 0.0406 | total_mean_loss 0.1881 | step time 0.59ms\n",
      "step 9 | loss 0.0550 | total_mean_loss 0.1777 | step time 0.55ms\n",
      "step 10 | loss 0.0374 | total_mean_loss 0.1689 | step time 0.59ms\n",
      "step 11 | loss 0.0353 | total_mean_loss 0.1618 | step time 0.61ms\n",
      "step 12 | loss 0.0437 | total_mean_loss 0.1556 | step time 0.56ms\n",
      "step 13 | loss 0.0441 | total_mean_loss 0.1502 | step time 0.54ms\n",
      "step 14 | loss 0.0403 | total_mean_loss 0.1454 | step time 0.53ms\n",
      "step 15 | loss 0.0255 | total_mean_loss 0.1409 | step time 0.54ms\n",
      "step 16 | loss 0.0428 | total_mean_loss 0.1367 | step time 0.56ms\n",
      "step 17 | loss 0.0432 | total_mean_loss 0.1322 | step time 0.54ms\n",
      "step 18 | loss 0.0266 | total_mean_loss 0.1272 | step time 0.57ms\n",
      "step 19 | loss 0.0229 | total_mean_loss 0.1223 | step time 0.95ms\n",
      "step 20 | loss 0.0191 | total_mean_loss 0.1174 | step time 0.96ms\n",
      "step 21 | loss 0.0318 | total_mean_loss 0.1125 | step time 0.81ms\n",
      "step 22 | loss 0.0371 | total_mean_loss 0.1071 | step time 0.64ms\n",
      "step 23 | loss 0.0276 | total_mean_loss 0.1013 | step time 0.62ms\n",
      "step 24 | loss 0.0261 | total_mean_loss 0.0953 | step time 0.75ms\n"
     ]
    }
   ],
   "source": [
    "# training loop\n",
    "\n",
    "torch.manual_seed(10)\n",
    "\n",
    "best_loss = .01\n",
    "prev_total_mean_loss = 100\n",
    "max_steps = 24\n",
    "\n",
    "model.train() # We use this variable for training\n",
    "# init dataloader\n",
    "batch_loader = dataLoader(dataset,loss=total_mean_loss,replacement=False, batch_size=64, pin_memory=True, num_workers=1)\n",
    "\n",
    "while True:\n",
    "    t0 = time.time()\n",
    "    # get the next batch, ship to device, and unpack it to input and target\n",
    "    X, Y = batch_loader.next()\n",
    "    #check for NaN\n",
    "    if math.isnan(Y.mean()):\n",
    "        print (\"Breaking for NaN\")\n",
    "        break\n",
    "\n",
    "    # Forward pass\n",
    "    ypred = model(X)\n",
    "\n",
    "    # Calculate the loss\n",
    "    loss = criterion(ypred, Y)\n",
    "    \n",
    "    # Backward and optimize\n",
    "    model.zero_grad(set_to_none=True)\n",
    "    loss.backward()\n",
    "\n",
    "    # Evaluate model after this optimizer.step\n",
    "    # we evaluate on complete data\n",
    "    with torch.no_grad():\n",
    "        y = model(x)\n",
    "        total_mean_loss = criterion(y, ytest)\n",
    "    losses = np.append(losses, total_mean_loss)\n",
    "\n",
    "    optimizer.step() #Definitely needed\n",
    "    step += 1\n",
    "    scheduler.step(total_mean_loss)\n",
    "    t1 = time.time()\n",
    "\n",
    "    # store params (weights and biases) after each training step\n",
    "    if step % 1 == 0:\n",
    "        model_params.append(copy.deepcopy(model.state_dict()))\n",
    "        #model_param_grads.append(get_model_param_grad(model))\n",
    "             \n",
    "    # logging\n",
    "    if step % 1 == 0:         \n",
    "        print(f\"step {step} | loss {loss:.4f} | total_mean_loss {total_mean_loss:.4f} | step time {(t1-t0)*1000:.2f}ms\")\n",
    "\n",
    "    # termination conditions\n",
    "    if max_steps >= 0 and step % max_steps == 0:\n",
    "        break\n",
    "        \n",
    "    #if total_mean_loss.mean() < best_loss:\n",
    "        break\n",
    "\n",
    "    #if total_mean_loss.mean() > prev_total_mean_loss*1.5:\n",
    "    #    break #we may want to change learning rate\n",
    "\n",
    "    prev_total_mean_loss = total_mean_loss"
   ]
  },
  {
   "cell_type": "code",
   "execution_count": 94,
   "id": "6203fffe-dec0-41e8-998c-52efb7c65ef6",
   "metadata": {},
   "outputs": [
    {
     "name": "stdout",
     "output_type": "stream",
     "text": [
      " prev_total_mean_loss  tensor(0.1013)\n"
     ]
    },
    {
     "data": {
      "image/png": "[encoded data removed]",
      "text/plain": [
       "<Figure size 1000x400 with 2 Axes>"
      ]
     },
     "metadata": {},
     "output_type": "display_data"
    }
   ],
   "source": [
    "import matplotlib\n",
    "matplotlib.rcParams['figure.figsize'] = (10, 4) # this is done to increase width to \n",
    "\n",
    "# Create a figure and two axes objects\n",
    "# Increase the figure size to accommodate wider plots\n",
    "fig, (ax1, ax2) = plt.subplots(1, 2)\n",
    "\n",
    "# plot loss\n",
    "print (\" prev_total_mean_loss \",prev_total_mean_loss)\n",
    "ax1.plot(losses)\n",
    "\n",
    "# plot trained model\n",
    "y = model(x)\n",
    "yout = y.data.reshape(xs.shape[0])\n",
    "ax2.plot(x, ytest)\n",
    "ax2.scatter(x, yout, color='red', s=1)\n",
    "\n",
    "# Display the plot\n",
    "plt.show()"
   ]
  },
  {
   "cell_type": "code",
   "execution_count": 447,
   "id": "15da7776-cbcd-400c-a9cd-3fbf16cd891a",
   "metadata": {},
   "outputs": [
    {
     "data": {
      "text/plain": [
       "'model_segment_v4_graph.pdf'"
      ]
     },
     "execution_count": 447,
     "metadata": {},
     "output_type": "execute_result"
    }
   ],
   "source": [
    "#!pip install torchviz\n",
    "from torchviz import make_dot\n",
    "\n",
    "# Generate a Graphviz object from the computation graph\n",
    "graph = make_dot(loss, params=dict(model.named_parameters())) \n",
    "\n",
    "# Save the graph as a PDF or any other format if needed\n",
    "graph.render(\"model_segment_v4_graph\")"
   ]
  },
  {
   "cell_type": "code",
   "execution_count": 96,
   "id": "7c86b2d2",
   "metadata": {},
   "outputs": [
    {
     "data": {
      "text/plain": [
       "[OrderedDict([('x', tensor([-0.1102, -0.0731, -0.0017,  0.0736,  0.1080])),\n",
       "              ('y', tensor([-0.0302,  0.0832, -0.1207,  0.1013, -0.0647]))]),\n",
       " OrderedDict([('x', tensor([-0.1081, -0.0556, -0.0010,  0.0556,  0.1101])),\n",
       "              ('y', tensor([-0.0312,  0.0822, -0.1217,  0.1003, -0.0637]))]),\n",
       " OrderedDict([('x', tensor([-0.1084, -0.0565, -0.0019,  0.0566,  0.1111])),\n",
       "              ('y', tensor([-0.0309,  0.0812, -0.1227,  0.0993, -0.0627]))]),\n",
       " OrderedDict([('x', tensor([-0.1091, -0.0575, -0.0022,  0.0576,  0.1119])),\n",
       "              ('y', tensor([-0.0302,  0.0803, -0.1236,  0.0985, -0.0618]))]),\n",
       " OrderedDict([('x', tensor([-0.1098, -0.0585, -0.0026,  0.0585,  0.1127])),\n",
       "              ('y', tensor([-0.0295,  0.0793, -0.1246,  0.0979, -0.0611]))]),\n",
       " OrderedDict([('x', tensor([-0.1102, -0.0595, -0.0026,  0.0595,  0.1135])),\n",
       "              ('y', tensor([-0.0291,  0.0784, -0.1255,  0.0974, -0.0602]))]),\n",
       " OrderedDict([('x', tensor([-0.1107, -0.0604, -0.0027,  0.0605,  0.1139])),\n",
       "              ('y', tensor([-0.0287,  0.0777, -0.1262,  0.0970, -0.0599]))]),\n",
       " OrderedDict([('x', tensor([-0.1113, -0.0614, -0.0027,  0.0614,  0.1139])),\n",
       "              ('y', tensor([-0.0281,  0.0772, -0.1270,  0.0963, -0.0598]))]),\n",
       " OrderedDict([('x', tensor([-0.1118, -0.0623, -0.0028,  0.0623,  0.1141])),\n",
       "              ('y', tensor([-0.0276,  0.0768, -0.1278,  0.0959, -0.0596]))]),\n",
       " OrderedDict([('x', tensor([-0.1123, -0.0633, -0.0027,  0.0632,  0.1141])),\n",
       "              ('y', tensor([-0.0270,  0.0764, -0.1284,  0.0955, -0.0596]))]),\n",
       " OrderedDict([('x', tensor([-0.1127, -0.0642, -0.0027,  0.0641,  0.1141])),\n",
       "              ('y', tensor([-0.0267,  0.0760, -0.1289,  0.0951, -0.0597]))]),\n",
       " OrderedDict([('x', tensor([-0.1131, -0.0650, -0.0026,  0.0649,  0.1139])),\n",
       "              ('y', tensor([-0.0263,  0.0758, -0.1291,  0.0948, -0.0598]))]),\n",
       " OrderedDict([('x', tensor([-0.1133, -0.0659, -0.0026,  0.0658,  0.1139])),\n",
       "              ('y', tensor([-0.0261,  0.0758, -0.1291,  0.0948, -0.0599]))]),\n",
       " OrderedDict([('x', tensor([-0.1136, -0.0667, -0.0024,  0.0666,  0.1137])),\n",
       "              ('y', tensor([-0.0258,  0.0760, -0.1292,  0.0950, -0.0600]))]),\n",
       " OrderedDict([('x', tensor([-0.1136, -0.0674, -0.0025,  0.0674,  0.1134])),\n",
       "              ('y', tensor([-0.0257,  0.0762, -0.1291,  0.0951, -0.0603]))]),\n",
       " OrderedDict([('x', tensor([-0.1135, -0.0681, -0.0025,  0.0681,  0.1132])),\n",
       "              ('y', tensor([-0.0258,  0.0765, -0.1288,  0.0953, -0.0605]))]),\n",
       " OrderedDict([('x', tensor([-0.1134, -0.0688, -0.0025,  0.0688,  0.1129])),\n",
       "              ('y', tensor([-0.0259,  0.0768, -0.1283,  0.0955, -0.0608]))]),\n",
       " OrderedDict([('x', tensor([-0.1131, -0.0694, -0.0026,  0.0695,  0.1124])),\n",
       "              ('y', tensor([-0.0262,  0.0772, -0.1278,  0.0958, -0.0613]))]),\n",
       " OrderedDict([('x', tensor([-0.1129, -0.0700, -0.0024,  0.0701,  0.1119])),\n",
       "              ('y', tensor([-0.0264,  0.0777, -0.1271,  0.0961, -0.0617]))]),\n",
       " OrderedDict([('x', tensor([-0.1126, -0.0706, -0.0024,  0.0707,  0.1114])),\n",
       "              ('y', tensor([-0.0267,  0.0782, -0.1264,  0.0966, -0.0621]))]),\n",
       " OrderedDict([('x', tensor([-0.1123, -0.0711, -0.0024,  0.0713,  0.1110])),\n",
       "              ('y', tensor([-0.0270,  0.0788, -0.1257,  0.0971, -0.0625]))]),\n",
       " OrderedDict([('x', tensor([-0.1119, -0.0716, -0.0024,  0.0718,  0.1105])),\n",
       "              ('y', tensor([-0.0273,  0.0794, -0.1249,  0.0977, -0.0630]))]),\n",
       " OrderedDict([('x', tensor([-0.1113, -0.0720, -0.0024,  0.0723,  0.1099])),\n",
       "              ('y', tensor([-0.0278,  0.0801, -0.1240,  0.0984, -0.0635]))]),\n",
       " OrderedDict([('x', tensor([-0.1108, -0.0724, -0.0024,  0.0728,  0.1093])),\n",
       "              ('y', tensor([-0.0283,  0.0808, -0.1231,  0.0991, -0.0640]))]),\n",
       " OrderedDict([('x', tensor([-0.1102, -0.0728, -0.0025,  0.0732,  0.1086])),\n",
       "              ('y', tensor([-0.0288,  0.0815, -0.1222,  0.0998, -0.0645]))])]"
      ]
     },
     "execution_count": 96,
     "metadata": {},
     "output_type": "execute_result"
    }
   ],
   "source": [
    "model_params"
   ]
  },
  {
   "cell_type": "code",
   "execution_count": 194,
   "id": "72b5517a",
   "metadata": {},
   "outputs": [
    {
     "data": {
      "text/plain": [
       "(tensor(-0.1091), tensor(0.1091))"
      ]
     },
     "execution_count": 194,
     "metadata": {},
     "output_type": "execute_result"
    }
   ],
   "source": [
    "x.min(),x.max()"
   ]
  },
  {
   "cell_type": "code",
   "execution_count": null,
   "id": "6103f5f3",
   "metadata": {},
   "outputs": [],
   "source": []
  }
 ],
 "metadata": {
  "kernelspec": {
   "display_name": "Python 3 (ipykernel)",
   "language": "python",
   "name": "python3"
  },
  "language_info": {
   "codemirror_mode": {
    "name": "ipython",
    "version": 3
   },
   "file_extension": ".py",
   "mimetype": "text/x-python",
   "name": "python",
   "nbconvert_exporter": "python",
   "pygments_lexer": "ipython3",
   "version": "3.10.10"
  }
 },
 "nbformat": 4,
 "nbformat_minor": 5
}
