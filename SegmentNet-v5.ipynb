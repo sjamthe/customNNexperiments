{
 "cells": [
  {
   "cell_type": "markdown",
   "id": "5cc770f0-f5c8-40e7-abe1-56e7b634e897",
   "metadata": {
    "jp-MarkdownHeadingCollapsed": true
   },
   "source": [
    "# 2DSegmentNet\n",
    "Output multiple 2D matrix of Y - moving towards ImageSegNet"
   ]
  },
  {
   "cell_type": "code",
   "execution_count": 2,
   "id": "c4b9bbf5-211d-40fb-93d5-2bc53d8d3b88",
   "metadata": {},
   "outputs": [],
   "source": [
    "import math\n",
    "import numpy as np\n",
    "import matplotlib.pyplot as plt\n",
    "%matplotlib inline\n",
    "\n",
    "import torch\n",
    "import torch.nn as nn\n",
    "import torch.nn.functional as F"
   ]
  },
  {
   "cell_type": "code",
   "execution_count": 3,
   "id": "90538fe8-8e3e-44da-a95b-b06e9af08a62",
   "metadata": {},
   "outputs": [
    {
     "name": "stdout",
     "output_type": "stream",
     "text": [
      "Using mps device\n"
     ]
    }
   ],
   "source": [
    "device = (\n",
    "    \"cuda\"\n",
    "    if torch.cuda.is_available()\n",
    "    else \"mps\"\n",
    "    if torch.backends.mps.is_available()\n",
    "    else \"cpu\"\n",
    ")\n",
    "print(f\"Using {device} device\")"
   ]
  },
  {
   "cell_type": "markdown",
   "id": "766ba702-4d33-4fd4-9262-0b9f71e51700",
   "metadata": {
    "jp-MarkdownHeadingCollapsed": true
   },
   "source": [
    "# Functions we are trying to approximate"
   ]
  },
  {
   "cell_type": "code",
   "execution_count": 15,
   "id": "8018dbaf-7c12-4d92-b558-64b206092631",
   "metadata": {},
   "outputs": [],
   "source": [
    "np.random.seed(10)\n",
    "\n",
    "# y = ax^4 + bx^3 + cx^2 + dx + f\n",
    "def f_quarticn(x):\n",
    "    a = -0.0179516\n",
    "    b = 0.331323\n",
    "    c = -1.63398\n",
    "    d = 1.01107\n",
    "    f = 5.73434\n",
    "    x = x + 1\n",
    "    return a*x**4 + b*x**3 + c*x**2 + d*x + f\n",
    "\n",
    "def f_quartic(x):\n",
    "    a = -0.0179516\n",
    "    b = 0.331323\n",
    "    c = -1.63398\n",
    "    d = 1.01107\n",
    "    f = 5.73434\n",
    "    return a*x**4 + b*x**3 + c*x**2 + d*x + f\n",
    "    \n",
    "def f2_quartic(x):\n",
    "    y = torch.zeros([2,x.shape[0]])\n",
    "    y[0] = f_quartic(x)\n",
    "    y[1] = f_quartic(x+1)\n",
    "    return y\n",
    "\n",
    "def f_inv_quartic(x):\n",
    "    return 7 - f_quartic(x)\n",
    "    \n",
    "def f_semicircle(x):\n",
    "    maxX = x.max()\n",
    "    minX = x.min()\n",
    "    radius = (maxX - minX)/2 \n",
    "    center = (maxX + minX)/2 \n",
    "    y = np.sqrt(np.abs(radius**2 - (x-center)**2))\n",
    "    return y\n",
    "    \n",
    "def frand(y):\n",
    "    return y + y*np.random.uniform(-0.1, 0.1, y.shape).astype('f')\n",
    "\n",
    "def normalize(x,y):\n",
    "    mu_x = torch.mean(x)\n",
    "    std_x = torch.std(x)\n",
    "\n",
    "    mu_y = torch.mean(y)\n",
    "    std_y = torch.std(y)\n",
    "\n",
    "    x_normalized = torch.nn.functional.normalize(x - mu_x, dim=0)\n",
    "    y_normalized = torch.nn.functional.normalize(y - mu_y, dim=0)\n",
    "    return x_normalized, y_normalized"
   ]
  },
  {
   "cell_type": "markdown",
   "id": "56e955fe",
   "metadata": {},
   "source": [
    "## Visualize functions"
   ]
  },
  {
   "cell_type": "code",
   "execution_count": 14,
   "id": "36ff80cc",
   "metadata": {},
   "outputs": [
    {
     "data": {
      "image/png": "[encoded data removed]",
      "text/plain": [
       "<Figure size 640x480 with 1 Axes>"
      ]
     },
     "metadata": {},
     "output_type": "display_data"
    }
   ],
   "source": [
    "xs = torch.arange(-1.5, 11., .05)\n",
    "ys = f2_quartic(xs)\n",
    "plt.plot(xs, ys[0])\n",
    "plt.plot(xs, ys[1])\n",
    "plt.show()"
   ]
  },
  {
   "cell_type": "markdown",
   "id": "e1441232-3e14-49a3-8388-112f3fca36c9",
   "metadata": {},
   "source": [
    "# Model definition"
   ]
  },
  {
   "cell_type": "markdown",
   "id": "845f9fad",
   "metadata": {},
   "source": [
    "## model test dev"
   ]
  },
  {
   "cell_type": "code",
   "execution_count": 232,
   "id": "dd09faf8",
   "metadata": {},
   "outputs": [
    {
     "name": "stdout",
     "output_type": "stream",
     "text": [
      "torch.Size([1, 7]) torch.Size([1, 7])\n",
      "tensor([[0.0000, 0.1667, 0.3333, 0.5000, 0.6667, 0.8333, 1.0000]])\n"
     ]
    }
   ],
   "source": [
    "# Test - how to initialize 2D x array with same values \n",
    "segment_features = 6\n",
    "out_features = 1\n",
    "x_init = torch.arange(0, 1 + 1./segment_features, 1./segment_features)\n",
    "# make sure x_init shape is segment + 1 as it can be more for some segment_features like 6\n",
    "x_init = x_init[0:1+segment_features]\n",
    "x_2dinit = torch.Tensor(out_features, segment_features + 1)\n",
    "x_2dinit[:] = x_init.unsqueeze(0)\n",
    "x = torch.Tensor(x_2dinit)\n",
    "print(x.shape, x_init.unsqueeze(0).shape)\n",
    "# slightly modify second row\n",
    "if(out_features > 1):\n",
    "    x[1, 1:-1] = x[1, 1:-1] + .1\n",
    "print(x)"
   ]
  },
  {
   "cell_type": "code",
   "execution_count": 231,
   "id": "587dc053",
   "metadata": {},
   "outputs": [
    {
     "data": {
      "text/plain": [
       "torch.Size([9, 1])"
      ]
     },
     "execution_count": 231,
     "metadata": {},
     "output_type": "execute_result"
    }
   ],
   "source": [
    "x_in = np.array([.1, .2, .3, .4, .5, .6, .7, .8, .9])\n",
    "x_in = torch.tensor(x_in.reshape(x_in.shape[0],1), dtype=torch.float32)\n",
    "x_in.shape"
   ]
  },
  {
   "cell_type": "code",
   "execution_count": 242,
   "id": "dd9d06ff",
   "metadata": {},
   "outputs": [
    {
     "name": "stdout",
     "output_type": "stream",
     "text": [
      "x= tensor([[0.0000, 0.1667, 0.3333, 0.5000, 0.6667, 0.8333, 1.0000]])\n",
      "y= tensor([[0.0000, 0.1667, 0.3333, 0.5000, 0.6667, 0.8333, 1.0000]])\n",
      "ratio= tensor([[1., 1., 1., 1., 1., 1.]])\n",
      "torch.Size([9, 1, 1, 6]) torch.Size([9, 1])\n",
      "ypred= tensor([[0.1000],\n",
      "        [0.2000],\n",
      "        [0.3000],\n",
      "        [0.4000],\n",
      "        [0.5000],\n",
      "        [0.6000],\n",
      "        [0.7000],\n",
      "        [0.8000],\n",
      "        [0.9000]])\n"
     ]
    }
   ],
   "source": [
    "#forward\n",
    "lt = torch.lt(x_in.unsqueeze(1).unsqueeze(1), x[:, 1:]) \n",
    "ge = torch.ge(x_in.unsqueeze(1).unsqueeze(1), x[:, :-1]) \n",
    "mask = (lt & ge)\n",
    "#print(mask)\n",
    "y = torch.Tensor(out_features, segment_features + 1)\n",
    "#y = copy(x)\n",
    "if(out_features > 1):\n",
    "    y[0,:] = x[0, :]\n",
    "    y[1,:] = x[1,:]*2\n",
    "else:\n",
    "    y[0,:] = x[0, :]\n",
    "print (\"x=\",x)\n",
    "print(\"y=\",y)\n",
    "ratio = (y[:,1:]-y[:,:-1])/(x[:,1:]-x[:,:-1])\n",
    "print(\"ratio=\",ratio)\n",
    "y_pred = (x_in.unsqueeze(1).unsqueeze(1) -  x[:,:-1])*mask*ratio + mask * y[:,:-1]\n",
    "print(y_pred.shape, y_pred.sum(dim=3).squeeze(2).shape)\n",
    "print(\"ypred=\",y_pred.sum(dim=3).squeeze(2))"
   ]
  },
  {
   "cell_type": "code",
   "execution_count": 208,
   "id": "12f77ac7",
   "metadata": {},
   "outputs": [
    {
     "name": "stdout",
     "output_type": "stream",
     "text": [
      "torch.Size([1, 7])\n"
     ]
    },
    {
     "data": {
      "text/plain": [
       "(Parameter containing:\n",
       " tensor([[0.0000, 0.1667, 0.3333, 0.5000, 0.6667, 0.8333, 1.0000]],\n",
       "        requires_grad=True),\n",
       " Parameter containing:\n",
       " tensor([[0., 0., 0., 0., 0., 0., 0.]], requires_grad=True))"
      ]
     },
     "execution_count": 208,
     "metadata": {},
     "output_type": "execute_result"
    }
   ],
   "source": [
    "# test model\n",
    "model = TwoDSegmentNet(1, 6)\n",
    "model.x, model.y"
   ]
  },
  {
   "cell_type": "code",
   "execution_count": 209,
   "id": "347bfa04",
   "metadata": {},
   "outputs": [
    {
     "name": "stdout",
     "output_type": "stream",
     "text": [
      "tensor([[0.],\n",
      "        [0.],\n",
      "        [0.],\n",
      "        [0.],\n",
      "        [0.],\n",
      "        [0.],\n",
      "        [0.],\n",
      "        [0.],\n",
      "        [0.]], grad_fn=<SumBackward1>)\n"
     ]
    }
   ],
   "source": [
    "x_in = torch.tensor([.1, .2, .3, .4, .5, .6, .7, .8, .9])\n",
    "ypred = model(x_in)\n",
    "print(ypred)"
   ]
  },
  {
   "cell_type": "markdown",
   "id": "abd8b6ab",
   "metadata": {},
   "source": [
    "## Model "
   ]
  },
  {
   "cell_type": "code",
   "execution_count": 243,
   "id": "833d0612-1725-45af-8b1f-4de9ebe3d275",
   "metadata": {},
   "outputs": [],
   "source": [
    "#Code modified for x,y parameters\n",
    "\n",
    "class TwoDSegmentNet(nn.Module):\n",
    "    def __init__(self, out_features, segment_features):\n",
    "        super(TwoDSegmentNet, self).__init__()\n",
    "        self.segment_features = segment_features\n",
    "        self.out_features = out_features\n",
    "        \n",
    "        #Initialize x coordinates between 0-1 so segments are equal size\n",
    "        x_init = torch.arange(0, 1 + 1./segment_features, 1/segment_features)\n",
    "        # make sure x_init shape is segment + 1 as it can be more for some segment_features like 6\n",
    "        x_init = x_init[0:1+segment_features]\n",
    "        # make a 2D init tensor\n",
    "        x_2dinit = torch.Tensor(out_features, segment_features + 1)\n",
    "        # Update the x_2dinit tensor with the repeated values\n",
    "        x_2dinit[:] = x_init.unsqueeze(0)\n",
    "        # initialize all rows of x\n",
    "        self.x = nn.Parameter(torch.Tensor(x_2dinit))\n",
    "        #print(self.x.shape)\n",
    "        #y can be zeros\n",
    "        self.y = nn.Parameter(torch.Tensor(out_features, segment_features + 1))\n",
    "        \n",
    "    \n",
    "    def forward(self, x_in):\n",
    "        #print(\"x_in.shape:\",x_in.shape)        \n",
    "        # to find out if x is between segments\n",
    "        lt = torch.lt(x_in.unsqueeze(1).unsqueeze(1), self.x[:, 1:]) \n",
    "        ge = torch.ge(x_in.unsqueeze(1).unsqueeze(1), self.x[:, :-1]) \n",
    "        mask = (lt & ge)\n",
    "\n",
    "        # Ratio is the segment (y2-y1)/(x2-x1) ratio \n",
    "        # consider each segment as a right triangle so we can find new y-y1 as ratio of x-x1\n",
    "        ratio = (self.y[:,1:]-self.y[:,:-1])/(self.x[:,1:]-self.x[:,:-1])\n",
    "\n",
    "        ypred = (x_in.unsqueeze(1).unsqueeze(1) -  self.x[:,:-1])*mask*ratio + mask * self.y[:,:-1]\n",
    "        ypred = ypred.sum(dim=3).squeeze(2)\n",
    "        #print(\"ypred.shape:\",ypred.shape)\n",
    "        return ypred\n",
    "            \n",
    "    def extra_repr(self) -> str:\n",
    "        return f'out_features={self.out_features}, segment_features={self.segment_features}'"
   ]
  },
  {
   "cell_type": "markdown",
   "id": "39376b2f-4d55-432e-b164-8e73082f19eb",
   "metadata": {
    "jp-MarkdownHeadingCollapsed": true
   },
   "source": [
    "# Data Loaders"
   ]
  },
  {
   "cell_type": "code",
   "execution_count": 151,
   "id": "5807586a-13a4-4b48-a444-5fc627971b9b",
   "metadata": {},
   "outputs": [],
   "source": [
    "from torch.utils.data.dataloader import DataLoader\n",
    "\n",
    "class InfiniteRandomDataLoader:\n",
    "\n",
    "    def __init__(self, dataset, loss, replacement=True, **kwargs):\n",
    "        train_sampler = torch.utils.data.RandomSampler(dataset, replacement=replacement, num_samples=int(1e10))\n",
    "        self.train_loader = DataLoader(dataset, sampler=train_sampler, **kwargs)\n",
    "        self.data_iter = iter(self.train_loader)\n",
    "\n",
    "    def next(self):\n",
    "        try:\n",
    "            batch = next(self.data_iter)\n",
    "        except StopIteration: # this will technically only happen after 1e10 samples... (i.e. basically never)\n",
    "            self.data_iter = iter(self.train_loader)\n",
    "            batch = next(self.data_iter)\n",
    "        return batch\n"
   ]
  },
  {
   "cell_type": "markdown",
   "id": "6965cc4e-d629-4ba1-804c-e7098ce74836",
   "metadata": {},
   "source": [
    "## Model helper functions"
   ]
  },
  {
   "cell_type": "code",
   "execution_count": 172,
   "id": "4abb81a6-6c82-4796-9d2a-3929b6d0dfb2",
   "metadata": {},
   "outputs": [],
   "source": [
    "def get_model_param_grad(model):\n",
    "    dt = {}\n",
    "    for param in model.parameters():\n",
    "        if(param.shape == (model.segment_features,1)):\n",
    "            dt['weight_grad'] = param.grad\n",
    "        else:\n",
    "            dt['bias_grad'] = param.grad\n",
    "    return dt"
   ]
  },
  {
   "cell_type": "markdown",
   "id": "207298ab-158f-41ea-81c5-e912b5fb3a8c",
   "metadata": {},
   "source": [
    "# Model Training with random data loader"
   ]
  },
  {
   "cell_type": "code",
   "execution_count": 244,
   "id": "ddffa414-4c28-4f31-bcf1-838ebd3d8a80",
   "metadata": {},
   "outputs": [],
   "source": [
    "torch.manual_seed(10)\n",
    "\n",
    "model = TwoDSegmentNet(1, 6)\n",
    "criterion = nn.MSELoss(reduction='sum')"
   ]
  },
  {
   "cell_type": "markdown",
   "id": "8c24ec06-9099-484f-bfb6-ece4b7c8ce81",
   "metadata": {},
   "source": [
    "# Init"
   ]
  },
  {
   "cell_type": "code",
   "execution_count": 246,
   "id": "f138e759-6157-49dc-9d16-5ff57e920c82",
   "metadata": {},
   "outputs": [],
   "source": [
    "# init training\n",
    "import time\n",
    "from torch.optim.lr_scheduler import ReduceLROnPlateau\n",
    "import copy\n",
    "\n",
    "# Capture params after initialization\n",
    "model_params = []\n",
    "#model_param_grads = []\n",
    "model_params.append(copy.deepcopy(model.state_dict()))\n",
    "\n",
    "#create ys data from scratch so we can sort xs as needed - made no different with randomloader for segmentnet\n",
    "f = f_quartic # select data function\n",
    "xs = np.arange(-1.5, 11., .05)\n",
    "ys = f(xs)\n",
    "#print(xs.shape, ys.shape)\n",
    "\n",
    "x = torch.tensor((xs).reshape(xs.shape[0],1), dtype=torch.float32)\n",
    "ytest = torch.tensor((ys).reshape(ys.shape[0],1), dtype=torch.float32) # y is from function / not randomized\n",
    "\n",
    "#Test normalization - works\n",
    "x, ytest = normalize(x, ytest)\n",
    "\n",
    "#Initialize model parameters\n",
    "#model.x = torch.nn.Parameter(torch.Tensor(np.linspace(x.min(), x.max(), model.segment_features+1)))\n",
    "\n",
    "dataLoader = InfiniteRandomDataLoader\n",
    "\n",
    "# create dataset that can be used in a dataloader \n",
    "dataset = torch.utils.data.TensorDataset(x, ytest)\n",
    "\n",
    "#initialize training params\n",
    "step = 0\n",
    "losses = np.array([])\n",
    "with torch.no_grad():\n",
    "    y = model(x)\n",
    "    total_mean_loss = criterion(y, ytest)\n",
    "#    losses = np.append(losses, total_mean_loss)\n",
    "\n",
    "lr=.01\n",
    "optimizer = torch.optim.AdamW(model.parameters(), lr=lr, betas=(0.9, 0.999), eps=1e-8)\n",
    "scheduler = ReduceLROnPlateau(optimizer, 'min', factor=.75, patience=100,threshold=0.01, threshold_mode='rel', cooldown=0, \n",
    "                                                 min_lr=0, eps=1e-08, verbose=True) # let us try scheduler to reduce learning rate"
   ]
  },
  {
   "cell_type": "markdown",
   "id": "cb6d88cf-15f0-4ba6-89a5-c572ca773e33",
   "metadata": {},
   "source": [
    "## Training loop"
   ]
  },
  {
   "cell_type": "code",
   "execution_count": 247,
   "id": "6cc0d042-4167-4972-89b3-70929322d368",
   "metadata": {},
   "outputs": [
    {
     "name": "stdout",
     "output_type": "stream",
     "text": [
      "step 10 | loss 0.2294 | total_mean_loss 0.9814 | step time 0.89ms\n",
      "step 20 | loss 0.2055 | total_mean_loss 0.9649 | step time 0.91ms\n",
      "step 30 | loss 0.2907 | total_mean_loss 0.8496 | step time 0.91ms\n",
      "step 40 | loss 0.2663 | total_mean_loss 0.8554 | step time 0.86ms\n",
      "step 50 | loss 0.1884 | total_mean_loss 0.9146 | step time 0.87ms\n",
      "step 60 | loss 0.1978 | total_mean_loss 0.8744 | step time 0.90ms\n",
      "step 70 | loss 0.2263 | total_mean_loss 0.8606 | step time 0.87ms\n",
      "step 80 | loss 0.2321 | total_mean_loss 0.8420 | step time 0.99ms\n",
      "step 90 | loss 0.2376 | total_mean_loss 0.8916 | step time 0.87ms\n",
      "step 100 | loss 0.2347 | total_mean_loss 0.8542 | step time 1.17ms\n",
      "step 110 | loss 0.1807 | total_mean_loss 0.8914 | step time 0.87ms\n",
      "step 120 | loss 0.2730 | total_mean_loss 0.8537 | step time 0.98ms\n",
      "step 130 | loss 0.1994 | total_mean_loss 0.8685 | step time 1.10ms\n",
      "step 140 | loss 0.2157 | total_mean_loss 0.8608 | step time 1.04ms\n",
      "step 150 | loss 0.2730 | total_mean_loss 0.8687 | step time 0.97ms\n",
      "step 160 | loss 0.2093 | total_mean_loss 0.8416 | step time 1.12ms\n",
      "step 170 | loss 0.2318 | total_mean_loss 0.8471 | step time 0.92ms\n",
      "step 180 | loss 0.2274 | total_mean_loss 0.8701 | step time 1.06ms\n"
     ]
    }
   ],
   "source": [
    "# training loop\n",
    "\n",
    "torch.manual_seed(10)\n",
    "\n",
    "best_loss = .01\n",
    "prev_total_mean_loss = 100\n",
    "max_steps = 180\n",
    "\n",
    "model.train() # We use this variable for training\n",
    "# init dataloader\n",
    "batch_loader = dataLoader(dataset,loss=total_mean_loss,replacement=False, batch_size=64, pin_memory=True, num_workers=1)\n",
    "\n",
    "while True:\n",
    "    t0 = time.time()\n",
    "    # get the next batch, ship to device, and unpack it to input and target\n",
    "    X, Y = batch_loader.next()\n",
    "    #check for NaN\n",
    "    if math.isnan(Y.mean()):\n",
    "        print (\"Breaking for NaN\")\n",
    "        break\n",
    "\n",
    "    # Forward pass\n",
    "    ypred = model(X)\n",
    "\n",
    "    # Calculate the loss\n",
    "    loss = criterion(ypred, Y)\n",
    "    \n",
    "    # Backward and optimize\n",
    "    model.zero_grad(set_to_none=True)\n",
    "    loss.backward()\n",
    "\n",
    "    # Evaluate model after this optimizer.step\n",
    "    # we evaluate on complete data\n",
    "    with torch.no_grad():\n",
    "        y = model(x)\n",
    "        total_mean_loss = criterion(y, ytest)\n",
    "    losses = np.append(losses, total_mean_loss)\n",
    "\n",
    "    optimizer.step() #Definitely needed\n",
    "    step += 1\n",
    "    scheduler.step(total_mean_loss)\n",
    "    t1 = time.time()\n",
    "\n",
    "    # store params (weights and biases) after each training step\n",
    "    if step % 10 == 0:\n",
    "        model_params.append(copy.deepcopy(model.state_dict()))\n",
    "        #model_param_grads.append(get_model_param_grad(model))\n",
    "             \n",
    "    # logging\n",
    "    if step % 10 == 0:         \n",
    "        print(f\"step {step} | loss {loss:.4f} | total_mean_loss {total_mean_loss:.4f} | step time {(t1-t0)*1000:.2f}ms\")\n",
    "\n",
    "    # termination conditions\n",
    "    if max_steps >= 0 and step % max_steps == 0:\n",
    "        break\n",
    "        \n",
    "    #if total_mean_loss.mean() < best_loss:\n",
    "        break\n",
    "\n",
    "    #if total_mean_loss.mean() > prev_total_mean_loss*1.5:\n",
    "    #    break #we may want to change learning rate\n",
    "\n",
    "    prev_total_mean_loss = total_mean_loss"
   ]
  },
  {
   "cell_type": "code",
   "execution_count": 248,
   "id": "6203fffe-dec0-41e8-998c-52efb7c65ef6",
   "metadata": {},
   "outputs": [
    {
     "name": "stdout",
     "output_type": "stream",
     "text": [
      " prev_total_mean_loss  tensor(0.8588)\n"
     ]
    },
    {
     "data": {
      "image/png": "[encoded data removed]",
      "text/plain": [
       "<Figure size 1000x400 with 2 Axes>"
      ]
     },
     "metadata": {},
     "output_type": "display_data"
    }
   ],
   "source": [
    "import matplotlib\n",
    "matplotlib.rcParams['figure.figsize'] = (10, 4) # this is done to increase width to \n",
    "\n",
    "# Create a figure and two axes objects\n",
    "# Increase the figure size to accommodate wider plots\n",
    "fig, (ax1, ax2) = plt.subplots(1, 2)\n",
    "\n",
    "# plot loss\n",
    "print (\" prev_total_mean_loss \",prev_total_mean_loss)\n",
    "ax1.plot(losses)\n",
    "\n",
    "# plot trained model\n",
    "y = model(x)\n",
    "yout = y.data.reshape(xs.shape[0])\n",
    "ax2.plot(x, ytest)\n",
    "ax2.scatter(x, yout, color='red', s=1)\n",
    "\n",
    "# Display the plot\n",
    "plt.show()"
   ]
  },
  {
   "cell_type": "code",
   "execution_count": 447,
   "id": "15da7776-cbcd-400c-a9cd-3fbf16cd891a",
   "metadata": {},
   "outputs": [
    {
     "data": {
      "text/plain": [
       "'model_segment_v4_graph.pdf'"
      ]
     },
     "execution_count": 447,
     "metadata": {},
     "output_type": "execute_result"
    }
   ],
   "source": [
    "#!pip install torchviz\n",
    "from torchviz import make_dot\n",
    "\n",
    "# Generate a Graphviz object from the computation graph\n",
    "graph = make_dot(loss, params=dict(model.named_parameters())) \n",
    "\n",
    "# Save the graph as a PDF or any other format if needed\n",
    "graph.render(\"model_segment_v4_graph\")"
   ]
  },
  {
   "cell_type": "code",
   "execution_count": 455,
   "id": "7c86b2d2",
   "metadata": {},
   "outputs": [
    {
     "data": {
      "text/plain": [
       "[OrderedDict([('x',\n",
       "               tensor([-0.1079, -0.0707, -0.0259,  0.0176,  0.0278,  0.0745,  0.1041])),\n",
       "              ('y',\n",
       "               tensor([-0.0058,  0.0195, -0.0198, -0.0187, -0.0053,  0.0193, -0.0083]))]),\n",
       " OrderedDict([('x',\n",
       "               tensor([-0.1092, -0.0667, -0.0273,  0.0096,  0.0326,  0.0718,  0.1058])),\n",
       "              ('y',\n",
       "               tensor([-0.0060,  0.0294, -0.0296, -0.0284, -0.0090,  0.0291, -0.0117]))]),\n",
       " OrderedDict([('x',\n",
       "               tensor([-0.1099, -0.0682, -0.0248,  0.0190,  0.0293,  0.0740,  0.1054])),\n",
       "              ('y',\n",
       "               tensor([-0.0053,  0.0388, -0.0399, -0.0373, -0.0084,  0.0386, -0.0123]))]),\n",
       " OrderedDict([('x',\n",
       "               tensor([-0.1070, -0.0699, -0.0233,  0.0278,  0.0308,  0.0753,  0.1047])),\n",
       "              ('y',\n",
       "               tensor([-0.0076,  0.0478, -0.0502, -0.0449, -0.0037,  0.0477, -0.0129]))]),\n",
       " OrderedDict([('x',\n",
       "               tensor([-0.1071, -0.0711, -0.0193,  0.0314,  0.0329,  0.0771,  0.1024])),\n",
       "              ('y',\n",
       "               tensor([-0.0078,  0.0563, -0.0599, -0.0507,  0.0032,  0.0560, -0.0143]))]),\n",
       " OrderedDict([('x',\n",
       "               tensor([-0.1061, -0.0726, -0.0170,  0.0302,  0.0339,  0.0792,  0.1024])),\n",
       "              ('y',\n",
       "               tensor([-0.0084,  0.0639, -0.0684, -0.0543,  0.0109,  0.0635, -0.0144]))]),\n",
       " OrderedDict([('x',\n",
       "               tensor([-0.1053, -0.0741, -0.0145,  0.0277,  0.0357,  0.0804,  0.1013])),\n",
       "              ('y',\n",
       "               tensor([-0.0090,  0.0706, -0.0754, -0.0564,  0.0164,  0.0700, -0.0150]))]),\n",
       " OrderedDict([('x',\n",
       "               tensor([-0.1046, -0.0754, -0.0130,  0.0262,  0.0383,  0.0809,  0.1008])),\n",
       "              ('y',\n",
       "               tensor([-0.0094,  0.0765, -0.0810, -0.0579,  0.0203,  0.0755, -0.0153]))]),\n",
       " OrderedDict([('x',\n",
       "               tensor([-0.1040, -0.0761, -0.0120,  0.0247,  0.0415,  0.0807,  0.1006])),\n",
       "              ('y',\n",
       "               tensor([-0.0097,  0.0814, -0.0855, -0.0588,  0.0241,  0.0800, -0.0154]))]),\n",
       " OrderedDict([('x',\n",
       "               tensor([-0.1035, -0.0765, -0.0111,  0.0236,  0.0430,  0.0798,  0.1005])),\n",
       "              ('y',\n",
       "               tensor([-0.0099,  0.0855, -0.0888, -0.0594,  0.0292,  0.0839, -0.0155]))]),\n",
       " OrderedDict([('x',\n",
       "               tensor([-0.1039, -0.0773, -0.0109,  0.0232,  0.0449,  0.0800,  0.1007])),\n",
       "              ('y',\n",
       "               tensor([-0.0099,  0.0887, -0.0913, -0.0600,  0.0327,  0.0871, -0.0154]))])]"
      ]
     },
     "execution_count": 455,
     "metadata": {},
     "output_type": "execute_result"
    }
   ],
   "source": [
    "model_params[:-10]"
   ]
  },
  {
   "cell_type": "code",
   "execution_count": 194,
   "id": "72b5517a",
   "metadata": {},
   "outputs": [
    {
     "data": {
      "text/plain": [
       "(tensor(-0.1091), tensor(0.1091))"
      ]
     },
     "execution_count": 194,
     "metadata": {},
     "output_type": "execute_result"
    }
   ],
   "source": [
    "x.min(),x.max()"
   ]
  },
  {
   "cell_type": "code",
   "execution_count": null,
   "id": "6103f5f3",
   "metadata": {},
   "outputs": [],
   "source": []
  }
 ],
 "metadata": {
  "kernelspec": {
   "display_name": "Python 3 (ipykernel)",
   "language": "python",
   "name": "python3"
  },
  "language_info": {
   "codemirror_mode": {
    "name": "ipython",
    "version": 3
   },
   "file_extension": ".py",
   "mimetype": "text/x-python",
   "name": "python",
   "nbconvert_exporter": "python",
   "pygments_lexer": "ipython3",
   "version": "3.10.10"
  }
 },
 "nbformat": 4,
 "nbformat_minor": 5
}
