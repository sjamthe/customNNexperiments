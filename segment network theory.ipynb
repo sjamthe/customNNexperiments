{
 "cells": [
  {
   "cell_type": "markdown",
   "id": "f021f255-bfd9-46a0-8e8f-5d6b6b73d1b8",
   "metadata": {},
   "source": [
    "# Use of clamp to replace chop in a neural network"
   ]
  },
  {
   "cell_type": "markdown",
   "id": "6db36528-14a1-4841-b750-7f53b2f6f9a0",
   "metadata": {},
   "source": [
    "The idea is to use clamp max value to simulate chop. \n",
    "bias is where the 1st line meets y-axis. if we want to stop 1st line (ie chop) at a certain value and start second line\n",
    "instead of looking at x value as we did in chop we look at y coordinate of this point and use chop-max to stop the line\n",
    "and then use the same y-point as bias for second line."
   ]
  },
  {
   "cell_type": "raw",
   "id": "4cccf865-529b-4e20-a6ae-2114582aa2f3",
   "metadata": {},
   "source": [
    "Y1 = w1@X + b1 # where is 1st segments slope and bias is the normal bias\n",
    "Then we chomp this line\n",
    "Y1c = Y1.clamp(0,c1) #\n",
    "Where c1 is the intersection of line1 & line2\n",
    "Second segment starts at \n",
    "Y2 = w2.X + b2 # an so on. We don't need to clamp the last line.\n",
    "\n",
    "So final equation is \n",
    "Y = (w1@X + b1).clamp(0, c1) ..\n",
    "\n",
    "How to find c1 (point where both lines meet so x,y are same)\n",
    "\n",
    "w1*x + b1 = w2*x + b2\n",
    "x = (b2 - b1)/(w1 - w2)\n",
    "y = w1*(b2 - b1)/(w1 - w2) + b1\n",
    "# If w1 = w2 we have parallel lines if b1 != b2, if b1==b2 then it is the same line.\n",
    "# If this happens we should just use y = from line 1 \n"
   ]
  },
  {
   "cell_type": "code",
   "execution_count": 183,
   "id": "2e79de35-c187-4edc-bbaa-6c0b1955b99a",
   "metadata": {},
   "outputs": [],
   "source": [
    "import torch\n",
    "import torch.nn as nn"
   ]
  },
  {
   "cell_type": "code",
   "execution_count": 44,
   "id": "adb40236-9d26-4f0c-866f-b1a913bbae7a",
   "metadata": {},
   "outputs": [],
   "source": [
    "import matplotlib.pyplot as plt\n",
    "%matplotlib inline"
   ]
  },
  {
   "cell_type": "markdown",
   "id": "f83b6be5-cb59-4350-bb63-dd3ab4641d6b",
   "metadata": {},
   "source": [
    "## Segment test implementation "
   ]
  },
  {
   "cell_type": "code",
   "execution_count": 291,
   "id": "a555e437-1b41-49e8-ab79-9fdd0e84c2bc",
   "metadata": {},
   "outputs": [],
   "source": [
    "# function to simulate a 4 segment function\n",
    "def f_segments(X, W, B):\n",
    "    assert W.shape == B.shape, \"Weights and biases should have same shape\"\n",
    "    \n",
    "    Y = torch.zeros_like(X)\n",
    "    C = torch.zeros(Weights.shape[0]-1)\n",
    "    for i in (range(W.shape[0])):\n",
    "        print(\"for i = \",i)\n",
    "        Yn = W[i]*X + B[i]\n",
    "        print(\"linear\",Yn)\n",
    "        if(i-1 >= 0): # Clamp X the begining\n",
    "            # Create mask for X\n",
    "            Mn = torch.ones_like(X)\n",
    "            Mn = Mn.masked_fill((X < C[i-1]), 0)\n",
    "            print(\"Mask min for Ci-1\",C[i-1],Mn)\n",
    "            Yn =  Yn*Mn\n",
    "            print(\"Mask-min\",Yn)\n",
    "        if(i+1 < W.shape[0]):\n",
    "            # if next line is parallel to previous line ignore it\n",
    "            if W[i] == W[i+1]:\n",
    "                continue\n",
    "                \n",
    "            C[i] = (B[i+1] - B[i])/(W[i] - W[i+1])\n",
    "            Mn = torch.ones_like(X)\n",
    "            Mn = Mn.masked_fill((X >= C[i]), 0)\n",
    "            print(\"Mask min for Ci\",C[i],Mn)\n",
    "            Yn =  Yn*Mn\n",
    "            print(\"Mask-max\",Yn)\n",
    "        Y += Yn\n",
    "        print(\"Y=\",Y)\n",
    "    return Y"
   ]
  },
  {
   "cell_type": "code",
   "execution_count": 336,
   "id": "5c949b01-0413-457f-8783-75820386aecf",
   "metadata": {},
   "outputs": [
    {
     "name": "stdout",
     "output_type": "stream",
     "text": [
      "for i =  0\n",
      "linear tensor([[ 0.],\n",
      "        [ 2.],\n",
      "        [ 4.],\n",
      "        [ 6.],\n",
      "        [ 8.],\n",
      "        [10.],\n",
      "        [12.],\n",
      "        [14.],\n",
      "        [16.],\n",
      "        [18.]])\n",
      "Mask min for Ci tensor(2.6667) tensor([[1.],\n",
      "        [1.],\n",
      "        [1.],\n",
      "        [0.],\n",
      "        [0.],\n",
      "        [0.],\n",
      "        [0.],\n",
      "        [0.],\n",
      "        [0.],\n",
      "        [0.]])\n",
      "Mask-max tensor([[0.],\n",
      "        [2.],\n",
      "        [4.],\n",
      "        [0.],\n",
      "        [0.],\n",
      "        [0.],\n",
      "        [0.],\n",
      "        [0.],\n",
      "        [0.],\n",
      "        [0.]])\n",
      "Y= tensor([[0.],\n",
      "        [2.],\n",
      "        [4.],\n",
      "        [0.],\n",
      "        [0.],\n",
      "        [0.],\n",
      "        [0.],\n",
      "        [0.],\n",
      "        [0.],\n",
      "        [0.]])\n",
      "for i =  1\n",
      "linear tensor([[ 8.],\n",
      "        [ 7.],\n",
      "        [ 6.],\n",
      "        [ 5.],\n",
      "        [ 4.],\n",
      "        [ 3.],\n",
      "        [ 2.],\n",
      "        [ 1.],\n",
      "        [ 0.],\n",
      "        [-1.]])\n",
      "Mask min for Ci-1 tensor(2.6667) tensor([[0.],\n",
      "        [0.],\n",
      "        [0.],\n",
      "        [1.],\n",
      "        [1.],\n",
      "        [1.],\n",
      "        [1.],\n",
      "        [1.],\n",
      "        [1.],\n",
      "        [1.]])\n",
      "Mask-min tensor([[ 0.],\n",
      "        [ 0.],\n",
      "        [ 0.],\n",
      "        [ 5.],\n",
      "        [ 4.],\n",
      "        [ 3.],\n",
      "        [ 2.],\n",
      "        [ 1.],\n",
      "        [ 0.],\n",
      "        [-1.]])\n",
      "Mask min for Ci tensor(9.) tensor([[1.],\n",
      "        [1.],\n",
      "        [1.],\n",
      "        [1.],\n",
      "        [1.],\n",
      "        [1.],\n",
      "        [1.],\n",
      "        [1.],\n",
      "        [1.],\n",
      "        [0.]])\n",
      "Mask-max tensor([[0.],\n",
      "        [0.],\n",
      "        [0.],\n",
      "        [5.],\n",
      "        [4.],\n",
      "        [3.],\n",
      "        [2.],\n",
      "        [1.],\n",
      "        [0.],\n",
      "        [-0.]])\n",
      "Y= tensor([[0.],\n",
      "        [2.],\n",
      "        [4.],\n",
      "        [5.],\n",
      "        [4.],\n",
      "        [3.],\n",
      "        [2.],\n",
      "        [1.],\n",
      "        [0.],\n",
      "        [0.]])\n",
      "for i =  2\n",
      "linear tensor([[-10.],\n",
      "        [ -9.],\n",
      "        [ -8.],\n",
      "        [ -7.],\n",
      "        [ -6.],\n",
      "        [ -5.],\n",
      "        [ -4.],\n",
      "        [ -3.],\n",
      "        [ -2.],\n",
      "        [ -1.]])\n",
      "Mask min for Ci-1 tensor(9.) tensor([[0.],\n",
      "        [0.],\n",
      "        [0.],\n",
      "        [0.],\n",
      "        [0.],\n",
      "        [0.],\n",
      "        [0.],\n",
      "        [0.],\n",
      "        [0.],\n",
      "        [1.]])\n",
      "Mask-min tensor([[-0.],\n",
      "        [-0.],\n",
      "        [-0.],\n",
      "        [-0.],\n",
      "        [-0.],\n",
      "        [-0.],\n",
      "        [-0.],\n",
      "        [-0.],\n",
      "        [-0.],\n",
      "        [-1.]])\n",
      "Y= tensor([[ 0.],\n",
      "        [ 2.],\n",
      "        [ 4.],\n",
      "        [ 5.],\n",
      "        [ 4.],\n",
      "        [ 3.],\n",
      "        [ 2.],\n",
      "        [ 1.],\n",
      "        [ 0.],\n",
      "        [-1.]])\n"
     ]
    },
    {
     "data": {
      "text/plain": [
       "[<matplotlib.lines.Line2D at 0x16d960700>]"
      ]
     },
     "execution_count": 336,
     "metadata": {},
     "output_type": "execute_result"
    },
    {
     "data": {
      "image/png": "[encoded data removed]",
      "text/plain": [
       "<Figure size 640x480 with 1 Axes>"
      ]
     },
     "metadata": {},
     "output_type": "display_data"
    }
   ],
   "source": [
    "Weights = torch.Tensor([2., -1., 1.])\n",
    "Biases =  torch.Tensor([0., 8., -10.])\n",
    "X = torch.arange(0.,10).unsqueeze(-1) # unsqueeze(-1) converts shape (10,) to shape(10,1)\n",
    "\n",
    "Y = f_segments(X, Weights, Biases)\n",
    "plt.scatter(X,Y)\n",
    "\n",
    "plt.plot(X, Weights[0]*X + Biases[0])\n",
    "plt.plot(X, (Weights[1]*X + Biases[1]))"
   ]
  },
  {
   "cell_type": "markdown",
   "id": "04d3783b-90e5-423f-8dff-6052f28d7b91",
   "metadata": {},
   "source": [
    "## One layer Segment Network implementation"
   ]
  },
  {
   "cell_type": "code",
   "execution_count": 329,
   "id": "98cf3a31-45c7-48f0-bf1f-75f7edbdd57a",
   "metadata": {},
   "outputs": [],
   "source": [
    "class OneLayerSegmentNet(nn.Module):\n",
    "    def __init__(self, in_features, segment_features):\n",
    "        super(OneLayerSegmentNet, self).__init__()\n",
    "        self.segment_features = segment_features\n",
    "        self.in_features = in_features\n",
    "        self.weight = nn.Parameter(torch.Tensor(segment_features, in_features))\n",
    "        self.bias = nn.Parameter(torch.Tensor(segment_features))\n",
    "\n",
    "        #Test initialization\n",
    "        with torch.no_grad():\n",
    "            self.weight.data = Weight\n",
    "            self.bias.data = Bias\n",
    "        #print(self.weight, self.bias)\n",
    "\n",
    "\n",
    "    def forward(self, x):\n",
    "        y = torch.zeros(x.shape[0],1)\n",
    "        #intersections store the X coordinates for intersection of consecutive segments (lines from weights)\n",
    "        intersections = torch.Tensor(self.segment_features-1)\n",
    "\n",
    "        #TODO: replace for loop with matrix if possible and necessary for performance\n",
    "        for i in range(self.segment_features):\n",
    "            print(\"for i = \",i)\n",
    "            yn = torch.matmul(x, self.weight[i]) + self.bias[i]\n",
    "            yn = yn.unsqueeze(-1)\n",
    "            #print(\"linear\",yn.shape, yn)\n",
    "            if(i+1 < self.segment_features): # clamp only N-1 segments in the end\n",
    "                # if next line is parallel to previous line (no intersection) then ignore this\n",
    "                if self.weight[i] == self.weight[i+1]:\n",
    "                    continue\n",
    "                    \n",
    "                intersections[i] = (self.bias[i+1] - self.bias[i])/(self.weight[i] - self.weight[i+1])\n",
    "                mask = torch.ones_like(x).masked_fill((x >= intersections[i]), 0)\n",
    "                #print(\"Mask min for Ci\",intersections[i],mask)\n",
    "                #print(yn.shape, mask.shape)\n",
    "                yn =  yn*mask\n",
    "                #print(\"Mask-max\",yn)\n",
    "                \n",
    "            if(i-1 >= 0): # Clamp X the beginning only second segment onwards\n",
    "                # Create mask for X\n",
    "                mask = torch.ones_like(x).masked_fill((x < intersections[i-1]), 0)\n",
    "                #print(\"Mask min for intersections[i-1]\",intersections[i-1],mask)\n",
    "                yn =  yn*mask\n",
    "                #print(\"Mask-min\",yn)\n",
    "            y += yn\n",
    "            #print(\"Y=\",y)\n",
    "        print (intersections)\n",
    "        return y"
   ]
  },
  {
   "cell_type": "markdown",
   "id": "937abe5e-6d72-4c2a-9d94-f8f682ff8c1f",
   "metadata": {},
   "source": [
    "### Testing OneLayerSegmentNet"
   ]
  },
  {
   "cell_type": "code",
   "execution_count": 337,
   "id": "37132613-44de-4f03-bd63-778a41e418e4",
   "metadata": {},
   "outputs": [],
   "source": [
    "Weight = torch.Tensor([[2.], [-1.], [1]])\n",
    "Bias =  torch.Tensor([0., 8., -10.])"
   ]
  },
  {
   "cell_type": "code",
   "execution_count": 295,
   "id": "9912a02d-f38c-42c8-921c-6a55a112c2ab",
   "metadata": {},
   "outputs": [],
   "source": [
    "criterion = nn.MSELoss(reduction='mean')"
   ]
  },
  {
   "cell_type": "code",
   "execution_count": 322,
   "id": "8a6cee90-4a43-4f38-94b9-71d021f6d8e0",
   "metadata": {},
   "outputs": [
    {
     "data": {
      "text/plain": [
       "torch.Size([45, 1])"
      ]
     },
     "execution_count": 322,
     "metadata": {},
     "output_type": "execute_result"
    }
   ],
   "source": [
    "x = torch.arange(-5.,40).unsqueeze(-1) # unsqueeze(-1) converts shape (10,) to shape(10,1)\n",
    "x.shape"
   ]
  },
  {
   "cell_type": "code",
   "execution_count": 339,
   "id": "7c3306ea-2b62-4062-977b-52f5f38055b9",
   "metadata": {},
   "outputs": [],
   "source": [
    "n = OneLayerSegmentNet(1,Weight.shape[0])"
   ]
  },
  {
   "cell_type": "code",
   "execution_count": 340,
   "id": "4d5240e6-561f-4a6a-b6cf-6f3bc05655cf",
   "metadata": {},
   "outputs": [
    {
     "name": "stdout",
     "output_type": "stream",
     "text": [
      "for i =  0\n",
      "for i =  1\n",
      "for i =  2\n",
      "tensor([2.6667, 9.0000], grad_fn=<CopySlices>)\n"
     ]
    }
   ],
   "source": [
    "y = n.forward(x)"
   ]
  },
  {
   "cell_type": "code",
   "execution_count": 341,
   "id": "c32d9343-4805-4eb4-b1fd-5f315a99a4d2",
   "metadata": {},
   "outputs": [
    {
     "data": {
      "image/png": "[encoded data removed]",
      "text/plain": [
       "<Figure size 640x480 with 1 Axes>"
      ]
     },
     "metadata": {},
     "output_type": "display_data"
    }
   ],
   "source": [
    "with torch.no_grad():\n",
    "    plt.scatter(x,y)"
   ]
  },
  {
   "cell_type": "code",
   "execution_count": 299,
   "id": "20323854-b6c0-4129-91a9-2505a2a318f5",
   "metadata": {},
   "outputs": [],
   "source": [
    "loss = criterion(y, Y)"
   ]
  },
  {
   "cell_type": "code",
   "execution_count": 300,
   "id": "99986dcf-a386-4714-879d-94d3685e4ddb",
   "metadata": {},
   "outputs": [
    {
     "data": {
      "text/plain": [
       "tensor(0., grad_fn=<MseLossBackward0>)"
      ]
     },
     "execution_count": 300,
     "metadata": {},
     "output_type": "execute_result"
    }
   ],
   "source": [
    "loss"
   ]
  },
  {
   "cell_type": "code",
   "execution_count": 280,
   "id": "32b511fb-0f9b-4538-bbd8-04168392ee99",
   "metadata": {},
   "outputs": [
    {
     "data": {
      "text/plain": [
       "'segment_network_graph.pdf'"
      ]
     },
     "execution_count": 280,
     "metadata": {},
     "output_type": "execute_result"
    }
   ],
   "source": [
    "from torchviz import make_dot\n",
    "\n",
    "\n",
    "# Generate a Graphviz object from the computation graph\n",
    "graph = make_dot(loss, params=dict(n.named_parameters())) \n",
    "\n",
    "# Save the graph as a PDF or any other format if needed\n",
    "graph.render(\"segment_network_graph\")"
   ]
  }
 ],
 "metadata": {
  "kernelspec": {
   "display_name": "Python 3 (ipykernel)",
   "language": "python",
   "name": "python3"
  },
  "language_info": {
   "codemirror_mode": {
    "name": "ipython",
    "version": 3
   },
   "file_extension": ".py",
   "mimetype": "text/x-python",
   "name": "python",
   "nbconvert_exporter": "python",
   "pygments_lexer": "ipython3",
   "version": "3.10.10"
  }
 },
 "nbformat": 4,
 "nbformat_minor": 5
}
