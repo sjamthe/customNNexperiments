{
 "cells": [
  {
   "cell_type": "markdown",
   "metadata": {},
   "source": [
    "# Classification with Segment Network\n",
    "* Summary: This was a success. Models train well\n",
    "* Learning: for MNIST grayscale works well all you need to do is flatten it by row or col and feed it it."
   ]
  },
  {
   "cell_type": "markdown",
   "metadata": {},
   "source": [
    "# Initialization"
   ]
  },
  {
   "cell_type": "code",
   "execution_count": 12,
   "metadata": {},
   "outputs": [],
   "source": [
    "import math\n",
    "import random\n",
    "import numpy as np\n",
    "import matplotlib.pyplot as plt\n",
    "\n",
    "import torch\n",
    "import torch.nn as nn\n",
    "import torch.nn.functional as F\n",
    "from torch.utils.data import DataLoader\n",
    "\n",
    "import time\n",
    "from tqdm import tqdm\n",
    "\n",
    "from segment import Segment\n",
    "\n",
    "%matplotlib inline\n"
   ]
  },
  {
   "cell_type": "code",
   "execution_count": 13,
   "metadata": {},
   "outputs": [
    {
     "name": "stdout",
     "output_type": "stream",
     "text": [
      "Using cpu device\n"
     ]
    }
   ],
   "source": [
    "device = (\n",
    "    \"cuda\"\n",
    "    if torch.cuda.is_available()\n",
    "    #else \"mps\"\n",
    "    #if torch.backends.mps.is_available()\n",
    "    else \"cpu\"\n",
    ")\n",
    "print(f\"Using {device} device\")"
   ]
  },
  {
   "cell_type": "code",
   "execution_count": 14,
   "metadata": {},
   "outputs": [],
   "source": [
    "def set_random_seeds(seed_value=42):\n",
    "    \"\"\"Sets all possible random seeds so results can be reproduced.\"\"\"\n",
    "    random.seed(seed_value)\n",
    "    np.random.seed(seed_value)\n",
    "    torch.manual_seed(seed_value)\n",
    "    torch.cuda.manual_seed_all(seed_value)\n",
    "    torch.backends.cudnn.deterministic = True\n",
    "    torch.backends.cudnn.benchmark = False\n",
    "\n",
    "set_random_seeds()"
   ]
  },
  {
   "cell_type": "markdown",
   "metadata": {},
   "source": [
    "# MNIST dataset"
   ]
  },
  {
   "cell_type": "code",
   "execution_count": 15,
   "metadata": {},
   "outputs": [
    {
     "name": "stdout",
     "output_type": "stream",
     "text": [
      "60000 10000\n",
      "torch.Size([784]) torch.Size([784])\n"
     ]
    }
   ],
   "source": [
    "from typing import Any\n",
    "from torchvision import datasets, transforms\n",
    "\n",
    "flatten_by_row_transform = transforms.Lambda(lambda x: x.flatten())\n",
    "flatten_by_col_transform = transforms.Lambda(lambda x: x.permute(0,2,1).flatten())\n",
    "bw_array_transform = transforms.Lambda(lambda x: torch.where(x < x.mean(), 0., 1.))\n",
    "position_transform = transforms.Lambda(lambda x: x*torch.arange(1, x.shape[0]+1.)/x.shape[0] )\n",
    "\n",
    "class subtract_pos_transform():\n",
    "    \"\"\"\n",
    "    NOTE: This transform creates output tensor of size N*(N-1)/2 (N is the length of the input tensor\n",
    "    This is too large.\n",
    "\n",
    "    Args:\n",
    "    tensor (Tensor): Tensor 1D flattened image from position transform.\n",
    "\n",
    "    Returns:\n",
    "        Tensor: Tensor with pixel differences from other non zero pixels.\n",
    "    \"\"\"\n",
    "    def __call__(self, tensor) -> Any:\n",
    "        diff_matrix = tensor.view(tensor.shape[0],1) - tensor\n",
    "        results = []\n",
    "        for i in range(diff_matrix.size(0)):\n",
    "            results.append(diff_matrix[i, i+1:])\n",
    "\n",
    "        return torch.cat(results).flatten()\n",
    "\n",
    "train_transform = transforms.Compose([\n",
    "    transforms.ToTensor(),  # Convert images to PyTorch tensors\n",
    "    transforms.RandomRotation(15),\n",
    "    #bw_array_transform,\n",
    "    flatten_by_row_transform\n",
    "    #position_transform\n",
    "])\n",
    "\n",
    "test_transform = transforms.Compose([\n",
    "    transforms.ToTensor(),  # Convert images to PyTorch tensors\n",
    "    #bw_array_transform,\n",
    "    flatten_by_row_transform\n",
    "    #position_transform     \n",
    "])\n",
    "\n",
    "train_set = datasets.MNIST('../../data', train=True, download=False, transform=train_transform)\n",
    "test_set = datasets.MNIST('../../data', train=False, download=False, transform=test_transform)\n",
    "print(len(train_set), len(test_set))\n",
    "print(train_set[0][0].shape, test_set[0][0].shape)"
   ]
  },
  {
   "cell_type": "markdown",
   "metadata": {},
   "source": [
    "# Model Definition\n",
    "* Start with single layer Segment with output = number of labels\n",
    "* Then increase number of layers to see if loss reduces \n",
    "* Then try transposing input x and batch size and see if it trains better"
   ]
  },
  {
   "cell_type": "markdown",
   "metadata": {},
   "source": [
    "# Model Training"
   ]
  },
  {
   "cell_type": "code",
   "execution_count": 16,
   "metadata": {},
   "outputs": [],
   "source": [
    "class SimpleModel(nn.Module):\n",
    "    def __init__(self, input_size, output_size, segment_size):\n",
    "        super().__init__()\n",
    "        self.seg1 = Segment(input_size, output_size, segment_size)\n",
    "        self.init = False\n",
    "\n",
    "    def forward(self, x):\n",
    "        if self.training and not self.init:\n",
    "            self.seg1.custom_init(torch.zeros_like(x.min(dim=0).values), torch.ones_like(x.max(dim=0).values))\n",
    "            self.init = True\n",
    "        x = self.seg1(x)\n",
    "        return x"
   ]
  },
  {
   "cell_type": "code",
   "execution_count": 17,
   "metadata": {},
   "outputs": [],
   "source": [
    "#Permute input to seg1.\n",
    "#Seg2 input should be the parameters from seg1 (not output)\n",
    "class MyModel(nn.Module):\n",
    "    def __init__(self, input_size, batch_size, segment1_size, segment2_size, segment3_size, output_dim):\n",
    "        super().__init__()\n",
    "        self.init = False\n",
    "        self.seg1 = Segment(1, batch_size, segment1_size)\n",
    "        seg2_output_size = segment1_size+1\n",
    "        self.x_in = None\n",
    "        #split seg2 into x,y parts to reduce unnecessary parameters\n",
    "        self.seg2x = Segment(input_size, seg2_output_size, segment2_size)\n",
    "        self.seg2y = Segment(input_size, seg2_output_size, segment2_size)\n",
    "        self.seg3 = Segment(2*seg2_output_size, output_dim, segment3_size)\n",
    "        \n",
    "    def custom_init(self, x):\n",
    "        x_min = torch.zeros(self.seg1.in_features, dtype=x.dtype)\n",
    "        x_max = torch.ones(self.seg1.in_features, dtype=x.dtype)\n",
    "        self.seg1.custom_init(x_min, x_max)\n",
    "        x_min = torch.zeros(self.seg2x.in_features, dtype=x.dtype)\n",
    "        x_max = torch.ones(self.seg2x.in_features, dtype=x.dtype)\n",
    "        self.seg2x.custom_init(x_min, x_max)\n",
    "        self.seg2y.custom_init(x_min, x_max)\n",
    "        x_min = torch.zeros(self.seg3.in_features, dtype=x.dtype)\n",
    "        x_max = torch.ones(self.seg3.in_features, dtype=x.dtype)\n",
    "        self.seg3.custom_init(x_min, x_max)\n",
    "        \n",
    "        self.init = True\n",
    "\n",
    "    def forward(self, x):\n",
    "        if self.training:\n",
    "            if not self.init:\n",
    "                self.custom_init(x)\n",
    "            \n",
    "            #Train a model1 that predicts x,y for the input x_in so output is x\n",
    "            self.x_in = torch.arange(1, x.shape[1]+1.)/x.shape[1]\n",
    "            self.x_in.unsqueeze_(-1)\n",
    "            y1 = self.seg1(self.x_in)\n",
    "            loss1 = F.mse_loss(y1, x.permute(1,0))\n",
    "\n",
    "        \n",
    "        self.xembeddings = self.seg2x(x)\n",
    "        self.yembeddings = self.seg2y(x)\n",
    "        \n",
    "        if self.training:\n",
    "            seg1_xparams = self.seg1.x.view(self.seg1.x.shape[2], self.seg1.x.shape[1])\n",
    "            seg1_yparams = self.seg1.y.view(self.seg1.y.shape[2], self.seg1.y.shape[1])\n",
    "            loss2x = F.mse_loss(self.xembeddings, seg1_xparams)\n",
    "            loss2y = F.mse_loss(self.yembeddings, seg1_yparams)\n",
    "        \n",
    "        self.embeddings = torch.cat((self.xembeddings, self.yembeddings), dim=1)\n",
    "        ypred = self.seg3(self.embeddings)\n",
    "\n",
    "        if self.training:\n",
    "            return [loss1, loss2x, loss2y], ypred\n",
    "        else:\n",
    "            return ypred\n",
    "    "
   ]
  },
  {
   "cell_type": "code",
   "execution_count": 18,
   "metadata": {},
   "outputs": [
    {
     "name": "stdout",
     "output_type": "stream",
     "text": [
      "MyModel(\n",
      "  (seg1): Segment(in_features=1, out_features=64, segment_features=14)\n",
      "  (seg2x): Segment(in_features=784, out_features=15, segment_features=3)\n",
      "  (seg2y): Segment(in_features=784, out_features=15, segment_features=3)\n",
      "  (seg3): Segment(in_features=30, out_features=10, segment_features=10)\n",
      ")\n",
      "Total parameters: 196680\n",
      "Seg1 parameters: 1920\n",
      "Seg2(x,y) parameters: 94080, 94080\n",
      "Seg3 parameters: 6600\n",
      "Device = cpu\n"
     ]
    }
   ],
   "source": [
    "# Define Model : 1 input, 1 output, play with segments starting from 1/2 of image pixels.\n",
    "BATCH_SIZE=64\n",
    "set_random_seeds()\n",
    "\n",
    "#model = SimpleModel(784,10,10)\n",
    "model = MyModel(784, 64, 14, 3, 10, 10).to(device)\n",
    "print(model)\n",
    "\n",
    "total_params = sum(p.numel() for p in model.parameters())\n",
    "print(f\"Total parameters: {total_params}\")\n",
    "total_params = sum(p.numel() for p in model.seg1.parameters())\n",
    "print(f\"Seg1 parameters: {total_params}\")\n",
    "total_params = sum(p.numel() for p in model.seg2x.parameters())\n",
    "print(f\"Seg2(x,y) parameters: {total_params}, {total_params}\")\n",
    "total_params = sum(p.numel() for p in model.seg3.parameters())\n",
    "print(f\"Seg3 parameters: {total_params}\")\n",
    "print(f\"Device = {next(model.parameters()).device}\")"
   ]
  },
  {
   "cell_type": "code",
   "execution_count": 19,
   "metadata": {},
   "outputs": [
    {
     "name": "stderr",
     "output_type": "stream",
     "text": [
      "100%|██████████| 938/938 [00:27<00:00, 34.48it/s]\n",
      "100%|██████████| 157/157 [00:01<00:00, 80.90it/s]\n"
     ]
    },
    {
     "name": "stdout",
     "output_type": "stream",
     "text": [
      "------------------------------\n",
      "Train Loss EPOCH 1: [0.10588961 0.104936   0.07414109 1.38315306]\n",
      "Valid Loss EPOCH 1: 0.6679\n",
      "Valid Accuracy EPOCH 1: 0.8859\n",
      "------------------------------\n"
     ]
    },
    {
     "name": "stderr",
     "output_type": "stream",
     "text": [
      "100%|██████████| 938/938 [00:26<00:00, 34.81it/s]\n",
      "100%|██████████| 157/157 [00:01<00:00, 82.19it/s]\n"
     ]
    },
    {
     "name": "stdout",
     "output_type": "stream",
     "text": [
      "------------------------------\n",
      "Train Loss EPOCH 2: [0.09985123 0.1097333  0.11161126 0.51659742]\n",
      "Valid Loss EPOCH 2: 0.3621\n",
      "Valid Accuracy EPOCH 2: 0.9168\n",
      "------------------------------\n"
     ]
    },
    {
     "name": "stderr",
     "output_type": "stream",
     "text": [
      "100%|██████████| 938/938 [00:27<00:00, 34.41it/s]\n",
      "100%|██████████| 157/157 [00:01<00:00, 81.73it/s]\n"
     ]
    },
    {
     "name": "stdout",
     "output_type": "stream",
     "text": [
      "------------------------------\n",
      "Train Loss EPOCH 3: [0.09740336 0.11259818 0.09990805 0.36090231]\n",
      "Valid Loss EPOCH 3: 0.2705\n",
      "Valid Accuracy EPOCH 3: 0.9323\n",
      "------------------------------\n"
     ]
    },
    {
     "name": "stderr",
     "output_type": "stream",
     "text": [
      "100%|██████████| 938/938 [00:27<00:00, 34.43it/s]\n",
      "100%|██████████| 157/157 [00:01<00:00, 81.71it/s]\n"
     ]
    },
    {
     "name": "stdout",
     "output_type": "stream",
     "text": [
      "------------------------------\n",
      "Train Loss EPOCH 4: [0.09600285 0.11399607 0.09064365 0.30363221]\n",
      "Valid Loss EPOCH 4: 0.2328\n",
      "Valid Accuracy EPOCH 4: 0.9396\n",
      "------------------------------\n"
     ]
    },
    {
     "name": "stderr",
     "output_type": "stream",
     "text": [
      "100%|██████████| 938/938 [00:27<00:00, 34.42it/s]\n",
      "100%|██████████| 157/157 [00:01<00:00, 81.68it/s]\n"
     ]
    },
    {
     "name": "stdout",
     "output_type": "stream",
     "text": [
      "------------------------------\n",
      "Train Loss EPOCH 5: [0.09506221 0.11445249 0.08422749 0.26992099]\n",
      "Valid Loss EPOCH 5: 0.2213\n",
      "Valid Accuracy EPOCH 5: 0.9431\n",
      "------------------------------\n"
     ]
    },
    {
     "name": "stderr",
     "output_type": "stream",
     "text": [
      "100%|██████████| 938/938 [11:22<00:00,  1.37it/s]  \n",
      "100%|██████████| 157/157 [00:01<00:00, 80.94it/s]\n"
     ]
    },
    {
     "name": "stdout",
     "output_type": "stream",
     "text": [
      "------------------------------\n",
      "Train Loss EPOCH 6: [0.09432425 0.11510241 0.07876616 0.24693209]\n",
      "Valid Loss EPOCH 6: 0.2064\n",
      "Valid Accuracy EPOCH 6: 0.9436\n",
      "------------------------------\n"
     ]
    },
    {
     "name": "stderr",
     "output_type": "stream",
     "text": [
      "100%|██████████| 938/938 [00:26<00:00, 34.77it/s]\n",
      "100%|██████████| 157/157 [00:01<00:00, 82.53it/s]\n"
     ]
    },
    {
     "name": "stdout",
     "output_type": "stream",
     "text": [
      "------------------------------\n",
      "Train Loss EPOCH 7: [0.0937513  0.11564205 0.07517681 0.23013876]\n",
      "Valid Loss EPOCH 7: 0.1912\n",
      "Valid Accuracy EPOCH 7: 0.9494\n",
      "------------------------------\n"
     ]
    },
    {
     "name": "stderr",
     "output_type": "stream",
     "text": [
      "100%|██████████| 938/938 [00:27<00:00, 34.29it/s]\n",
      "100%|██████████| 157/157 [00:01<00:00, 83.88it/s]\n"
     ]
    },
    {
     "name": "stdout",
     "output_type": "stream",
     "text": [
      "------------------------------\n",
      "Train Loss EPOCH 8: [0.09333033 0.11590323 0.07188517 0.2146734 ]\n",
      "Valid Loss EPOCH 8: 0.1850\n",
      "Valid Accuracy EPOCH 8: 0.9498\n",
      "------------------------------\n"
     ]
    },
    {
     "name": "stderr",
     "output_type": "stream",
     "text": [
      "100%|██████████| 938/938 [00:27<00:00, 34.38it/s]\n",
      "100%|██████████| 157/157 [00:01<00:00, 82.41it/s]\n"
     ]
    },
    {
     "name": "stdout",
     "output_type": "stream",
     "text": [
      "------------------------------\n",
      "Train Loss EPOCH 9: [0.09295948 0.11620357 0.06916575 0.20670836]\n",
      "Valid Loss EPOCH 9: 0.1748\n",
      "Valid Accuracy EPOCH 9: 0.9502\n",
      "------------------------------\n"
     ]
    },
    {
     "name": "stderr",
     "output_type": "stream",
     "text": [
      "100%|██████████| 938/938 [00:27<00:00, 34.43it/s]\n",
      "100%|██████████| 157/157 [00:01<00:00, 81.05it/s]\n"
     ]
    },
    {
     "name": "stdout",
     "output_type": "stream",
     "text": [
      "------------------------------\n",
      "Train Loss EPOCH 10: [0.09263948 0.11652124 0.06741392 0.19738273]\n",
      "Valid Loss EPOCH 10: 0.1709\n",
      "Valid Accuracy EPOCH 10: 0.9492\n",
      "------------------------------\n"
     ]
    },
    {
     "name": "stderr",
     "output_type": "stream",
     "text": [
      "100%|██████████| 938/938 [00:26<00:00, 34.85it/s]\n",
      "100%|██████████| 157/157 [00:01<00:00, 80.42it/s]\n"
     ]
    },
    {
     "name": "stdout",
     "output_type": "stream",
     "text": [
      "------------------------------\n",
      "Train Loss EPOCH 11: [0.09234375 0.11653747 0.06585839 0.18915121]\n",
      "Valid Loss EPOCH 11: 0.1575\n",
      "Valid Accuracy EPOCH 11: 0.9558\n",
      "------------------------------\n"
     ]
    },
    {
     "name": "stderr",
     "output_type": "stream",
     "text": [
      "100%|██████████| 938/938 [00:27<00:00, 34.45it/s]\n",
      "100%|██████████| 157/157 [00:01<00:00, 81.92it/s]\n"
     ]
    },
    {
     "name": "stdout",
     "output_type": "stream",
     "text": [
      "------------------------------\n",
      "Train Loss EPOCH 12: [0.09215292 0.11698317 0.06382269 0.18395732]\n",
      "Valid Loss EPOCH 12: 0.1819\n",
      "Valid Accuracy EPOCH 12: 0.9488\n",
      "------------------------------\n"
     ]
    },
    {
     "name": "stderr",
     "output_type": "stream",
     "text": [
      "100%|██████████| 938/938 [00:27<00:00, 33.97it/s]\n",
      "100%|██████████| 157/157 [00:01<00:00, 80.23it/s]\n"
     ]
    },
    {
     "name": "stdout",
     "output_type": "stream",
     "text": [
      "------------------------------\n",
      "Train Loss EPOCH 13: [0.09198647 0.11792171 0.06326036 0.17960712]\n",
      "Valid Loss EPOCH 13: 0.1760\n",
      "Valid Accuracy EPOCH 13: 0.9469\n",
      "------------------------------\n"
     ]
    },
    {
     "name": "stderr",
     "output_type": "stream",
     "text": [
      "100%|██████████| 938/938 [00:27<00:00, 33.74it/s]\n",
      "100%|██████████| 157/157 [00:01<00:00, 80.14it/s]\n"
     ]
    },
    {
     "name": "stdout",
     "output_type": "stream",
     "text": [
      "------------------------------\n",
      "Train Loss EPOCH 14: [0.09184237 0.11786713 0.0617698  0.17157013]\n",
      "Valid Loss EPOCH 14: 0.1460\n",
      "Valid Accuracy EPOCH 14: 0.9592\n",
      "------------------------------\n"
     ]
    },
    {
     "name": "stderr",
     "output_type": "stream",
     "text": [
      "100%|██████████| 938/938 [00:27<00:00, 34.55it/s]\n",
      "100%|██████████| 157/157 [00:01<00:00, 82.83it/s]\n"
     ]
    },
    {
     "name": "stdout",
     "output_type": "stream",
     "text": [
      "------------------------------\n",
      "Train Loss EPOCH 15: [0.09175662 0.11778859 0.0602682  0.16754271]\n",
      "Valid Loss EPOCH 15: 0.1671\n",
      "Valid Accuracy EPOCH 15: 0.9505\n",
      "------------------------------\n"
     ]
    },
    {
     "name": "stderr",
     "output_type": "stream",
     "text": [
      "100%|██████████| 938/938 [00:27<00:00, 34.69it/s]\n",
      "100%|██████████| 157/157 [00:01<00:00, 79.90it/s]\n"
     ]
    },
    {
     "name": "stdout",
     "output_type": "stream",
     "text": [
      "------------------------------\n",
      "Train Loss EPOCH 16: [0.09162297 0.11856223 0.05983373 0.16525793]\n",
      "Valid Loss EPOCH 16: 0.1632\n",
      "Valid Accuracy EPOCH 16: 0.9524\n",
      "------------------------------\n"
     ]
    },
    {
     "name": "stderr",
     "output_type": "stream",
     "text": [
      "100%|██████████| 938/938 [00:27<00:00, 34.35it/s]\n",
      "100%|██████████| 157/157 [00:01<00:00, 82.65it/s]\n"
     ]
    },
    {
     "name": "stdout",
     "output_type": "stream",
     "text": [
      "------------------------------\n",
      "Train Loss EPOCH 17: [0.09151927 0.11865163 0.0591275  0.16394547]\n",
      "Valid Loss EPOCH 17: 0.1473\n",
      "Valid Accuracy EPOCH 17: 0.9585\n",
      "------------------------------\n"
     ]
    },
    {
     "name": "stderr",
     "output_type": "stream",
     "text": [
      "100%|██████████| 938/938 [00:27<00:00, 34.17it/s]\n",
      "100%|██████████| 157/157 [00:01<00:00, 83.59it/s]\n"
     ]
    },
    {
     "name": "stdout",
     "output_type": "stream",
     "text": [
      "------------------------------\n",
      "Train Loss EPOCH 18: [0.0914536  0.11895862 0.05858306 0.16027091]\n",
      "Valid Loss EPOCH 18: 0.1543\n",
      "Valid Accuracy EPOCH 18: 0.9526\n",
      "------------------------------\n"
     ]
    },
    {
     "name": "stderr",
     "output_type": "stream",
     "text": [
      "100%|██████████| 938/938 [00:27<00:00, 33.87it/s]\n",
      "100%|██████████| 157/157 [00:01<00:00, 81.75it/s]\n"
     ]
    },
    {
     "name": "stdout",
     "output_type": "stream",
     "text": [
      "------------------------------\n",
      "Train Loss EPOCH 19: [0.09135971 0.1189092  0.05732679 0.15557309]\n",
      "Valid Loss EPOCH 19: 0.1432\n",
      "Valid Accuracy EPOCH 19: 0.9573\n",
      "------------------------------\n"
     ]
    },
    {
     "name": "stderr",
     "output_type": "stream",
     "text": [
      "100%|██████████| 938/938 [00:27<00:00, 34.18it/s]\n",
      "100%|██████████| 157/157 [00:01<00:00, 82.25it/s]\n"
     ]
    },
    {
     "name": "stdout",
     "output_type": "stream",
     "text": [
      "------------------------------\n",
      "Train Loss EPOCH 20: [0.09131693 0.11877774 0.05749916 0.15634487]\n",
      "Valid Loss EPOCH 20: 0.1360\n",
      "Valid Accuracy EPOCH 20: 0.9609\n",
      "------------------------------\n"
     ]
    },
    {
     "name": "stderr",
     "output_type": "stream",
     "text": [
      "100%|██████████| 938/938 [00:27<00:00, 34.01it/s]\n",
      "100%|██████████| 157/157 [00:01<00:00, 82.45it/s]\n"
     ]
    },
    {
     "name": "stdout",
     "output_type": "stream",
     "text": [
      "------------------------------\n",
      "Train Loss EPOCH 21: [0.09127437 0.11877875 0.05600272 0.14827522]\n",
      "Valid Loss EPOCH 21: 0.1546\n",
      "Valid Accuracy EPOCH 21: 0.9527\n",
      "------------------------------\n"
     ]
    },
    {
     "name": "stderr",
     "output_type": "stream",
     "text": [
      "100%|██████████| 938/938 [00:27<00:00, 34.03it/s]\n",
      "100%|██████████| 157/157 [00:01<00:00, 80.31it/s]\n"
     ]
    },
    {
     "name": "stdout",
     "output_type": "stream",
     "text": [
      "------------------------------\n",
      "Train Loss EPOCH 22: [0.09119095 0.11897916 0.05596464 0.15123342]\n",
      "Valid Loss EPOCH 22: 0.1279\n",
      "Valid Accuracy EPOCH 22: 0.9619\n",
      "------------------------------\n"
     ]
    },
    {
     "name": "stderr",
     "output_type": "stream",
     "text": [
      "100%|██████████| 938/938 [00:27<00:00, 34.48it/s]\n",
      "100%|██████████| 157/157 [00:01<00:00, 85.84it/s]\n"
     ]
    },
    {
     "name": "stdout",
     "output_type": "stream",
     "text": [
      "------------------------------\n",
      "Train Loss EPOCH 23: [0.09113155 0.11935548 0.05573419 0.14802521]\n",
      "Valid Loss EPOCH 23: 0.1509\n",
      "Valid Accuracy EPOCH 23: 0.9551\n",
      "------------------------------\n"
     ]
    },
    {
     "name": "stderr",
     "output_type": "stream",
     "text": [
      "100%|██████████| 938/938 [00:28<00:00, 32.99it/s]\n",
      "100%|██████████| 157/157 [00:01<00:00, 80.92it/s]\n"
     ]
    },
    {
     "name": "stdout",
     "output_type": "stream",
     "text": [
      "------------------------------\n",
      "Train Loss EPOCH 24: [0.09110413 0.11927047 0.05533654 0.14466985]\n",
      "Valid Loss EPOCH 24: 0.1464\n",
      "Valid Accuracy EPOCH 24: 0.9554\n",
      "------------------------------\n"
     ]
    },
    {
     "name": "stderr",
     "output_type": "stream",
     "text": [
      "100%|██████████| 938/938 [00:26<00:00, 34.98it/s]\n",
      "100%|██████████| 157/157 [00:01<00:00, 84.42it/s]\n"
     ]
    },
    {
     "name": "stdout",
     "output_type": "stream",
     "text": [
      "------------------------------\n",
      "Train Loss EPOCH 25: [0.0910707  0.1197537  0.05441773 0.14448034]\n",
      "Valid Loss EPOCH 25: 0.1261\n",
      "Valid Accuracy EPOCH 25: 0.9644\n",
      "------------------------------\n"
     ]
    },
    {
     "name": "stderr",
     "output_type": "stream",
     "text": [
      "100%|██████████| 938/938 [00:26<00:00, 34.96it/s]\n",
      "100%|██████████| 157/157 [00:01<00:00, 81.70it/s]\n"
     ]
    },
    {
     "name": "stdout",
     "output_type": "stream",
     "text": [
      "------------------------------\n",
      "Train Loss EPOCH 26: [0.09100575 0.12004139 0.05418686 0.14046849]\n",
      "Valid Loss EPOCH 26: 0.1651\n",
      "Valid Accuracy EPOCH 26: 0.9485\n",
      "------------------------------\n"
     ]
    },
    {
     "name": "stderr",
     "output_type": "stream",
     "text": [
      "100%|██████████| 938/938 [00:27<00:00, 34.65it/s]\n",
      "100%|██████████| 157/157 [00:01<00:00, 85.57it/s]\n"
     ]
    },
    {
     "name": "stdout",
     "output_type": "stream",
     "text": [
      "------------------------------\n",
      "Train Loss EPOCH 27: [0.09093269 0.11977326 0.05439401 0.14522422]\n",
      "Valid Loss EPOCH 27: 0.1369\n",
      "Valid Accuracy EPOCH 27: 0.9601\n",
      "------------------------------\n"
     ]
    },
    {
     "name": "stderr",
     "output_type": "stream",
     "text": [
      "100%|██████████| 938/938 [00:26<00:00, 34.96it/s]\n",
      "100%|██████████| 157/157 [00:01<00:00, 83.05it/s]\n"
     ]
    },
    {
     "name": "stdout",
     "output_type": "stream",
     "text": [
      "------------------------------\n",
      "Train Loss EPOCH 28: [0.09091253 0.11995435 0.0532619  0.13700681]\n",
      "Valid Loss EPOCH 28: 0.1183\n",
      "Valid Accuracy EPOCH 28: 0.9650\n",
      "------------------------------\n"
     ]
    },
    {
     "name": "stderr",
     "output_type": "stream",
     "text": [
      "100%|██████████| 938/938 [00:26<00:00, 35.55it/s]\n",
      "100%|██████████| 157/157 [00:01<00:00, 86.66it/s]\n"
     ]
    },
    {
     "name": "stdout",
     "output_type": "stream",
     "text": [
      "------------------------------\n",
      "Train Loss EPOCH 29: [0.09091921 0.12047201 0.05330665 0.13608537]\n",
      "Valid Loss EPOCH 29: 0.1402\n",
      "Valid Accuracy EPOCH 29: 0.9565\n",
      "------------------------------\n"
     ]
    },
    {
     "name": "stderr",
     "output_type": "stream",
     "text": [
      "100%|██████████| 938/938 [00:26<00:00, 35.40it/s]\n",
      "100%|██████████| 157/157 [00:01<00:00, 85.90it/s]\n"
     ]
    },
    {
     "name": "stdout",
     "output_type": "stream",
     "text": [
      "------------------------------\n",
      "Train Loss EPOCH 30: [0.0908953  0.120412   0.05278362 0.13787572]\n",
      "Valid Loss EPOCH 30: 0.1383\n",
      "Valid Accuracy EPOCH 30: 0.9543\n",
      "------------------------------\n"
     ]
    },
    {
     "name": "stderr",
     "output_type": "stream",
     "text": [
      "100%|██████████| 938/938 [00:26<00:00, 35.57it/s]\n",
      "100%|██████████| 157/157 [00:01<00:00, 85.99it/s]\n"
     ]
    },
    {
     "name": "stdout",
     "output_type": "stream",
     "text": [
      "------------------------------\n",
      "Train Loss EPOCH 31: [0.0908747  0.12064576 0.05266837 0.13155158]\n",
      "Valid Loss EPOCH 31: 0.1181\n",
      "Valid Accuracy EPOCH 31: 0.9640\n",
      "------------------------------\n"
     ]
    },
    {
     "name": "stderr",
     "output_type": "stream",
     "text": [
      "100%|██████████| 938/938 [00:26<00:00, 34.99it/s]\n",
      "100%|██████████| 157/157 [00:01<00:00, 82.50it/s]\n"
     ]
    },
    {
     "name": "stdout",
     "output_type": "stream",
     "text": [
      "------------------------------\n",
      "Train Loss EPOCH 32: [0.09084328 0.12054472 0.05336462 0.13558526]\n",
      "Valid Loss EPOCH 32: 0.1456\n",
      "Valid Accuracy EPOCH 32: 0.9540\n",
      "------------------------------\n"
     ]
    },
    {
     "name": "stderr",
     "output_type": "stream",
     "text": [
      "100%|██████████| 938/938 [00:26<00:00, 35.50it/s]\n",
      "100%|██████████| 157/157 [00:01<00:00, 83.88it/s]\n"
     ]
    },
    {
     "name": "stdout",
     "output_type": "stream",
     "text": [
      "------------------------------\n",
      "Train Loss EPOCH 33: [0.09082369 0.12011809 0.05234407 0.13112837]\n",
      "Valid Loss EPOCH 33: 0.1310\n",
      "Valid Accuracy EPOCH 33: 0.9609\n",
      "------------------------------\n"
     ]
    },
    {
     "name": "stderr",
     "output_type": "stream",
     "text": [
      "100%|██████████| 938/938 [00:30<00:00, 30.63it/s]\n",
      "100%|██████████| 157/157 [00:01<00:00, 86.04it/s]\n"
     ]
    },
    {
     "name": "stdout",
     "output_type": "stream",
     "text": [
      "------------------------------\n",
      "Train Loss EPOCH 34: [0.09079159 0.12051994 0.05169044 0.1326421 ]\n",
      "Valid Loss EPOCH 34: 0.1309\n",
      "Valid Accuracy EPOCH 34: 0.9594\n",
      "------------------------------\n"
     ]
    },
    {
     "name": "stderr",
     "output_type": "stream",
     "text": [
      "100%|██████████| 938/938 [00:30<00:00, 30.27it/s]\n",
      "100%|██████████| 157/157 [00:02<00:00, 69.62it/s]\n"
     ]
    },
    {
     "name": "stdout",
     "output_type": "stream",
     "text": [
      "------------------------------\n",
      "Train Loss EPOCH 35: [0.09074249 0.12042428 0.05194616 0.13010457]\n",
      "Valid Loss EPOCH 35: 0.1272\n",
      "Valid Accuracy EPOCH 35: 0.9639\n",
      "------------------------------\n"
     ]
    },
    {
     "name": "stderr",
     "output_type": "stream",
     "text": [
      "100%|██████████| 938/938 [00:29<00:00, 32.12it/s]\n",
      "100%|██████████| 157/157 [00:01<00:00, 82.67it/s]\n"
     ]
    },
    {
     "name": "stdout",
     "output_type": "stream",
     "text": [
      "------------------------------\n",
      "Train Loss EPOCH 36: [0.09071412 0.12015277 0.05177138 0.12926518]\n",
      "Valid Loss EPOCH 36: 0.1237\n",
      "Valid Accuracy EPOCH 36: 0.9607\n",
      "------------------------------\n"
     ]
    },
    {
     "name": "stderr",
     "output_type": "stream",
     "text": [
      "100%|██████████| 938/938 [00:27<00:00, 33.77it/s]\n",
      "100%|██████████| 157/157 [00:02<00:00, 77.29it/s]\n"
     ]
    },
    {
     "name": "stdout",
     "output_type": "stream",
     "text": [
      "------------------------------\n",
      "Train Loss EPOCH 37: [0.09069472 0.12022835 0.05202212 0.13066322]\n",
      "Valid Loss EPOCH 37: 0.1216\n",
      "Valid Accuracy EPOCH 37: 0.9640\n",
      "------------------------------\n"
     ]
    },
    {
     "name": "stderr",
     "output_type": "stream",
     "text": [
      "100%|██████████| 938/938 [00:28<00:00, 33.45it/s]\n",
      "100%|██████████| 157/157 [00:01<00:00, 80.45it/s]\n"
     ]
    },
    {
     "name": "stdout",
     "output_type": "stream",
     "text": [
      "------------------------------\n",
      "Train Loss EPOCH 38: [0.09069372 0.12076284 0.05162498 0.12602639]\n",
      "Valid Loss EPOCH 38: 0.1252\n",
      "Valid Accuracy EPOCH 38: 0.9606\n",
      "------------------------------\n"
     ]
    },
    {
     "name": "stderr",
     "output_type": "stream",
     "text": [
      "100%|██████████| 938/938 [00:27<00:00, 33.51it/s]\n",
      "100%|██████████| 157/157 [00:01<00:00, 79.19it/s]\n"
     ]
    },
    {
     "name": "stdout",
     "output_type": "stream",
     "text": [
      "------------------------------\n",
      "Train Loss EPOCH 39: [0.09066246 0.12060937 0.05073947 0.12770858]\n",
      "Valid Loss EPOCH 39: 0.1342\n",
      "Valid Accuracy EPOCH 39: 0.9598\n",
      "------------------------------\n"
     ]
    },
    {
     "name": "stderr",
     "output_type": "stream",
     "text": [
      "100%|██████████| 938/938 [00:27<00:00, 33.53it/s]\n",
      "100%|██████████| 157/157 [00:01<00:00, 79.71it/s]\n"
     ]
    },
    {
     "name": "stdout",
     "output_type": "stream",
     "text": [
      "------------------------------\n",
      "Train Loss EPOCH 40: [0.09066175 0.12097428 0.0512603  0.12762498]\n",
      "Valid Loss EPOCH 40: 0.1455\n",
      "Valid Accuracy EPOCH 40: 0.9544\n",
      "------------------------------\n"
     ]
    },
    {
     "name": "stderr",
     "output_type": "stream",
     "text": [
      "100%|██████████| 938/938 [00:28<00:00, 32.90it/s]\n",
      "100%|██████████| 157/157 [00:01<00:00, 79.34it/s]\n"
     ]
    },
    {
     "name": "stdout",
     "output_type": "stream",
     "text": [
      "------------------------------\n",
      "Train Loss EPOCH 41: [0.09066681 0.12109634 0.05124642 0.12626619]\n",
      "Valid Loss EPOCH 41: 0.1389\n",
      "Valid Accuracy EPOCH 41: 0.9567\n",
      "------------------------------\n"
     ]
    },
    {
     "name": "stderr",
     "output_type": "stream",
     "text": [
      "100%|██████████| 938/938 [00:28<00:00, 33.05it/s]\n",
      "100%|██████████| 157/157 [00:02<00:00, 77.67it/s]\n"
     ]
    },
    {
     "name": "stdout",
     "output_type": "stream",
     "text": [
      "------------------------------\n",
      "Train Loss EPOCH 42: [0.09065825 0.12142357 0.05044226 0.12641974]\n",
      "Valid Loss EPOCH 42: 0.1205\n",
      "Valid Accuracy EPOCH 42: 0.9619\n",
      "------------------------------\n"
     ]
    },
    {
     "name": "stderr",
     "output_type": "stream",
     "text": [
      "100%|██████████| 938/938 [00:28<00:00, 33.02it/s]\n",
      "100%|██████████| 157/157 [00:01<00:00, 79.18it/s]\n"
     ]
    },
    {
     "name": "stdout",
     "output_type": "stream",
     "text": [
      "------------------------------\n",
      "Train Loss EPOCH 43: [0.09059635 0.12230104 0.05104452 0.12967252]\n",
      "Valid Loss EPOCH 43: 0.1646\n",
      "Valid Accuracy EPOCH 43: 0.9500\n",
      "------------------------------\n"
     ]
    },
    {
     "name": "stderr",
     "output_type": "stream",
     "text": [
      "100%|██████████| 938/938 [00:28<00:00, 33.18it/s]\n",
      "100%|██████████| 157/157 [00:01<00:00, 80.40it/s]\n"
     ]
    },
    {
     "name": "stdout",
     "output_type": "stream",
     "text": [
      "------------------------------\n",
      "Train Loss EPOCH 44: [0.09057508 0.12135194 0.05105221 0.12496576]\n",
      "Valid Loss EPOCH 44: 0.1182\n",
      "Valid Accuracy EPOCH 44: 0.9633\n",
      "------------------------------\n"
     ]
    },
    {
     "name": "stderr",
     "output_type": "stream",
     "text": [
      "100%|██████████| 938/938 [00:28<00:00, 33.23it/s]\n",
      "100%|██████████| 157/157 [00:01<00:00, 80.29it/s]\n"
     ]
    },
    {
     "name": "stdout",
     "output_type": "stream",
     "text": [
      "------------------------------\n",
      "Train Loss EPOCH 45: [0.09056806 0.12129782 0.05033035 0.12101317]\n",
      "Valid Loss EPOCH 45: 0.1154\n",
      "Valid Accuracy EPOCH 45: 0.9643\n",
      "------------------------------\n"
     ]
    },
    {
     "name": "stderr",
     "output_type": "stream",
     "text": [
      "100%|██████████| 938/938 [00:28<00:00, 33.12it/s]\n",
      "100%|██████████| 157/157 [00:01<00:00, 79.21it/s]\n"
     ]
    },
    {
     "name": "stdout",
     "output_type": "stream",
     "text": [
      "------------------------------\n",
      "Train Loss EPOCH 46: [0.09054613 0.12174149 0.05035481 0.12235459]\n",
      "Valid Loss EPOCH 46: 0.1169\n",
      "Valid Accuracy EPOCH 46: 0.9633\n",
      "------------------------------\n"
     ]
    },
    {
     "name": "stderr",
     "output_type": "stream",
     "text": [
      "100%|██████████| 938/938 [00:28<00:00, 33.05it/s]\n",
      "100%|██████████| 157/157 [00:01<00:00, 78.86it/s]\n"
     ]
    },
    {
     "name": "stdout",
     "output_type": "stream",
     "text": [
      "------------------------------\n",
      "Train Loss EPOCH 47: [0.09053119 0.12145293 0.05038767 0.12633843]\n",
      "Valid Loss EPOCH 47: 0.1228\n",
      "Valid Accuracy EPOCH 47: 0.9623\n",
      "------------------------------\n"
     ]
    },
    {
     "name": "stderr",
     "output_type": "stream",
     "text": [
      " 43%|████▎     | 402/938 [00:12<00:16, 32.77it/s]\n"
     ]
    },
    {
     "ename": "KeyboardInterrupt",
     "evalue": "",
     "output_type": "error",
     "traceback": [
      "\u001b[0;31m---------------------------------------------------------------------------\u001b[0m",
      "\u001b[0;31mKeyboardInterrupt\u001b[0m                         Traceback (most recent call last)",
      "Cell \u001b[0;32mIn[19], line 21\u001b[0m\n\u001b[1;32m     19\u001b[0m step \u001b[38;5;241m=\u001b[39m \u001b[38;5;241m0\u001b[39m\n\u001b[1;32m     20\u001b[0m epoc_losses \u001b[38;5;241m=\u001b[39m np\u001b[38;5;241m.\u001b[39mzeros((\u001b[38;5;241m4\u001b[39m))\n\u001b[0;32m---> 21\u001b[0m \u001b[38;5;28;01mfor\u001b[39;00m data \u001b[38;5;129;01min\u001b[39;00m tqdm(train_dataloader, position\u001b[38;5;241m=\u001b[39m\u001b[38;5;241m0\u001b[39m, leave\u001b[38;5;241m=\u001b[39m\u001b[38;5;28;01mTrue\u001b[39;00m):\n\u001b[1;32m     22\u001b[0m     img, label \u001b[38;5;241m=\u001b[39m data\n\u001b[1;32m     23\u001b[0m     img \u001b[38;5;241m=\u001b[39m img\u001b[38;5;241m.\u001b[39mto(device)\n",
      "File \u001b[0;32m~/Documents/Github Repos/customNNexperiments/.venv/lib/python3.9/site-packages/tqdm/std.py:1182\u001b[0m, in \u001b[0;36mtqdm.__iter__\u001b[0;34m(self)\u001b[0m\n\u001b[1;32m   1179\u001b[0m time \u001b[38;5;241m=\u001b[39m \u001b[38;5;28mself\u001b[39m\u001b[38;5;241m.\u001b[39m_time\n\u001b[1;32m   1181\u001b[0m \u001b[38;5;28;01mtry\u001b[39;00m:\n\u001b[0;32m-> 1182\u001b[0m     \u001b[38;5;28;01mfor\u001b[39;00m obj \u001b[38;5;129;01min\u001b[39;00m iterable:\n\u001b[1;32m   1183\u001b[0m         \u001b[38;5;28;01myield\u001b[39;00m obj\n\u001b[1;32m   1184\u001b[0m         \u001b[38;5;66;03m# Update and possibly print the progressbar.\u001b[39;00m\n\u001b[1;32m   1185\u001b[0m         \u001b[38;5;66;03m# Note: does not call self.update(1) for speed optimisation.\u001b[39;00m\n",
      "File \u001b[0;32m~/Documents/Github Repos/customNNexperiments/.venv/lib/python3.9/site-packages/torch/utils/data/dataloader.py:630\u001b[0m, in \u001b[0;36m_BaseDataLoaderIter.__next__\u001b[0;34m(self)\u001b[0m\n\u001b[1;32m    627\u001b[0m \u001b[38;5;28;01mif\u001b[39;00m \u001b[38;5;28mself\u001b[39m\u001b[38;5;241m.\u001b[39m_sampler_iter \u001b[38;5;129;01mis\u001b[39;00m \u001b[38;5;28;01mNone\u001b[39;00m:\n\u001b[1;32m    628\u001b[0m     \u001b[38;5;66;03m# TODO(https://github.com/pytorch/pytorch/issues/76750)\u001b[39;00m\n\u001b[1;32m    629\u001b[0m     \u001b[38;5;28mself\u001b[39m\u001b[38;5;241m.\u001b[39m_reset()  \u001b[38;5;66;03m# type: ignore[call-arg]\u001b[39;00m\n\u001b[0;32m--> 630\u001b[0m data \u001b[38;5;241m=\u001b[39m \u001b[38;5;28;43mself\u001b[39;49m\u001b[38;5;241;43m.\u001b[39;49m\u001b[43m_next_data\u001b[49m\u001b[43m(\u001b[49m\u001b[43m)\u001b[49m\n\u001b[1;32m    631\u001b[0m \u001b[38;5;28mself\u001b[39m\u001b[38;5;241m.\u001b[39m_num_yielded \u001b[38;5;241m+\u001b[39m\u001b[38;5;241m=\u001b[39m \u001b[38;5;241m1\u001b[39m\n\u001b[1;32m    632\u001b[0m \u001b[38;5;28;01mif\u001b[39;00m \u001b[38;5;28mself\u001b[39m\u001b[38;5;241m.\u001b[39m_dataset_kind \u001b[38;5;241m==\u001b[39m _DatasetKind\u001b[38;5;241m.\u001b[39mIterable \u001b[38;5;129;01mand\u001b[39;00m \\\n\u001b[1;32m    633\u001b[0m         \u001b[38;5;28mself\u001b[39m\u001b[38;5;241m.\u001b[39m_IterableDataset_len_called \u001b[38;5;129;01mis\u001b[39;00m \u001b[38;5;129;01mnot\u001b[39;00m \u001b[38;5;28;01mNone\u001b[39;00m \u001b[38;5;129;01mand\u001b[39;00m \\\n\u001b[1;32m    634\u001b[0m         \u001b[38;5;28mself\u001b[39m\u001b[38;5;241m.\u001b[39m_num_yielded \u001b[38;5;241m>\u001b[39m \u001b[38;5;28mself\u001b[39m\u001b[38;5;241m.\u001b[39m_IterableDataset_len_called:\n",
      "File \u001b[0;32m~/Documents/Github Repos/customNNexperiments/.venv/lib/python3.9/site-packages/torch/utils/data/dataloader.py:674\u001b[0m, in \u001b[0;36m_SingleProcessDataLoaderIter._next_data\u001b[0;34m(self)\u001b[0m\n\u001b[1;32m    672\u001b[0m \u001b[38;5;28;01mdef\u001b[39;00m \u001b[38;5;21m_next_data\u001b[39m(\u001b[38;5;28mself\u001b[39m):\n\u001b[1;32m    673\u001b[0m     index \u001b[38;5;241m=\u001b[39m \u001b[38;5;28mself\u001b[39m\u001b[38;5;241m.\u001b[39m_next_index()  \u001b[38;5;66;03m# may raise StopIteration\u001b[39;00m\n\u001b[0;32m--> 674\u001b[0m     data \u001b[38;5;241m=\u001b[39m \u001b[38;5;28;43mself\u001b[39;49m\u001b[38;5;241;43m.\u001b[39;49m\u001b[43m_dataset_fetcher\u001b[49m\u001b[38;5;241;43m.\u001b[39;49m\u001b[43mfetch\u001b[49m\u001b[43m(\u001b[49m\u001b[43mindex\u001b[49m\u001b[43m)\u001b[49m  \u001b[38;5;66;03m# may raise StopIteration\u001b[39;00m\n\u001b[1;32m    675\u001b[0m     \u001b[38;5;28;01mif\u001b[39;00m \u001b[38;5;28mself\u001b[39m\u001b[38;5;241m.\u001b[39m_pin_memory:\n\u001b[1;32m    676\u001b[0m         data \u001b[38;5;241m=\u001b[39m _utils\u001b[38;5;241m.\u001b[39mpin_memory\u001b[38;5;241m.\u001b[39mpin_memory(data, \u001b[38;5;28mself\u001b[39m\u001b[38;5;241m.\u001b[39m_pin_memory_device)\n",
      "File \u001b[0;32m~/Documents/Github Repos/customNNexperiments/.venv/lib/python3.9/site-packages/torch/utils/data/_utils/fetch.py:51\u001b[0m, in \u001b[0;36m_MapDatasetFetcher.fetch\u001b[0;34m(self, possibly_batched_index)\u001b[0m\n\u001b[1;32m     49\u001b[0m         data \u001b[38;5;241m=\u001b[39m \u001b[38;5;28mself\u001b[39m\u001b[38;5;241m.\u001b[39mdataset\u001b[38;5;241m.\u001b[39m__getitems__(possibly_batched_index)\n\u001b[1;32m     50\u001b[0m     \u001b[38;5;28;01melse\u001b[39;00m:\n\u001b[0;32m---> 51\u001b[0m         data \u001b[38;5;241m=\u001b[39m [\u001b[38;5;28mself\u001b[39m\u001b[38;5;241m.\u001b[39mdataset[idx] \u001b[38;5;28;01mfor\u001b[39;00m idx \u001b[38;5;129;01min\u001b[39;00m possibly_batched_index]\n\u001b[1;32m     52\u001b[0m \u001b[38;5;28;01melse\u001b[39;00m:\n\u001b[1;32m     53\u001b[0m     data \u001b[38;5;241m=\u001b[39m \u001b[38;5;28mself\u001b[39m\u001b[38;5;241m.\u001b[39mdataset[possibly_batched_index]\n",
      "File \u001b[0;32m~/Documents/Github Repos/customNNexperiments/.venv/lib/python3.9/site-packages/torch/utils/data/_utils/fetch.py:51\u001b[0m, in \u001b[0;36m<listcomp>\u001b[0;34m(.0)\u001b[0m\n\u001b[1;32m     49\u001b[0m         data \u001b[38;5;241m=\u001b[39m \u001b[38;5;28mself\u001b[39m\u001b[38;5;241m.\u001b[39mdataset\u001b[38;5;241m.\u001b[39m__getitems__(possibly_batched_index)\n\u001b[1;32m     50\u001b[0m     \u001b[38;5;28;01melse\u001b[39;00m:\n\u001b[0;32m---> 51\u001b[0m         data \u001b[38;5;241m=\u001b[39m [\u001b[38;5;28;43mself\u001b[39;49m\u001b[38;5;241;43m.\u001b[39;49m\u001b[43mdataset\u001b[49m\u001b[43m[\u001b[49m\u001b[43midx\u001b[49m\u001b[43m]\u001b[49m \u001b[38;5;28;01mfor\u001b[39;00m idx \u001b[38;5;129;01min\u001b[39;00m possibly_batched_index]\n\u001b[1;32m     52\u001b[0m \u001b[38;5;28;01melse\u001b[39;00m:\n\u001b[1;32m     53\u001b[0m     data \u001b[38;5;241m=\u001b[39m \u001b[38;5;28mself\u001b[39m\u001b[38;5;241m.\u001b[39mdataset[possibly_batched_index]\n",
      "File \u001b[0;32m~/Documents/Github Repos/customNNexperiments/.venv/lib/python3.9/site-packages/torchvision/datasets/mnist.py:145\u001b[0m, in \u001b[0;36mMNIST.__getitem__\u001b[0;34m(self, index)\u001b[0m\n\u001b[1;32m    142\u001b[0m img \u001b[38;5;241m=\u001b[39m Image\u001b[38;5;241m.\u001b[39mfromarray(img\u001b[38;5;241m.\u001b[39mnumpy(), mode\u001b[38;5;241m=\u001b[39m\u001b[38;5;124m\"\u001b[39m\u001b[38;5;124mL\u001b[39m\u001b[38;5;124m\"\u001b[39m)\n\u001b[1;32m    144\u001b[0m \u001b[38;5;28;01mif\u001b[39;00m \u001b[38;5;28mself\u001b[39m\u001b[38;5;241m.\u001b[39mtransform \u001b[38;5;129;01mis\u001b[39;00m \u001b[38;5;129;01mnot\u001b[39;00m \u001b[38;5;28;01mNone\u001b[39;00m:\n\u001b[0;32m--> 145\u001b[0m     img \u001b[38;5;241m=\u001b[39m \u001b[38;5;28;43mself\u001b[39;49m\u001b[38;5;241;43m.\u001b[39;49m\u001b[43mtransform\u001b[49m\u001b[43m(\u001b[49m\u001b[43mimg\u001b[49m\u001b[43m)\u001b[49m\n\u001b[1;32m    147\u001b[0m \u001b[38;5;28;01mif\u001b[39;00m \u001b[38;5;28mself\u001b[39m\u001b[38;5;241m.\u001b[39mtarget_transform \u001b[38;5;129;01mis\u001b[39;00m \u001b[38;5;129;01mnot\u001b[39;00m \u001b[38;5;28;01mNone\u001b[39;00m:\n\u001b[1;32m    148\u001b[0m     target \u001b[38;5;241m=\u001b[39m \u001b[38;5;28mself\u001b[39m\u001b[38;5;241m.\u001b[39mtarget_transform(target)\n",
      "File \u001b[0;32m~/Documents/Github Repos/customNNexperiments/.venv/lib/python3.9/site-packages/torchvision/transforms/transforms.py:95\u001b[0m, in \u001b[0;36mCompose.__call__\u001b[0;34m(self, img)\u001b[0m\n\u001b[1;32m     93\u001b[0m \u001b[38;5;28;01mdef\u001b[39;00m \u001b[38;5;21m__call__\u001b[39m(\u001b[38;5;28mself\u001b[39m, img):\n\u001b[1;32m     94\u001b[0m     \u001b[38;5;28;01mfor\u001b[39;00m t \u001b[38;5;129;01min\u001b[39;00m \u001b[38;5;28mself\u001b[39m\u001b[38;5;241m.\u001b[39mtransforms:\n\u001b[0;32m---> 95\u001b[0m         img \u001b[38;5;241m=\u001b[39m \u001b[43mt\u001b[49m\u001b[43m(\u001b[49m\u001b[43mimg\u001b[49m\u001b[43m)\u001b[49m\n\u001b[1;32m     96\u001b[0m     \u001b[38;5;28;01mreturn\u001b[39;00m img\n",
      "File \u001b[0;32m~/Documents/Github Repos/customNNexperiments/.venv/lib/python3.9/site-packages/torch/nn/modules/module.py:1518\u001b[0m, in \u001b[0;36mModule._wrapped_call_impl\u001b[0;34m(self, *args, **kwargs)\u001b[0m\n\u001b[1;32m   1516\u001b[0m     \u001b[38;5;28;01mreturn\u001b[39;00m \u001b[38;5;28mself\u001b[39m\u001b[38;5;241m.\u001b[39m_compiled_call_impl(\u001b[38;5;241m*\u001b[39margs, \u001b[38;5;241m*\u001b[39m\u001b[38;5;241m*\u001b[39mkwargs)  \u001b[38;5;66;03m# type: ignore[misc]\u001b[39;00m\n\u001b[1;32m   1517\u001b[0m \u001b[38;5;28;01melse\u001b[39;00m:\n\u001b[0;32m-> 1518\u001b[0m     \u001b[38;5;28;01mreturn\u001b[39;00m \u001b[38;5;28;43mself\u001b[39;49m\u001b[38;5;241;43m.\u001b[39;49m\u001b[43m_call_impl\u001b[49m\u001b[43m(\u001b[49m\u001b[38;5;241;43m*\u001b[39;49m\u001b[43margs\u001b[49m\u001b[43m,\u001b[49m\u001b[43m \u001b[49m\u001b[38;5;241;43m*\u001b[39;49m\u001b[38;5;241;43m*\u001b[39;49m\u001b[43mkwargs\u001b[49m\u001b[43m)\u001b[49m\n",
      "File \u001b[0;32m~/Documents/Github Repos/customNNexperiments/.venv/lib/python3.9/site-packages/torch/nn/modules/module.py:1527\u001b[0m, in \u001b[0;36mModule._call_impl\u001b[0;34m(self, *args, **kwargs)\u001b[0m\n\u001b[1;32m   1522\u001b[0m \u001b[38;5;66;03m# If we don't have any hooks, we want to skip the rest of the logic in\u001b[39;00m\n\u001b[1;32m   1523\u001b[0m \u001b[38;5;66;03m# this function, and just call forward.\u001b[39;00m\n\u001b[1;32m   1524\u001b[0m \u001b[38;5;28;01mif\u001b[39;00m \u001b[38;5;129;01mnot\u001b[39;00m (\u001b[38;5;28mself\u001b[39m\u001b[38;5;241m.\u001b[39m_backward_hooks \u001b[38;5;129;01mor\u001b[39;00m \u001b[38;5;28mself\u001b[39m\u001b[38;5;241m.\u001b[39m_backward_pre_hooks \u001b[38;5;129;01mor\u001b[39;00m \u001b[38;5;28mself\u001b[39m\u001b[38;5;241m.\u001b[39m_forward_hooks \u001b[38;5;129;01mor\u001b[39;00m \u001b[38;5;28mself\u001b[39m\u001b[38;5;241m.\u001b[39m_forward_pre_hooks\n\u001b[1;32m   1525\u001b[0m         \u001b[38;5;129;01mor\u001b[39;00m _global_backward_pre_hooks \u001b[38;5;129;01mor\u001b[39;00m _global_backward_hooks\n\u001b[1;32m   1526\u001b[0m         \u001b[38;5;129;01mor\u001b[39;00m _global_forward_hooks \u001b[38;5;129;01mor\u001b[39;00m _global_forward_pre_hooks):\n\u001b[0;32m-> 1527\u001b[0m     \u001b[38;5;28;01mreturn\u001b[39;00m \u001b[43mforward_call\u001b[49m\u001b[43m(\u001b[49m\u001b[38;5;241;43m*\u001b[39;49m\u001b[43margs\u001b[49m\u001b[43m,\u001b[49m\u001b[43m \u001b[49m\u001b[38;5;241;43m*\u001b[39;49m\u001b[38;5;241;43m*\u001b[39;49m\u001b[43mkwargs\u001b[49m\u001b[43m)\u001b[49m\n\u001b[1;32m   1529\u001b[0m \u001b[38;5;28;01mtry\u001b[39;00m:\n\u001b[1;32m   1530\u001b[0m     result \u001b[38;5;241m=\u001b[39m \u001b[38;5;28;01mNone\u001b[39;00m\n",
      "File \u001b[0;32m~/Documents/Github Repos/customNNexperiments/.venv/lib/python3.9/site-packages/torchvision/transforms/transforms.py:1379\u001b[0m, in \u001b[0;36mRandomRotation.forward\u001b[0;34m(self, img)\u001b[0m\n\u001b[1;32m   1376\u001b[0m         fill \u001b[38;5;241m=\u001b[39m [\u001b[38;5;28mfloat\u001b[39m(f) \u001b[38;5;28;01mfor\u001b[39;00m f \u001b[38;5;129;01min\u001b[39;00m fill]\n\u001b[1;32m   1377\u001b[0m angle \u001b[38;5;241m=\u001b[39m \u001b[38;5;28mself\u001b[39m\u001b[38;5;241m.\u001b[39mget_params(\u001b[38;5;28mself\u001b[39m\u001b[38;5;241m.\u001b[39mdegrees)\n\u001b[0;32m-> 1379\u001b[0m \u001b[38;5;28;01mreturn\u001b[39;00m \u001b[43mF\u001b[49m\u001b[38;5;241;43m.\u001b[39;49m\u001b[43mrotate\u001b[49m\u001b[43m(\u001b[49m\u001b[43mimg\u001b[49m\u001b[43m,\u001b[49m\u001b[43m \u001b[49m\u001b[43mangle\u001b[49m\u001b[43m,\u001b[49m\u001b[43m \u001b[49m\u001b[38;5;28;43mself\u001b[39;49m\u001b[38;5;241;43m.\u001b[39;49m\u001b[43minterpolation\u001b[49m\u001b[43m,\u001b[49m\u001b[43m \u001b[49m\u001b[38;5;28;43mself\u001b[39;49m\u001b[38;5;241;43m.\u001b[39;49m\u001b[43mexpand\u001b[49m\u001b[43m,\u001b[49m\u001b[43m \u001b[49m\u001b[38;5;28;43mself\u001b[39;49m\u001b[38;5;241;43m.\u001b[39;49m\u001b[43mcenter\u001b[49m\u001b[43m,\u001b[49m\u001b[43m \u001b[49m\u001b[43mfill\u001b[49m\u001b[43m)\u001b[49m\n",
      "File \u001b[0;32m~/Documents/Github Repos/customNNexperiments/.venv/lib/python3.9/site-packages/torchvision/transforms/functional.py:1140\u001b[0m, in \u001b[0;36mrotate\u001b[0;34m(img, angle, interpolation, expand, center, fill)\u001b[0m\n\u001b[1;32m   1137\u001b[0m \u001b[38;5;66;03m# due to current incoherence of rotation angle direction between affine and rotate implementations\u001b[39;00m\n\u001b[1;32m   1138\u001b[0m \u001b[38;5;66;03m# we need to set -angle.\u001b[39;00m\n\u001b[1;32m   1139\u001b[0m matrix \u001b[38;5;241m=\u001b[39m _get_inverse_affine_matrix(center_f, \u001b[38;5;241m-\u001b[39mangle, [\u001b[38;5;241m0.0\u001b[39m, \u001b[38;5;241m0.0\u001b[39m], \u001b[38;5;241m1.0\u001b[39m, [\u001b[38;5;241m0.0\u001b[39m, \u001b[38;5;241m0.0\u001b[39m])\n\u001b[0;32m-> 1140\u001b[0m \u001b[38;5;28;01mreturn\u001b[39;00m \u001b[43mF_t\u001b[49m\u001b[38;5;241;43m.\u001b[39;49m\u001b[43mrotate\u001b[49m\u001b[43m(\u001b[49m\u001b[43mimg\u001b[49m\u001b[43m,\u001b[49m\u001b[43m \u001b[49m\u001b[43mmatrix\u001b[49m\u001b[38;5;241;43m=\u001b[39;49m\u001b[43mmatrix\u001b[49m\u001b[43m,\u001b[49m\u001b[43m \u001b[49m\u001b[43minterpolation\u001b[49m\u001b[38;5;241;43m=\u001b[39;49m\u001b[43minterpolation\u001b[49m\u001b[38;5;241;43m.\u001b[39;49m\u001b[43mvalue\u001b[49m\u001b[43m,\u001b[49m\u001b[43m \u001b[49m\u001b[43mexpand\u001b[49m\u001b[38;5;241;43m=\u001b[39;49m\u001b[43mexpand\u001b[49m\u001b[43m,\u001b[49m\u001b[43m \u001b[49m\u001b[43mfill\u001b[49m\u001b[38;5;241;43m=\u001b[39;49m\u001b[43mfill\u001b[49m\u001b[43m)\u001b[49m\n",
      "\u001b[0;31mKeyboardInterrupt\u001b[0m: "
     ]
    }
   ],
   "source": [
    "criterion = nn.CrossEntropyLoss()\n",
    "\n",
    "lr=1e-4\n",
    "#optimizer only optimizes parameter that are sent to it in arg1\n",
    "optimizer = torch.optim.AdamW(model.parameters(),\n",
    "                               lr=lr, betas=(0.9, 0.999), eps=1e-8)\n",
    "num_epochs = 30\n",
    "\n",
    "train_dataloader = DataLoader(train_set, batch_size=BATCH_SIZE, shuffle=True)\n",
    "test_dataloader = DataLoader(test_set, batch_size=BATCH_SIZE, shuffle=True)\n",
    "\n",
    "start = time.time()\n",
    "training_losses = np.empty((0, 4))\n",
    "val_losses = np.empty((0))\n",
    "val_accuracies = np.empty((0))\n",
    "for epoch in range(1,num_epochs+1):\n",
    "    model.train()\n",
    "    t0 = time.time()\n",
    "    step = 0\n",
    "    epoc_losses = np.zeros((4))\n",
    "    for data in tqdm(train_dataloader, position=0, leave=True):\n",
    "        img, label = data\n",
    "        img = img.to(device)\n",
    "        label = label.to(device)\n",
    "\n",
    "        #don't train for wrong batch size for now\n",
    "        if img.shape[0] != BATCH_SIZE:\n",
    "            continue\n",
    "\n",
    "        # ===================forward=====================\n",
    "        losses, y_pred = model(img)\n",
    "        y_pred_label = torch.argmax(y_pred, dim=1)\n",
    "        class_loss = criterion(y_pred, label)\n",
    "        losses.append(class_loss)\n",
    "        if(math.isnan(class_loss)):\n",
    "            print(f\"nan class_loss at step {step}\")\n",
    "            break\n",
    "        # ===================backward====================\n",
    "        # Try not training 1st three segments after 1st EPOCH\n",
    "        if epoch> 100:\n",
    "            for param in model.seg1.parameters():\n",
    "                param.requires_grad = False\n",
    "            for param in model.seg2x.parameters():\n",
    "                param.requires_grad = False\n",
    "            for param in model.seg2y.parameters():\n",
    "                param.requires_grad = False\n",
    "                \n",
    "        optimizer.zero_grad()\n",
    "        loss = losses[0] + losses[1] + losses[2] + losses[3]\n",
    "        loss.backward()\n",
    "        optimizer.step()\n",
    "        with torch.no_grad():\n",
    "            for i in range(len(losses)):\n",
    "                epoc_losses[i] += losses[i].item()\n",
    "\n",
    "        step += 1\n",
    "    # ===================log========================\n",
    "    t1 = time.time()\n",
    "    training_losses = np.append(training_losses, [epoc_losses/len(train_dataloader)], axis=0)\n",
    "    \n",
    "    if(math.isnan(class_loss)):\n",
    "        print(\"nan class_loss \")\n",
    "        break\n",
    "\n",
    "    model.eval()\n",
    "    val_labels = []\n",
    "    val_preds = []\n",
    "    val_running_loss = 0\n",
    "    with torch.no_grad():\n",
    "        for data in tqdm(test_dataloader, position=0, leave=True):\n",
    "            img, label = data\n",
    "            img = img.to(device)\n",
    "            label = label.to(device)\n",
    "            #don't test for wrong batch size for now\n",
    "            #if img.shape[0] != BATCH_SIZE:\n",
    "            #    continue\n",
    "            y_pred = model(img)\n",
    "            y_pred_label = torch.argmax(y_pred, dim=1)\n",
    "            \n",
    "            val_labels.extend(label.cpu().detach())\n",
    "            val_preds.extend(y_pred_label.cpu().detach())\n",
    "            \n",
    "            loss = criterion(y_pred, label)\n",
    "            val_running_loss += loss.item()\n",
    "    val_loss = val_running_loss/len(test_dataloader)\n",
    "    val_losses = np.append(val_losses, val_loss)\n",
    "    val_accuracy = sum(1 for x,y in zip(val_preds, val_labels) if x == y) / len(val_labels)\n",
    "    val_accuracies = np.append(val_accuracies, val_accuracy)\n",
    "\n",
    "    print(\"-\"*30)\n",
    "    print(f\"Train Loss EPOCH {epoch}: {epoc_losses/len(train_dataloader)}\")\n",
    "    print(f\"Valid Loss EPOCH {epoch}: {val_loss:.4f}\")\n",
    "    #print(f\"Train Accuracy EPOCH {epoch+1}: {sum(1 for x,y in zip(train_preds, train_labels) if x == y) / len(train_labels):.4f}\")\n",
    "    print(f\"Valid Accuracy EPOCH {epoch}: {val_accuracy:.4f}\")\n",
    "    print(\"-\"*30)\n",
    "\n",
    "stop = time.time()\n",
    "print(f\"Training Time: {stop-start:.2f}s\")"
   ]
  },
  {
   "cell_type": "markdown",
   "metadata": {},
   "source": [
    "### CPU backend\n",
    "* Training 35.35it/s\n",
    "* Test 82.04it/s\n",
    "\n",
    "### MPS backend\n",
    "* Training 27.82it/s\n",
    "* Test 122.02it/s"
   ]
  },
  {
   "cell_type": "markdown",
   "metadata": {},
   "source": [
    "# Plot Losses"
   ]
  },
  {
   "cell_type": "code",
   "execution_count": null,
   "metadata": {},
   "outputs": [
    {
     "data": {
      "image/png": "[encoded data removed]",
      "text/plain": [
       "<Figure size 1400x1400 with 2 Axes>"
      ]
     },
     "metadata": {},
     "output_type": "display_data"
    }
   ],
   "source": [
    "# Plot all losses\n",
    "fig = plt.figure(figsize=(14, 14))\n",
    "ax1 = fig.add_subplot(121)\n",
    "\n",
    "x = np.arange(0, len(training_losses[:,0]+1))\n",
    "for i in range(4):\n",
    "    ax1.plot(x,training_losses[:,i], label=str(i))\n",
    "\n",
    "ax1.plot(x,val_losses, label='val')\n",
    "ax1.plot(x,np.sum(training_losses,axis=1), label='train')\n",
    "ax1.legend()\n",
    "\n",
    "ax2 = fig.add_subplot(122)\n",
    "for i in range(3):\n",
    "    ax2.plot(x,training_losses[:,i], label=str(i))\n",
    "\n",
    "ax2.legend()\n",
    "plt.show()"
   ]
  },
  {
   "cell_type": "code",
   "execution_count": null,
   "metadata": {},
   "outputs": [
    {
     "data": {
      "image/png": "[encoded data removed]",
      "text/plain": [
       "<Figure size 640x480 with 1 Axes>"
      ]
     },
     "metadata": {},
     "output_type": "display_data"
    }
   ],
   "source": [
    "# Plot only 1st Validation Accuracy\n",
    "x = np.arange(0, len(training_losses[:,0]+1))\n",
    "plt.plot(x,val_accuracies)\n",
    "plt.title('Validation Accuracy')\n",
    "plt.show()"
   ]
  },
  {
   "cell_type": "code",
   "execution_count": null,
   "metadata": {},
   "outputs": [],
   "source": [
    "# Save graph to a file\n",
    "#!pip install torchviz\n",
    "from torchviz import make_dot\n",
    "\n",
    "# Generate a Graphviz object from the computation graph\n",
    "#graph = make_dot(loss, params=dict(model.named_parameters())) \n",
    "\n",
    "# Save the graph as a PDF or any other format if needed\n",
    "#graph.render(\"model_Classification_Segment_v2_graph\")"
   ]
  },
  {
   "cell_type": "code",
   "execution_count": null,
   "metadata": {},
   "outputs": [
    {
     "data": {
      "text/plain": [
       "(0.9675, 0.10666091244216937, 0.9535859999999999)"
      ]
     },
     "execution_count": 34,
     "metadata": {},
     "output_type": "execute_result"
    }
   ],
   "source": [
    "# Max accuracy\n",
    "val_accuracies.max(), val_losses.min(), val_accuracies[:50].mean()"
   ]
  },
  {
   "cell_type": "markdown",
   "metadata": {},
   "source": [
    "# Experiment Observations\n",
    "* model=SimpleModel(784,10,8), model_params=141120, batch_size=64, lr=1e-5, epochs=40, test_acc=0.9118\n",
    "* model=SimpleModel(784,10,10), model_params=172480, batch_size=64, lr=1e-4, epochs=40, test_acc=0.9239\n",
    "\n",
    "### Turned off bw_transform and position transform. feeding flatten grayscape to above model\n",
    "* model=SimpleModel(784,10,10), model_params=172480, batch_size=64, lr=1e-4, epochs=40, test_acc=0.9310 (max 0.935)\n",
    "* so we are not really learning from shape\n",
    "\n",
    "### Trained a new model that uses multiple segment nets and tries to predict x,y\n",
    "*  MyModel(784, 64, 14, 10, 10), model_params=384840, batch_size=64, lr=1e-4, epochs=20, test_acc=0.9231 (max 0.9355)\n",
    "\n",
    "### Turned ON bw_transform (no position transform)\n",
    "*  MyModel(784, 64, 14, 10, 10), model_params=384840, batch_size=64, lr=1e-4, epochs=40, test_acc=0.9546 (max 0.9572)\n",
    "### Turned ON bw_transform, rotation_15 (no position transform) - ramps up faster\n",
    "*  MyModel(784, 64, 14, 10, 10), model_params=384840, batch_size=64, lr=1e-4, epochs=26, test_acc=0.9585 (max 0.9585)\n",
    "\n",
    "### Split seg2 in x,y to reduce params by 2x\n",
    "*  MyModel(784, 64, 14, 10, 10), model_params=196680, batch_size=64, lr=1e-4, epochs=26, test_acc=0.9598 (max 0.9633)\n",
    "\n",
    "### Experiment with change seg2 models to get transposed input failed spectacularly. Trained to 22% accuracy and slow\n",
    "\n",
    "### Changed seg2 segments (doubled them) - not much help\n",
    "*  MyModel(784, 64, 14, 10, 10), model_params=384840, batch_size=64, lr=1e-4, epochs=40, test_acc=0.9634 (max 0.9634)\n",
    "\n",
    "### Training Observations:\n",
    "* it appears that seg1, seg2x, seg2y are trained in 1st EPOCH and don't improve later\n",
    "* this could be good as subsequent training can oly happen to top classifier or other layers\n",
    "* val accuracies after stopping traning on 1st three segments after 1 epoc\n",
    "* [0.8088, 0.8473, 0.8555, 0.8602, 0.8629, 0.8666, 0.8687, 0.8711, 0.8726, 0.8736]\n",
    "* val accuracies if we dont' stop training of 1st three layers is far better\n",
    "* [0.7624, 0.8795, 0.9052, 0.9236, 0.9255, 0.9326, 0.9397, 0.9404, 0.9348, 0.9463]\n",
    "* Conclusion: Though the 1st three layers reduce loss less they have a huge impact.\n",
    "\n",
    "### Turned on position_transform on bw_transform (all above runs). but didn't make a huge dent\n",
    "* [0.793 , 0.8743, 0.9121, 0.9189, 0.9215, 0.9347, 0.9327, 0.9374, 0.9447, 0.9468]\n",
    "* MyModel(784, 64, 14, 4, 8, 10) model_params=242520, batch_size=64, lr=1e-4, epochs=10, test_acc=0.9468 (max 0.9468)\n",
    "\n",
    "### Graycsale (no bw_ tansform, no_position), + 15_rotation looks great (no value of BW or position)\n",
    "* [0.8642, 0.9172, 0.9292, 0.9375, 0.9383, 0.9391, 0.9471, 0.9509, 0.9489, 0.9487]\n",
    "*  MyModel(784, 64, 14, 3, 10, 10) model_params=196680, batch_size=64, lr=1e-4, epochs=40, test_acc=0.9544 (max 0.96.50)"
   ]
  },
  {
   "cell_type": "markdown",
   "metadata": {},
   "source": [
    "# END"
   ]
  },
  {
   "cell_type": "markdown",
   "metadata": {},
   "source": []
  }
 ],
 "metadata": {
  "kernelspec": {
   "display_name": "base",
   "language": "python",
   "name": "python3"
  },
  "language_info": {
   "codemirror_mode": {
    "name": "ipython",
    "version": 3
   },
   "file_extension": ".py",
   "mimetype": "text/x-python",
   "name": "python",
   "nbconvert_exporter": "python",
   "pygments_lexer": "ipython3",
   "version": "3.9.6"
  }
 },
 "nbformat": 4,
 "nbformat_minor": 2
}
