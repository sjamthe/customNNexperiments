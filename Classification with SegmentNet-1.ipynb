{
 "cells": [
  {
   "cell_type": "markdown",
   "metadata": {},
   "source": [
    "# Classification with Segment Network\n",
    "* We flatten a BW image row/col wise with values as positions and see if we can classify with Segment Net\n"
   ]
  },
  {
   "cell_type": "markdown",
   "metadata": {},
   "source": [
    "# Initialization"
   ]
  },
  {
   "cell_type": "code",
   "execution_count": 23,
   "metadata": {},
   "outputs": [],
   "source": [
    "import math\n",
    "import random\n",
    "import numpy as np\n",
    "import matplotlib.pyplot as plt\n",
    "%matplotlib inline\n",
    "\n",
    "import torch\n",
    "import torch.nn as nn\n",
    "import torch.nn.functional as F\n",
    "from torch.utils.data import DataLoader\n",
    "\n",
    "import time\n",
    "from tqdm import tqdm\n",
    "\n",
    "from segment import Segment"
   ]
  },
  {
   "cell_type": "code",
   "execution_count": 2,
   "metadata": {},
   "outputs": [
    {
     "name": "stdout",
     "output_type": "stream",
     "text": [
      "Using mps device\n"
     ]
    }
   ],
   "source": [
    "device = (\n",
    "    \"cuda\"\n",
    "    if torch.cuda.is_available()\n",
    "    else \"mps\"\n",
    "    if torch.backends.mps.is_available()\n",
    "    else \"cpu\"\n",
    ")\n",
    "print(f\"Using {device} device\")"
   ]
  },
  {
   "cell_type": "code",
   "execution_count": 3,
   "metadata": {},
   "outputs": [],
   "source": [
    "RANDOM_SEED = 42\n",
    "random.seed(RANDOM_SEED)\n",
    "np.random.seed(RANDOM_SEED)\n",
    "torch.manual_seed(RANDOM_SEED)\n",
    "torch.cuda.manual_seed(RANDOM_SEED)\n",
    "torch.cuda.manual_seed_all(RANDOM_SEED)\n",
    "torch.backends.cudnn.deterministic = True\n",
    "torch.backends.cudnn.benchmark = False"
   ]
  },
  {
   "cell_type": "markdown",
   "metadata": {},
   "source": [
    "# MNIST dataset"
   ]
  },
  {
   "cell_type": "code",
   "execution_count": 192,
   "metadata": {},
   "outputs": [
    {
     "name": "stdout",
     "output_type": "stream",
     "text": [
      "60000 10000\n",
      "torch.Size([784]) torch.Size([784])\n"
     ]
    }
   ],
   "source": [
    "from torchvision import datasets, transforms\n",
    "\n",
    "flatten_by_row_transform = transforms.Lambda(lambda x: x.flatten())\n",
    "flatten_by_col_transform = transforms.Lambda(lambda x: x.permute(0,2,1).flatten())\n",
    "bw_array_transform = transforms.Lambda(lambda x: torch.where(x < x.mean(), 0., 1.))\n",
    "position_transform = transforms.Lambda(lambda x: x*torch.arange(1, x.shape[0]+1.)/x.shape[0] )\n",
    "\n",
    "train_transform = transforms.Compose([\n",
    "    transforms.ToTensor(),  # Convert images to PyTorch tensors\n",
    "    bw_array_transform,\n",
    "    flatten_by_row_transform,\n",
    "    #position_transform\n",
    "])\n",
    "\n",
    "test_transform = transforms.Compose([\n",
    "    transforms.ToTensor(),  # Convert images to PyTorch tensors\n",
    "    bw_array_transform,\n",
    "    flatten_by_row_transform\n",
    "    #position_transform\n",
    "])\n",
    "\n",
    "train_set = datasets.MNIST('data', train=True, download=False, transform=train_transform)\n",
    "test_set = datasets.MNIST('data', train=False, download=False, transform=test_transform)\n",
    "print(len(train_set), len(test_set))\n",
    "print(train_set[0][0].shape, test_set[0][0].shape)\n",
    "\n"
   ]
  },
  {
   "cell_type": "markdown",
   "metadata": {},
   "source": [
    "# Model Definition\n",
    "* Start with single layer Segment with output = number of labels\n",
    "* Then increase number of layers to see if loss reduces \n",
    "* Then try transposing input x and batch size and see if it trains better"
   ]
  },
  {
   "cell_type": "markdown",
   "metadata": {},
   "source": [
    "# Model Training"
   ]
  },
  {
   "cell_type": "code",
   "execution_count": 73,
   "metadata": {},
   "outputs": [],
   "source": [
    "class SimpleModel(nn.Module):\n",
    "    def __init__(self, input_size, output_size, segment_size):\n",
    "        super().__init__()\n",
    "        self.seg1 = Segment(input_size, output_size, segment_size)\n",
    "        self.init = False\n",
    "\n",
    "    def forward(self, x):\n",
    "        if self.training and not self.init:\n",
    "            self.seg1.custom_init(torch.zeros_like(x.min(dim=0).values), torch.ones_like(x.max(dim=0).values))\n",
    "            self.init = True\n",
    "        x = self.seg1(x)\n",
    "        return x"
   ]
  },
  {
   "cell_type": "code",
   "execution_count": 160,
   "metadata": {},
   "outputs": [],
   "source": [
    "#Permute input to seg1.\n",
    "#Seg2 input should be the parameters from seg1 (not output)\n",
    "class MyModel(nn.Module):\n",
    "    def __init__(self, input_size, batch_size, segment1_size, segment2_size, output_dim):\n",
    "        super().__init__()\n",
    "        self.init = False\n",
    "        self.seg1 = Segment(1, batch_size, segment1_size)\n",
    "        seg2_output_size = (segment1_size+1)*2\n",
    "        self.x_in = None\n",
    "        self.seg2 = Segment(input_size, seg2_output_size, int(seg2_output_size/4))\n",
    "        self.seg3 = Segment(seg2_output_size, output_dim, segment2_size)\n",
    "        \n",
    "    def custom_init(self, x):\n",
    "        x_min = torch.zeros(self.seg1.in_features, dtype=x.dtype)\n",
    "        x_max = torch.ones(self.seg1.in_features, dtype=x.dtype)\n",
    "        self.seg1.custom_init(x_min, x_max)\n",
    "        x_min = torch.zeros(self.seg2.in_features, dtype=x.dtype)\n",
    "        x_max = torch.ones(self.seg2.in_features, dtype=x.dtype)\n",
    "        self.seg2.custom_init(x_min, x_max)\n",
    "        x_min = torch.zeros(self.seg3.in_features, dtype=x.dtype)\n",
    "        x_max = torch.ones(self.seg3.in_features, dtype=x.dtype)\n",
    "        self.seg3.custom_init(x_min, x_max)\n",
    "        \n",
    "        self.init = True\n",
    "\n",
    "    def forward(self, x):\n",
    "        if self.training:\n",
    "            if not self.init:\n",
    "                self.custom_init(x)\n",
    "            \n",
    "            #Train a model1 that predicts x,y for the input x_in so output is x\n",
    "            self.x_in = torch.arange(1, x.shape[1]+1.)/x.shape[1]\n",
    "            self.x_in.unsqueeze_(-1)\n",
    "            y1 = self.seg1(self.x_in)\n",
    "            loss1 = F.mse_loss(y1, x.permute(1,0))\n",
    "            seg1_params = torch.cat((self.seg1.x, self.seg1.y), dim=1)\n",
    "            # reshape\n",
    "            seg1_params = seg1_params.view(seg1_params.shape[2], seg1_params.shape[1])\n",
    "            #train second model that predicts model1 x,y parameters for the input x.\n",
    "            #these are equivalent to embeddings for the input x\n",
    "        \n",
    "        self.embeddings = self.seg2(x)\n",
    "        \n",
    "        if self.training:\n",
    "            loss2 = F.mse_loss(self.embeddings, seg1_params)\n",
    "        \n",
    "        ypred = self.seg3(self.embeddings)\n",
    "\n",
    "        if self.training:\n",
    "            return loss1, loss2, ypred\n",
    "        else:\n",
    "            return ypred\n",
    "    "
   ]
  },
  {
   "cell_type": "code",
   "execution_count": 193,
   "metadata": {},
   "outputs": [
    {
     "name": "stdout",
     "output_type": "stream",
     "text": [
      "Total parameters: 384840\n"
     ]
    }
   ],
   "source": [
    "# Define Model : 1 input, 1 output, play with segments starting from 1/2 of image pixels.\n",
    "BATCH_SIZE=64\n",
    "\n",
    "#model = SimpleModel(784,10,10)\n",
    "model = MyModel(784, 64, 14, 10, 10)\n",
    "total_params = sum(p.numel() for p in model.parameters())\n",
    "print(f\"Total parameters: {total_params}\")\n",
    "\n",
    "criterion = nn.CrossEntropyLoss()\n",
    "\n",
    "lr=1e-4\n",
    "#optimizer only optimizes parameter that are sent to it in arg1\n",
    "optimizer = torch.optim.AdamW(model.parameters(),\n",
    "                               lr=lr, betas=(0.9, 0.999), eps=1e-8)"
   ]
  },
  {
   "cell_type": "code",
   "execution_count": 187,
   "metadata": {},
   "outputs": [],
   "source": [
    "#model = MyModel(784, 64, 14, 10, 10)\n",
    "#total_params = sum(p.numel() for p in model.parameters())\n",
    "#print(f\"Total parameters: {total_params}\")\n",
    "#loss1, loss2, ypred = model(img)\n",
    "#loss = criterion(y_pred, label) + loss1 + loss2"
   ]
  },
  {
   "cell_type": "code",
   "execution_count": 194,
   "metadata": {},
   "outputs": [
    {
     "name": "stderr",
     "output_type": "stream",
     "text": [
      "100%|██████████| 938/938 [00:57<00:00, 16.33it/s]\n",
      "100%|██████████| 157/157 [00:04<00:00, 34.87it/s]\n"
     ]
    },
    {
     "name": "stdout",
     "output_type": "stream",
     "text": [
      "------------------------------\n",
      "Train Loss EPOCH 1: 1.9211\n",
      "Valid Loss EPOCH 1: 0.9658\n",
      "Valid Accuracy EPOCH 1: 0.8171\n",
      "------------------------------\n"
     ]
    },
    {
     "name": "stderr",
     "output_type": "stream",
     "text": [
      "100%|██████████| 938/938 [00:56<00:00, 16.55it/s]\n",
      "100%|██████████| 157/157 [00:04<00:00, 35.20it/s]\n"
     ]
    },
    {
     "name": "stdout",
     "output_type": "stream",
     "text": [
      "------------------------------\n",
      "Train Loss EPOCH 2: 0.9239\n",
      "Valid Loss EPOCH 2: 0.4259\n",
      "Valid Accuracy EPOCH 2: 0.8944\n",
      "------------------------------\n"
     ]
    },
    {
     "name": "stderr",
     "output_type": "stream",
     "text": [
      "100%|██████████| 938/938 [00:57<00:00, 16.38it/s]\n",
      "100%|██████████| 157/157 [00:04<00:00, 34.84it/s]\n"
     ]
    },
    {
     "name": "stdout",
     "output_type": "stream",
     "text": [
      "------------------------------\n",
      "Train Loss EPOCH 3: 0.6812\n",
      "Valid Loss EPOCH 3: 0.3144\n",
      "Valid Accuracy EPOCH 3: 0.9179\n",
      "------------------------------\n"
     ]
    },
    {
     "name": "stderr",
     "output_type": "stream",
     "text": [
      "100%|██████████| 938/938 [00:56<00:00, 16.46it/s]\n",
      "100%|██████████| 157/157 [00:04<00:00, 34.90it/s]\n"
     ]
    },
    {
     "name": "stdout",
     "output_type": "stream",
     "text": [
      "------------------------------\n",
      "Train Loss EPOCH 4: 0.5905\n",
      "Valid Loss EPOCH 4: 0.2838\n",
      "Valid Accuracy EPOCH 4: 0.9209\n",
      "------------------------------\n"
     ]
    },
    {
     "name": "stderr",
     "output_type": "stream",
     "text": [
      "100%|██████████| 938/938 [00:56<00:00, 16.49it/s]\n",
      "100%|██████████| 157/157 [00:04<00:00, 34.61it/s]\n"
     ]
    },
    {
     "name": "stdout",
     "output_type": "stream",
     "text": [
      "------------------------------\n",
      "Train Loss EPOCH 5: 0.5440\n",
      "Valid Loss EPOCH 5: 0.2431\n",
      "Valid Accuracy EPOCH 5: 0.9347\n",
      "------------------------------\n"
     ]
    },
    {
     "name": "stderr",
     "output_type": "stream",
     "text": [
      "100%|██████████| 938/938 [00:57<00:00, 16.33it/s]\n",
      "100%|██████████| 157/157 [00:04<00:00, 34.03it/s]\n"
     ]
    },
    {
     "name": "stdout",
     "output_type": "stream",
     "text": [
      "------------------------------\n",
      "Train Loss EPOCH 6: 0.5126\n",
      "Valid Loss EPOCH 6: 0.2156\n",
      "Valid Accuracy EPOCH 6: 0.9420\n",
      "------------------------------\n"
     ]
    },
    {
     "name": "stderr",
     "output_type": "stream",
     "text": [
      "100%|██████████| 938/938 [00:56<00:00, 16.46it/s]\n",
      "100%|██████████| 157/157 [00:04<00:00, 33.78it/s]\n"
     ]
    },
    {
     "name": "stdout",
     "output_type": "stream",
     "text": [
      "------------------------------\n",
      "Train Loss EPOCH 7: 0.4931\n",
      "Valid Loss EPOCH 7: 0.2191\n",
      "Valid Accuracy EPOCH 7: 0.9394\n",
      "------------------------------\n"
     ]
    },
    {
     "name": "stderr",
     "output_type": "stream",
     "text": [
      "100%|██████████| 938/938 [00:57<00:00, 16.43it/s]\n",
      "100%|██████████| 157/157 [00:04<00:00, 34.72it/s]\n"
     ]
    },
    {
     "name": "stdout",
     "output_type": "stream",
     "text": [
      "------------------------------\n",
      "Train Loss EPOCH 8: 0.4775\n",
      "Valid Loss EPOCH 8: 0.2057\n",
      "Valid Accuracy EPOCH 8: 0.9410\n",
      "------------------------------\n"
     ]
    },
    {
     "name": "stderr",
     "output_type": "stream",
     "text": [
      "100%|██████████| 938/938 [00:56<00:00, 16.49it/s]\n",
      "100%|██████████| 157/157 [00:04<00:00, 34.54it/s]\n"
     ]
    },
    {
     "name": "stdout",
     "output_type": "stream",
     "text": [
      "------------------------------\n",
      "Train Loss EPOCH 9: 0.4614\n",
      "Valid Loss EPOCH 9: 0.1936\n",
      "Valid Accuracy EPOCH 9: 0.9433\n",
      "------------------------------\n"
     ]
    },
    {
     "name": "stderr",
     "output_type": "stream",
     "text": [
      "100%|██████████| 938/938 [00:56<00:00, 16.66it/s]\n",
      "100%|██████████| 157/157 [00:04<00:00, 35.25it/s]\n"
     ]
    },
    {
     "name": "stdout",
     "output_type": "stream",
     "text": [
      "------------------------------\n",
      "Train Loss EPOCH 10: 0.4497\n",
      "Valid Loss EPOCH 10: 0.2006\n",
      "Valid Accuracy EPOCH 10: 0.9398\n",
      "------------------------------\n"
     ]
    },
    {
     "name": "stderr",
     "output_type": "stream",
     "text": [
      "100%|██████████| 938/938 [00:56<00:00, 16.51it/s]\n",
      "100%|██████████| 157/157 [00:04<00:00, 35.33it/s]\n"
     ]
    },
    {
     "name": "stdout",
     "output_type": "stream",
     "text": [
      "------------------------------\n",
      "Train Loss EPOCH 11: 0.4394\n",
      "Valid Loss EPOCH 11: 0.1912\n",
      "Valid Accuracy EPOCH 11: 0.9420\n",
      "------------------------------\n"
     ]
    },
    {
     "name": "stderr",
     "output_type": "stream",
     "text": [
      "100%|██████████| 938/938 [00:56<00:00, 16.69it/s]\n",
      "100%|██████████| 157/157 [00:04<00:00, 34.45it/s]\n"
     ]
    },
    {
     "name": "stdout",
     "output_type": "stream",
     "text": [
      "------------------------------\n",
      "Train Loss EPOCH 12: 0.4296\n",
      "Valid Loss EPOCH 12: 0.1701\n",
      "Valid Accuracy EPOCH 12: 0.9500\n",
      "------------------------------\n"
     ]
    },
    {
     "name": "stderr",
     "output_type": "stream",
     "text": [
      "100%|██████████| 938/938 [00:56<00:00, 16.54it/s]\n",
      "100%|██████████| 157/157 [00:04<00:00, 37.12it/s]\n"
     ]
    },
    {
     "name": "stdout",
     "output_type": "stream",
     "text": [
      "------------------------------\n",
      "Train Loss EPOCH 13: 0.4272\n",
      "Valid Loss EPOCH 13: 0.1667\n",
      "Valid Accuracy EPOCH 13: 0.9503\n",
      "------------------------------\n"
     ]
    },
    {
     "name": "stderr",
     "output_type": "stream",
     "text": [
      "100%|██████████| 938/938 [00:54<00:00, 17.09it/s]\n",
      "100%|██████████| 157/157 [00:04<00:00, 37.72it/s]\n"
     ]
    },
    {
     "name": "stdout",
     "output_type": "stream",
     "text": [
      "------------------------------\n",
      "Train Loss EPOCH 14: 0.4194\n",
      "Valid Loss EPOCH 14: 0.1804\n",
      "Valid Accuracy EPOCH 14: 0.9457\n",
      "------------------------------\n"
     ]
    },
    {
     "name": "stderr",
     "output_type": "stream",
     "text": [
      "100%|██████████| 938/938 [00:54<00:00, 17.11it/s]\n",
      "100%|██████████| 157/157 [00:04<00:00, 36.84it/s]\n"
     ]
    },
    {
     "name": "stdout",
     "output_type": "stream",
     "text": [
      "------------------------------\n",
      "Train Loss EPOCH 15: 0.4145\n",
      "Valid Loss EPOCH 15: 0.1616\n",
      "Valid Accuracy EPOCH 15: 0.9530\n",
      "------------------------------\n"
     ]
    },
    {
     "name": "stderr",
     "output_type": "stream",
     "text": [
      "100%|██████████| 938/938 [00:54<00:00, 17.10it/s]\n",
      "100%|██████████| 157/157 [00:04<00:00, 36.63it/s]\n"
     ]
    },
    {
     "name": "stdout",
     "output_type": "stream",
     "text": [
      "------------------------------\n",
      "Train Loss EPOCH 16: 0.4079\n",
      "Valid Loss EPOCH 16: 0.1643\n",
      "Valid Accuracy EPOCH 16: 0.9498\n",
      "------------------------------\n"
     ]
    },
    {
     "name": "stderr",
     "output_type": "stream",
     "text": [
      "100%|██████████| 938/938 [00:55<00:00, 16.98it/s]\n",
      "100%|██████████| 157/157 [00:04<00:00, 36.86it/s]\n"
     ]
    },
    {
     "name": "stdout",
     "output_type": "stream",
     "text": [
      "------------------------------\n",
      "Train Loss EPOCH 17: 0.4027\n",
      "Valid Loss EPOCH 17: 0.1752\n",
      "Valid Accuracy EPOCH 17: 0.9471\n",
      "------------------------------\n"
     ]
    },
    {
     "name": "stderr",
     "output_type": "stream",
     "text": [
      "100%|██████████| 938/938 [00:55<00:00, 17.00it/s]\n",
      "100%|██████████| 157/157 [00:04<00:00, 36.59it/s]\n"
     ]
    },
    {
     "name": "stdout",
     "output_type": "stream",
     "text": [
      "------------------------------\n",
      "Train Loss EPOCH 18: 0.3984\n",
      "Valid Loss EPOCH 18: 0.1493\n",
      "Valid Accuracy EPOCH 18: 0.9539\n",
      "------------------------------\n"
     ]
    },
    {
     "name": "stderr",
     "output_type": "stream",
     "text": [
      "100%|██████████| 938/938 [00:54<00:00, 17.21it/s]\n",
      "100%|██████████| 157/157 [00:04<00:00, 37.55it/s]\n"
     ]
    },
    {
     "name": "stdout",
     "output_type": "stream",
     "text": [
      "------------------------------\n",
      "Train Loss EPOCH 19: 0.3928\n",
      "Valid Loss EPOCH 19: 0.1548\n",
      "Valid Accuracy EPOCH 19: 0.9521\n",
      "------------------------------\n"
     ]
    },
    {
     "name": "stderr",
     "output_type": "stream",
     "text": [
      "100%|██████████| 938/938 [00:53<00:00, 17.64it/s]\n",
      "100%|██████████| 157/157 [00:04<00:00, 36.36it/s]\n"
     ]
    },
    {
     "name": "stdout",
     "output_type": "stream",
     "text": [
      "------------------------------\n",
      "Train Loss EPOCH 20: 0.3931\n",
      "Valid Loss EPOCH 20: 0.1727\n",
      "Valid Accuracy EPOCH 20: 0.9470\n",
      "------------------------------\n"
     ]
    },
    {
     "name": "stderr",
     "output_type": "stream",
     "text": [
      "100%|██████████| 938/938 [00:54<00:00, 17.33it/s]\n",
      "100%|██████████| 157/157 [00:04<00:00, 37.68it/s]\n"
     ]
    },
    {
     "name": "stdout",
     "output_type": "stream",
     "text": [
      "------------------------------\n",
      "Train Loss EPOCH 21: 0.3851\n",
      "Valid Loss EPOCH 21: 0.1668\n",
      "Valid Accuracy EPOCH 21: 0.9489\n",
      "------------------------------\n"
     ]
    },
    {
     "name": "stderr",
     "output_type": "stream",
     "text": [
      "100%|██████████| 938/938 [00:53<00:00, 17.53it/s]\n",
      "100%|██████████| 157/157 [00:04<00:00, 37.85it/s]\n"
     ]
    },
    {
     "name": "stdout",
     "output_type": "stream",
     "text": [
      "------------------------------\n",
      "Train Loss EPOCH 22: 0.3869\n",
      "Valid Loss EPOCH 22: 0.1566\n",
      "Valid Accuracy EPOCH 22: 0.9518\n",
      "------------------------------\n"
     ]
    },
    {
     "name": "stderr",
     "output_type": "stream",
     "text": [
      "100%|██████████| 938/938 [00:53<00:00, 17.58it/s]\n",
      "100%|██████████| 157/157 [00:04<00:00, 37.96it/s]\n"
     ]
    },
    {
     "name": "stdout",
     "output_type": "stream",
     "text": [
      "------------------------------\n",
      "Train Loss EPOCH 23: 0.3831\n",
      "Valid Loss EPOCH 23: 0.1769\n",
      "Valid Accuracy EPOCH 23: 0.9465\n",
      "------------------------------\n"
     ]
    },
    {
     "name": "stderr",
     "output_type": "stream",
     "text": [
      "100%|██████████| 938/938 [00:53<00:00, 17.56it/s]\n",
      "100%|██████████| 157/157 [00:04<00:00, 36.96it/s]\n"
     ]
    },
    {
     "name": "stdout",
     "output_type": "stream",
     "text": [
      "------------------------------\n",
      "Train Loss EPOCH 24: 0.3772\n",
      "Valid Loss EPOCH 24: 0.1579\n",
      "Valid Accuracy EPOCH 24: 0.9530\n",
      "------------------------------\n"
     ]
    },
    {
     "name": "stderr",
     "output_type": "stream",
     "text": [
      "100%|██████████| 938/938 [32:54<00:00,  2.10s/it]   \n",
      "100%|██████████| 157/157 [00:04<00:00, 37.27it/s]\n"
     ]
    },
    {
     "name": "stdout",
     "output_type": "stream",
     "text": [
      "------------------------------\n",
      "Train Loss EPOCH 25: 0.3776\n",
      "Valid Loss EPOCH 25: 0.1762\n",
      "Valid Accuracy EPOCH 25: 0.9426\n",
      "------------------------------\n"
     ]
    },
    {
     "name": "stderr",
     "output_type": "stream",
     "text": [
      "100%|██████████| 938/938 [14:10<00:00,  1.10it/s]   \n",
      "100%|██████████| 157/157 [00:04<00:00, 33.62it/s]\n"
     ]
    },
    {
     "name": "stdout",
     "output_type": "stream",
     "text": [
      "------------------------------\n",
      "Train Loss EPOCH 26: 0.3739\n",
      "Valid Loss EPOCH 26: 0.1614\n",
      "Valid Accuracy EPOCH 26: 0.9489\n",
      "------------------------------\n"
     ]
    },
    {
     "name": "stderr",
     "output_type": "stream",
     "text": [
      "100%|██████████| 938/938 [00:56<00:00, 16.68it/s]\n",
      "100%|██████████| 157/157 [00:04<00:00, 35.70it/s]\n"
     ]
    },
    {
     "name": "stdout",
     "output_type": "stream",
     "text": [
      "------------------------------\n",
      "Train Loss EPOCH 27: 0.3725\n",
      "Valid Loss EPOCH 27: 0.1433\n",
      "Valid Accuracy EPOCH 27: 0.9553\n",
      "------------------------------\n"
     ]
    },
    {
     "name": "stderr",
     "output_type": "stream",
     "text": [
      "100%|██████████| 938/938 [00:55<00:00, 16.99it/s]\n",
      "100%|██████████| 157/157 [00:04<00:00, 36.75it/s]\n"
     ]
    },
    {
     "name": "stdout",
     "output_type": "stream",
     "text": [
      "------------------------------\n",
      "Train Loss EPOCH 28: 0.3687\n",
      "Valid Loss EPOCH 28: 0.1588\n",
      "Valid Accuracy EPOCH 28: 0.9493\n",
      "------------------------------\n"
     ]
    },
    {
     "name": "stderr",
     "output_type": "stream",
     "text": [
      "100%|██████████| 938/938 [00:55<00:00, 16.79it/s]\n",
      "100%|██████████| 157/157 [00:04<00:00, 35.93it/s]\n"
     ]
    },
    {
     "name": "stdout",
     "output_type": "stream",
     "text": [
      "------------------------------\n",
      "Train Loss EPOCH 29: 0.3632\n",
      "Valid Loss EPOCH 29: 0.1601\n",
      "Valid Accuracy EPOCH 29: 0.9487\n",
      "------------------------------\n"
     ]
    },
    {
     "name": "stderr",
     "output_type": "stream",
     "text": [
      "100%|██████████| 938/938 [00:56<00:00, 16.72it/s]\n",
      "100%|██████████| 157/157 [00:04<00:00, 35.92it/s]\n"
     ]
    },
    {
     "name": "stdout",
     "output_type": "stream",
     "text": [
      "------------------------------\n",
      "Train Loss EPOCH 30: 0.3667\n",
      "Valid Loss EPOCH 30: 0.1461\n",
      "Valid Accuracy EPOCH 30: 0.9539\n",
      "------------------------------\n"
     ]
    },
    {
     "name": "stderr",
     "output_type": "stream",
     "text": [
      "100%|██████████| 938/938 [00:56<00:00, 16.72it/s]\n",
      "100%|██████████| 157/157 [00:04<00:00, 36.09it/s]\n"
     ]
    },
    {
     "name": "stdout",
     "output_type": "stream",
     "text": [
      "------------------------------\n",
      "Train Loss EPOCH 31: 0.3641\n",
      "Valid Loss EPOCH 31: 0.1479\n",
      "Valid Accuracy EPOCH 31: 0.9554\n",
      "------------------------------\n"
     ]
    },
    {
     "name": "stderr",
     "output_type": "stream",
     "text": [
      "100%|██████████| 938/938 [00:56<00:00, 16.62it/s]\n",
      "100%|██████████| 157/157 [00:04<00:00, 36.37it/s]\n"
     ]
    },
    {
     "name": "stdout",
     "output_type": "stream",
     "text": [
      "------------------------------\n",
      "Train Loss EPOCH 32: 0.3617\n",
      "Valid Loss EPOCH 32: 0.1392\n",
      "Valid Accuracy EPOCH 32: 0.9562\n",
      "------------------------------\n"
     ]
    },
    {
     "name": "stderr",
     "output_type": "stream",
     "text": [
      "100%|██████████| 938/938 [00:55<00:00, 16.95it/s]\n",
      "100%|██████████| 157/157 [00:04<00:00, 35.37it/s]\n"
     ]
    },
    {
     "name": "stdout",
     "output_type": "stream",
     "text": [
      "------------------------------\n",
      "Train Loss EPOCH 33: 0.3591\n",
      "Valid Loss EPOCH 33: 0.1906\n",
      "Valid Accuracy EPOCH 33: 0.9379\n",
      "------------------------------\n"
     ]
    },
    {
     "name": "stderr",
     "output_type": "stream",
     "text": [
      "100%|██████████| 938/938 [00:54<00:00, 17.09it/s]\n",
      "100%|██████████| 157/157 [00:04<00:00, 36.31it/s]\n"
     ]
    },
    {
     "name": "stdout",
     "output_type": "stream",
     "text": [
      "------------------------------\n",
      "Train Loss EPOCH 34: 0.3590\n",
      "Valid Loss EPOCH 34: 0.1412\n",
      "Valid Accuracy EPOCH 34: 0.9562\n",
      "------------------------------\n"
     ]
    },
    {
     "name": "stderr",
     "output_type": "stream",
     "text": [
      "100%|██████████| 938/938 [00:54<00:00, 17.07it/s]\n",
      "100%|██████████| 157/157 [00:04<00:00, 34.70it/s]\n"
     ]
    },
    {
     "name": "stdout",
     "output_type": "stream",
     "text": [
      "------------------------------\n",
      "Train Loss EPOCH 35: 0.3580\n",
      "Valid Loss EPOCH 35: 0.1665\n",
      "Valid Accuracy EPOCH 35: 0.9494\n",
      "------------------------------\n"
     ]
    },
    {
     "name": "stderr",
     "output_type": "stream",
     "text": [
      "100%|██████████| 938/938 [00:56<00:00, 16.52it/s]\n",
      "100%|██████████| 157/157 [00:04<00:00, 34.68it/s]\n"
     ]
    },
    {
     "name": "stdout",
     "output_type": "stream",
     "text": [
      "------------------------------\n",
      "Train Loss EPOCH 36: 0.3550\n",
      "Valid Loss EPOCH 36: 0.1502\n",
      "Valid Accuracy EPOCH 36: 0.9514\n",
      "------------------------------\n"
     ]
    },
    {
     "name": "stderr",
     "output_type": "stream",
     "text": [
      "100%|██████████| 938/938 [00:55<00:00, 16.99it/s]\n",
      "100%|██████████| 157/157 [00:04<00:00, 36.08it/s]\n"
     ]
    },
    {
     "name": "stdout",
     "output_type": "stream",
     "text": [
      "------------------------------\n",
      "Train Loss EPOCH 37: 0.3492\n",
      "Valid Loss EPOCH 37: 0.1425\n",
      "Valid Accuracy EPOCH 37: 0.9572\n",
      "------------------------------\n"
     ]
    },
    {
     "name": "stderr",
     "output_type": "stream",
     "text": [
      "100%|██████████| 938/938 [00:56<00:00, 16.67it/s]\n",
      "100%|██████████| 157/157 [00:04<00:00, 34.55it/s]\n"
     ]
    },
    {
     "name": "stdout",
     "output_type": "stream",
     "text": [
      "------------------------------\n",
      "Train Loss EPOCH 38: 0.3536\n",
      "Valid Loss EPOCH 38: 0.1573\n",
      "Valid Accuracy EPOCH 38: 0.9528\n",
      "------------------------------\n"
     ]
    },
    {
     "name": "stderr",
     "output_type": "stream",
     "text": [
      "100%|██████████| 938/938 [00:56<00:00, 16.54it/s]\n",
      "100%|██████████| 157/157 [00:04<00:00, 36.18it/s]\n"
     ]
    },
    {
     "name": "stdout",
     "output_type": "stream",
     "text": [
      "------------------------------\n",
      "Train Loss EPOCH 39: 0.3522\n",
      "Valid Loss EPOCH 39: 0.1377\n",
      "Valid Accuracy EPOCH 39: 0.9562\n",
      "------------------------------\n"
     ]
    },
    {
     "name": "stderr",
     "output_type": "stream",
     "text": [
      "100%|██████████| 938/938 [00:55<00:00, 16.99it/s]\n",
      "100%|██████████| 157/157 [00:04<00:00, 35.80it/s]"
     ]
    },
    {
     "name": "stdout",
     "output_type": "stream",
     "text": [
      "------------------------------\n",
      "Train Loss EPOCH 40: 0.3507\n",
      "Valid Loss EPOCH 40: 0.1474\n",
      "Valid Accuracy EPOCH 40: 0.9546\n",
      "------------------------------\n",
      "Training Time: 5120.11s\n"
     ]
    },
    {
     "name": "stderr",
     "output_type": "stream",
     "text": [
      "\n"
     ]
    }
   ],
   "source": [
    "num_epochs = 40\n",
    "\n",
    "train_dataloader = DataLoader(train_set, batch_size=BATCH_SIZE, shuffle=True)\n",
    "test_dataloader = DataLoader(test_set, batch_size=BATCH_SIZE, shuffle=True)\n",
    "\n",
    "start = time.time()\n",
    "for epoch in range(1,num_epochs+1):\n",
    "    model.train()\n",
    "    t0 = time.time()\n",
    "    train_running_loss = 0\n",
    "    step = 0\n",
    "    for data in tqdm(train_dataloader, position=0, leave=True):\n",
    "        img, label = data\n",
    "\n",
    "        #don't train for wrong batch size for now\n",
    "        if img.shape[0] != BATCH_SIZE:\n",
    "            continue\n",
    "\n",
    "        # ===================forward=====================\n",
    "        loss1, loss2, y_pred = model(img)\n",
    "        y_pred_label = torch.argmax(y_pred, dim=1)\n",
    "        loss = criterion(y_pred, label) + loss1 + loss2\n",
    "        if(math.isnan(loss)):\n",
    "            print(f\"nan loss at step {step}\")\n",
    "            break\n",
    "        # ===================backward====================\n",
    "        optimizer.zero_grad()\n",
    "        loss.backward()\n",
    "        optimizer.step()\n",
    "        train_running_loss += loss.item()\n",
    "        step += 1\n",
    "    # ===================log========================\n",
    "    t1 = time.time()\n",
    "    train_loss = train_running_loss / len(train_dataloader)\n",
    "    \n",
    "    if(math.isnan(loss)):\n",
    "        print(f\"nan loss \")\n",
    "        break\n",
    "\n",
    "    model.eval()\n",
    "    val_labels = []\n",
    "    val_preds = []\n",
    "    val_running_loss = 0\n",
    "    with torch.no_grad():\n",
    "        for data in tqdm(test_dataloader, position=0, leave=True):\n",
    "            img, label = data\n",
    "            y_pred = model(img)\n",
    "            y_pred_label = torch.argmax(y_pred, dim=1)\n",
    "            \n",
    "            val_labels.extend(label.cpu().detach())\n",
    "            val_preds.extend(y_pred_label.cpu().detach())\n",
    "            \n",
    "            loss = criterion(y_pred, label)\n",
    "            val_running_loss += loss.item()\n",
    "    val_loss = val_running_loss/len(test_dataloader)\n",
    "\n",
    "    print(\"-\"*30)\n",
    "    print(f\"Train Loss EPOCH {epoch}: {train_loss:.4f}\")\n",
    "    print(f\"Valid Loss EPOCH {epoch}: {val_loss:.4f}\")\n",
    "    #print(f\"Train Accuracy EPOCH {epoch+1}: {sum(1 for x,y in zip(train_preds, train_labels) if x == y) / len(train_labels):.4f}\")\n",
    "    print(f\"Valid Accuracy EPOCH {epoch}: {sum(1 for x,y in zip(val_preds, val_labels) if x == y) / len(val_labels):.4f}\")\n",
    "    print(\"-\"*30)\n",
    "\n",
    "stop = time.time()\n",
    "print(f\"Training Time: {stop-start:.2f}s\")"
   ]
  },
  {
   "cell_type": "code",
   "execution_count": 183,
   "metadata": {},
   "outputs": [
    {
     "data": {
      "text/plain": [
       "'model_Classification_Segment_v1_graph.pdf'"
      ]
     },
     "execution_count": 183,
     "metadata": {},
     "output_type": "execute_result"
    }
   ],
   "source": [
    "# Save graph to a file\n",
    "#!pip install torchviz\n",
    "from torchviz import make_dot\n",
    "\n",
    "# Generate a Graphviz object from the computation graph\n",
    "graph = make_dot(loss, params=dict(model.named_parameters())) \n",
    "\n",
    "# Save the graph as a PDF or any other format if needed\n",
    "graph.render(\"model_Classification_Segment_v1_graph\")"
   ]
  },
  {
   "cell_type": "markdown",
   "metadata": {},
   "source": [
    "# Experiment Observations\n",
    "* model=SimpleModel(784,10,8), model_params=141120, batch_size=64, lr=1e-5, epochs=40, test_acc=0.9118\n",
    "* model=SimpleModel(784,10,10), model_params=172480, batch_size=64, lr=1e-4, epochs=40, test_acc=0.9239\n",
    "\n",
    "### Turned off bw_transform and position transform. feeding flatten grayscape to above model\n",
    "* model=SimpleModel(784,10,10), model_params=172480, batch_size=64, lr=1e-4, epochs=40, test_acc=0.9310 (max 0.935)\n",
    "* so we are not really learning from shape\n",
    "\n",
    "### Trained a new model that uses multiple segment nets and tries to predict x,y\n",
    "*  MyModel(784, 64, 14, 10, 10), model_params=384840, batch_size=64, lr=1e-4, epochs=20, test_acc=0.9231 (max 0.9355)\n",
    "\n",
    "### Turned ON bw_transform (no position transform)\n",
    "*  MyModel(784, 64, 14, 10, 10), model_params=384840, batch_size=64, lr=1e-4, epochs=40, test_acc=0.9546 (max 0.9572)\n"
   ]
  },
  {
   "cell_type": "markdown",
   "metadata": {},
   "source": []
  }
 ],
 "metadata": {
  "kernelspec": {
   "display_name": "base",
   "language": "python",
   "name": "python3"
  },
  "language_info": {
   "codemirror_mode": {
    "name": "ipython",
    "version": 3
   },
   "file_extension": ".py",
   "mimetype": "text/x-python",
   "name": "python",
   "nbconvert_exporter": "python",
   "pygments_lexer": "ipython3",
   "version": "3.10.10"
  }
 },
 "nbformat": 4,
 "nbformat_minor": 2
}
