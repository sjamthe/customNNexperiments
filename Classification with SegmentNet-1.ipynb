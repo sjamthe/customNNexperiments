{
 "cells": [
  {
   "cell_type": "markdown",
   "metadata": {},
   "source": [
    "# Classification with Segment Network\n",
    "* We flatten a BW image row/col wise with values as positions and see if we can classify with Segment Net\n"
   ]
  },
  {
   "cell_type": "markdown",
   "metadata": {},
   "source": [
    "# Initialization"
   ]
  },
  {
   "cell_type": "code",
   "execution_count": 2,
   "metadata": {},
   "outputs": [],
   "source": [
    "import math\n",
    "import random\n",
    "import numpy as np\n",
    "import matplotlib.pyplot as plt\n",
    "%matplotlib inline\n",
    "\n",
    "import torch\n",
    "import torch.nn as nn\n",
    "import torch.nn.functional as F\n",
    "from torch.utils.data import DataLoader\n",
    "\n",
    "import time\n",
    "from tqdm import tqdm\n",
    "\n",
    "from segment import Segment"
   ]
  },
  {
   "cell_type": "code",
   "execution_count": 3,
   "metadata": {},
   "outputs": [
    {
     "name": "stdout",
     "output_type": "stream",
     "text": [
      "Using mps device\n"
     ]
    }
   ],
   "source": [
    "device = (\n",
    "    \"cuda\"\n",
    "    if torch.cuda.is_available()\n",
    "    else \"mps\"\n",
    "    if torch.backends.mps.is_available()\n",
    "    else \"cpu\"\n",
    ")\n",
    "print(f\"Using {device} device\")"
   ]
  },
  {
   "cell_type": "code",
   "execution_count": 4,
   "metadata": {},
   "outputs": [],
   "source": [
    "RANDOM_SEED = 42\n",
    "random.seed(RANDOM_SEED)\n",
    "np.random.seed(RANDOM_SEED)\n",
    "torch.manual_seed(RANDOM_SEED)\n",
    "torch.cuda.manual_seed(RANDOM_SEED)\n",
    "torch.cuda.manual_seed_all(RANDOM_SEED)\n",
    "torch.backends.cudnn.deterministic = True\n",
    "torch.backends.cudnn.benchmark = False"
   ]
  },
  {
   "cell_type": "markdown",
   "metadata": {},
   "source": [
    "# MNIST dataset"
   ]
  },
  {
   "cell_type": "code",
   "execution_count": 5,
   "metadata": {},
   "outputs": [
    {
     "name": "stdout",
     "output_type": "stream",
     "text": [
      "60000 10000\n",
      "torch.Size([784]) torch.Size([784])\n"
     ]
    }
   ],
   "source": [
    "from torchvision import datasets, transforms\n",
    "\n",
    "flatten_by_row_transform = transforms.Lambda(lambda x: x.flatten())\n",
    "flatten_by_col_transform = transforms.Lambda(lambda x: x.permute(0,2,1).flatten())\n",
    "bw_array_transform = transforms.Lambda(lambda x: torch.where(x < x.mean(), 0., 1.))\n",
    "position_transform = transforms.Lambda(lambda x: x*torch.arange(1, x.shape[0]+1.)/x.shape[0] )\n",
    "\n",
    "train_transform = transforms.Compose([\n",
    "    transforms.ToTensor(),  # Convert images to PyTorch tensors\n",
    "    transforms.RandomRotation(15),\n",
    "    bw_array_transform,\n",
    "    flatten_by_row_transform\n",
    "    #position_transform\n",
    "])\n",
    "\n",
    "test_transform = transforms.Compose([\n",
    "    transforms.ToTensor(),  # Convert images to PyTorch tensors\n",
    "    bw_array_transform,\n",
    "    flatten_by_row_transform\n",
    "    #position_transform\n",
    "])\n",
    "\n",
    "train_set = datasets.MNIST('data', train=True, download=False, transform=train_transform)\n",
    "test_set = datasets.MNIST('data', train=False, download=False, transform=test_transform)\n",
    "print(len(train_set), len(test_set))\n",
    "print(train_set[0][0].shape, test_set[0][0].shape)\n",
    "\n"
   ]
  },
  {
   "cell_type": "markdown",
   "metadata": {},
   "source": [
    "# Model Definition\n",
    "* Start with single layer Segment with output = number of labels\n",
    "* Then increase number of layers to see if loss reduces \n",
    "* Then try transposing input x and batch size and see if it trains better"
   ]
  },
  {
   "cell_type": "markdown",
   "metadata": {},
   "source": [
    "# Model Training"
   ]
  },
  {
   "cell_type": "code",
   "execution_count": 6,
   "metadata": {},
   "outputs": [],
   "source": [
    "class SimpleModel(nn.Module):\n",
    "    def __init__(self, input_size, output_size, segment_size):\n",
    "        super().__init__()\n",
    "        self.seg1 = Segment(input_size, output_size, segment_size)\n",
    "        self.init = False\n",
    "\n",
    "    def forward(self, x):\n",
    "        if self.training and not self.init:\n",
    "            self.seg1.custom_init(torch.zeros_like(x.min(dim=0).values), torch.ones_like(x.max(dim=0).values))\n",
    "            self.init = True\n",
    "        x = self.seg1(x)\n",
    "        return x"
   ]
  },
  {
   "cell_type": "code",
   "execution_count": 32,
   "metadata": {},
   "outputs": [],
   "source": [
    "#Permute input to seg1.\n",
    "#Seg2 input should be the parameters from seg1 (not output)\n",
    "class MyModel(nn.Module):\n",
    "    def __init__(self, input_size, batch_size, segment1_size, segment2_size, segment3_size, output_dim):\n",
    "        super().__init__()\n",
    "        self.init = False\n",
    "        self.seg1 = Segment(1, batch_size, segment1_size)\n",
    "        seg2_output_size = segment1_size+1\n",
    "        self.x_in = None\n",
    "        #split seg2 into x,y parts to reduce unnecessary parameters\n",
    "        self.seg2x = Segment(input_size, seg2_output_size, segment2_size)\n",
    "        self.seg2y = Segment(input_size, seg2_output_size, segment2_size)\n",
    "        self.seg3 = Segment(2*seg2_output_size, output_dim, segment3_size)\n",
    "        \n",
    "    def custom_init(self, x):\n",
    "        x_min = torch.zeros(self.seg1.in_features, dtype=x.dtype)\n",
    "        x_max = torch.ones(self.seg1.in_features, dtype=x.dtype)\n",
    "        self.seg1.custom_init(x_min, x_max)\n",
    "        x_min = torch.zeros(self.seg2x.in_features, dtype=x.dtype)\n",
    "        x_max = torch.ones(self.seg2x.in_features, dtype=x.dtype)\n",
    "        self.seg2x.custom_init(x_min, x_max)\n",
    "        self.seg2y.custom_init(x_min, x_max)\n",
    "        x_min = torch.zeros(self.seg3.in_features, dtype=x.dtype)\n",
    "        x_max = torch.ones(self.seg3.in_features, dtype=x.dtype)\n",
    "        self.seg3.custom_init(x_min, x_max)\n",
    "        \n",
    "        self.init = True\n",
    "\n",
    "    def forward(self, x):\n",
    "        if self.training:\n",
    "            if not self.init:\n",
    "                self.custom_init(x)\n",
    "            \n",
    "            #Train a model1 that predicts x,y for the input x_in so output is x\n",
    "            self.x_in = torch.arange(1, x.shape[1]+1.)/x.shape[1]\n",
    "            self.x_in.unsqueeze_(-1)\n",
    "            y1 = self.seg1(self.x_in)\n",
    "            loss1 = F.mse_loss(y1, x.permute(1,0))\n",
    "\n",
    "        \n",
    "        self.xembeddings = self.seg2x(x)\n",
    "        self.yembeddings = self.seg2y(x)\n",
    "        \n",
    "        if self.training:\n",
    "            seg1_xparams = self.seg1.x.view(self.seg1.x.shape[2], self.seg1.x.shape[1])\n",
    "            seg1_yparams = self.seg1.y.view(self.seg1.y.shape[2], self.seg1.y.shape[1])\n",
    "            loss2x = F.mse_loss(self.xembeddings, seg1_xparams)\n",
    "            loss2y = F.mse_loss(self.yembeddings, seg1_yparams)\n",
    "        \n",
    "        self.embeddings = torch.cat((self.xembeddings, self.yembeddings), dim=1)\n",
    "        ypred = self.seg3(self.embeddings)\n",
    "\n",
    "        if self.training:\n",
    "            return [loss1, loss2x, loss2y], ypred\n",
    "        else:\n",
    "            return ypred\n",
    "    "
   ]
  },
  {
   "cell_type": "code",
   "execution_count": 72,
   "metadata": {},
   "outputs": [
    {
     "name": "stdout",
     "output_type": "stream",
     "text": [
      "Total parameters: 196680\n"
     ]
    }
   ],
   "source": [
    "# Define Model : 1 input, 1 output, play with segments starting from 1/2 of image pixels.\n",
    "BATCH_SIZE=64\n",
    "\n",
    "#model = SimpleModel(784,10,10)\n",
    "model = MyModel(784, BATCH_SIZE, 14, 3, 10, 10)\n",
    "total_params = sum(p.numel() for p in model.parameters())\n",
    "print(f\"Total parameters: {total_params}\")\n",
    "\n",
    "criterion = nn.CrossEntropyLoss()\n",
    "\n",
    "lr=1e-4\n",
    "#optimizer only optimizes parameter that are sent to it in arg1\n",
    "optimizer = torch.optim.AdamW(model.parameters(),\n",
    "                               lr=lr, betas=(0.9, 0.999), eps=1e-8)"
   ]
  },
  {
   "cell_type": "code",
   "execution_count": 65,
   "metadata": {},
   "outputs": [
    {
     "data": {
      "text/plain": [
       "MyModel(\n",
       "  (seg1): Segment(in_features=1, out_features=64, segment_features=28)\n",
       "  (seg2x): Segment(in_features=784, out_features=29, segment_features=3)\n",
       "  (seg2y): Segment(in_features=784, out_features=29, segment_features=3)\n",
       "  (seg3): Segment(in_features=58, out_features=10, segment_features=10)\n",
       ")"
      ]
     },
     "execution_count": 65,
     "metadata": {},
     "output_type": "execute_result"
    }
   ],
   "source": [
    "model"
   ]
  },
  {
   "cell_type": "code",
   "execution_count": 33,
   "metadata": {},
   "outputs": [
    {
     "name": "stdout",
     "output_type": "stream",
     "text": [
      "Total parameters: 380248\n"
     ]
    },
    {
     "data": {
      "text/plain": [
       "[tensor(0.1646, grad_fn=<MseLossBackward0>),\n",
       " tensor(0.3393, grad_fn=<MseLossBackward0>),\n",
       " tensor(0., grad_fn=<MseLossBackward0>)]"
      ]
     },
     "execution_count": 33,
     "metadata": {},
     "output_type": "execute_result"
    }
   ],
   "source": [
    "# TESTING MODEL\n",
    "train_dataloader = DataLoader(train_set, batch_size=64, shuffle=True)\n",
    "for data in train_dataloader:\n",
    "    break\n",
    "img, label = data\n",
    "model = MyModel(784, 64, 28, 3, 10, 10)\n",
    "total_params = sum(p.numel() for p in model.parameters())\n",
    "print(f\"Total parameters: {total_params}\")\n",
    "losses, ypred = model(img)\n",
    "losses\n",
    "#loss = criterion(y_pred, label) + loss1 + loss2"
   ]
  },
  {
   "cell_type": "code",
   "execution_count": 69,
   "metadata": {},
   "outputs": [
    {
     "name": "stderr",
     "output_type": "stream",
     "text": [
      "100%|██████████| 938/938 [00:45<00:00, 20.59it/s]\n",
      "100%|██████████| 157/157 [00:02<00:00, 53.81it/s]\n"
     ]
    },
    {
     "name": "stdout",
     "output_type": "stream",
     "text": [
      "------------------------------\n"
     ]
    },
    {
     "ename": "TypeError",
     "evalue": "unsupported format string passed to numpy.ndarray.__format__",
     "output_type": "error",
     "traceback": [
      "\u001b[0;31m---------------------------------------------------------------------------\u001b[0m",
      "\u001b[0;31mTypeError\u001b[0m                                 Traceback (most recent call last)",
      "Cell \u001b[0;32mIn[69], line 73\u001b[0m\n\u001b[1;32m     70\u001b[0m val_accuracies \u001b[38;5;241m=\u001b[39m np\u001b[38;5;241m.\u001b[39mappend(val_accuracies, val_accuracy)\n\u001b[1;32m     72\u001b[0m \u001b[38;5;28mprint\u001b[39m(\u001b[38;5;124m\"\u001b[39m\u001b[38;5;124m-\u001b[39m\u001b[38;5;124m\"\u001b[39m\u001b[38;5;241m*\u001b[39m\u001b[38;5;241m30\u001b[39m)\n\u001b[0;32m---> 73\u001b[0m \u001b[38;5;28mprint\u001b[39m(\u001b[38;5;124mf\u001b[39m\u001b[38;5;124m\"\u001b[39m\u001b[38;5;124mTrain Loss EPOCH \u001b[39m\u001b[38;5;132;01m{\u001b[39;00mepoch\u001b[38;5;132;01m}\u001b[39;00m\u001b[38;5;124m: \u001b[39m\u001b[38;5;132;01m{\u001b[39;00mepoc_losses\u001b[38;5;241m/\u001b[39m\u001b[38;5;28mlen\u001b[39m(train_dataloader)\u001b[38;5;132;01m:\u001b[39;00m\u001b[38;5;124m.4f\u001b[39m\u001b[38;5;132;01m}\u001b[39;00m\u001b[38;5;124m\"\u001b[39m)\n\u001b[1;32m     74\u001b[0m \u001b[38;5;28mprint\u001b[39m(\u001b[38;5;124mf\u001b[39m\u001b[38;5;124m\"\u001b[39m\u001b[38;5;124mValid Loss EPOCH \u001b[39m\u001b[38;5;132;01m{\u001b[39;00mepoch\u001b[38;5;132;01m}\u001b[39;00m\u001b[38;5;124m: \u001b[39m\u001b[38;5;132;01m{\u001b[39;00mval_loss\u001b[38;5;132;01m:\u001b[39;00m\u001b[38;5;124m.4f\u001b[39m\u001b[38;5;132;01m}\u001b[39;00m\u001b[38;5;124m\"\u001b[39m)\n\u001b[1;32m     75\u001b[0m \u001b[38;5;66;03m#print(f\"Train Accuracy EPOCH {epoch+1}: {sum(1 for x,y in zip(train_preds, train_labels) if x == y) / len(train_labels):.4f}\")\u001b[39;00m\n",
      "\u001b[0;31mTypeError\u001b[0m: unsupported format string passed to numpy.ndarray.__format__"
     ]
    }
   ],
   "source": [
    "num_epochs = 40\n",
    "\n",
    "train_dataloader = DataLoader(train_set, batch_size=BATCH_SIZE, shuffle=True)\n",
    "test_dataloader = DataLoader(test_set, batch_size=BATCH_SIZE, shuffle=True)\n",
    "\n",
    "start = time.time()\n",
    "training_losses = np.empty((0, 4))\n",
    "val_losses = np.empty((0))\n",
    "val_accuracies = np.empty((0))\n",
    "for epoch in range(1,num_epochs+1):\n",
    "    model.train()\n",
    "    t0 = time.time()\n",
    "    step = 0\n",
    "    epoc_losses = np.zeros((4))\n",
    "    for data in tqdm(train_dataloader, position=0, leave=True):\n",
    "        img, label = data\n",
    "\n",
    "        #don't train for wrong batch size for now\n",
    "        if img.shape[0] != BATCH_SIZE:\n",
    "            continue\n",
    "\n",
    "        # ===================forward=====================\n",
    "        losses, y_pred = model(img)\n",
    "        y_pred_label = torch.argmax(y_pred, dim=1)\n",
    "        class_loss = criterion(y_pred, label)\n",
    "        losses.append(class_loss)\n",
    "        if(math.isnan(class_loss)):\n",
    "            print(f\"nan class_loss at step {step}\")\n",
    "            break\n",
    "        # ===================backward====================\n",
    "        optimizer.zero_grad()\n",
    "        loss = losses[0] + losses[1] + losses[2] + losses[3]\n",
    "        loss.backward()\n",
    "        optimizer.step()\n",
    "        with torch.no_grad():\n",
    "            for i in range(len(losses)):\n",
    "                epoc_losses[i] += losses[i].item()\n",
    "\n",
    "        step += 1\n",
    "    # ===================log========================\n",
    "    t1 = time.time()\n",
    "    #train_loss = train_running_loss / len(train_dataloader)\n",
    "    training_losses = np.append(training_losses, [epoc_losses/len(train_dataloader)], axis=0)\n",
    "    \n",
    "    if(math.isnan(class_loss)):\n",
    "        print(f\"nan class_loss \")\n",
    "        break\n",
    "\n",
    "    model.eval()\n",
    "    val_labels = []\n",
    "    val_preds = []\n",
    "    val_running_loss = 0\n",
    "    with torch.no_grad():\n",
    "        for data in tqdm(test_dataloader, position=0, leave=True):\n",
    "            img, label = data\n",
    "            #don't test for wrong batch size for now\n",
    "            #if img.shape[0] != BATCH_SIZE:\n",
    "            #    continue\n",
    "            y_pred = model(img)\n",
    "            y_pred_label = torch.argmax(y_pred, dim=1)\n",
    "            \n",
    "            val_labels.extend(label.cpu().detach())\n",
    "            val_preds.extend(y_pred_label.cpu().detach())\n",
    "            \n",
    "            loss = criterion(y_pred, label)\n",
    "            val_running_loss += loss.item()\n",
    "    val_loss = val_running_loss/len(test_dataloader)\n",
    "    val_losses = np.append(val_losses, val_loss)\n",
    "    val_accuracy = sum(1 for x,y in zip(val_preds, val_labels) if x == y) / len(val_labels)\n",
    "    val_accuracies = np.append(val_accuracies, val_accuracy)\n",
    "\n",
    "    print(\"-\"*30)\n",
    "    print(f\"Train Loss EPOCH {epoch}: {epoc_losses/len(train_dataloader)}\")\n",
    "    print(f\"Valid Loss EPOCH {epoch}: {val_loss:.4f}\")\n",
    "    #print(f\"Train Accuracy EPOCH {epoch+1}: {sum(1 for x,y in zip(train_preds, train_labels) if x == y) / len(train_labels):.4f}\")\n",
    "    print(f\"Valid Accuracy EPOCH {epoch}: {val_accuracy:.4f}\")\n",
    "    print(\"-\"*30)\n",
    "\n",
    "stop = time.time()\n",
    "print(f\"Training Time: {stop-start:.2f}s\")"
   ]
  },
  {
   "cell_type": "code",
   "execution_count": 71,
   "metadata": {},
   "outputs": [
    {
     "name": "stdout",
     "output_type": "stream",
     "text": [
      "Train Loss EPOCH 1: [0.15944983 0.10714777 0.05381234 1.54371139]\n"
     ]
    }
   ],
   "source": [
    "print(f\"Train Loss EPOCH {epoch}: {epoc_losses/len(train_dataloader)}\")"
   ]
  },
  {
   "cell_type": "code",
   "execution_count": 48,
   "metadata": {},
   "outputs": [
    {
     "name": "stdout",
     "output_type": "stream",
     "text": [
      "tensor([0.1658, 0.3393, 0.0000, 2.3026])\n"
     ]
    }
   ],
   "source": [
    "with torch.no_grad():\n",
    "    print(torch.Tensor(losses))\n",
    "\n",
    "    train_running_loss = torch.Tensor()\n",
    "    train_running_loss.app"
   ]
  },
  {
   "cell_type": "code",
   "execution_count": 25,
   "metadata": {},
   "outputs": [
    {
     "data": {
      "text/plain": [
       "torch.Size([16, 784])"
      ]
     },
     "execution_count": 25,
     "metadata": {},
     "output_type": "execute_result"
    }
   ],
   "source": [
    "img.shape"
   ]
  },
  {
   "cell_type": "code",
   "execution_count": 10,
   "metadata": {},
   "outputs": [
    {
     "data": {
      "text/plain": [
       "'model_Classification_Segment_v1_graph.pdf'"
      ]
     },
     "execution_count": 10,
     "metadata": {},
     "output_type": "execute_result"
    }
   ],
   "source": [
    "# Save graph to a file\n",
    "#!pip install torchviz\n",
    "from torchviz import make_dot\n",
    "\n",
    "# Generate a Graphviz object from the computation graph\n",
    "graph = make_dot(loss, params=dict(model.named_parameters())) \n",
    "\n",
    "# Save the graph as a PDF or any other format if needed\n",
    "graph.render(\"model_Classification_Segment_v1_graph\")"
   ]
  },
  {
   "cell_type": "markdown",
   "metadata": {},
   "source": [
    "# Experiment Observations\n",
    "* model=SimpleModel(784,10,8), model_params=141120, batch_size=64, lr=1e-5, epochs=40, test_acc=0.9118\n",
    "* model=SimpleModel(784,10,10), model_params=172480, batch_size=64, lr=1e-4, epochs=40, test_acc=0.9239\n",
    "\n",
    "### Turned off bw_transform and position transform. feeding flatten grayscape to above model\n",
    "* model=SimpleModel(784,10,10), model_params=172480, batch_size=64, lr=1e-4, epochs=40, test_acc=0.9310 (max 0.935)\n",
    "* so we are not really learning from shape\n",
    "\n",
    "### Trained a new model that uses multiple segment nets and tries to predict x,y\n",
    "*  MyModel(784, 64, 14, 10, 10), model_params=384840, batch_size=64, lr=1e-4, epochs=20, test_acc=0.9231 (max 0.9355)\n",
    "\n",
    "### Turned ON bw_transform (no position transform)\n",
    "*  MyModel(784, 64, 14, 10, 10), model_params=384840, batch_size=64, lr=1e-4, epochs=40, test_acc=0.9546 (max 0.9572)\n",
    "### Turned ON bw_transform, rotation_15 (no position transform) - ramps up faster\n",
    "*  MyModel(784, 64, 14, 10, 10), model_params=384840, batch_size=64, lr=1e-4, epochs=26, test_acc=0.9585 (max 0.9585)\n",
    "\n",
    "### Split seg2 in x,y to reduce params by 2x\n",
    "*  MyModel(784, 64, 14, 10, 10), model_params=196680, batch_size=64, lr=1e-4, epochs=26, test_acc=0.9598 (max 0.9633)\n",
    "\n",
    "### Experiment with change seg2 models to get transposed input failed spectacularly. Trained to 22% accuracy and slow\n",
    "\n",
    "### Changed seg2 segments (doubled them) - not much help\n",
    "*  MyModel(784, 64, 14, 10, 10), model_params=384840, batch_size=64, lr=1e-4, epochs=40, test_acc=0.9634 (max 0.9634)\n",
    "\n",
    "\n",
    "## Try to not sum on seg1. output =1 and use input_shape as the dimension with sum_on_x=False"
   ]
  },
  {
   "cell_type": "markdown",
   "metadata": {},
   "source": []
  }
 ],
 "metadata": {
  "kernelspec": {
   "display_name": "base",
   "language": "python",
   "name": "python3"
  },
  "language_info": {
   "codemirror_mode": {
    "name": "ipython",
    "version": 3
   },
   "file_extension": ".py",
   "mimetype": "text/x-python",
   "name": "python",
   "nbconvert_exporter": "python",
   "pygments_lexer": "ipython3",
   "version": "3.10.10"
  }
 },
 "nbformat": 4,
 "nbformat_minor": 2
}
