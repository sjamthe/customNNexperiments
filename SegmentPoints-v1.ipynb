{
 "cells": [
  {
   "cell_type": "markdown",
   "metadata": {},
   "source": [
    "# SegmentPoints that predicts segment points from x,y\n",
    "* flipping the segment model to so it trains on x & y and encodes the segment points. A decoder uses the points to predict x & y\n",
    "\n",
    "* Jan 4, 2024 : model trains for segment = 4 but not for 6 etc. The segments overlap, we need something that bounds them in limit."
   ]
  },
  {
   "cell_type": "code",
   "execution_count": 1,
   "metadata": {},
   "outputs": [],
   "source": [
    "import numpy as np\n",
    "import torch\n",
    "import torch.nn as nn"
   ]
  },
  {
   "cell_type": "code",
   "execution_count": 2,
   "metadata": {},
   "outputs": [
    {
     "name": "stdout",
     "output_type": "stream",
     "text": [
      "Using mps device\n"
     ]
    }
   ],
   "source": [
    "device = (\n",
    "    \"cuda\"\n",
    "    if torch.cuda.is_available()\n",
    "    else \"mps\"\n",
    "    if torch.backends.mps.is_available()\n",
    "    else \"cpu\"\n",
    ")\n",
    "print(f\"Using {device} device\")"
   ]
  },
  {
   "cell_type": "code",
   "execution_count": 97,
   "metadata": {},
   "outputs": [],
   "source": [
    "# Segment-v4\n",
    "class SegmentPoint(nn.Module):\n",
    "    r\"\"\"Divides incoming data into segment_features then applies two point\n",
    "    formula to each segment.\n",
    "    For any given x only one segment calculates y all others are masked out.\n",
    "    All x_features (x) contributes in calculation of ever y_feature (y)\n",
    "    but each combination of x_feature and y_feature has its own set of\n",
    "    segments. A parameters define segment points. As each segment is connected\n",
    "    to one or two consecutive segments we get segment_features+1 points per x,y\n",
    "    This will create total number of\n",
    "    parameters:\n",
    "        weights : y_features*x_features*segment_features\n",
    "        biases  : y_features*x_features*segment_features\n",
    "    \n",
    "    logic:\n",
    "        `y1 = m1x1 + b1` #start of  segment\n",
    "         y2 = m1x2 + b1  # end of 1st segment\n",
    "         init:\n",
    "            initialize segment.xout using xmin,xmax\n",
    "         encoder: \n",
    "            use w & b parameters to calculate segment.y using y1 = wx1 + b\n",
    "        decoder:\n",
    "            predict y using segments (as before) and output both y, x\n",
    "        loss:\n",
    "            loss is MSE on both x and y output of decoder\n",
    "\n",
    "    Args:\n",
    "        x_features: size of each input (x) sample\n",
    "        y_features: size of each output(y) sample\n",
    "        segment_features: number of segments on x dimensions\n",
    "\n",
    "    Shape:\n",
    "        - Input1: :math:`(*, H_{x})` where :math:`*` means any number of\n",
    "        dimensions (atleast one) and :math:`H_{x} = \\text{x\\_features}`.\n",
    "        - Input2: :math:`(*, H_{y})`  where :math:`*` means any number of\n",
    "        dimensions (atleast one) and :math:`H_{y} = \\text{y\\_features}`.\n",
    "        output1 - x: y_features*x_features*(segment_features+1)\n",
    "        output2- y: y_features*x_features*(segment_features+1)\n",
    "        Output3 : Same as Input after decoder\n",
    "\n",
    "    \"\"\"\n",
    "    __constants__ = ['x_features', 'y_features', 'segment_features']\n",
    "    x_features: int\n",
    "    y_features: int\n",
    "    segment_features: int\n",
    "    w: torch.Tensor\n",
    "    b: torch.Tensor\n",
    "    def __init__(self, x_features, y_features, segment_features):\n",
    "        super(SegmentPoint, self).__init__()\n",
    "        self.x_features = x_features\n",
    "        self.y_features = y_features\n",
    "        self.segment_features = segment_features\n",
    "\n",
    "        self.w = nn.Parameter(torch.Tensor(x_features,\n",
    "                                            segment_features, y_features))\n",
    "        self.b = nn.Parameter(torch.Tensor(x_features,\n",
    "                                            segment_features, y_features))\n",
    "        self.xout = torch.Tensor(x_features,\n",
    "                                            segment_features + 1, y_features)\n",
    "        self.yout = torch.zeros_like(self.xout)\n",
    "\n",
    "        # Weight initialization seem more important than xout init\n",
    "        nn.init.normal_(self.w, -10., 10.)\n",
    "        \n",
    "        # Use initialized flag to ensure custom_init is called before training\n",
    "        self.initialized = False\n",
    "\n",
    "    def custom_init(self, x_min, x_max):\n",
    "        self.initialized = True\n",
    "\n",
    "        x_init = torch.empty_like(self.xout)\n",
    "        b_init = torch.empty_like(self.b)\n",
    "\n",
    "        # _calc_points overwrites all xout, except x[0] and x[-1]\n",
    "        #x_init[:,0,:] = x_min\n",
    "        #x_init[0,-1,:] = x_max\n",
    "\n",
    "        for i in np.arange(self.x_features):\n",
    "            for j in np.arange(self.y_features):\n",
    "                x_init[i, :, j] = torch.linspace(x_min[i], x_max[i],\n",
    "                                    self.segment_features + 1)\n",
    "                #b_init[i, :, j] = torch.linspace(x_min[i], x_max[i],\n",
    "                #                    self.segment_features)\n",
    "                \n",
    "        # initialize all rows of xout - IMPORTANT\n",
    "        self.xout = torch.Tensor(x_init)\n",
    "\n",
    "        # Experiment with initializing x to 1 and b equidistant like x_init\n",
    "        #self.w = nn.Parameter(torch.ones_like(self.w))\n",
    "        #self.b = nn.Parameter(b_init)\n",
    "\n",
    "    def _encode(self):\n",
    "        \"\"\"Calculate segment points from intersects of consecutive segments.\n",
    "        y = w1x + b1 = w2x + b2\n",
    "        x = (b2 - b1)/(w1 - w2)\n",
    "        \"\"\"\n",
    "        divider = (self.w[:,:-1,:]-self.w[:,1:,:])\n",
    "        #The ratio can get -inf or inf. we need to protect against it\n",
    "        divider[divider == 0.] = 0.0001\n",
    "        #xout[0] and xout[-1] are never modified.\n",
    "        self.xout[:,1:-1,:] = (self.b[:,1:,:]-self.b[:,:-1,:])/divider\n",
    "        self.yout[:,0:-1,:] = self.w * self.xout[:,0:-1,:] + self.b\n",
    "        self.yout[:,-1:,:] = self.w[:,-1:,:] * self.xout[:,-1:,:] + self.b[:,-1:,:]\n",
    "               \n",
    "    def _calc_xmask(self, x_in):\n",
    "        # x_in.shape = [N, in_features]\n",
    "        self.x_in_4d =  x_in.unsqueeze(-1).unsqueeze(-1)     \n",
    "        # x_in_4d.shape =  [N, in_features, 1, 1] \n",
    "        # to find out if x is between segments\n",
    "        lt = torch.lt(self.x_in_4d, self.xout[:, 1:, :]) \n",
    "        ge = torch.ge(self.x_in_4d, self.xout[:, :-1, :]) \n",
    "        xmask = (lt & ge)\n",
    "        #mask.shape = [N, in_features, segment_features, out_features]\n",
    "\n",
    "        # This mask doesn't include x where x is below 1st segment start\n",
    "        # or after last segment end\n",
    "        # we create new mask to capture the x values beyond segments\n",
    "        mask_lt = torch.lt(self.x_in_4d,self.xout[:, 0:1, :]) #x less than 1st segment\n",
    "        # then do OR with mask so these are included for prediction.\n",
    "        xmask[:,:, 0:1, :] = xmask[:, :, 0:1, :] | mask_lt\n",
    "\n",
    "        #do the same for last x of segment\n",
    "        mask_ge = torch.ge(self.x_in_4d,self.xout[:, -1:, :]) \n",
    "        xmask[:,:, -1:, :] = xmask[:, :, -1:, :] | mask_ge\n",
    "        return xmask\n",
    "\n",
    "    def _decode(self, x_in):\n",
    "        \"\"\"implementation using w & b\"\"\"\n",
    "        xmask = self._calc_xmask(x_in)\n",
    "        ypred = xmask * self.x_in_4d * self.w  + xmask * self.b\n",
    "        ypred = torch.sum(ypred, dim=(1,2))\n",
    "        return ypred\n",
    "\n",
    "    def _decode2(self, x_in):\n",
    "        \"\"\"implement using segments\"\"\"\n",
    "        self.xmask = self._calc_xmask(x_in)\n",
    "\n",
    "        divider = (self.xout[:,1:,:]-self.xout[:,:-1,:])\n",
    "        #The ratio can get -inf or inf. we need to protect against it\n",
    "        divider[divider == 0.] = 0.0001\n",
    "\n",
    "        # Ratio is the segment (y2-y1)/(x2-x1) ratio \n",
    "        ratio = (self.yout[:,1:,:]-self.yout[:,:-1,:])/divider\n",
    "\n",
    "        ypred = ratio*self.xmask*(self.x_in_4d - self.xout[:,:-1,:]) + self.xmask * self.yout[:,:-1,:]\n",
    "        # ypred.shape = [N, in_features, segment_features, out_features]\n",
    "        # we can sum up by in_features (as y is cumulative of all f(x))\n",
    "        # and sum by segment_features (only one segment should be non zero)\n",
    "        ypred = torch.sum(ypred, dim=(1,2))\n",
    "        return ypred\n",
    "\n",
    "    def forward(self, x_in):\n",
    "        if self.training and not self.initialized:\n",
    "            raise RuntimeError(\"model.custom_init was not called before training\")\n",
    "        self._encode()\n",
    "        #ypred = self._decode(x_in)\n",
    "        ypred = self._decode2(x_in)\n",
    "        return ypred\n",
    "\n",
    "    def extra_repr(self) -> str:\n",
    "        return f'x_features={self.x_features}, y_features={self.y_features}, \\\n",
    "          segment_features={self.segment_features}'\n",
    "    "
   ]
  },
  {
   "cell_type": "markdown",
   "metadata": {},
   "source": [
    "# Create Test Dataset"
   ]
  },
  {
   "cell_type": "code",
   "execution_count": 4,
   "metadata": {},
   "outputs": [],
   "source": [
    "# Define funtions to approximate\n",
    "def f_quartic(x):\n",
    "    a = -0.0179516\n",
    "    b = 0.331323\n",
    "    c = -1.63398\n",
    "    d = 1.01107\n",
    "    f = 5.73434\n",
    "    return a*x**4 + b*x**3 + c*x**2 + d*x + f\n",
    "\n",
    "def normalize(x,y):\n",
    "    x_normalized = torch.nn.functional.normalize(x, dim=0)\n",
    "    y_normalized = torch.nn.functional.normalize(y, dim=0)\n",
    "    return x_normalized, y_normalized"
   ]
  },
  {
   "cell_type": "code",
   "execution_count": 5,
   "metadata": {},
   "outputs": [
    {
     "name": "stdout",
     "output_type": "stream",
     "text": [
      "torch.Size([250]) torch.Size([250])\n",
      "torch.Size([250, 1]) torch.Size([250, 1])\n"
     ]
    }
   ],
   "source": [
    "# Create training dataset\n",
    "x_in = torch.arange(-1.5, 11., .05)\n",
    "ytest = f_quartic(x_in)\n",
    "#normalization - important\n",
    "x_in, ytest = normalize(x_in, ytest)\n",
    "print(x_in.shape, ytest.shape)\n",
    "\n",
    "# Reshape x, ytest to N,1\n",
    "x_in = x_in.view(x_in.shape[0], 1)\n",
    "ytest = ytest.reshape(x_in.shape[0], 1)\n",
    "print(x_in.shape, ytest.shape)"
   ]
  },
  {
   "cell_type": "markdown",
   "metadata": {},
   "source": [
    "# Model Init"
   ]
  },
  {
   "cell_type": "code",
   "execution_count": 98,
   "metadata": {},
   "outputs": [
    {
     "name": "stderr",
     "output_type": "stream",
     "text": [
      "/var/folders/p8/6xqh0j89469_mrb23rhww3_r009kq1/T/ipykernel_45431/2960450164.py:1: UserWarning: Anomaly Detection has been enabled. This mode will increase the runtime and should only be enabled for debugging.\n",
      "  with torch.autograd.detect_anomaly():\n",
      "/Users/sjamthe/miniconda3/lib/python3.10/site-packages/torch/autograd/__init__.py:251: UserWarning: Error detected in torch::autograd::CopySlices. Traceback of forward call that caused the error:\n",
      "  File \"/Users/sjamthe/miniconda3/lib/python3.10/runpy.py\", line 196, in _run_module_as_main\n",
      "    return _run_code(code, main_globals, None,\n",
      "  File \"/Users/sjamthe/miniconda3/lib/python3.10/runpy.py\", line 86, in _run_code\n",
      "    exec(code, run_globals)\n",
      "  File \"/Users/sjamthe/miniconda3/lib/python3.10/site-packages/ipykernel_launcher.py\", line 17, in <module>\n",
      "    app.launch_new_instance()\n",
      "  File \"/Users/sjamthe/miniconda3/lib/python3.10/site-packages/traitlets/config/application.py\", line 1043, in launch_instance\n",
      "    app.start()\n",
      "  File \"/Users/sjamthe/miniconda3/lib/python3.10/site-packages/ipykernel/kernelapp.py\", line 725, in start\n",
      "    self.io_loop.start()\n",
      "  File \"/Users/sjamthe/miniconda3/lib/python3.10/site-packages/tornado/platform/asyncio.py\", line 195, in start\n",
      "    self.asyncio_loop.run_forever()\n",
      "  File \"/Users/sjamthe/miniconda3/lib/python3.10/asyncio/base_events.py\", line 603, in run_forever\n",
      "    self._run_once()\n",
      "  File \"/Users/sjamthe/miniconda3/lib/python3.10/asyncio/base_events.py\", line 1909, in _run_once\n",
      "    handle._run()\n",
      "  File \"/Users/sjamthe/miniconda3/lib/python3.10/asyncio/events.py\", line 80, in _run\n",
      "    self._context.run(self._callback, *self._args)\n",
      "  File \"/Users/sjamthe/miniconda3/lib/python3.10/site-packages/ipykernel/kernelbase.py\", line 513, in dispatch_queue\n",
      "    await self.process_one()\n",
      "  File \"/Users/sjamthe/miniconda3/lib/python3.10/site-packages/ipykernel/kernelbase.py\", line 502, in process_one\n",
      "    await dispatch(*args)\n",
      "  File \"/Users/sjamthe/miniconda3/lib/python3.10/site-packages/ipykernel/kernelbase.py\", line 409, in dispatch_shell\n",
      "    await result\n",
      "  File \"/Users/sjamthe/miniconda3/lib/python3.10/site-packages/ipykernel/kernelbase.py\", line 729, in execute_request\n",
      "    reply_content = await reply_content\n",
      "  File \"/Users/sjamthe/miniconda3/lib/python3.10/site-packages/ipykernel/ipkernel.py\", line 422, in do_execute\n",
      "    res = shell.run_cell(\n",
      "  File \"/Users/sjamthe/miniconda3/lib/python3.10/site-packages/ipykernel/zmqshell.py\", line 540, in run_cell\n",
      "    return super().run_cell(*args, **kwargs)\n",
      "  File \"/Users/sjamthe/miniconda3/lib/python3.10/site-packages/IPython/core/interactiveshell.py\", line 3009, in run_cell\n",
      "    result = self._run_cell(\n",
      "  File \"/Users/sjamthe/miniconda3/lib/python3.10/site-packages/IPython/core/interactiveshell.py\", line 3064, in _run_cell\n",
      "    result = runner(coro)\n",
      "  File \"/Users/sjamthe/miniconda3/lib/python3.10/site-packages/IPython/core/async_helpers.py\", line 129, in _pseudo_sync_runner\n",
      "    coro.send(None)\n",
      "  File \"/Users/sjamthe/miniconda3/lib/python3.10/site-packages/IPython/core/interactiveshell.py\", line 3269, in run_cell_async\n",
      "    has_raised = await self.run_ast_nodes(code_ast.body, cell_name,\n",
      "  File \"/Users/sjamthe/miniconda3/lib/python3.10/site-packages/IPython/core/interactiveshell.py\", line 3448, in run_ast_nodes\n",
      "    if await self.run_code(code, result, async_=asy):\n",
      "  File \"/Users/sjamthe/miniconda3/lib/python3.10/site-packages/IPython/core/interactiveshell.py\", line 3508, in run_code\n",
      "    exec(code_obj, self.user_global_ns, self.user_ns)\n",
      "  File \"/var/folders/p8/6xqh0j89469_mrb23rhww3_r009kq1/T/ipykernel_45431/2960450164.py\", line 5, in <module>\n",
      "    ypred = model(X)\n",
      "  File \"/Users/sjamthe/miniconda3/lib/python3.10/site-packages/torch/nn/modules/module.py\", line 1518, in _wrapped_call_impl\n",
      "    return self._call_impl(*args, **kwargs)\n",
      "  File \"/Users/sjamthe/miniconda3/lib/python3.10/site-packages/torch/nn/modules/module.py\", line 1527, in _call_impl\n",
      "    return forward_call(*args, **kwargs)\n",
      "  File \"/var/folders/p8/6xqh0j89469_mrb23rhww3_r009kq1/T/ipykernel_45431/2478171647.py\", line 156, in forward\n",
      "    self._encode()\n",
      "  File \"/var/folders/p8/6xqh0j89469_mrb23rhww3_r009kq1/T/ipykernel_45431/2478171647.py\", line 101, in _encode\n",
      "    self.xout[:,1:-1,:] = (self.b[:,1:,:]-self.b[:,:-1,:])/divider\n",
      " (Triggered internally at /Users/runner/work/pytorch/pytorch/pytorch/torch/csrc/autograd/python_anomaly_mode.cpp:119.)\n",
      "  Variable._execution_engine.run_backward(  # Calls into the C++ engine to run the backward pass\n"
     ]
    },
    {
     "ename": "RuntimeError",
     "evalue": "Trying to backward through the graph a second time (or directly access saved tensors after they have already been freed). Saved intermediate values of the graph are freed when you call .backward() or autograd.grad(). Specify retain_graph=True if you need to backward through the graph a second time or if you need to access saved tensors after calling backward.",
     "output_type": "error",
     "traceback": [
      "\u001b[0;31m---------------------------------------------------------------------------\u001b[0m",
      "\u001b[0;31mRuntimeError\u001b[0m                              Traceback (most recent call last)",
      "Cell \u001b[0;32mIn[98], line 22\u001b[0m\n\u001b[1;32m     20\u001b[0m \u001b[38;5;66;03m# Backward and optimize\u001b[39;00m\n\u001b[1;32m     21\u001b[0m model\u001b[38;5;241m.\u001b[39mzero_grad(set_to_none\u001b[38;5;241m=\u001b[39m\u001b[38;5;28;01mTrue\u001b[39;00m)\n\u001b[0;32m---> 22\u001b[0m \u001b[43mloss\u001b[49m\u001b[38;5;241;43m.\u001b[39;49m\u001b[43mbackward\u001b[49m\u001b[43m(\u001b[49m\u001b[43m)\u001b[49m\n\u001b[1;32m     23\u001b[0m optimizer\u001b[38;5;241m.\u001b[39mstep()\n",
      "File \u001b[0;32m~/miniconda3/lib/python3.10/site-packages/torch/_tensor.py:492\u001b[0m, in \u001b[0;36mTensor.backward\u001b[0;34m(self, gradient, retain_graph, create_graph, inputs)\u001b[0m\n\u001b[1;32m    482\u001b[0m \u001b[38;5;28;01mif\u001b[39;00m has_torch_function_unary(\u001b[38;5;28mself\u001b[39m):\n\u001b[1;32m    483\u001b[0m     \u001b[38;5;28;01mreturn\u001b[39;00m handle_torch_function(\n\u001b[1;32m    484\u001b[0m         Tensor\u001b[38;5;241m.\u001b[39mbackward,\n\u001b[1;32m    485\u001b[0m         (\u001b[38;5;28mself\u001b[39m,),\n\u001b[0;32m   (...)\u001b[0m\n\u001b[1;32m    490\u001b[0m         inputs\u001b[38;5;241m=\u001b[39minputs,\n\u001b[1;32m    491\u001b[0m     )\n\u001b[0;32m--> 492\u001b[0m \u001b[43mtorch\u001b[49m\u001b[38;5;241;43m.\u001b[39;49m\u001b[43mautograd\u001b[49m\u001b[38;5;241;43m.\u001b[39;49m\u001b[43mbackward\u001b[49m\u001b[43m(\u001b[49m\n\u001b[1;32m    493\u001b[0m \u001b[43m    \u001b[49m\u001b[38;5;28;43mself\u001b[39;49m\u001b[43m,\u001b[49m\u001b[43m \u001b[49m\u001b[43mgradient\u001b[49m\u001b[43m,\u001b[49m\u001b[43m \u001b[49m\u001b[43mretain_graph\u001b[49m\u001b[43m,\u001b[49m\u001b[43m \u001b[49m\u001b[43mcreate_graph\u001b[49m\u001b[43m,\u001b[49m\u001b[43m \u001b[49m\u001b[43minputs\u001b[49m\u001b[38;5;241;43m=\u001b[39;49m\u001b[43minputs\u001b[49m\n\u001b[1;32m    494\u001b[0m \u001b[43m\u001b[49m\u001b[43m)\u001b[49m\n",
      "File \u001b[0;32m~/miniconda3/lib/python3.10/site-packages/torch/autograd/__init__.py:251\u001b[0m, in \u001b[0;36mbackward\u001b[0;34m(tensors, grad_tensors, retain_graph, create_graph, grad_variables, inputs)\u001b[0m\n\u001b[1;32m    246\u001b[0m     retain_graph \u001b[38;5;241m=\u001b[39m create_graph\n\u001b[1;32m    248\u001b[0m \u001b[38;5;66;03m# The reason we repeat the same comment below is that\u001b[39;00m\n\u001b[1;32m    249\u001b[0m \u001b[38;5;66;03m# some Python versions print out the first line of a multi-line function\u001b[39;00m\n\u001b[1;32m    250\u001b[0m \u001b[38;5;66;03m# calls in the traceback and some print out the last line\u001b[39;00m\n\u001b[0;32m--> 251\u001b[0m \u001b[43mVariable\u001b[49m\u001b[38;5;241;43m.\u001b[39;49m\u001b[43m_execution_engine\u001b[49m\u001b[38;5;241;43m.\u001b[39;49m\u001b[43mrun_backward\u001b[49m\u001b[43m(\u001b[49m\u001b[43m  \u001b[49m\u001b[38;5;66;43;03m# Calls into the C++ engine to run the backward pass\u001b[39;49;00m\n\u001b[1;32m    252\u001b[0m \u001b[43m    \u001b[49m\u001b[43mtensors\u001b[49m\u001b[43m,\u001b[49m\n\u001b[1;32m    253\u001b[0m \u001b[43m    \u001b[49m\u001b[43mgrad_tensors_\u001b[49m\u001b[43m,\u001b[49m\n\u001b[1;32m    254\u001b[0m \u001b[43m    \u001b[49m\u001b[43mretain_graph\u001b[49m\u001b[43m,\u001b[49m\n\u001b[1;32m    255\u001b[0m \u001b[43m    \u001b[49m\u001b[43mcreate_graph\u001b[49m\u001b[43m,\u001b[49m\n\u001b[1;32m    256\u001b[0m \u001b[43m    \u001b[49m\u001b[43minputs\u001b[49m\u001b[43m,\u001b[49m\n\u001b[1;32m    257\u001b[0m \u001b[43m    \u001b[49m\u001b[43mallow_unreachable\u001b[49m\u001b[38;5;241;43m=\u001b[39;49m\u001b[38;5;28;43;01mTrue\u001b[39;49;00m\u001b[43m,\u001b[49m\n\u001b[1;32m    258\u001b[0m \u001b[43m    \u001b[49m\u001b[43maccumulate_grad\u001b[49m\u001b[38;5;241;43m=\u001b[39;49m\u001b[38;5;28;43;01mTrue\u001b[39;49;00m\u001b[43m,\u001b[49m\n\u001b[1;32m    259\u001b[0m \u001b[43m\u001b[49m\u001b[43m)\u001b[49m\n",
      "\u001b[0;31mRuntimeError\u001b[0m: Trying to backward through the graph a second time (or directly access saved tensors after they have already been freed). Saved intermediate values of the graph are freed when you call .backward() or autograd.grad(). Specify retain_graph=True if you need to backward through the graph a second time or if you need to access saved tensors after calling backward."
     ]
    }
   ],
   "source": [
    "with torch.autograd.detect_anomaly():\n",
    "    model = SegmentPoint(x_in.shape[1], ytest.shape[1], 4)\n",
    "    model.train()\n",
    "    model.custom_init(x_in.min(dim=0).values, x_in.max(dim=0).values)\n",
    "    ypred = model(X)\n",
    "    # Calculate the loss\n",
    "    loss = criterion(ypred, Y)\n",
    "    train_loss += loss.item()\n",
    "    \n",
    "    # Backward and optimize\n",
    "    model.zero_grad(set_to_none=True)\n",
    "    loss.backward()\n",
    "    optimizer.step()\n",
    "\n",
    "    ypred = model(X)\n",
    "    # Calculate the loss\n",
    "    loss = criterion(ypred, Y)\n",
    "    train_loss += loss.item()\n",
    "    \n",
    "    # Backward and optimize\n",
    "    model.zero_grad(set_to_none=True)\n",
    "    loss.backward()\n",
    "    optimizer.step()"
   ]
  },
  {
   "cell_type": "code",
   "execution_count": 86,
   "metadata": {},
   "outputs": [],
   "source": [
    "from torch.utils.data import DataLoader\n",
    "\n",
    "torch.manual_seed(10)\n",
    "\n",
    "model = SegmentPoint(x_in.shape[1], ytest.shape[1], 4)\n",
    "\n",
    "#Initialize model parameters - extremely important.\n",
    "model.custom_init(x_in.min(dim=0).values, x_in.max(dim=0).values)\n",
    "\n",
    "criterion = nn.MSELoss(reduction='sum')\n",
    "\n",
    "lr=.01\n",
    "optimizer = torch.optim.AdamW(model.parameters(), lr=lr, betas=(0.9, 0.999), eps=1e-8)\n",
    "\n",
    "# create dataset that can be used in a dataloader \n",
    "dataset = torch.utils.data.TensorDataset(x_in, ytest)\n",
    "batch_size=64\n",
    "dataloader = DataLoader(dataset, batch_size=batch_size, shuffle=True)\n"
   ]
  },
  {
   "cell_type": "markdown",
   "metadata": {},
   "source": [
    "## Training loop"
   ]
  },
  {
   "cell_type": "code",
   "execution_count": 88,
   "metadata": {},
   "outputs": [
    {
     "ename": "RuntimeError",
     "evalue": "Trying to backward through the graph a second time (or directly access saved tensors after they have already been freed). Saved intermediate values of the graph are freed when you call .backward() or autograd.grad(). Specify retain_graph=True if you need to backward through the graph a second time or if you need to access saved tensors after calling backward.",
     "output_type": "error",
     "traceback": [
      "\u001b[0;31m---------------------------------------------------------------------------\u001b[0m",
      "\u001b[0;31mRuntimeError\u001b[0m                              Traceback (most recent call last)",
      "Cell \u001b[0;32mIn[88], line 16\u001b[0m\n\u001b[1;32m     14\u001b[0m     \u001b[38;5;66;03m# Backward and optimize\u001b[39;00m\n\u001b[1;32m     15\u001b[0m     model\u001b[38;5;241m.\u001b[39mzero_grad(set_to_none\u001b[38;5;241m=\u001b[39m\u001b[38;5;28;01mTrue\u001b[39;00m)\n\u001b[0;32m---> 16\u001b[0m     \u001b[43mloss\u001b[49m\u001b[38;5;241;43m.\u001b[39;49m\u001b[43mbackward\u001b[49m\u001b[43m(\u001b[49m\u001b[43m)\u001b[49m\n\u001b[1;32m     17\u001b[0m     optimizer\u001b[38;5;241m.\u001b[39mstep()\n\u001b[1;32m     19\u001b[0m losses \u001b[38;5;241m=\u001b[39m np\u001b[38;5;241m.\u001b[39mappend(losses, train_loss)\n",
      "File \u001b[0;32m~/miniconda3/lib/python3.10/site-packages/torch/_tensor.py:492\u001b[0m, in \u001b[0;36mTensor.backward\u001b[0;34m(self, gradient, retain_graph, create_graph, inputs)\u001b[0m\n\u001b[1;32m    482\u001b[0m \u001b[38;5;28;01mif\u001b[39;00m has_torch_function_unary(\u001b[38;5;28mself\u001b[39m):\n\u001b[1;32m    483\u001b[0m     \u001b[38;5;28;01mreturn\u001b[39;00m handle_torch_function(\n\u001b[1;32m    484\u001b[0m         Tensor\u001b[38;5;241m.\u001b[39mbackward,\n\u001b[1;32m    485\u001b[0m         (\u001b[38;5;28mself\u001b[39m,),\n\u001b[0;32m   (...)\u001b[0m\n\u001b[1;32m    490\u001b[0m         inputs\u001b[38;5;241m=\u001b[39minputs,\n\u001b[1;32m    491\u001b[0m     )\n\u001b[0;32m--> 492\u001b[0m \u001b[43mtorch\u001b[49m\u001b[38;5;241;43m.\u001b[39;49m\u001b[43mautograd\u001b[49m\u001b[38;5;241;43m.\u001b[39;49m\u001b[43mbackward\u001b[49m\u001b[43m(\u001b[49m\n\u001b[1;32m    493\u001b[0m \u001b[43m    \u001b[49m\u001b[38;5;28;43mself\u001b[39;49m\u001b[43m,\u001b[49m\u001b[43m \u001b[49m\u001b[43mgradient\u001b[49m\u001b[43m,\u001b[49m\u001b[43m \u001b[49m\u001b[43mretain_graph\u001b[49m\u001b[43m,\u001b[49m\u001b[43m \u001b[49m\u001b[43mcreate_graph\u001b[49m\u001b[43m,\u001b[49m\u001b[43m \u001b[49m\u001b[43minputs\u001b[49m\u001b[38;5;241;43m=\u001b[39;49m\u001b[43minputs\u001b[49m\n\u001b[1;32m    494\u001b[0m \u001b[43m\u001b[49m\u001b[43m)\u001b[49m\n",
      "File \u001b[0;32m~/miniconda3/lib/python3.10/site-packages/torch/autograd/__init__.py:251\u001b[0m, in \u001b[0;36mbackward\u001b[0;34m(tensors, grad_tensors, retain_graph, create_graph, grad_variables, inputs)\u001b[0m\n\u001b[1;32m    246\u001b[0m     retain_graph \u001b[38;5;241m=\u001b[39m create_graph\n\u001b[1;32m    248\u001b[0m \u001b[38;5;66;03m# The reason we repeat the same comment below is that\u001b[39;00m\n\u001b[1;32m    249\u001b[0m \u001b[38;5;66;03m# some Python versions print out the first line of a multi-line function\u001b[39;00m\n\u001b[1;32m    250\u001b[0m \u001b[38;5;66;03m# calls in the traceback and some print out the last line\u001b[39;00m\n\u001b[0;32m--> 251\u001b[0m \u001b[43mVariable\u001b[49m\u001b[38;5;241;43m.\u001b[39;49m\u001b[43m_execution_engine\u001b[49m\u001b[38;5;241;43m.\u001b[39;49m\u001b[43mrun_backward\u001b[49m\u001b[43m(\u001b[49m\u001b[43m  \u001b[49m\u001b[38;5;66;43;03m# Calls into the C++ engine to run the backward pass\u001b[39;49;00m\n\u001b[1;32m    252\u001b[0m \u001b[43m    \u001b[49m\u001b[43mtensors\u001b[49m\u001b[43m,\u001b[49m\n\u001b[1;32m    253\u001b[0m \u001b[43m    \u001b[49m\u001b[43mgrad_tensors_\u001b[49m\u001b[43m,\u001b[49m\n\u001b[1;32m    254\u001b[0m \u001b[43m    \u001b[49m\u001b[43mretain_graph\u001b[49m\u001b[43m,\u001b[49m\n\u001b[1;32m    255\u001b[0m \u001b[43m    \u001b[49m\u001b[43mcreate_graph\u001b[49m\u001b[43m,\u001b[49m\n\u001b[1;32m    256\u001b[0m \u001b[43m    \u001b[49m\u001b[43minputs\u001b[49m\u001b[43m,\u001b[49m\n\u001b[1;32m    257\u001b[0m \u001b[43m    \u001b[49m\u001b[43mallow_unreachable\u001b[49m\u001b[38;5;241;43m=\u001b[39;49m\u001b[38;5;28;43;01mTrue\u001b[39;49;00m\u001b[43m,\u001b[49m\n\u001b[1;32m    258\u001b[0m \u001b[43m    \u001b[49m\u001b[43maccumulate_grad\u001b[49m\u001b[38;5;241;43m=\u001b[39;49m\u001b[38;5;28;43;01mTrue\u001b[39;49;00m\u001b[43m,\u001b[49m\n\u001b[1;32m    259\u001b[0m \u001b[43m\u001b[49m\u001b[43m)\u001b[49m\n",
      "\u001b[0;31mRuntimeError\u001b[0m: Trying to backward through the graph a second time (or directly access saved tensors after they have already been freed). Saved intermediate values of the graph are freed when you call .backward() or autograd.grad(). Specify retain_graph=True if you need to backward through the graph a second time or if you need to access saved tensors after calling backward."
     ]
    }
   ],
   "source": [
    "num_epochs = 10000\n",
    "losses = np.array([])\n",
    "for epoch in range(1, num_epochs+1):\n",
    "    model.train()\n",
    "    train_loss = 0\n",
    "    for batch_idx, data in enumerate(dataloader):\n",
    "        # Forward pass\n",
    "        [X, Y] = data\n",
    "        ypred = model(X)\n",
    "        # Calculate the loss\n",
    "        loss = criterion(ypred, Y)\n",
    "        train_loss += loss.item()\n",
    "        \n",
    "        # Backward and optimize\n",
    "        model.zero_grad(set_to_none=True)\n",
    "        loss.backward()\n",
    "        optimizer.step()\n",
    "\n",
    "    losses = np.append(losses, train_loss)\n",
    "    if epoch % (num_epochs/10) == 0:\n",
    "        print('====> Epoch: {} Average loss: {:.4f}'.format(\n",
    "            epoch, train_loss))"
   ]
  },
  {
   "cell_type": "markdown",
   "metadata": {},
   "source": [
    "# Plot model loss, output"
   ]
  },
  {
   "cell_type": "code",
   "execution_count": 73,
   "metadata": {},
   "outputs": [
    {
     "name": "stdout",
     "output_type": "stream",
     "text": [
      "last total_mean_loss  0.012236770242452621\n"
     ]
    },
    {
     "data": {
      "image/png": "[encoded data removed]",
      "text/plain": [
       "<Figure size 1000x400 with 2 Axes>"
      ]
     },
     "metadata": {},
     "output_type": "display_data"
    }
   ],
   "source": [
    "# plot graphs\n",
    "import matplotlib\n",
    "import matplotlib.pyplot as plt\n",
    "%matplotlib inline\n",
    "\n",
    "matplotlib.rcParams['figure.figsize'] = (10, 4) # this is done to increase width to \n",
    "\n",
    "# Create a figure and two axes objects\n",
    "# Increase the figure size to accommodate wider plots\n",
    "fig, (ax1, ax2) = plt.subplots(1, 2)\n",
    "\n",
    "# plot loss\n",
    "print (\"last total_mean_loss \",train_loss)\n",
    "ax1.plot(losses)\n",
    "\n",
    "# plot trained model\n",
    "y = model(x_in)\n",
    "y = y.detach().numpy()\n",
    "ax2.plot(x_in, ytest)\n",
    "ax2.scatter(x_in, y, color='black', s=1)\n",
    "\n",
    "# Display the plot\n",
    "plt.show()"
   ]
  },
  {
   "cell_type": "markdown",
   "metadata": {},
   "source": [
    "# Plot segments"
   ]
  },
  {
   "cell_type": "code",
   "execution_count": 69,
   "metadata": {},
   "outputs": [
    {
     "data": {
      "image/png": "[encoded data removed]",
      "text/plain": [
       "<Figure size 1000x400 with 1 Axes>"
      ]
     },
     "metadata": {},
     "output_type": "display_data"
    }
   ],
   "source": [
    "xval = model.xout.reshape(model.xout.shape[1]).detach().numpy()\n",
    "yval = model.yout.reshape(model.xout.shape[1]).detach().numpy()\n",
    "plt.plot(x_in, ytest)\n",
    "plt.plot(xval,yval) \n",
    "plt.show()"
   ]
  },
  {
   "cell_type": "code",
   "execution_count": 70,
   "metadata": {},
   "outputs": [
    {
     "data": {
      "text/plain": [
       "(Parameter containing:\n",
       " tensor([[[ 6.4369],\n",
       "          [-2.4713],\n",
       "          [ 2.6179],\n",
       "          [-5.9902]]], requires_grad=True),\n",
       " Parameter containing:\n",
       " tensor([[[ 0.1064],\n",
       "          [ 0.1102],\n",
       "          [-0.1406],\n",
       "          [ 0.6930]]], requires_grad=True))"
      ]
     },
     "execution_count": 70,
     "metadata": {},
     "output_type": "execute_result"
    }
   ],
   "source": [
    "model.w, model.b"
   ]
  },
  {
   "cell_type": "code",
   "execution_count": 64,
   "metadata": {},
   "outputs": [
    {
     "name": "stdout",
     "output_type": "stream",
     "text": [
      "torch.Size([1, 5, 1])\n"
     ]
    },
    {
     "data": {
      "text/plain": [
       "(tensor([[[-0.0160],\n",
       "          [ 0.0215],\n",
       "          [ 0.0329],\n",
       "          [ 0.1043],\n",
       "          [ 0.1165]]], grad_fn=<AsStridedBackward0>),\n",
       " tensor([[[ 0.0489],\n",
       "          [ 0.0966],\n",
       "          [-0.0162],\n",
       "          [ 0.1073],\n",
       "          [-0.0392]]], grad_fn=<CopySlices>))"
      ]
     },
     "execution_count": 64,
     "metadata": {},
     "output_type": "execute_result"
    }
   ],
   "source": [
    "print(model.xout.shape)\n",
    "model.xout, model.yout\n"
   ]
  },
  {
   "cell_type": "code",
   "execution_count": 81,
   "metadata": {},
   "outputs": [
    {
     "data": {
      "text/plain": [
       "'model_segmentPoint_v1_graph.pdf'"
      ]
     },
     "execution_count": 81,
     "metadata": {},
     "output_type": "execute_result"
    }
   ],
   "source": [
    "# Save graph to a file\n",
    "from torchviz import make_dot\n",
    "\n",
    "# Generate a Graphviz object from the computation graph\n",
    "graph = make_dot(loss, params=dict(model.named_parameters())) \n",
    "\n",
    "# Save the graph as a PDF or any other format if needed\n",
    "graph.render(\"model_segmentPoint_v1_graph\")"
   ]
  },
  {
   "cell_type": "code",
   "execution_count": null,
   "metadata": {},
   "outputs": [],
   "source": []
  }
 ],
 "metadata": {
  "kernelspec": {
   "display_name": "base",
   "language": "python",
   "name": "python3"
  },
  "language_info": {
   "codemirror_mode": {
    "name": "ipython",
    "version": 3
   },
   "file_extension": ".py",
   "mimetype": "text/x-python",
   "name": "python",
   "nbconvert_exporter": "python",
   "pygments_lexer": "ipython3",
   "version": "3.10.10"
  }
 },
 "nbformat": 4,
 "nbformat_minor": 2
}
