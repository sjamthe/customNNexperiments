{
 "cells": [
  {
   "cell_type": "markdown",
   "metadata": {},
   "source": [
    "# SegmentPoints that predicts segment points from x,y\n",
    "* flipping the segment model to so it trains on x & y and encodes the segment points. A decoder uses the points to predict x & y"
   ]
  },
  {
   "cell_type": "code",
   "execution_count": 1,
   "metadata": {},
   "outputs": [],
   "source": [
    "import numpy as np\n",
    "import torch\n",
    "import torch.nn as nn"
   ]
  },
  {
   "cell_type": "code",
   "execution_count": 72,
   "metadata": {},
   "outputs": [],
   "source": [
    "# Segment-v4\n",
    "class SegmentPoint(nn.Module):\n",
    "    r\"\"\"Divides incoming data into segment_features then applies two point\n",
    "    formula to each segment.\n",
    "    For any given x only one segment calculates y all others are masked out.\n",
    "    All x_features (x) contributes in calculation of ever y_feature (y)\n",
    "    but each combination of x_feature and y_feature has its own set of\n",
    "    segments. A parameters define segment points. As each segment is connected\n",
    "    to one or two consecutive segments we get segment_features+1 points per x,y\n",
    "    This will create total number of\n",
    "    parameters:\n",
    "        weights : y_features*x_features*segment_features\n",
    "        biases  : y_features*x_features*segment_features\n",
    "    \n",
    "    logic:\n",
    "        `y1 = m1x1 + b1` #start of  segment\n",
    "         y2 = m1x2 + b1  # end of 1st segment\n",
    "         init:\n",
    "            initialize segment.xout using xmin,xmax\n",
    "         encoder: \n",
    "            use w & b parameters to calculate segment.y using y1 = wx1 + b\n",
    "        decoder:\n",
    "            predict y using segments (as before) and output both y, x\n",
    "        loss:\n",
    "            loss is MSE on both x and y output of decoder\n",
    "\n",
    "    Args:\n",
    "        x_features: size of each input (x) sample\n",
    "        y_features: size of each output(y) sample\n",
    "        segment_features: number of segments on x dimensions\n",
    "\n",
    "    Shape:\n",
    "        - Input1: :math:`(*, H_{x})` where :math:`*` means any number of\n",
    "        dimensions (atleast one) and :math:`H_{x} = \\text{x\\_features}`.\n",
    "        - Input2: :math:`(*, H_{y})`  where :math:`*` means any number of\n",
    "        dimensions (atleast one) and :math:`H_{y} = \\text{y\\_features}`.\n",
    "        output1 - x: y_features*x_features*(segment_features+1)\n",
    "        output2- y: y_features*x_features*(segment_features+1)\n",
    "        Output3 : Same as Input after decoder\n",
    "\n",
    "    \"\"\"\n",
    "    __constants__ = ['x_features', 'y_features', 'segment_features']\n",
    "    x_features: int\n",
    "    y_features: int\n",
    "    segment_features: int\n",
    "    w: torch.Tensor\n",
    "    b: torch.Tensor\n",
    "    def __init__(self, x_features, y_features, segment_features):\n",
    "        super(SegmentPoint, self).__init__()\n",
    "        self.x_features = x_features\n",
    "        self.y_features = y_features\n",
    "        self.segment_features = segment_features\n",
    "\n",
    "        self.w = nn.Parameter(torch.Tensor(x_features,\n",
    "                                            segment_features, y_features))\n",
    "        self.b = nn.Parameter(torch.Tensor(x_features,\n",
    "                                            segment_features, y_features))\n",
    "        self.xout = torch.Tensor(x_features,\n",
    "                                            segment_features + 1, y_features)\n",
    "        self.yout = torch.zeros_like(self.xout)\n",
    "        # Use initialized flag to ensure custom_init is called before training\n",
    "        self.initialized = False\n",
    "\n",
    "    def custom_init(self, x_min, x_max):\n",
    "        self.initialized = True\n",
    "        #TODO: Do we need to initialize w & b?\n",
    "        #self.w = 0.\n",
    "        #self.b = 0.\n",
    "\n",
    "        x_init = torch.empty_like(self.xout)\n",
    "        # _calc_points overerites all xout, except x[0] and x[-1]\n",
    "        x_init[:,0,:] = x_min\n",
    "        x_init[0,-1,:] = x_max\n",
    "\n",
    "        #for i in np.arange(self.x_features):\n",
    "        #    for j in np.arange(self.y_features):\n",
    "        #        x_init[i, :, j] = torch.linspace(x_min[i], x_max[i],\n",
    "        #                            self.segment_features + 1)\n",
    "        # initialize all rows of x\n",
    "        self.xout = torch.Tensor(x_init)\n",
    "        nn.init.normal_(self.w, -10, 10)\n",
    "\n",
    "    def _encode(self):\n",
    "        \"\"\"Calculate segment points from intersects of consecutive segments.\n",
    "        y = w1x + b1 = w2x + b2\n",
    "        x = (b2 - b1)/(w1 - w2)\n",
    "        \"\"\"\n",
    "        divider = (self.w[:,:-1,:]-self.w[:,1:,:])\n",
    "        #The ratio can get -inf or inf. we need to protect against it\n",
    "        divider[divider == 0.] = 0.0001\n",
    "        #xout[0] and xout[-1] are never modified.\n",
    "        self.xout[:,1:-1,:] = (self.b[:,1:,:]-self.b[:,:-1,:])/divider\n",
    "        self.yout[:,1:-1,:] = self.w[:,:-1,:] * self.xout[:,1:-1,:] + self.b[:,:-1,:]\n",
    "               \n",
    "    def _calc_xmask(self, x_in):\n",
    "        # x_in.shape = [N, in_features]\n",
    "        self.x_in_4d =  x_in.unsqueeze(-1).unsqueeze(-1)     \n",
    "        # x_in_4d.shape =  [N, in_features, 1, 1] \n",
    "        # to find out if x is between segments\n",
    "        lt = torch.lt(self.x_in_4d, self.xout[:, 1:, :]) \n",
    "        ge = torch.ge(self.x_in_4d, self.xout[:, :-1, :]) \n",
    "        xmask = (lt & ge)\n",
    "        #mask.shape = [N, in_features, segment_features, out_features]\n",
    "\n",
    "        # This mask doesn't include x where x is below 1st segment start\n",
    "        # or after last segment end\n",
    "        # we create new mask to capture the x values beyond segments\n",
    "        mask_lt = torch.lt(self.x_in_4d,self.xout[:, 0:1, :]) #x less than 1st segment\n",
    "        # then do OR with mask so these are included for prediction.\n",
    "        xmask[:,:, 0:1, :] = xmask[:, :, 0:1, :] | mask_lt\n",
    "\n",
    "        #do the same for last x of segment\n",
    "        mask_ge = torch.ge(self.x_in_4d,self.xout[:, -1:, :]) \n",
    "        xmask[:,:, -1:, :] = xmask[:, :, -1:, :] | mask_ge\n",
    "        return xmask\n",
    "\n",
    "    def _decode2(self, x_in):\n",
    "        \"\"\"implementation using w & b\"\"\"\n",
    "        xmask = self._calc_xmask(x_in)\n",
    "        ypred = xmask * self.x_in_4d * self.w  + xmask * self.b\n",
    "        ypred = torch.sum(ypred, dim=(1,2))\n",
    "        return ypred\n",
    "\n",
    "    def _decode(self, x_in):\n",
    "        xmask = self._calc_xmask(x_in)\n",
    "\n",
    "        divider = (self.xout[:,1:,:]-self.xout[:,:-1,:])\n",
    "        #The ratio can get -inf or inf. we need to protect against it\n",
    "        divider[divider == 0.] = 0.0001\n",
    "\n",
    "        # Ratio is the segment (y2-y1)/(x2-x1) ratio \n",
    "        ratio = (self.yout[:,1:,:]-self.yout[:,:-1,:])/divider\n",
    "\n",
    "        ypred = ratio*xmask*(self.x_in_4d - self.xout[:,:-1,:]) + xmask * self.yout[:,:-1,:]\n",
    "        # ypred.shape = [N, in_features, segment_features, out_features]\n",
    "        # we can sum up by in_features (as y is cumulative of all f(x))\n",
    "        # and sum by segment_features (only one segment should be non zero)\n",
    "        ypred = torch.sum(ypred, dim=(1,2))\n",
    "        return ypred\n",
    "\n",
    "    def forward(self, x_in):\n",
    "        if self.training and not self.initialized:\n",
    "            raise RuntimeError(\"model.custom_init was not called before training\")\n",
    "        self._encode()\n",
    "        ypred = self._decode2(x_in)\n",
    "        return ypred\n",
    "\n",
    "    def extra_repr(self) -> str:\n",
    "        return f'x_features={self.x_features}, y_features={self.y_features}, \\\n",
    "          segment_features={self.segment_features}'\n",
    "    "
   ]
  },
  {
   "cell_type": "markdown",
   "metadata": {},
   "source": [
    "# Create Test Dataset"
   ]
  },
  {
   "cell_type": "code",
   "execution_count": 4,
   "metadata": {},
   "outputs": [],
   "source": [
    "# Define funtions to approximate\n",
    "def f_quartic(x):\n",
    "    a = -0.0179516\n",
    "    b = 0.331323\n",
    "    c = -1.63398\n",
    "    d = 1.01107\n",
    "    f = 5.73434\n",
    "    return a*x**4 + b*x**3 + c*x**2 + d*x + f\n",
    "\n",
    "def normalize(x,y):\n",
    "    x_normalized = torch.nn.functional.normalize(x, dim=0)\n",
    "    y_normalized = torch.nn.functional.normalize(y, dim=0)\n",
    "    return x_normalized, y_normalized"
   ]
  },
  {
   "cell_type": "code",
   "execution_count": 5,
   "metadata": {},
   "outputs": [
    {
     "name": "stdout",
     "output_type": "stream",
     "text": [
      "torch.Size([250]) torch.Size([250])\n",
      "torch.Size([250, 1]) torch.Size([250, 1])\n"
     ]
    }
   ],
   "source": [
    "# Create training dataset\n",
    "x_in = torch.arange(-1.5, 11., .05)\n",
    "ytest = f_quartic(x_in)\n",
    "#normalization - important\n",
    "x_in, ytest = normalize(x_in, ytest)\n",
    "print(x_in.shape, ytest.shape)\n",
    "\n",
    "# Reshape x, ytest to N,1\n",
    "x_in = x_in.view(x_in.shape[0], 1)\n",
    "ytest = ytest.reshape(x_in.shape[0], 1)\n",
    "print(x_in.shape, ytest.shape)"
   ]
  },
  {
   "cell_type": "markdown",
   "metadata": {},
   "source": [
    "# Model Init"
   ]
  },
  {
   "cell_type": "code",
   "execution_count": 90,
   "metadata": {},
   "outputs": [],
   "source": [
    "from torch.utils.data import DataLoader\n",
    "\n",
    "torch.manual_seed(10)\n",
    "\n",
    "model = SegmentPoint(x_in.shape[1], ytest.shape[1], 4)\n",
    "\n",
    "#Initialize model parameters - extremely important.\n",
    "model.custom_init(x_in.min(dim=0).values, x_in.max(dim=0).values)\n",
    "\n",
    "criterion = nn.MSELoss(reduction='sum')\n",
    "\n",
    "lr=.01\n",
    "optimizer = torch.optim.AdamW(model.parameters(), lr=lr, betas=(0.9, 0.999), eps=1e-8)\n",
    "\n",
    "# create dataset that can be used in a dataloader \n",
    "dataset = torch.utils.data.TensorDataset(x_in, ytest)\n",
    "batch_size=64\n",
    "dataloader = DataLoader(dataset, batch_size=batch_size, shuffle=True)\n"
   ]
  },
  {
   "cell_type": "markdown",
   "metadata": {},
   "source": [
    "## Training loop"
   ]
  },
  {
   "cell_type": "code",
   "execution_count": 91,
   "metadata": {},
   "outputs": [
    {
     "name": "stdout",
     "output_type": "stream",
     "text": [
      "====> Epoch: 300 Average loss: 0.5882\n",
      "====> Epoch: 600 Average loss: 0.3429\n",
      "====> Epoch: 900 Average loss: 0.3232\n",
      "====> Epoch: 1200 Average loss: 0.3126\n",
      "====> Epoch: 1500 Average loss: 0.2966\n",
      "====> Epoch: 1800 Average loss: 0.2955\n",
      "====> Epoch: 2100 Average loss: 0.0152\n",
      "====> Epoch: 2400 Average loss: 0.0109\n",
      "====> Epoch: 2700 Average loss: 0.0106\n",
      "====> Epoch: 3000 Average loss: 0.0118\n"
     ]
    }
   ],
   "source": [
    "num_epochs = 3000\n",
    "losses = np.array([])\n",
    "for epoch in range(1, num_epochs+1):\n",
    "    model.train()\n",
    "    train_loss = 0\n",
    "    for batch_idx, data in enumerate(dataloader):\n",
    "        # Forward pass\n",
    "        [X, Y] = data\n",
    "        ypred = model(X)\n",
    "        # Calculate the loss\n",
    "        loss = criterion(ypred, Y)\n",
    "        train_loss += loss.item()\n",
    "        \n",
    "        # Backward and optimize\n",
    "        model.zero_grad(set_to_none=True)\n",
    "        loss.backward()\n",
    "        optimizer.step()\n",
    "\n",
    "    losses = np.append(losses, train_loss)\n",
    "    if epoch % (num_epochs/10) == 0:\n",
    "        print('====> Epoch: {} Average loss: {:.4f}'.format(\n",
    "            epoch, train_loss))"
   ]
  },
  {
   "cell_type": "markdown",
   "metadata": {},
   "source": [
    "# Plot model loss, output"
   ]
  },
  {
   "cell_type": "code",
   "execution_count": 92,
   "metadata": {},
   "outputs": [
    {
     "name": "stdout",
     "output_type": "stream",
     "text": [
      "last total_mean_loss  0.011750169564038515\n"
     ]
    },
    {
     "data": {
      "image/png": "[encoded data removed]",
      "text/plain": [
       "<Figure size 1000x400 with 2 Axes>"
      ]
     },
     "metadata": {},
     "output_type": "display_data"
    }
   ],
   "source": [
    "# plot graphs\n",
    "import matplotlib\n",
    "import matplotlib.pyplot as plt\n",
    "%matplotlib inline\n",
    "\n",
    "matplotlib.rcParams['figure.figsize'] = (10, 4) # this is done to increase width to \n",
    "\n",
    "# Create a figure and two axes objects\n",
    "# Increase the figure size to accommodate wider plots\n",
    "fig, (ax1, ax2) = plt.subplots(1, 2)\n",
    "\n",
    "# plot loss\n",
    "print (\"last total_mean_loss \",train_loss)\n",
    "ax1.plot(losses)\n",
    "\n",
    "# plot trained model\n",
    "y = model(x_in)\n",
    "y = y.detach().numpy()\n",
    "ax2.plot(x_in, ytest)\n",
    "ax2.scatter(x_in, y, color='black', s=1)\n",
    "\n",
    "# Display the plot\n",
    "plt.show()"
   ]
  },
  {
   "cell_type": "markdown",
   "metadata": {},
   "source": [
    "# Plot segments"
   ]
  },
  {
   "cell_type": "code",
   "execution_count": 93,
   "metadata": {},
   "outputs": [
    {
     "data": {
      "image/png": "[encoded data removed]",
      "text/plain": [
       "<Figure size 1000x400 with 1 Axes>"
      ]
     },
     "metadata": {},
     "output_type": "display_data"
    }
   ],
   "source": [
    "xval = model.xout.reshape(model.xout.shape[1]).detach().numpy()\n",
    "yval = model.yout.reshape(model.xout.shape[1]).detach().numpy()\n",
    "plt.plot(xval,yval) \n",
    "plt.show()"
   ]
  },
  {
   "cell_type": "code",
   "execution_count": 85,
   "metadata": {},
   "outputs": [
    {
     "data": {
      "text/plain": [
       "(Parameter containing:\n",
       " tensor([[[ 2.4875],\n",
       "          [-4.0247],\n",
       "          [ 1.9576],\n",
       "          [-8.8625]]], requires_grad=True),\n",
       " Parameter containing:\n",
       " tensor([[[ 0.0785],\n",
       "          [ 0.1491],\n",
       "          [-0.0903],\n",
       "          [ 1.0095]]], requires_grad=True))"
      ]
     },
     "execution_count": 85,
     "metadata": {},
     "output_type": "execute_result"
    }
   ],
   "source": [
    "model.w, model.b"
   ]
  },
  {
   "cell_type": "code",
   "execution_count": 86,
   "metadata": {},
   "outputs": [
    {
     "data": {
      "text/plain": [
       "(tensor([[[-0.0160],\n",
       "          [ 0.0108],\n",
       "          [ 0.0400],\n",
       "          [ 0.1016],\n",
       "          [ 0.1165]]], grad_fn=<AsStridedBackward0>),\n",
       " tensor([[[ 0.0000],\n",
       "          [ 0.1055],\n",
       "          [-0.0120],\n",
       "          [ 0.1087],\n",
       "          [ 0.0000]]], grad_fn=<CopySlices>))"
      ]
     },
     "execution_count": 86,
     "metadata": {},
     "output_type": "execute_result"
    }
   ],
   "source": [
    "model.xout, model.yout\n"
   ]
  },
  {
   "cell_type": "code",
   "execution_count": 94,
   "metadata": {},
   "outputs": [
    {
     "data": {
      "text/plain": [
       "'model_segmentPoint_v1_graph.pdf'"
      ]
     },
     "execution_count": 94,
     "metadata": {},
     "output_type": "execute_result"
    }
   ],
   "source": [
    "# Save graph to a file\n",
    "from torchviz import make_dot\n",
    "\n",
    "# Generate a Graphviz object from the computation graph\n",
    "graph = make_dot(loss, params=dict(model.named_parameters())) \n",
    "\n",
    "# Save the graph as a PDF or any other format if needed\n",
    "graph.render(\"model_segmentPoint_v1_graph\")"
   ]
  },
  {
   "cell_type": "code",
   "execution_count": null,
   "metadata": {},
   "outputs": [],
   "source": []
  }
 ],
 "metadata": {
  "kernelspec": {
   "display_name": "base",
   "language": "python",
   "name": "python3"
  },
  "language_info": {
   "codemirror_mode": {
    "name": "ipython",
    "version": 3
   },
   "file_extension": ".py",
   "mimetype": "text/x-python",
   "name": "python",
   "nbconvert_exporter": "python",
   "pygments_lexer": "ipython3",
   "version": "3.10.10"
  }
 },
 "nbformat": 4,
 "nbformat_minor": 2
}
