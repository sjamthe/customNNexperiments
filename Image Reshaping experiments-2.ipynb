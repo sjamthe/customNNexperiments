{
 "cells": [
  {
   "cell_type": "markdown",
   "metadata": {},
   "source": [
    "# Image Reshaping 2.0\n",
    "* Reshaping 1.0 shows how to use Segment model to MNIST and get good results.\n",
    "* In 2.0 we try to create a new model using multiple Segment models that learn from flatten row or flatten col shapes per image first."
   ]
  },
  {
   "cell_type": "markdown",
   "metadata": {},
   "source": [
    "# Initialization"
   ]
  },
  {
   "cell_type": "code",
   "execution_count": 66,
   "metadata": {},
   "outputs": [],
   "source": [
    "import math\n",
    "import numpy as np\n",
    "import matplotlib.pyplot as plt\n",
    "import random\n",
    "\n",
    "%matplotlib inline\n",
    "\n",
    "import torch\n",
    "import torch.nn as nn\n",
    "import torch.nn.functional as F\n",
    "from torch.utils.data import DataLoader, Dataset\n",
    "from torchvision import transforms\n",
    "import timeit\n",
    "from tqdm import tqdm\n",
    "\n",
    "from segment import Segment"
   ]
  },
  {
   "cell_type": "code",
   "execution_count": 4,
   "metadata": {},
   "outputs": [
    {
     "name": "stdout",
     "output_type": "stream",
     "text": [
      "Using mps device\n"
     ]
    }
   ],
   "source": [
    "device = (\n",
    "    \"cuda\"\n",
    "    if torch.cuda.is_available()\n",
    "    else \"mps\"\n",
    "    if torch.backends.mps.is_available()\n",
    "    else \"cpu\"\n",
    ")\n",
    "print(f\"Using {device} device\")"
   ]
  },
  {
   "cell_type": "markdown",
   "metadata": {},
   "source": [
    "# MNIST test and Test dataset"
   ]
  },
  {
   "cell_type": "code",
   "execution_count": 3,
   "metadata": {},
   "outputs": [],
   "source": [
    "RANDOM_SEED = 42\n",
    "random.seed(RANDOM_SEED)\n",
    "np.random.seed(RANDOM_SEED)\n",
    "torch.manual_seed(RANDOM_SEED)\n",
    "torch.cuda.manual_seed(RANDOM_SEED)\n",
    "torch.cuda.manual_seed_all(RANDOM_SEED)\n",
    "torch.backends.cudnn.deterministic = True\n",
    "torch.backends.cudnn.benchmark = False"
   ]
  },
  {
   "cell_type": "code",
   "execution_count": 8,
   "metadata": {},
   "outputs": [
    {
     "name": "stdout",
     "output_type": "stream",
     "text": [
      "60000 10000\n",
      "torch.Size([1, 28, 28]) torch.Size([1, 28, 28])\n"
     ]
    }
   ],
   "source": [
    "from torchvision import datasets, transforms\n",
    "\n",
    "flatten_by_row_transform = transforms.Lambda(lambda x: x.flatten())\n",
    "flatten_by_col_transform = transforms.Lambda(lambda x: x.permute(0,2,1).flatten())\n",
    "\n",
    "train_transform = transforms.Compose([\n",
    "    transforms.ToTensor(),  # Convert images to PyTorch tensors\n",
    "    transforms.RandomRotation(15), #only during training\n",
    "    transforms.Normalize([0.5], [0.5])\n",
    "])\n",
    "\n",
    "test_transform = transforms.Compose([\n",
    "    transforms.ToTensor(),  # Convert images to PyTorch tensors\n",
    "    transforms.Normalize([0.5], [0.5])\n",
    "])\n",
    "\n",
    "train_set = datasets.MNIST('data', train=True, download=False, transform=train_transform)\n",
    "test_set = datasets.MNIST('data', train=False, download=False, transform=test_transform)\n",
    "print(len(train_set), len(test_set))\n",
    "print(train_set[0][0].shape, test_set[0][0].shape)\n"
   ]
  },
  {
   "cell_type": "markdown",
   "metadata": {},
   "source": [
    "# Decoder"
   ]
  },
  {
   "cell_type": "code",
   "execution_count": 99,
   "metadata": {},
   "outputs": [],
   "source": [
    "class Decoder(nn.Module):\n",
    "    r\"\"\" Decodes a flatten image given segments and shape.\n",
    "        image_shape = [depth, width, height]\n",
    "    \"\"\"\n",
    "    def __init__(self, image_shape, flatten_by_row=True):\n",
    "        super().__init__()\n",
    "        self.image_size = math.prod(image_shape)\n",
    "        self.x_in = torch.arange(1, self.image_size+1)/self.image_size #normalized\n",
    "\n",
    "    def __calc_mask__(self):\n",
    "        # x_in_4d.shape =  [N, in_features, 1, 1] \n",
    "        # to find out if x is between segments\n",
    "        lt = torch.lt(self.x_in_4d, self.x[:, 1:, :]) \n",
    "        ge = torch.ge(self.x_in_4d, self.x[:, :-1, :]) \n",
    "        self.mask = (lt & ge)\n",
    "        #mask.shape = [N, in_features, segment_features, out_features]\n",
    "\n",
    "        # This mask doesn't include x where x is below 1st segment start\n",
    "        # or after last segment end\n",
    "        # we create new mask to capture the x values beyond segments\n",
    "        mask_lt = torch.lt(self.x_in_4d,self.x[:, 0:1, :]) #x less than 1st segment\n",
    "        # then do OR with mask so these are included for prediction.\n",
    "        self.mask[:,:, 0:1, :] = self.mask[:, :, 0:1, :] | mask_lt\n",
    "\n",
    "        #do the same for last x of segment\n",
    "        mask_ge = torch.ge(self.x_in_4d,self.x[:, -1:, :]) \n",
    "        self.mask[:,:, -1:, :] = self.mask[:, :, -1:, :] | mask_ge\n",
    "\n",
    "    def forward(self, batch_size, segment_x, segment_y):\n",
    "        self.batch_size = batch_size\n",
    "        self.x = segment_x\n",
    "        self.y = segment_y\n",
    "        # based on batch size repeat x_in rows. Then expand shape to 4D\n",
    "        self.x_in_4d = self.x_in.tile(batch_size, 1).unsqueeze(-1).unsqueeze(-1)\n",
    "\n",
    "        self.__calc_mask__()\n",
    "\n",
    "        divider = (self.x[:,1:,:]-self.x[:,:-1,:])\n",
    "        #The ratio can get -inf or inf. we need to protect against it\n",
    "        divider[divider == 0.] = 0.0001\n",
    "\n",
    "        # Ratio is the segment (y2-y1)/(x2-x1) ratio \n",
    "        ratio = (self.y[:,1:,:]-self.y[:,:-1,:])/divider\n",
    "\n",
    "        ypred = ratio*self.mask*(self.x_in_4d - self.x[:,:-1,:]) + self.mask * self.y[:,:-1,:]\n",
    "        # TODO: what should be the shape\n",
    "        #ypred = torch.sum(ypred, dim=(2,3))\n",
    "        return ypred"
   ]
  },
  {
   "cell_type": "markdown",
   "metadata": {},
   "source": [
    "# Test Decoder\n",
    "* We first train a Segment to reproduce a 1D function, then see if Decoder can use Segment parameters to decode it"
   ]
  },
  {
   "cell_type": "code",
   "execution_count": 68,
   "metadata": {},
   "outputs": [
    {
     "name": "stdout",
     "output_type": "stream",
     "text": [
      "tensor(0.0013) tensor(1.) tensor(-0.7915) tensor(6.2456)\n",
      "tensor(-0.0145) tensor(0.1145)\n"
     ]
    },
    {
     "data": {
      "image/png": "[encoded data removed]",
      "text/plain": [
       "<Figure size 640x480 with 1 Axes>"
      ]
     },
     "metadata": {},
     "output_type": "display_data"
    }
   ],
   "source": [
    "# Create data\n",
    "\n",
    "# Function to approximate\n",
    "def f_quartic(x):\n",
    "    a = -0.0179516\n",
    "    b = 0.331323\n",
    "    c = -1.63398\n",
    "    d = 1.01107\n",
    "    f = 5.73434\n",
    "    x = 12.*x -1.2\n",
    "    return a*x**4 + b*x**3 + c*x**2 + d*x + f\n",
    "\n",
    "image_size=784\n",
    "x_in = torch.arange(1, image_size+1)/image_size \n",
    "#reshape x_in, ytest\n",
    "x_in = x_in.unsqueeze(-1)\n",
    "y_out = f_quartic(x_in)\n",
    "print(x_in.min(), x_in.max(), y_out.min(), y_out.max())\n",
    "# normalize y_out\n",
    "ytest = torch.nn.functional.normalize(y_out, p=2.0, dim=0)\n",
    "# scale them \n",
    "ytest = ytest * 2. \n",
    "print(ytest.min(), ytest.max())\n",
    "plt.plot(x_in, ytest)\n",
    "plt.show()"
   ]
  },
  {
   "cell_type": "code",
   "execution_count": 70,
   "metadata": {},
   "outputs": [
    {
     "name": "stdout",
     "output_type": "stream",
     "text": [
      "====> Epoch: 50 Average loss: 0.8111\n",
      "====> Epoch: 100 Average loss: 0.1500\n",
      "====> Epoch: 150 Average loss: 0.0287\n",
      "====> Epoch: 200 Average loss: 0.0082\n",
      "====> Epoch: 250 Average loss: 0.0051\n",
      "====> Epoch: 300 Average loss: 0.0045\n",
      "====> Epoch: 350 Average loss: 0.0042\n",
      "====> Epoch: 400 Average loss: 0.0039\n",
      "====> Epoch: 450 Average loss: 0.0037\n",
      "====> Epoch: 500 Average loss: 0.0036\n"
     ]
    }
   ],
   "source": [
    "# Train a model\n",
    "model = Segment(x_in.shape[1], ytest.shape[1], 8)\n",
    "\n",
    "#Initialize model parameters - extremely important.\n",
    "model.custom_init(x_in.min(dim=0).values, x_in.max(dim=0).values)\n",
    "\n",
    "criterion = nn.MSELoss(reduction='sum')\n",
    "\n",
    "lr=.0001\n",
    "optimizer = torch.optim.AdamW(model.parameters(), lr=lr, betas=(0.9, 0.999), eps=1e-8)\n",
    "\n",
    "# create dataset that can be used in a dataloader \n",
    "dataset = torch.utils.data.TensorDataset(x_in, ytest)\n",
    "batch_size=64\n",
    "dataloader = DataLoader(dataset, batch_size=batch_size, shuffle=True)\n",
    "\n",
    "#Train\n",
    "num_epochs = 500\n",
    "losses = np.array([])\n",
    "for epoch in range(1, num_epochs+1):\n",
    "    model.train()\n",
    "    train_loss = 0\n",
    "    for batch_idx, data in enumerate(dataloader):\n",
    "        # Forward pass\n",
    "        [X, Y] = data\n",
    "        ypred = model(X)\n",
    "        # Calculate the loss\n",
    "        loss = criterion(ypred, Y)\n",
    "        train_loss += loss.item()\n",
    "        \n",
    "        # Backward and optimize\n",
    "        model.zero_grad(set_to_none=True)\n",
    "        loss.backward()\n",
    "        optimizer.step()\n",
    "\n",
    "    if epoch % (num_epochs/10) == 0:\n",
    "        losses = np.append(losses, train_loss)\n",
    "        print('====> Epoch: {} Average loss: {:.4f}'.format(\n",
    "            epoch, train_loss))"
   ]
  },
  {
   "cell_type": "code",
   "execution_count": 76,
   "metadata": {},
   "outputs": [
    {
     "name": "stdout",
     "output_type": "stream",
     "text": [
      "Parameter containing:\n",
      "tensor([[[-0.0184],\n",
      "         [ 0.0789],\n",
      "         [ 0.1682],\n",
      "         [ 0.3908],\n",
      "         [ 0.4849],\n",
      "         [ 0.5748],\n",
      "         [ 0.8197],\n",
      "         [ 0.9201],\n",
      "         [ 0.9861]]], requires_grad=True) Parameter containing:\n",
      "tensor([[[ 0.0199],\n",
      "         [ 0.1044],\n",
      "         [ 0.1072],\n",
      "         [ 0.0120],\n",
      "         [-0.0020],\n",
      "         [ 0.0130],\n",
      "         [ 0.1195],\n",
      "         [ 0.0967],\n",
      "         [ 0.0114]]], requires_grad=True)\n"
     ]
    }
   ],
   "source": [
    "print(model.x, model.y)"
   ]
  },
  {
   "cell_type": "code",
   "execution_count": 100,
   "metadata": {},
   "outputs": [
    {
     "data": {
      "text/plain": [
       "torch.Size([1, 784, 8, 1])"
      ]
     },
     "execution_count": 100,
     "metadata": {},
     "output_type": "execute_result"
    }
   ],
   "source": [
    "# Test decoder\n",
    "\n",
    "decoder = Decoder(image_shape=ytest.shape)\n",
    "ydecoded = decoder(batch_size=1, segment_x=model.x, segment_y=model.y)\n",
    "ydecoded.shape"
   ]
  },
  {
   "cell_type": "code",
   "execution_count": 107,
   "metadata": {},
   "outputs": [
    {
     "ename": "IndexError",
     "evalue": "Dimension out of range (expected to be in range of [-2, 1], but got 2)",
     "output_type": "error",
     "traceback": [
      "\u001b[0;31m---------------------------------------------------------------------------\u001b[0m",
      "\u001b[0;31mIndexError\u001b[0m                                Traceback (most recent call last)",
      "Cell \u001b[0;32mIn[107], line 1\u001b[0m\n\u001b[0;32m----> 1\u001b[0m ydecoded \u001b[38;5;241m=\u001b[39m \u001b[43mydecoded\u001b[49m\u001b[38;5;241;43m.\u001b[39;49m\u001b[43msum\u001b[49m\u001b[43m(\u001b[49m\u001b[43m[\u001b[49m\u001b[38;5;241;43m0\u001b[39;49m\u001b[43m,\u001b[49m\u001b[38;5;241;43m2\u001b[39;49m\u001b[43m,\u001b[49m\u001b[38;5;241;43m3\u001b[39;49m\u001b[43m]\u001b[49m\u001b[43m)\u001b[49m\u001b[38;5;241m.\u001b[39munsqueeze(\u001b[38;5;241m-\u001b[39m\u001b[38;5;241m1\u001b[39m)\u001b[38;5;241m.\u001b[39mdetach()\u001b[38;5;241m.\u001b[39mnumpy()\n",
      "\u001b[0;31mIndexError\u001b[0m: Dimension out of range (expected to be in range of [-2, 1], but got 2)"
     ]
    }
   ],
   "source": [
    "ydecoded = ydecoded.sum([0,2,3]).unsqueeze(-1)"
   ]
  },
  {
   "cell_type": "code",
   "execution_count": 105,
   "metadata": {},
   "outputs": [
    {
     "data": {
      "text/plain": [
       "(torch.Size([784, 1]), torch.Size([784, 1]), torch.Size([784, 1]))"
      ]
     },
     "execution_count": 105,
     "metadata": {},
     "output_type": "execute_result"
    }
   ],
   "source": [
    "ydecoded.shape, ytest.shape, x_in.shape"
   ]
  },
  {
   "cell_type": "code",
   "execution_count": 108,
   "metadata": {},
   "outputs": [
    {
     "data": {
      "text/plain": [
       "[<matplotlib.lines.Line2D at 0x163c82320>]"
      ]
     },
     "execution_count": 108,
     "metadata": {},
     "output_type": "execute_result"
    },
    {
     "data": {
      "image/png": "[encoded data removed]",
      "text/plain": [
       "<Figure size 640x480 with 1 Axes>"
      ]
     },
     "metadata": {},
     "output_type": "display_data"
    }
   ],
   "source": [
    "plt.plot(x_in,ytest)\n",
    "plt.plot(x_in,ydecoded.detach().numpy())"
   ]
  },
  {
   "cell_type": "code",
   "execution_count": 29,
   "metadata": {},
   "outputs": [
    {
     "name": "stdout",
     "output_type": "stream",
     "text": [
      "tensor([1., 2., 3.])\n",
      "tensor(0.1667) tensor(1.)\n",
      "tensor([0.1667, 0.3333, 0.5000, 0.6667, 0.8333, 1.0000])\n"
     ]
    },
    {
     "data": {
      "text/plain": [
       "torch.Size([2, 6, 1, 1])"
      ]
     },
     "execution_count": 29,
     "metadata": {},
     "output_type": "execute_result"
    }
   ],
   "source": [
    "image_shape = torch.Tensor([1,2,3])\n",
    "print(image_shape)\n",
    "image_size = math.prod(image_shape)\n",
    "x_in = torch.arange(1, image_size+1)/image_size\n",
    "print(x_in[0], x_in[-1])\n",
    "print(x_in)\n",
    "x_in_4d = x_in.tile((2, 1))  \n",
    "x_in_4d.unsqueeze(-1).unsqueeze(-1).shape"
   ]
  },
  {
   "cell_type": "markdown",
   "metadata": {},
   "source": [
    "## Model Init"
   ]
  },
  {
   "cell_type": "code",
   "execution_count": null,
   "metadata": {},
   "outputs": [],
   "source": [
    "in_features=784\n",
    "out_features=10 #classes\n",
    "segments=10\n",
    "model = Segment(in_features, out_features, segments).to(device)\n",
    "total_params = sum(p.numel() for p in model.parameters())\n",
    "print(f\"Total parameters: {total_params}\")\n",
    "\n",
    "criterion = nn.CrossEntropyLoss()\n",
    "\n",
    "lr=.0001\n",
    "optimizer = torch.optim.AdamW(model.parameters(), lr=lr, betas=(0.9, 0.999), eps=1e-8)\n",
    "\n",
    "# create dataset that can be used in a dataloader \n",
    "batch_size=64\n",
    "trainloader = DataLoader(train_set, batch_size=batch_size, shuffle=True)\n",
    "testloader = DataLoader(test_set, batch_size=batch_size, shuffle=True)\n",
    "\n",
    "#Initialize model parameters - extremely important.\n",
    "# as we have normalized valies between -1., 1. we can create a min, max array\n",
    "x_min = torch.tensor([-1.]*in_features)\n",
    "x_max = torch.tensor([1.]*in_features)\n",
    "model.custom_init(x_min, x_max)"
   ]
  },
  {
   "cell_type": "code",
   "execution_count": null,
   "metadata": {},
   "outputs": [],
   "source": [
    "# Train\n",
    "num_epochs = 40\n",
    "initalized = False\n",
    "losses = np.array([])\n",
    "start = timeit.default_timer()\n",
    "for epoch in tqdm(range(1, num_epochs+1), position=0, leave=True):\n",
    "    model.train()\n",
    "    train_loss = 0\n",
    "    train_labels = []\n",
    "    train_preds = []\n",
    "    for batch_idx, data in enumerate(tqdm(trainloader, position=0, leave=True)):\n",
    "        # Forward pass\n",
    "        [X, Y] = data\n",
    "        ypred = model(X.to(device))\n",
    "        y_pred_label = torch.argmax(ypred, dim=1)\n",
    "        train_labels.extend(Y.cpu().detach())\n",
    "        train_preds.extend(y_pred_label.cpu().detach())\n",
    "        # Calculate the loss\n",
    "        loss = criterion(ypred, Y.to(device))\n",
    "        if math.isnan(loss):\n",
    "            print(\"Loss is nan\")\n",
    "            break\n",
    "\n",
    "        train_loss += loss.item()\n",
    "        \n",
    "        # Backward and optimize\n",
    "        model.zero_grad(set_to_none=True)\n",
    "        loss.backward()\n",
    "        optimizer.step()\n",
    "\n",
    "    if math.isnan(loss):\n",
    "        print(\"Loss is nan\")\n",
    "        break\n",
    "\n",
    "    train_loss = train_loss/(batch_idx+1)\n",
    "    losses = np.append(losses, train_loss)\n",
    "    print(\"-\"*30)\n",
    "    print(f\"Train Accuracy EPOCH {epoch}: {sum(1 for x,y in zip(train_preds, train_labels) if x == y) / len(train_labels):.4f}\")\n",
    "    print('Epoch: {} Average loss: {:.4f}'.format(epoch, train_loss))\n",
    "\n",
    "    #Run evaluation\n",
    "    model.eval()\n",
    "    test_loss = 0\n",
    "    test_labels = []\n",
    "    test_preds = []\n",
    "    for batch_idx, data in enumerate(tqdm(testloader, position=0, leave=True)):\n",
    "        # Forward pass\n",
    "        [X, Y] = data\n",
    "        ypred = model(X.to(device))\n",
    "        y_pred_label = torch.argmax(ypred, dim=1)\n",
    "        test_labels.extend(Y.cpu().detach())\n",
    "        test_preds.extend(y_pred_label.cpu().detach())\n",
    "        # Calculate the loss\n",
    "        loss = criterion(ypred, Y.to(device))\n",
    "        if math.isnan(loss):\n",
    "            print(\"Loss is nan\")\n",
    "            break\n",
    "\n",
    "        test_loss += loss.item()\n",
    "   \n",
    "    if math.isnan(loss):\n",
    "        print(\"Loss is nan\")\n",
    "        break\n",
    "\n",
    "    test_loss = test_loss/(batch_idx+1)\n",
    "    print(f\"Epoch: {epoch}, Test Accuracy: {sum(1 for x,y in zip(test_preds, test_labels) if x == y) / len(test_labels):.4f}\")\n",
    "    print('Epoch: {}, Average loss: {:.4f}'.format(epoch, test_loss))\n",
    "    print(\"-\"*30)\n",
    "\n",
    "\n",
    "stop = timeit.default_timer()\n",
    "print(f\"Training Time: {stop-start:.2f}s\")\n"
   ]
  },
  {
   "cell_type": "markdown",
   "metadata": {},
   "source": [
    "# Observations of model predicting labels\n",
    "## Comparable VTI model\n",
    "* Total parameters: 276298\n",
    "* Valid Accuracy EPOCH 10: 0.8763\n",
    "* Valid Accuracy EPOCH 40: 0.9535\n",
    "* Training Time: 1120.51s\n",
    "\n",
    "## after flattening images by row\n",
    "* in_features=784\n",
    "* out_features=10 #classes\n",
    "* segments=10\n",
    "* model = Segment(in_features, out_features, segments).to(device)\n",
    "* Test Accuracy EPOCH 10: 0.9311\n",
    "* Epoch: 10 Average loss: 0.2543\n",
    "* Total parameters: 172480\n",
    "* Total parameters = 2\\*in_features\\*out_features\\*(segments+1)\n",
    "\n",
    "## after flattening by column\n",
    "* Epoch: 10, Test Accuracy: 0.9315\n",
    "* Epoch: 10, Average loss: 0.2545\n",
    "* Training Time (10 epoc): 319.26s\n",
    "* Training Time (40 epoc): 1222.40s\n",
    "* Test Accuracy never went higher than 93.40 though Train Accuracy went to 97.66\n",
    "\n",
    "## Adding rotation transform to perturb image \n",
    "* Train Accuracy EPOCH 40: 0.9358\n",
    "* Epoch: 40, Test Accuracy: 0.9360\n",
    "* Training Time: 1632.88s"
   ]
  },
  {
   "cell_type": "code",
   "execution_count": null,
   "metadata": {},
   "outputs": [],
   "source": [
    "total_params = sum(p.numel() for p in model.parameters())\n",
    "print(f\"Total parameters: {total_params}\")"
   ]
  },
  {
   "cell_type": "markdown",
   "metadata": {},
   "source": []
  },
  {
   "cell_type": "code",
   "execution_count": null,
   "metadata": {},
   "outputs": [],
   "source": [
    "# Save graph to a file\n",
    "#!pip install torchviz\n",
    "from torchviz import make_dot\n",
    "\n",
    "# Generate a Graphviz object from the computation graph\n",
    "graph = make_dot(loss, params=dict(model.named_parameters())) \n",
    "\n",
    "# Save the graph as a PDF or any other format if needed\n",
    "graph.render(\"model_Segment_test_graph\")"
   ]
  },
  {
   "cell_type": "code",
   "execution_count": null,
   "metadata": {},
   "outputs": [],
   "source": [
    "model.x.shape\n",
    "784*11*10*2"
   ]
  },
  {
   "cell_type": "code",
   "execution_count": null,
   "metadata": {},
   "outputs": [],
   "source": [
    "ytest.min(), ytest.max()"
   ]
  },
  {
   "cell_type": "code",
   "execution_count": null,
   "metadata": {},
   "outputs": [],
   "source": []
  }
 ],
 "metadata": {
  "kernelspec": {
   "display_name": "base",
   "language": "python",
   "name": "python3"
  },
  "language_info": {
   "codemirror_mode": {
    "name": "ipython",
    "version": 3
   },
   "file_extension": ".py",
   "mimetype": "text/x-python",
   "name": "python",
   "nbconvert_exporter": "python",
   "pygments_lexer": "ipython3",
   "version": "3.10.10"
  }
 },
 "nbformat": 4,
 "nbformat_minor": 2
}
