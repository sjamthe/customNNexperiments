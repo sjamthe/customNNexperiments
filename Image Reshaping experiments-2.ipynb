{
 "cells": [
  {
   "cell_type": "markdown",
   "metadata": {},
   "source": [
    "# Image Reshaping 2.0\n",
    "* Reshaping 1.0 shows how to use Segment model to MNIST and get good results.\n",
    "* In 2.0 we try to create a new model using multiple Segment models that learn from flatten row or flatten col shapes per image first."
   ]
  },
  {
   "cell_type": "markdown",
   "metadata": {},
   "source": [
    "# Initialization"
   ]
  },
  {
   "cell_type": "code",
   "execution_count": 1,
   "metadata": {},
   "outputs": [],
   "source": [
    "import math\n",
    "import numpy as np\n",
    "import matplotlib.pyplot as plt\n",
    "import random\n",
    "\n",
    "%matplotlib inline\n",
    "\n",
    "import torch\n",
    "import torch.nn as nn\n",
    "import torch.nn.functional as F\n",
    "from torch.utils.data import DataLoader, Dataset\n",
    "from torchvision import transforms\n",
    "import timeit\n",
    "from tqdm import tqdm\n",
    "\n",
    "from segment import Segment"
   ]
  },
  {
   "cell_type": "code",
   "execution_count": 2,
   "metadata": {},
   "outputs": [
    {
     "name": "stdout",
     "output_type": "stream",
     "text": [
      "Using mps device\n"
     ]
    }
   ],
   "source": [
    "device = (\n",
    "    \"cuda\"\n",
    "    if torch.cuda.is_available()\n",
    "    else \"mps\"\n",
    "    if torch.backends.mps.is_available()\n",
    "    else \"cpu\"\n",
    ")\n",
    "print(f\"Using {device} device\")"
   ]
  },
  {
   "cell_type": "markdown",
   "metadata": {},
   "source": [
    "# MNIST test and Test dataset"
   ]
  },
  {
   "cell_type": "code",
   "execution_count": 3,
   "metadata": {},
   "outputs": [],
   "source": [
    "RANDOM_SEED = 42\n",
    "random.seed(RANDOM_SEED)\n",
    "np.random.seed(RANDOM_SEED)\n",
    "torch.manual_seed(RANDOM_SEED)\n",
    "torch.cuda.manual_seed(RANDOM_SEED)\n",
    "torch.cuda.manual_seed_all(RANDOM_SEED)\n",
    "torch.backends.cudnn.deterministic = True\n",
    "torch.backends.cudnn.benchmark = False"
   ]
  },
  {
   "cell_type": "code",
   "execution_count": 4,
   "metadata": {},
   "outputs": [
    {
     "name": "stdout",
     "output_type": "stream",
     "text": [
      "60000 10000\n",
      "torch.Size([1, 28, 28]) torch.Size([1, 28, 28])\n"
     ]
    }
   ],
   "source": [
    "from torchvision import datasets, transforms\n",
    "\n",
    "flatten_by_row_transform = transforms.Lambda(lambda x: x.flatten())\n",
    "flatten_by_col_transform = transforms.Lambda(lambda x: x.permute(0,2,1).flatten())\n",
    "\n",
    "train_transform = transforms.Compose([\n",
    "    transforms.ToTensor(),  # Convert images to PyTorch tensors\n",
    "    transforms.RandomRotation(15), #only during training\n",
    "    transforms.Normalize([0.5], [0.5])\n",
    "])\n",
    "\n",
    "test_transform = transforms.Compose([\n",
    "    transforms.ToTensor(),  # Convert images to PyTorch tensors\n",
    "    transforms.Normalize([0.5], [0.5])\n",
    "])\n",
    "\n",
    "train_set = datasets.MNIST('data', train=True, download=False, transform=train_transform)\n",
    "test_set = datasets.MNIST('data', train=False, download=False, transform=test_transform)\n",
    "print(len(train_set), len(test_set))\n",
    "print(train_set[0][0].shape, test_set[0][0].shape)\n"
   ]
  },
  {
   "cell_type": "markdown",
   "metadata": {},
   "source": [
    "# Decoder"
   ]
  },
  {
   "cell_type": "code",
   "execution_count": 21,
   "metadata": {},
   "outputs": [],
   "source": [
    "class Decoder(nn.Module):\n",
    "    r\"\"\" Decodes a flatten image given segments and shape.\n",
    "        image_shape = [depth, width, height]\n",
    "    \"\"\"\n",
    "    def __init__(self, image_shape):\n",
    "        super().__init__()\n",
    "        self.image_size = math.prod(image_shape)\n",
    "        x_in = torch.arange(1, self.image_size+1)/self.image_size #normalized\n",
    "        # unsqueeze to add a dimension for n_batch and n_segments\n",
    "        self.x_in_nd = x_in.unsqueeze(-1).unsqueeze(-1)\n",
    "        # x_in_nd.shape = [image_size, 1, 1]\n",
    "\n",
    "    def __calc_mask__(self):\n",
    "        # x_in_nd.shape = [image_size, 1, 1]\n",
    "        # create mask to find out which one segment each x belongs to.\n",
    "        # one x value should only fit in one segment\n",
    "        lt = torch.lt(self.x_in_nd, self.x[:, 1:]) \n",
    "        ge = torch.ge(self.x_in_nd, self.x[:, :-1]) \n",
    "        mask = (lt & ge)\n",
    "        #mask.shape = [image_size, n_segments, batch_size]\n",
    "\n",
    "        # This mask doesn't include x where x is below 1st segment start\n",
    "        # or after last segment end\n",
    "        # we create new mask to capture the x values beyond segments\n",
    "        mask_lt = torch.lt(self.x_in_nd,self.x[:, 0:1]) #x less than 1st segment\n",
    "        # then do OR with mask so these are included for prediction.\n",
    "        mask[:, 0:1, :] = mask[:, 0:1, :] | mask_lt\n",
    "\n",
    "        #do the same for last x of segment\n",
    "        mask_ge = torch.ge(self.x_in_nd, self.x[:, -1:]) \n",
    "        mask[:, -1:, :] = mask[:, -1:, :] | mask_ge\n",
    "\n",
    "        return mask\n",
    "\n",
    "    def __fix_x_order__(self, segment_x, segment_y):\n",
    "        # if the next param value is less than previous then replace with previous.\n",
    "        #to work around grad passing restrictions\n",
    "        #use Out-of-Place Operation + In-place Copy\n",
    "        mask_lt = torch.lt(segment_x[:, 1:, :], segment_x[:, :-1, :])\n",
    "        while(torch.any(mask_lt)):\n",
    "            temp_x = segment_x.clone()\n",
    "            temp_y = segment_y.clone()\n",
    "            temp_x[:, 1:, :][mask_lt] = segment_x[:, :-1, :].clone()[mask_lt]  # Use .clone() here! \n",
    "            temp_y[:, 1:, :][mask_lt] = segment_y[:, :-1, :].clone()[mask_lt]  # Use .clone() here! \n",
    "            #self.x[:] = temp \n",
    "            segment_x = temp_x\n",
    "            segment_y = temp_y\n",
    "            mask_lt = torch.lt(segment_x[:, 1:, :], segment_x[:, :-1, :])\n",
    "        return segment_x, segment_y\n",
    "\n",
    "    def forward(self, segment_x, segment_y):\n",
    "        #segment_x.shape,segment_y.shape  = [n_batch, n_segments+1]\n",
    "        #self.batch_size = segment_x.shape[0] #we don't need this variable\n",
    "        self.x, self.y = self.__fix_x_order__(segment_x, segment_y)\n",
    "       \n",
    "        mask = self.__calc_mask__()\n",
    "\n",
    "        divider = (self.x[:, 1:]-self.x[:, :-1])\n",
    "        #The ratio can get -inf or inf. we need to protect against it\n",
    "        divider[divider == 0.] = 0.0001\n",
    "\n",
    "        # Ratio is the segment (y2-y1)/(x2-x1) ratio \n",
    "        ratio = (self.y[:, 1:]-self.y[:, :-1])/divider\n",
    "\n",
    "        ypred = ratio*mask*(self.x_in_nd - self.x[:,:-1]) + mask * self.y[:,:-1]\n",
    "        #ypred.shape = [image_size, n_segments, batch_size]\n",
    "        # As only 1 segment should have value for x we can sum on that dim\n",
    "        ypred = ypred.sum(1)\n",
    "        # Reshape ypred so it matches input\n",
    "        ypred = ypred.reshape(ypred.shape[1], ypred.shape[0])\n",
    "        return ypred"
   ]
  },
  {
   "cell_type": "markdown",
   "metadata": {},
   "source": [
    "## Derivation for n_batch = 1"
   ]
  },
  {
   "cell_type": "code",
   "execution_count": 412,
   "metadata": {},
   "outputs": [
    {
     "name": "stdout",
     "output_type": "stream",
     "text": [
      "torch.Size([1, 12])\n"
     ]
    }
   ],
   "source": [
    "image_size = 12\n",
    "x_in = torch.arange(1, image_size+1)/image_size\n",
    "x_in = x_in.unsqueeze(0) # Add a dim to match n_batch\n",
    "print(x_in.shape) # batch_n, x_n"
   ]
  },
  {
   "cell_type": "code",
   "execution_count": 413,
   "metadata": {},
   "outputs": [
    {
     "name": "stdout",
     "output_type": "stream",
     "text": [
      "torch.Size([1, 19, 1]) torch.Size([1, 19, 1])\n",
      "torch.Size([1, 19]) torch.Size([1, 19])\n"
     ]
    },
    {
     "data": {
      "text/plain": [
       "tensor([[-0.0282, -0.0105,  0.0756,  0.1651,  0.3227,  0.3449,  0.3814,  0.4361,\n",
       "          0.4973,  0.5613,  0.6031,  0.6672,  0.6661,  0.6657,  0.6842,  0.8522,\n",
       "          0.9416,  0.9778,  0.9903]], grad_fn=<SqueezeBackward1>)"
      ]
     },
     "execution_count": 413,
     "metadata": {},
     "output_type": "execute_result"
    }
   ],
   "source": [
    "print(model.x.shape, model.y.shape)\n",
    "segment_x = model.x.squeeze(-1)\n",
    "segment_y = model.y.squeeze(-1)\n",
    "print(segment_x.shape, segment_y.shape)\n",
    "segment_x"
   ]
  },
  {
   "cell_type": "code",
   "execution_count": 414,
   "metadata": {},
   "outputs": [
    {
     "name": "stdout",
     "output_type": "stream",
     "text": [
      "torch.Size([1, 12, 1, 1])\n",
      "torch.Size([1, 12, 1, 18]) torch.Size([1, 12, 1, 18])\n"
     ]
    },
    {
     "data": {
      "text/plain": [
       "tensor([[[[False, False,  True, False, False, False, False, False, False, False,\n",
       "           False, False, False, False, False, False, False, False]],\n",
       "\n",
       "         [[False, False, False,  True, False, False, False, False, False, False,\n",
       "           False, False, False, False, False, False, False, False]],\n",
       "\n",
       "         [[False, False, False,  True, False, False, False, False, False, False,\n",
       "           False, False, False, False, False, False, False, False]],\n",
       "\n",
       "         [[False, False, False, False,  True, False, False, False, False, False,\n",
       "           False, False, False, False, False, False, False, False]],\n",
       "\n",
       "         [[False, False, False, False, False, False,  True, False, False, False,\n",
       "           False, False, False, False, False, False, False, False]],\n",
       "\n",
       "         [[False, False, False, False, False, False, False, False,  True, False,\n",
       "           False, False, False, False, False, False, False, False]],\n",
       "\n",
       "         [[False, False, False, False, False, False, False, False, False,  True,\n",
       "           False, False, False, False, False, False, False, False]],\n",
       "\n",
       "         [[False, False, False, False, False, False, False, False, False, False,\n",
       "            True, False, False,  True, False, False, False, False]],\n",
       "\n",
       "         [[False, False, False, False, False, False, False, False, False, False,\n",
       "           False, False, False, False,  True, False, False, False]],\n",
       "\n",
       "         [[False, False, False, False, False, False, False, False, False, False,\n",
       "           False, False, False, False,  True, False, False, False]],\n",
       "\n",
       "         [[False, False, False, False, False, False, False, False, False, False,\n",
       "           False, False, False, False, False,  True, False, False]],\n",
       "\n",
       "         [[False, False, False, False, False, False, False, False, False, False,\n",
       "           False, False, False, False, False, False, False, False]]]])"
      ]
     },
     "execution_count": 414,
     "metadata": {},
     "output_type": "execute_result"
    }
   ],
   "source": [
    "x_in_nd = x_in.unsqueeze(-1).unsqueeze(-1) #to compare each x_in with every segment\n",
    "print(x_in_nd.shape)\n",
    "lt = torch.lt(x_in_nd, segment_x[:, 1:]) \n",
    "ge = torch.ge(x_in_nd, segment_x[:, :-1]) \n",
    "mask = (lt & ge)\n",
    "print(lt.shape, ge.shape)\n",
    "mask"
   ]
  },
  {
   "cell_type": "code",
   "execution_count": 415,
   "metadata": {},
   "outputs": [
    {
     "name": "stdout",
     "output_type": "stream",
     "text": [
      "torch.Size([1, 12, 1, 18])\n"
     ]
    },
    {
     "data": {
      "text/plain": [
       "tensor([[[[False, False,  True, False, False, False, False, False, False, False,\n",
       "           False, False, False, False, False, False, False, False]],\n",
       "\n",
       "         [[False, False, False,  True, False, False, False, False, False, False,\n",
       "           False, False, False, False, False, False, False, False]],\n",
       "\n",
       "         [[False, False, False,  True, False, False, False, False, False, False,\n",
       "           False, False, False, False, False, False, False, False]],\n",
       "\n",
       "         [[False, False, False, False,  True, False, False, False, False, False,\n",
       "           False, False, False, False, False, False, False, False]],\n",
       "\n",
       "         [[False, False, False, False, False, False,  True, False, False, False,\n",
       "           False, False, False, False, False, False, False, False]],\n",
       "\n",
       "         [[False, False, False, False, False, False, False, False,  True, False,\n",
       "           False, False, False, False, False, False, False, False]],\n",
       "\n",
       "         [[False, False, False, False, False, False, False, False, False,  True,\n",
       "           False, False, False, False, False, False, False, False]],\n",
       "\n",
       "         [[False, False, False, False, False, False, False, False, False, False,\n",
       "            True, False, False,  True, False, False, False, False]],\n",
       "\n",
       "         [[False, False, False, False, False, False, False, False, False, False,\n",
       "           False, False, False, False,  True, False, False, False]],\n",
       "\n",
       "         [[False, False, False, False, False, False, False, False, False, False,\n",
       "           False, False, False, False,  True, False, False, False]],\n",
       "\n",
       "         [[False, False, False, False, False, False, False, False, False, False,\n",
       "           False, False, False, False, False,  True, False, False]],\n",
       "\n",
       "         [[ True,  True,  True,  True,  True,  True,  True,  True,  True,  True,\n",
       "            True,  True,  True,  True,  True,  True,  True,  True]]]])"
      ]
     },
     "execution_count": 415,
     "metadata": {},
     "output_type": "execute_result"
    }
   ],
   "source": [
    "mask_lt = torch.lt(x_in_nd,segment_x[:, 0:1]) #x less than 1st segment\n",
    "# then do OR with mask so these are included for prediction.\n",
    "mask[:,:, 0:1] = mask[:, :, 0:1] | mask_lt\n",
    "print(mask.shape)\n",
    "#do the same for last x of segment\n",
    "mask_ge = torch.ge(x_in_nd, segment_x[:, -1:]) \n",
    "#print(mask_ge)\n",
    "mask[:, :, -1:] = mask[:, :, -1:] | mask_ge\n",
    "mask"
   ]
  },
  {
   "cell_type": "code",
   "execution_count": 416,
   "metadata": {},
   "outputs": [
    {
     "name": "stdout",
     "output_type": "stream",
     "text": [
      "torch.Size([1, 18])\n",
      "torch.Size([1, 18])\n",
      "torch.Size([1, 12, 1, 18])\n",
      "torch.Size([1, 12, 1])\n"
     ]
    }
   ],
   "source": [
    "divider = (segment_x[:,1:] - segment_x[:,:-1])\n",
    "#The ratio can get -inf or inf. we need to protect against it\n",
    "divider[divider == 0.] = 0.0001\n",
    "print(divider.shape)\n",
    "\n",
    "# Ratio is the segment (y2-y1)/(x2-x1) ratio \n",
    "ratio = (segment_y[:,1:] - segment_y[:,:-1])/divider\n",
    "print(ratio.shape)\n",
    "\n",
    "ypred = ratio*mask*(x_in_nd - segment_x[:,:-1]) + mask * segment_y[:,:-1]\n",
    "print(ypred.shape)\n",
    "ypred = ypred.sum(-1)\n",
    "print(ypred.shape)"
   ]
  },
  {
   "cell_type": "markdown",
   "metadata": {},
   "source": [
    "## Derivation for n_batch = 2"
   ]
  },
  {
   "cell_type": "code",
   "execution_count": 417,
   "metadata": {},
   "outputs": [
    {
     "name": "stdout",
     "output_type": "stream",
     "text": [
      "torch.Size([12])\n"
     ]
    }
   ],
   "source": [
    "# decoder init\n",
    "image_size = 12\n",
    "x_in = torch.arange(1, image_size+1)/image_size\n",
    "#x_in = x_in.unsqueeze(0) # Add a dim to match n_batch\n",
    "print(x_in.shape) # batch_n, x_n"
   ]
  },
  {
   "cell_type": "code",
   "execution_count": 418,
   "metadata": {},
   "outputs": [
    {
     "name": "stdout",
     "output_type": "stream",
     "text": [
      "torch.Size([1, 19, 1]) torch.Size([1, 19, 1])\n",
      "torch.Size([2, 19]) torch.Size([2, 19])\n"
     ]
    },
    {
     "data": {
      "text/plain": [
       "tensor([[-0.0282, -0.0105,  0.0756,  0.1651,  0.3227,  0.3449,  0.3814,  0.4361,\n",
       "          0.4973,  0.5613,  0.6031,  0.6672,  0.6661,  0.6657,  0.6842,  0.8522,\n",
       "          0.9416,  0.9778,  0.9903],\n",
       "        [-0.0282, -0.0105,  0.0756,  0.1651,  0.3227,  0.3449,  0.3814,  0.4361,\n",
       "          0.4973,  0.5613,  0.6031,  0.6672,  0.6661,  0.6657,  0.6842,  0.8522,\n",
       "          0.9416,  0.9778,  0.9903]], grad_fn=<RepeatBackward0>)"
      ]
     },
     "execution_count": 418,
     "metadata": {},
     "output_type": "execute_result"
    }
   ],
   "source": [
    "#input to forward\n",
    "print(model.x.shape, model.y.shape)\n",
    "segment_x = model.x.squeeze(-1)\n",
    "segment_y = model.y.squeeze(-1)\n",
    "# let us duplicate the segment input to simulate n_batch = 2\n",
    "segment_x = segment_x.tile(2,1)\n",
    "segment_y = segment_y.tile(2,1)\n",
    "print(segment_x.shape, segment_y.shape)\n",
    "segment_x"
   ]
  },
  {
   "cell_type": "code",
   "execution_count": 419,
   "metadata": {},
   "outputs": [
    {
     "name": "stdout",
     "output_type": "stream",
     "text": [
      "2\n",
      "torch.Size([12, 1, 1])\n"
     ]
    }
   ],
   "source": [
    "# forward\n",
    "# based on batch size repeat x_in rows.\n",
    "batch_size = segment_x.shape[0]\n",
    "print(batch_size)\n",
    "# only 1 change needed\n",
    "# unsqueeze to add a dimension for n_batch and n_segments\n",
    "x_in_nd = x_in.unsqueeze(-1).unsqueeze(-1) # shape 12,1,1\n",
    "print(x_in_nd.shape)"
   ]
  },
  {
   "cell_type": "code",
   "execution_count": 420,
   "metadata": {},
   "outputs": [
    {
     "name": "stdout",
     "output_type": "stream",
     "text": [
      "torch.Size([2, 18])\n",
      "torch.Size([2, 18])\n",
      "torch.Size([12, 2, 18])\n"
     ]
    }
   ],
   "source": [
    "# NOT NEEDED\n",
    "upper_x = segment_x[:, 1:]\n",
    "print(upper_x.shape)\n",
    "# unsqueeze to add a dimension for x_in\n",
    "#upper_x = upper_x.unsqueeze(1)\n",
    "print(upper_x.shape) #torch.Size([2, 1, 8])\n",
    "lt = torch.lt(x_in_nd, upper_x) \n",
    "print(lt.shape) #torch.Size([2, 12, 8])"
   ]
  },
  {
   "cell_type": "code",
   "execution_count": 421,
   "metadata": {},
   "outputs": [
    {
     "name": "stdout",
     "output_type": "stream",
     "text": [
      "torch.Size([12, 2, 18]) torch.Size([12, 2, 18])\n",
      "torch.Size([12, 2, 18])\n"
     ]
    },
    {
     "data": {
      "text/plain": [
       "torch.Size([12, 2, 18])"
      ]
     },
     "execution_count": 421,
     "metadata": {},
     "output_type": "execute_result"
    }
   ],
   "source": [
    "# mask\n",
    "lt = torch.lt(x_in_nd, segment_x[:, 1:]) \n",
    "ge = torch.ge(x_in_nd, segment_x[:, :-1]) \n",
    "mask = (lt & ge)\n",
    "print(lt.shape, ge.shape)\n",
    "mask\n",
    "mask_lt = torch.lt(x_in_nd,segment_x[:, 0:1]) #x less than 1st segment\n",
    "# then do OR with mask so these are included for prediction.\n",
    "mask[:,:, 0:1] = mask[:, :, 0:1] | mask_lt\n",
    "print(mask.shape)\n",
    "#do the same for last x of segment\n",
    "mask_ge = torch.ge(x_in_nd, segment_x[:, -1:]) \n",
    "#print(mask_ge)\n",
    "mask[:, :, -1:] = mask[:, :, -1:] | mask_ge\n",
    "mask.shape"
   ]
  },
  {
   "cell_type": "code",
   "execution_count": 422,
   "metadata": {},
   "outputs": [
    {
     "name": "stdout",
     "output_type": "stream",
     "text": [
      "torch.Size([2, 18])\n",
      "torch.Size([2, 18])\n",
      "torch.Size([12, 2, 18])\n",
      "torch.Size([12, 2])\n"
     ]
    }
   ],
   "source": [
    "divider = (segment_x[:,1:] - segment_x[:,:-1])\n",
    "#The ratio can get -inf or inf. we need to protect against it\n",
    "divider[divider == 0.] = 0.0001\n",
    "print(divider.shape)\n",
    "\n",
    "# Ratio is the segment (y2-y1)/(x2-x1) ratio \n",
    "ratio = (segment_y[:,1:] - segment_y[:,:-1])/divider\n",
    "print(ratio.shape)\n",
    "\n",
    "ypred = ratio*mask*(x_in_nd - segment_x[:,:-1]) + mask * segment_y[:,:-1]\n",
    "print(ypred.shape)\n",
    "ypred = ypred.sum(-1)\n",
    "print(ypred.shape)"
   ]
  },
  {
   "cell_type": "markdown",
   "metadata": {},
   "source": [
    "# Test Decoder\n",
    "* We first train a Segment to reproduce a 1D function, then see if Decoder can use Segment parameters to decode it"
   ]
  },
  {
   "cell_type": "code",
   "execution_count": 6,
   "metadata": {},
   "outputs": [
    {
     "name": "stdout",
     "output_type": "stream",
     "text": [
      "tensor(0.0013) tensor(1.) tensor(-0.7915) tensor(6.2456)\n",
      "tensor(-0.0145) tensor(0.1145)\n"
     ]
    },
    {
     "data": {
      "image/png": "[encoded data removed]",
      "text/plain": [
       "<Figure size 640x480 with 1 Axes>"
      ]
     },
     "metadata": {},
     "output_type": "display_data"
    }
   ],
   "source": [
    "# Create data\n",
    "\n",
    "# Function to approximate\n",
    "def f_quartic(x):\n",
    "    a = -0.0179516\n",
    "    b = 0.331323\n",
    "    c = -1.63398\n",
    "    d = 1.01107\n",
    "    f = 5.73434\n",
    "    x = 12.*x -1.2\n",
    "    return a*x**4 + b*x**3 + c*x**2 + d*x + f\n",
    "\n",
    "image_size=784\n",
    "x_in = torch.arange(1, image_size+1)/image_size \n",
    "#reshape x_in, ytest\n",
    "x_in = x_in.unsqueeze(-1)\n",
    "y_out = f_quartic(x_in)\n",
    "print(x_in.min(), x_in.max(), y_out.min(), y_out.max())\n",
    "# normalize y_out\n",
    "ytest = torch.nn.functional.normalize(y_out, p=2.0, dim=0)\n",
    "# scale them \n",
    "ytest = ytest * 2. \n",
    "print(ytest.min(), ytest.max())\n",
    "plt.plot(x_in, ytest)\n",
    "plt.show()"
   ]
  },
  {
   "cell_type": "code",
   "execution_count": 11,
   "metadata": {},
   "outputs": [
    {
     "name": "stdout",
     "output_type": "stream",
     "text": [
      "====> Epoch: 50 Average loss: 0.8089\n",
      "====> Epoch: 100 Average loss: 0.0917\n",
      "====> Epoch: 150 Average loss: 0.0073\n",
      "====> Epoch: 200 Average loss: 0.0057\n",
      "====> Epoch: 250 Average loss: 0.0055\n",
      "====> Epoch: 300 Average loss: 0.0056\n",
      "====> Epoch: 350 Average loss: 0.0054\n",
      "====> Epoch: 400 Average loss: 0.0052\n",
      "====> Epoch: 450 Average loss: 0.0050\n",
      "====> Epoch: 500 Average loss: 0.0047\n"
     ]
    }
   ],
   "source": [
    "# Train a model\n",
    "model = Segment(x_in.shape[1], ytest.shape[1], 25)\n",
    "\n",
    "#Initialize model parameters - extremely important.\n",
    "model.custom_init(x_in.min(dim=0).values, x_in.max(dim=0).values)\n",
    "\n",
    "criterion = nn.MSELoss(reduction='sum')\n",
    "\n",
    "lr=.0001\n",
    "optimizer = torch.optim.AdamW(model.parameters(), lr=lr, betas=(0.9, 0.999), eps=1e-8)\n",
    "\n",
    "# create dataset that can be used in a dataloader \n",
    "dataset = torch.utils.data.TensorDataset(x_in, ytest)\n",
    "batch_size=64\n",
    "dataloader = DataLoader(dataset, batch_size=batch_size, shuffle=True)\n",
    "\n",
    "#Train\n",
    "num_epochs = 500\n",
    "losses = np.array([])\n",
    "for epoch in range(1, num_epochs+1):\n",
    "    model.train()\n",
    "    train_loss = 0\n",
    "    for batch_idx, data in enumerate(dataloader):\n",
    "        # Forward pass\n",
    "        [X, Y] = data\n",
    "        ypred = model(X)\n",
    "        # Calculate the loss\n",
    "        loss = criterion(ypred, Y)\n",
    "        train_loss += loss.item()\n",
    "        \n",
    "        # Backward and optimize\n",
    "        model.zero_grad(set_to_none=True)\n",
    "        loss.backward()\n",
    "        optimizer.step()\n",
    "\n",
    "    if epoch % (num_epochs/10) == 0:\n",
    "        losses = np.append(losses, train_loss)\n",
    "        print('====> Epoch: {} Average loss: {:.4f}'.format(\n",
    "            epoch, train_loss))"
   ]
  },
  {
   "cell_type": "code",
   "execution_count": 15,
   "metadata": {},
   "outputs": [
    {
     "name": "stdout",
     "output_type": "stream",
     "text": [
      "torch.Size([1, 26, 1])\n"
     ]
    },
    {
     "data": {
      "image/png": "[encoded data removed]",
      "text/plain": [
       "<Figure size 640x480 with 1 Axes>"
      ]
     },
     "metadata": {},
     "output_type": "display_data"
    }
   ],
   "source": [
    "# Plot model params\n",
    "print(model.x.shape)\n",
    "xval = model.x.reshape(model.x.shape[1]).detach().numpy()\n",
    "yval = model.y.reshape(model.x.shape[1]).detach().numpy()\n",
    "plt.plot(xval,yval) \n",
    "plt.plot(x_in,ytest)\n",
    "\n",
    "plt.show()"
   ]
  },
  {
   "cell_type": "code",
   "execution_count": 22,
   "metadata": {},
   "outputs": [
    {
     "data": {
      "text/plain": [
       "torch.Size([1, 784])"
      ]
     },
     "execution_count": 22,
     "metadata": {},
     "output_type": "execute_result"
    }
   ],
   "source": [
    "# Test decoder\n",
    "\n",
    "segment_x = model.x\n",
    "segment_y = model.y\n",
    "decoder = Decoder(image_shape=ytest.shape)\n",
    "ydecoded = decoder(segment_x=segment_x, segment_y=segment_y)\n",
    "ydecoded.shape"
   ]
  },
  {
   "cell_type": "code",
   "execution_count": 24,
   "metadata": {},
   "outputs": [
    {
     "data": {
      "image/png": "[encoded data removed]",
      "text/plain": [
       "<Figure size 640x480 with 1 Axes>"
      ]
     },
     "metadata": {},
     "output_type": "display_data"
    }
   ],
   "source": [
    "plt.plot(x_in,ytest)\n",
    "plt.plot(xval,yval) \n",
    "plt.plot(x_in,ydecoded[0].detach().numpy())\n",
    "plt.show()"
   ]
  },
  {
   "cell_type": "markdown",
   "metadata": {},
   "source": [
    "## Model Init"
   ]
  },
  {
   "cell_type": "code",
   "execution_count": null,
   "metadata": {},
   "outputs": [],
   "source": [
    "in_features=784\n",
    "out_features=10 #classes\n",
    "segments=10\n",
    "model = Segment(in_features, out_features, segments).to(device)\n",
    "total_params = sum(p.numel() for p in model.parameters())\n",
    "print(f\"Total parameters: {total_params}\")\n",
    "\n",
    "criterion = nn.CrossEntropyLoss()\n",
    "\n",
    "lr=.0001\n",
    "optimizer = torch.optim.AdamW(model.parameters(), lr=lr, betas=(0.9, 0.999), eps=1e-8)\n",
    "\n",
    "# create dataset that can be used in a dataloader \n",
    "batch_size=64\n",
    "trainloader = DataLoader(train_set, batch_size=batch_size, shuffle=True)\n",
    "testloader = DataLoader(test_set, batch_size=batch_size, shuffle=True)\n",
    "\n",
    "#Initialize model parameters - extremely important.\n",
    "# as we have normalized valies between -1., 1. we can create a min, max array\n",
    "x_min = torch.tensor([-1.]*in_features)\n",
    "x_max = torch.tensor([1.]*in_features)\n",
    "model.custom_init(x_min, x_max)"
   ]
  },
  {
   "cell_type": "code",
   "execution_count": null,
   "metadata": {},
   "outputs": [],
   "source": [
    "# Train\n",
    "num_epochs = 40\n",
    "initalized = False\n",
    "losses = np.array([])\n",
    "start = timeit.default_timer()\n",
    "for epoch in tqdm(range(1, num_epochs+1), position=0, leave=True):\n",
    "    model.train()\n",
    "    train_loss = 0\n",
    "    train_labels = []\n",
    "    train_preds = []\n",
    "    for batch_idx, data in enumerate(tqdm(trainloader, position=0, leave=True)):\n",
    "        # Forward pass\n",
    "        [X, Y] = data\n",
    "        ypred = model(X.to(device))\n",
    "        y_pred_label = torch.argmax(ypred, dim=1)\n",
    "        train_labels.extend(Y.cpu().detach())\n",
    "        train_preds.extend(y_pred_label.cpu().detach())\n",
    "        # Calculate the loss\n",
    "        loss = criterion(ypred, Y.to(device))\n",
    "        if math.isnan(loss):\n",
    "            print(\"Loss is nan\")\n",
    "            break\n",
    "\n",
    "        train_loss += loss.item()\n",
    "        \n",
    "        # Backward and optimize\n",
    "        model.zero_grad(set_to_none=True)\n",
    "        loss.backward()\n",
    "        optimizer.step()\n",
    "\n",
    "    if math.isnan(loss):\n",
    "        print(\"Loss is nan\")\n",
    "        break\n",
    "\n",
    "    train_loss = train_loss/(batch_idx+1)\n",
    "    losses = np.append(losses, train_loss)\n",
    "    print(\"-\"*30)\n",
    "    print(f\"Train Accuracy EPOCH {epoch}: {sum(1 for x,y in zip(train_preds, train_labels) if x == y) / len(train_labels):.4f}\")\n",
    "    print('Epoch: {} Average loss: {:.4f}'.format(epoch, train_loss))\n",
    "\n",
    "    #Run evaluation\n",
    "    model.eval()\n",
    "    test_loss = 0\n",
    "    test_labels = []\n",
    "    test_preds = []\n",
    "    for batch_idx, data in enumerate(tqdm(testloader, position=0, leave=True)):\n",
    "        # Forward pass\n",
    "        [X, Y] = data\n",
    "        ypred = model(X.to(device))\n",
    "        y_pred_label = torch.argmax(ypred, dim=1)\n",
    "        test_labels.extend(Y.cpu().detach())\n",
    "        test_preds.extend(y_pred_label.cpu().detach())\n",
    "        # Calculate the loss\n",
    "        loss = criterion(ypred, Y.to(device))\n",
    "        if math.isnan(loss):\n",
    "            print(\"Loss is nan\")\n",
    "            break\n",
    "\n",
    "        test_loss += loss.item()\n",
    "   \n",
    "    if math.isnan(loss):\n",
    "        print(\"Loss is nan\")\n",
    "        break\n",
    "\n",
    "    test_loss = test_loss/(batch_idx+1)\n",
    "    print(f\"Epoch: {epoch}, Test Accuracy: {sum(1 for x,y in zip(test_preds, test_labels) if x == y) / len(test_labels):.4f}\")\n",
    "    print('Epoch: {}, Average loss: {:.4f}'.format(epoch, test_loss))\n",
    "    print(\"-\"*30)\n",
    "\n",
    "\n",
    "stop = timeit.default_timer()\n",
    "print(f\"Training Time: {stop-start:.2f}s\")\n"
   ]
  },
  {
   "cell_type": "markdown",
   "metadata": {},
   "source": [
    "# Observations of model predicting labels\n",
    "## Comparable VTI model\n",
    "* Total parameters: 276298\n",
    "* Valid Accuracy EPOCH 10: 0.8763\n",
    "* Valid Accuracy EPOCH 40: 0.9535\n",
    "* Training Time: 1120.51s\n",
    "\n",
    "## after flattening images by row\n",
    "* in_features=784\n",
    "* out_features=10 #classes\n",
    "* segments=10\n",
    "* model = Segment(in_features, out_features, segments).to(device)\n",
    "* Test Accuracy EPOCH 10: 0.9311\n",
    "* Epoch: 10 Average loss: 0.2543\n",
    "* Total parameters: 172480\n",
    "* Total parameters = 2\\*in_features\\*out_features\\*(segments+1)\n",
    "\n",
    "## after flattening by column\n",
    "* Epoch: 10, Test Accuracy: 0.9315\n",
    "* Epoch: 10, Average loss: 0.2545\n",
    "* Training Time (10 epoc): 319.26s\n",
    "* Training Time (40 epoc): 1222.40s\n",
    "* Test Accuracy never went higher than 93.40 though Train Accuracy went to 97.66\n",
    "\n",
    "## Adding rotation transform to perturb image \n",
    "* Train Accuracy EPOCH 40: 0.9358\n",
    "* Epoch: 40, Test Accuracy: 0.9360\n",
    "* Training Time: 1632.88s"
   ]
  },
  {
   "cell_type": "code",
   "execution_count": null,
   "metadata": {},
   "outputs": [],
   "source": [
    "total_params = sum(p.numel() for p in model.parameters())\n",
    "print(f\"Total parameters: {total_params}\")"
   ]
  },
  {
   "cell_type": "markdown",
   "metadata": {},
   "source": []
  },
  {
   "cell_type": "code",
   "execution_count": null,
   "metadata": {},
   "outputs": [],
   "source": [
    "# Save graph to a file\n",
    "#!pip install torchviz\n",
    "from torchviz import make_dot\n",
    "\n",
    "# Generate a Graphviz object from the computation graph\n",
    "graph = make_dot(loss, params=dict(model.named_parameters())) \n",
    "\n",
    "# Save the graph as a PDF or any other format if needed\n",
    "graph.render(\"model_Segment_test_graph\")"
   ]
  },
  {
   "cell_type": "code",
   "execution_count": null,
   "metadata": {},
   "outputs": [],
   "source": [
    "model.x.shape\n",
    "784*11*10*2"
   ]
  },
  {
   "cell_type": "code",
   "execution_count": null,
   "metadata": {},
   "outputs": [],
   "source": [
    "ytest.min(), ytest.max()"
   ]
  },
  {
   "cell_type": "code",
   "execution_count": 25,
   "metadata": {},
   "outputs": [
    {
     "data": {
      "text/plain": [
       "torch.Size([1, 26, 1])"
      ]
     },
     "execution_count": 25,
     "metadata": {},
     "output_type": "execute_result"
    }
   ],
   "source": [
    "model.x.shape"
   ]
  },
  {
   "cell_type": "code",
   "execution_count": null,
   "metadata": {},
   "outputs": [],
   "source": []
  }
 ],
 "metadata": {
  "kernelspec": {
   "display_name": "base",
   "language": "python",
   "name": "python3"
  },
  "language_info": {
   "codemirror_mode": {
    "name": "ipython",
    "version": 3
   },
   "file_extension": ".py",
   "mimetype": "text/x-python",
   "name": "python",
   "nbconvert_exporter": "python",
   "pygments_lexer": "ipython3",
   "version": "3.10.10"
  }
 },
 "nbformat": 4,
 "nbformat_minor": 2
}
